{
 "cells": [
  {
   "cell_type": "code",
   "execution_count": null,
   "metadata": {
    "collapsed": true
   },
   "outputs": [],
   "source": [
    "import math\n",
    "import random\n",
    "import statistics\n",
    "import matplotlib.pyplot as plt\n",
    "%matplotlib inline\n",
    "\n",
    "\n",
    "\n",
    "def roll_die():\n",
    "    return random.randint(1,6)\n",
    "\n",
    "\n",
    "class Player:\n",
    "    \"\"\"\n",
    "    Responsibilities:\n",
    "    Keep track of score and number of rolls\n",
    "    Determine if player should roll again based on current state\n",
    "    Run through a complete turn\n",
    "    - \n",
    "    \"\"\"\n",
    "    \n",
    "    def __init__(self):\n",
    "        self.reset()\n",
    "    \n",
    "    def reset(self):\n",
    "        self.points = 0\n",
    "        self.rolls = 0\n",
    "    \n",
    "    def should_roll_again(self):\n",
    "        \"\"\"\n",
    "        Returns True if the Player should roll again, False otherwise\n",
    "        This method should probably be overridden with subclasses to do more complex stuff!\n",
    "        \"\"\"\n",
    "        return False\n",
    "    \n",
    "    def play_turn(self):\n",
    "        self.reset()\n",
    "        \n",
    "        while True:\n",
    "            roll = roll_die()\n",
    "            self.rolls += 1\n",
    "            if roll == 1:\n",
    "                return 0\n",
    "            else:\n",
    "                self.points += roll\n",
    "            if not self.should_roll_again():\n",
    "                break\n",
    "        \n",
    "        return self.points"
   ]
  },
  {
   "cell_type": "code",
   "execution_count": null,
   "metadata": {
    "collapsed": true
   },
   "outputs": [],
   "source": [
    "\n",
    "class PigSolitaireGame:\n",
    "    \"\"\"\n",
    "    Responsibilities:\n",
    "    Run a game\n",
    "    Keep track of total points over 7 turns\n",
    "    \n",
    "    Collaborators:\n",
    "    Player (or subclass)\n",
    "    \"\"\"\n",
    "    def __init__(self, player):\n",
    "        self.player = player\n",
    "    \n",
    "    def play_game(self):\n",
    "        total_points = 0\n",
    "        for _ in range(7):\n",
    "            total_points += self.player.play_turn()\n",
    "        \n",
    "        return total_points\n"
   ]
  },
  {
   "cell_type": "code",
   "execution_count": null,
   "metadata": {
    "collapsed": true
   },
   "outputs": [],
   "source": [
    "class SciencePlayer(Player):\n",
    "    def should_roll_again(self):\n",
    "        if self.points >= 25:\n",
    "            return False\n",
    "        else:\n",
    "            return True\n",
    "\n",
    "\n",
    "        \n",
    "class NumberRoller(Player):\n",
    "    def __init__(self, num_rolls):\n",
    "        super().__init__(self)\n",
    "        self.target_rolls = num_rolls\n",
    "    \n",
    "    def should_roll_again(self):\n",
    "        if self.rolls < self.target_rolls:\n",
    "            return True\n",
    "        else:\n",
    "            return False\n",
    "        \n",
    "class TwoRoller(NumberRoller):\n",
    "    def __init__(self):\n",
    "        super().__init__(self, 2)\n",
    "\n",
    "        \n",
    "class ThreeRoller(NumberRoller):\n",
    "    def __init__(self):\n",
    "        super().__init__(self, 3)"
   ]
  },
  {
   "cell_type": "code",
   "execution_count": null,
   "metadata": {
    "collapsed": false
   },
   "outputs": [],
   "source": [
    "\n",
    "sim = PigSolitaireGame(Player())\n",
    "\n",
    "sim.play_game()\n"
   ]
  },
  {
   "cell_type": "code",
   "execution_count": null,
   "metadata": {
    "collapsed": false
   },
   "outputs": [],
   "source": [
    "sim = PigSolitaireGame(TwoRoller())\n",
    "sim.play_game()"
   ]
  },
  {
   "cell_type": "markdown",
   "metadata": {},
   "source": [
    "# NumPy\n",
    "\n",
    "NumPy is a module for Python that allows us to work with large sets of data efficiently. The core method/class we use is `np.array`"
   ]
  },
  {
   "cell_type": "code",
   "execution_count": null,
   "metadata": {
    "collapsed": true
   },
   "outputs": [],
   "source": [
    "import numpy as np"
   ]
  },
  {
   "cell_type": "code",
   "execution_count": null,
   "metadata": {
    "collapsed": true
   },
   "outputs": [],
   "source": [
    "list_of_nums = np.array([1, 2, 3, 4, 5])\n",
    "matrix_of_nums = np.array([[1, 2, 3],\n",
    "                           [4, 5, 6],\n",
    "                           [7, 8, 9]])"
   ]
  },
  {
   "cell_type": "code",
   "execution_count": null,
   "metadata": {
    "collapsed": false
   },
   "outputs": [],
   "source": [
    "list_of_nums"
   ]
  },
  {
   "cell_type": "code",
   "execution_count": null,
   "metadata": {
    "collapsed": false
   },
   "outputs": [],
   "source": [
    "matrix_of_nums"
   ]
  },
  {
   "cell_type": "markdown",
   "metadata": {},
   "source": [
    "We can perform mathematical operations on entire arrays in one _simple_ command"
   ]
  },
  {
   "cell_type": "code",
   "execution_count": null,
   "metadata": {
    "collapsed": false
   },
   "outputs": [],
   "source": [
    "list_of_nums + 4"
   ]
  },
  {
   "cell_type": "code",
   "execution_count": null,
   "metadata": {
    "collapsed": false
   },
   "outputs": [],
   "source": [
    "matrix_of_nums + 4"
   ]
  },
  {
   "cell_type": "code",
   "execution_count": null,
   "metadata": {
    "collapsed": false
   },
   "outputs": [],
   "source": [
    "matrix_of_nums ** 2"
   ]
  },
  {
   "cell_type": "code",
   "execution_count": null,
   "metadata": {
    "collapsed": false
   },
   "outputs": [],
   "source": [
    "matrix_of_nums"
   ]
  },
  {
   "cell_type": "code",
   "execution_count": null,
   "metadata": {
    "collapsed": false
   },
   "outputs": [],
   "source": [
    "list_of_nums"
   ]
  },
  {
   "cell_type": "code",
   "execution_count": null,
   "metadata": {
    "collapsed": false
   },
   "outputs": [],
   "source": [
    "list_of_nums + list_of_nums"
   ]
  },
  {
   "cell_type": "code",
   "execution_count": null,
   "metadata": {
    "collapsed": true
   },
   "outputs": [],
   "source": [
    "list_of_nums += list_of_nums"
   ]
  },
  {
   "cell_type": "code",
   "execution_count": null,
   "metadata": {
    "collapsed": false
   },
   "outputs": [],
   "source": [
    "list_of_nums"
   ]
  },
  {
   "cell_type": "code",
   "execution_count": null,
   "metadata": {
    "collapsed": false
   },
   "outputs": [],
   "source": [
    "[1, 2, 3, 4, 5] + [1, 2, 3, 4, 5]"
   ]
  },
  {
   "cell_type": "code",
   "execution_count": null,
   "metadata": {
    "collapsed": false
   },
   "outputs": [],
   "source": [
    "matrix_of_nums + matrix_of_nums"
   ]
  },
  {
   "cell_type": "code",
   "execution_count": null,
   "metadata": {
    "collapsed": false
   },
   "outputs": [],
   "source": [
    "other_matrix = np.array([[10, 11, 12, 13],\n",
    "                       [14, 15, 16, 17],\n",
    "                       [18, 19, 20, 21]])"
   ]
  },
  {
   "cell_type": "code",
   "execution_count": null,
   "metadata": {
    "collapsed": false
   },
   "outputs": [],
   "source": [
    "other_matrix + matrix_of_nums"
   ]
  },
  {
   "cell_type": "code",
   "execution_count": null,
   "metadata": {
    "collapsed": false
   },
   "outputs": [],
   "source": [
    "matrix_of_nums"
   ]
  },
  {
   "cell_type": "code",
   "execution_count": null,
   "metadata": {
    "collapsed": false
   },
   "outputs": [],
   "source": [
    "list_of_nums"
   ]
  },
  {
   "cell_type": "code",
   "execution_count": null,
   "metadata": {
    "collapsed": false
   },
   "outputs": [],
   "source": [
    "matrix_of_nums + list_of_nums"
   ]
  },
  {
   "cell_type": "code",
   "execution_count": null,
   "metadata": {
    "collapsed": true
   },
   "outputs": [],
   "source": [
    "list_of_nums = [1, 2, 3]"
   ]
  },
  {
   "cell_type": "code",
   "execution_count": null,
   "metadata": {
    "collapsed": false
   },
   "outputs": [],
   "source": [
    "matrix_of_nums"
   ]
  },
  {
   "cell_type": "code",
   "execution_count": null,
   "metadata": {
    "collapsed": false
   },
   "outputs": [],
   "source": [
    "matrix_of_nums + list_of_nums\n",
    "# adds the list to each row of the matrix"
   ]
  },
  {
   "cell_type": "code",
   "execution_count": null,
   "metadata": {
    "collapsed": true
   },
   "outputs": [],
   "source": [
    "big_matrix = np.array([[5, 6, 7],\n",
    "                      [7, 8, 9],\n",
    "                      [10, 11, 12],\n",
    "                      [13, 14, 15],\n",
    "                      [16, 17, 18],\n",
    "                      [19, 20, 21]])"
   ]
  },
  {
   "cell_type": "code",
   "execution_count": null,
   "metadata": {
    "collapsed": false
   },
   "outputs": [],
   "source": [
    "big_matrix + list_of_nums"
   ]
  },
  {
   "cell_type": "markdown",
   "metadata": {},
   "source": [
    "We can't add things of different shapes, unless they have a different number of dimensions"
   ]
  },
  {
   "cell_type": "code",
   "execution_count": null,
   "metadata": {
    "collapsed": false
   },
   "outputs": [],
   "source": [
    "threed = np.array([[[1, 2, 3], [4,5,6], [7,8,9]], [5,5,5],[5,5,5],[5,5,5]])"
   ]
  },
  {
   "cell_type": "code",
   "execution_count": null,
   "metadata": {
    "collapsed": false
   },
   "outputs": [],
   "source": [
    "threed"
   ]
  },
  {
   "cell_type": "markdown",
   "metadata": {},
   "source": [
    "Other bits of information we can get about arrays"
   ]
  },
  {
   "cell_type": "code",
   "execution_count": null,
   "metadata": {
    "collapsed": false
   },
   "outputs": [],
   "source": [
    "print(matrix_of_nums.size)"
   ]
  },
  {
   "cell_type": "code",
   "execution_count": null,
   "metadata": {
    "collapsed": false
   },
   "outputs": [],
   "source": [
    "matrix_of_nums.ndim"
   ]
  },
  {
   "cell_type": "code",
   "execution_count": null,
   "metadata": {
    "collapsed": false
   },
   "outputs": [],
   "source": [
    "matrix_of_nums.shape"
   ]
  },
  {
   "cell_type": "code",
   "execution_count": null,
   "metadata": {
    "collapsed": false
   },
   "outputs": [],
   "source": [
    "big_matrix.shape"
   ]
  },
  {
   "cell_type": "code",
   "execution_count": null,
   "metadata": {
    "collapsed": false
   },
   "outputs": [],
   "source": [
    "matrix_of_nums.dtype"
   ]
  },
  {
   "cell_type": "code",
   "execution_count": null,
   "metadata": {
    "collapsed": false
   },
   "outputs": [],
   "source": [
    "big_matrix.dtype"
   ]
  },
  {
   "cell_type": "code",
   "execution_count": null,
   "metadata": {
    "collapsed": false
   },
   "outputs": [],
   "source": [
    "2**63"
   ]
  },
  {
   "cell_type": "code",
   "execution_count": null,
   "metadata": {
    "collapsed": false
   },
   "outputs": [],
   "source": [
    "matrix_of_nums *= 1.5"
   ]
  },
  {
   "cell_type": "code",
   "execution_count": null,
   "metadata": {
    "collapsed": false
   },
   "outputs": [],
   "source": [
    "matrix_of_nums"
   ]
  },
  {
   "cell_type": "code",
   "execution_count": null,
   "metadata": {
    "collapsed": true
   },
   "outputs": [],
   "source": [
    "another_matrix = np.array([[1.0, 2, 3],\n",
    "                           [4, 5, 6],\n",
    "                           [7, 8, 9]])"
   ]
  },
  {
   "cell_type": "code",
   "execution_count": null,
   "metadata": {
    "collapsed": false
   },
   "outputs": [],
   "source": [
    "another_matrix.dtype"
   ]
  },
  {
   "cell_type": "code",
   "execution_count": null,
   "metadata": {
    "collapsed": false
   },
   "outputs": [],
   "source": [
    "another_matrix"
   ]
  },
  {
   "cell_type": "code",
   "execution_count": null,
   "metadata": {
    "collapsed": true
   },
   "outputs": [],
   "source": [
    "another_matrix *= 1.5"
   ]
  },
  {
   "cell_type": "code",
   "execution_count": null,
   "metadata": {
    "collapsed": false
   },
   "outputs": [],
   "source": [
    "another_matrix"
   ]
  },
  {
   "cell_type": "code",
   "execution_count": null,
   "metadata": {
    "collapsed": false
   },
   "outputs": [],
   "source": [
    "another_matrix * 2"
   ]
  },
  {
   "cell_type": "code",
   "execution_count": null,
   "metadata": {
    "collapsed": true
   },
   "outputs": [],
   "source": [
    "another_matrix *= 9223372036854775808"
   ]
  },
  {
   "cell_type": "code",
   "execution_count": null,
   "metadata": {
    "collapsed": false
   },
   "outputs": [],
   "source": [
    "another_matrix"
   ]
  },
  {
   "cell_type": "code",
   "execution_count": null,
   "metadata": {
    "collapsed": false
   },
   "outputs": [],
   "source": [
    "np.array([1, 2, 3], dtype='float').dtype"
   ]
  },
  {
   "cell_type": "code",
   "execution_count": null,
   "metadata": {
    "collapsed": false
   },
   "outputs": [],
   "source": [
    "another_matrix.shape"
   ]
  },
  {
   "cell_type": "code",
   "execution_count": null,
   "metadata": {
    "collapsed": false
   },
   "outputs": [],
   "source": [
    "another_matrix.resize((5, 4), False)"
   ]
  },
  {
   "cell_type": "code",
   "execution_count": null,
   "metadata": {
    "collapsed": true
   },
   "outputs": [],
   "source": [
    "test_matrix = np.array([[1, 2, 3], [4,5,6]])"
   ]
  },
  {
   "cell_type": "code",
   "execution_count": null,
   "metadata": {
    "collapsed": true
   },
   "outputs": [],
   "source": [
    "test_matrix.resize((3, 5))"
   ]
  },
  {
   "cell_type": "code",
   "execution_count": null,
   "metadata": {
    "collapsed": false
   },
   "outputs": [],
   "source": [
    "test_matrix"
   ]
  },
  {
   "cell_type": "markdown",
   "metadata": {},
   "source": [
    "# Creating np.arrays\n",
    "\n",
    "Often we want to create something with specific values, but we don't have to type all of them out. We might be using random numbers, or a default value, or maybe we don't even know or care what number, but we know what size we want."
   ]
  },
  {
   "cell_type": "code",
   "execution_count": null,
   "metadata": {
    "collapsed": false
   },
   "outputs": [],
   "source": [
    "np.zeros((3, 5))"
   ]
  },
  {
   "cell_type": "code",
   "execution_count": null,
   "metadata": {
    "collapsed": false
   },
   "outputs": [],
   "source": [
    "np.ones((4, 2, 3))"
   ]
  },
  {
   "cell_type": "code",
   "execution_count": null,
   "metadata": {
    "collapsed": false
   },
   "outputs": [],
   "source": [
    "arr = np.linspace(0, 19, 20, dtype='int')"
   ]
  },
  {
   "cell_type": "code",
   "execution_count": null,
   "metadata": {
    "collapsed": false
   },
   "outputs": [],
   "source": [
    "arr.resize((4, 5))\n",
    "arr"
   ]
  },
  {
   "cell_type": "code",
   "execution_count": null,
   "metadata": {
    "collapsed": false
   },
   "outputs": [],
   "source": [
    "np.random.random((2, 5))"
   ]
  },
  {
   "cell_type": "code",
   "execution_count": null,
   "metadata": {
    "collapsed": false
   },
   "outputs": [],
   "source": [
    "np.random.randint(0, 100, (2, 5))"
   ]
  },
  {
   "cell_type": "code",
   "execution_count": null,
   "metadata": {
    "collapsed": false
   },
   "outputs": [],
   "source": [
    "np.arange(0, 100, 2).reshape((25, 2))"
   ]
  },
  {
   "cell_type": "code",
   "execution_count": null,
   "metadata": {
    "collapsed": false
   },
   "outputs": [],
   "source": [
    "# np.repeat(np.arange(0,100), 3).reshape((3, 100))\n",
    "\n",
    "# repeats each element individually\n",
    "\n",
    "some_nums = np.tile(np.arange(0, 10), 3).reshape((3, 10))\n",
    "\n",
    "# collating\n",
    "print(some_nums)"
   ]
  },
  {
   "cell_type": "code",
   "execution_count": null,
   "metadata": {
    "collapsed": false
   },
   "outputs": [],
   "source": [
    "some_nums.swapaxes(0, 1)"
   ]
  },
  {
   "cell_type": "markdown",
   "metadata": {},
   "source": [
    "## NumPy is _awesome_"
   ]
  },
  {
   "cell_type": "code",
   "execution_count": null,
   "metadata": {
    "collapsed": false
   },
   "outputs": [],
   "source": [
    "# strings in numpy\n",
    "\n",
    "np.array([1, 2, 3]) + 1"
   ]
  },
  {
   "cell_type": "markdown",
   "metadata": {},
   "source": [
    "# Calculations with NumPy"
   ]
  },
  {
   "cell_type": "code",
   "execution_count": null,
   "metadata": {
    "collapsed": false
   },
   "outputs": [],
   "source": [
    "# get a random array of integers\n",
    "nums = np.random.randint(100, size=(3, 5))\n",
    "nums"
   ]
  },
  {
   "cell_type": "markdown",
   "metadata": {},
   "source": [
    "Let's find some stats out about that"
   ]
  },
  {
   "cell_type": "code",
   "execution_count": null,
   "metadata": {
    "collapsed": false
   },
   "outputs": [],
   "source": [
    "print(nums.max())\n",
    "print(nums.min())\n",
    "print(nums.mean())\n",
    "print(nums.std())\n",
    "print(nums.sum())"
   ]
  },
  {
   "cell_type": "markdown",
   "metadata": {},
   "source": [
    "We can also calculate it on a per-row or per-col basis"
   ]
  },
  {
   "cell_type": "code",
   "execution_count": null,
   "metadata": {
    "collapsed": false
   },
   "outputs": [],
   "source": [
    "print(nums)\n",
    "print(nums.max(axis=1))\n",
    "print(nums.sum(axis=1))\n",
    "print(nums.mean(axis=1))\n",
    "print(nums.std(axis=1))\n",
    "print(nums.sum(axis=1))"
   ]
  },
  {
   "cell_type": "markdown",
   "metadata": {},
   "source": [
    "To do columns, just changes axis=0"
   ]
  },
  {
   "cell_type": "code",
   "execution_count": null,
   "metadata": {
    "collapsed": false
   },
   "outputs": [],
   "source": [
    "print(nums)\n",
    "print(nums.max(axis=0))\n",
    "print(nums.sum(axis=0))\n",
    "print(nums.mean(axis=0))\n",
    "print(nums.std(axis=0))\n",
    "print(nums.sum(axis=0))"
   ]
  },
  {
   "cell_type": "markdown",
   "metadata": {},
   "source": [
    "Axis 0 is what we think of as a column, axis 1 is the row. This confuses me."
   ]
  },
  {
   "cell_type": "code",
   "execution_count": null,
   "metadata": {
    "collapsed": false
   },
   "outputs": [],
   "source": [
    "# cumulative sums\n",
    "print(nums)\n",
    "print(nums.cumsum(axis=0))"
   ]
  },
  {
   "cell_type": "code",
   "execution_count": null,
   "metadata": {
    "collapsed": false
   },
   "outputs": [],
   "source": [
    "np.random.uniform(0, 1, (10, 5)).cumsum(axis=0)"
   ]
  },
  {
   "cell_type": "markdown",
   "metadata": {},
   "source": [
    "## Changing NumPy arrays\n",
    "\n",
    "NumPy arrays are *not* immutable. All values can be modified in a NumPy array.\n",
    "\n",
    "We index into them similar to how we work with lists"
   ]
  },
  {
   "cell_type": "code",
   "execution_count": null,
   "metadata": {
    "collapsed": false
   },
   "outputs": [],
   "source": [
    "nums"
   ]
  },
  {
   "cell_type": "code",
   "execution_count": null,
   "metadata": {
    "collapsed": false
   },
   "outputs": [],
   "source": [
    "nums[0, 1]"
   ]
  },
  {
   "cell_type": "code",
   "execution_count": null,
   "metadata": {
    "collapsed": false
   },
   "outputs": [],
   "source": [
    "nums[2,4]"
   ]
  },
  {
   "cell_type": "code",
   "execution_count": null,
   "metadata": {
    "collapsed": false
   },
   "outputs": [],
   "source": [
    "nums[3,0]"
   ]
  },
  {
   "cell_type": "code",
   "execution_count": null,
   "metadata": {
    "collapsed": false
   },
   "outputs": [],
   "source": [
    "print(nums)\n",
    "nums[0:2, 1:4] # slicing!!!! takes a range of rows, and a range of cols"
   ]
  },
  {
   "cell_type": "markdown",
   "metadata": {},
   "source": [
    "Slicing a numpy array actually returns a **view** of the original array, **NOT** a copy.\n",
    "\n",
    "When we slice a list in Python, we actually get a copy - here we get something that looks at the original array"
   ]
  },
  {
   "cell_type": "code",
   "execution_count": null,
   "metadata": {
    "collapsed": false
   },
   "outputs": [],
   "source": [
    "nums"
   ]
  },
  {
   "cell_type": "code",
   "execution_count": null,
   "metadata": {
    "collapsed": false
   },
   "outputs": [],
   "source": [
    "nums_slice = nums[0:2, 1:3]\n",
    "nums_slice"
   ]
  },
  {
   "cell_type": "code",
   "execution_count": null,
   "metadata": {
    "collapsed": false
   },
   "outputs": [],
   "source": [
    "nums_slice[0, 0] = 40\n",
    "nums_slice"
   ]
  },
  {
   "cell_type": "code",
   "execution_count": null,
   "metadata": {
    "collapsed": false
   },
   "outputs": [],
   "source": [
    "nums"
   ]
  },
  {
   "cell_type": "code",
   "execution_count": null,
   "metadata": {
    "collapsed": false
   },
   "outputs": [],
   "source": [
    "nums_slice *= 3\n",
    "nums"
   ]
  },
  {
   "cell_type": "code",
   "execution_count": null,
   "metadata": {
    "collapsed": false
   },
   "outputs": [],
   "source": [
    "nums[2, 0]\n"
   ]
  },
  {
   "cell_type": "code",
   "execution_count": null,
   "metadata": {
    "collapsed": false
   },
   "outputs": [],
   "source": [
    "print(nums)\n",
    "nums[::-1, ::-1]\n"
   ]
  },
  {
   "cell_type": "code",
   "execution_count": null,
   "metadata": {
    "collapsed": false
   },
   "outputs": [],
   "source": [
    "nums[::-1]"
   ]
  },
  {
   "cell_type": "code",
   "execution_count": null,
   "metadata": {
    "collapsed": false
   },
   "outputs": [],
   "source": [
    "nums[:, ::-1]"
   ]
  },
  {
   "cell_type": "code",
   "execution_count": null,
   "metadata": {
    "collapsed": false
   },
   "outputs": [],
   "source": [
    "nums[0::2, 0::2] *= 2"
   ]
  },
  {
   "cell_type": "code",
   "execution_count": null,
   "metadata": {
    "collapsed": false
   },
   "outputs": [],
   "source": [
    "nums"
   ]
  },
  {
   "cell_type": "code",
   "execution_count": null,
   "metadata": {
    "collapsed": false
   },
   "outputs": [],
   "source": [
    "nums"
   ]
  },
  {
   "cell_type": "code",
   "execution_count": null,
   "metadata": {
    "collapsed": false
   },
   "outputs": [],
   "source": [
    "nums_slice = nums[0::2, 0::2]\n",
    "nums_slice"
   ]
  },
  {
   "cell_type": "code",
   "execution_count": null,
   "metadata": {
    "collapsed": false
   },
   "outputs": [],
   "source": [
    "nums *= 0.5"
   ]
  },
  {
   "cell_type": "code",
   "execution_count": null,
   "metadata": {
    "collapsed": false
   },
   "outputs": [],
   "source": [
    "nums"
   ]
  },
  {
   "cell_type": "code",
   "execution_count": null,
   "metadata": {
    "collapsed": false
   },
   "outputs": [],
   "source": [
    "nums_slice"
   ]
  },
  {
   "cell_type": "code",
   "execution_count": null,
   "metadata": {
    "collapsed": false
   },
   "outputs": [],
   "source": [
    "mirror = nums[::-1, ::-1].copy()\n",
    "print(nums)\n",
    "print(mirror)"
   ]
  },
  {
   "cell_type": "code",
   "execution_count": null,
   "metadata": {
    "collapsed": true
   },
   "outputs": [],
   "source": [
    "mirror *= 3"
   ]
  },
  {
   "cell_type": "code",
   "execution_count": null,
   "metadata": {
    "collapsed": false
   },
   "outputs": [],
   "source": [
    "print(nums)\n",
    "print(mirror)"
   ]
  },
  {
   "cell_type": "markdown",
   "metadata": {},
   "source": [
    "# Histograms\n",
    "\n",
    "NumPy does offer some nice ways of summarizing data"
   ]
  },
  {
   "cell_type": "code",
   "execution_count": 1,
   "metadata": {
    "collapsed": true
   },
   "outputs": [],
   "source": [
    "import numpy as np\n",
    "\n",
    "big_data = np.random.randint(1, 1000, (1000, 100))"
   ]
  },
  {
   "cell_type": "code",
   "execution_count": 2,
   "metadata": {
    "collapsed": false
   },
   "outputs": [
    {
     "data": {
      "text/plain": [
       "array([[838, 479,  16, ..., 651, 526, 653],\n",
       "       [286, 336, 905, ..., 915, 284, 202],\n",
       "       [504, 686, 808, ..., 694, 905, 196],\n",
       "       ..., \n",
       "       [ 25, 959, 389, ..., 824, 404, 110],\n",
       "       [731, 902, 472, ..., 964, 805, 507],\n",
       "       [200, 194, 208, ...,  35, 760, 974]])"
      ]
     },
     "execution_count": 2,
     "metadata": {},
     "output_type": "execute_result"
    }
   ],
   "source": [
    "big_data"
   ]
  },
  {
   "cell_type": "code",
   "execution_count": 4,
   "metadata": {
    "collapsed": false
   },
   "outputs": [
    {
     "name": "stdout",
     "output_type": "stream",
     "text": [
      "(1000, 100)\n"
     ]
    }
   ],
   "source": [
    "print(big_data.shape)"
   ]
  },
  {
   "cell_type": "code",
   "execution_count": 6,
   "metadata": {
    "collapsed": false
   },
   "outputs": [
    {
     "data": {
      "text/plain": [
       "(array([19837, 20009, 19968, 20186, 20000]),\n",
       " array([   1. ,  200.6,  400.2,  599.8,  799.4,  999. ]))"
      ]
     },
     "execution_count": 6,
     "metadata": {},
     "output_type": "execute_result"
    }
   ],
   "source": [
    "np.histogram(big_data, bins=5)"
   ]
  },
  {
   "cell_type": "code",
   "execution_count": 12,
   "metadata": {
    "collapsed": false
   },
   "outputs": [
    {
     "data": {
      "text/plain": [
       "[495.47899999999998,\n",
       " 499.52100000000002,\n",
       " 490.089,\n",
       " 481.60000000000002,\n",
       " 501.74799999999999,\n",
       " 507.47899999999998,\n",
       " 504.61399999999998,\n",
       " 496.18200000000002,\n",
       " 501.07600000000002,\n",
       " 519.07600000000002,\n",
       " 491.14600000000002,\n",
       " 508.221,\n",
       " 495.69999999999999,\n",
       " 518.23199999999997,\n",
       " 505.96800000000002,\n",
       " 494.40699999999998,\n",
       " 503.09399999999999,\n",
       " 493.44799999999998,\n",
       " 491.125,\n",
       " 512.01499999999999,\n",
       " 498.06099999999998,\n",
       " 507.08300000000003,\n",
       " 502.14699999999999,\n",
       " 514.11000000000001,\n",
       " 496.28500000000003,\n",
       " 511.74200000000002,\n",
       " 480.19099999999997,\n",
       " 500.31599999999997,\n",
       " 504.60199999999998,\n",
       " 501.91800000000001,\n",
       " 489.71499999999997,\n",
       " 495.08999999999997,\n",
       " 499.58100000000002,\n",
       " 493.601,\n",
       " 508.42399999999998,\n",
       " 513.154,\n",
       " 486.221,\n",
       " 504.90600000000001,\n",
       " 498.17099999999999,\n",
       " 510.07100000000003,\n",
       " 512.09699999999998,\n",
       " 487.07600000000002,\n",
       " 504.375,\n",
       " 502.69900000000001,\n",
       " 484.976,\n",
       " 504.07299999999998,\n",
       " 504.42399999999998,\n",
       " 501.34300000000002,\n",
       " 513.47299999999996,\n",
       " 498.60500000000002,\n",
       " 492.52800000000002,\n",
       " 501.38999999999999,\n",
       " 489.82900000000001,\n",
       " 488.32600000000002,\n",
       " 499.00200000000001,\n",
       " 512.06700000000001,\n",
       " 499.99400000000003,\n",
       " 509.51600000000002,\n",
       " 514.77999999999997,\n",
       " 508.815,\n",
       " 494.42599999999999,\n",
       " 509.411,\n",
       " 492.23000000000002,\n",
       " 503.89100000000002,\n",
       " 488.90600000000001,\n",
       " 504.322,\n",
       " 504.61200000000002,\n",
       " 500.49400000000003,\n",
       " 493.03199999999998,\n",
       " 498.79399999999998,\n",
       " 510.50299999999999,\n",
       " 480.62,\n",
       " 509.66899999999998,\n",
       " 503.303,\n",
       " 490.98399999999998,\n",
       " 514.20500000000004,\n",
       " 498.70699999999999,\n",
       " 491.52600000000001,\n",
       " 515.81799999999998,\n",
       " 513.89700000000005,\n",
       " 514.79499999999996,\n",
       " 512.995,\n",
       " 509.363,\n",
       " 501.79899999999998,\n",
       " 508.25799999999998,\n",
       " 489.447,\n",
       " 495.74799999999999,\n",
       " 507.31400000000002,\n",
       " 501.74900000000002,\n",
       " 489.04899999999998,\n",
       " 486.38499999999999,\n",
       " 511.33999999999997,\n",
       " 498.14600000000002,\n",
       " 508.95699999999999,\n",
       " 501.41300000000001,\n",
       " 502.67599999999999,\n",
       " 506.12099999999998,\n",
       " 507.85599999999999,\n",
       " 496.10000000000002,\n",
       " 482.904]"
      ]
     },
     "execution_count": 12,
     "metadata": {},
     "output_type": "execute_result"
    }
   ],
   "source": [
    "[x for x in big_data.mean(axis=0)]"
   ]
  },
  {
   "cell_type": "markdown",
   "metadata": {},
   "source": [
    "## List Comprehensions (and everything else Python) + NumPy = <3"
   ]
  },
  {
   "cell_type": "code",
   "execution_count": 14,
   "metadata": {
    "collapsed": false
   },
   "outputs": [
    {
     "data": {
      "text/plain": [
       "[8, 8, 2, 3, 6, 8, 0, 4, 4, 5]"
      ]
     },
     "execution_count": 14,
     "metadata": {},
     "output_type": "execute_result"
    }
   ],
   "source": [
    "[x for x in np.random.randint(0, 10, (10,))]"
   ]
  },
  {
   "cell_type": "code",
   "execution_count": 20,
   "metadata": {
    "collapsed": false
   },
   "outputs": [
    {
     "data": {
      "text/plain": [
       "44"
      ]
     },
     "execution_count": 20,
     "metadata": {},
     "output_type": "execute_result"
    }
   ],
   "source": [
    "sum(np.random.randint(0, 10, (10,))) # Python sum function"
   ]
  },
  {
   "cell_type": "code",
   "execution_count": 21,
   "metadata": {
    "collapsed": false
   },
   "outputs": [
    {
     "data": {
      "text/plain": [
       "48"
      ]
     },
     "execution_count": 21,
     "metadata": {},
     "output_type": "execute_result"
    }
   ],
   "source": [
    "np.random.randint(0, 10, (10,)).sum() # NumPy sum method"
   ]
  },
  {
   "cell_type": "code",
   "execution_count": 22,
   "metadata": {
    "collapsed": true
   },
   "outputs": [],
   "source": [
    "import statistics as st"
   ]
  },
  {
   "cell_type": "code",
   "execution_count": 23,
   "metadata": {
    "collapsed": false
   },
   "outputs": [
    {
     "data": {
      "text/plain": [
       "2.8354893757515653"
      ]
     },
     "execution_count": 23,
     "metadata": {},
     "output_type": "execute_result"
    }
   ],
   "source": [
    "st.pstdev(np.random.randint(0, 10, (10, )))"
   ]
  },
  {
   "cell_type": "code",
   "execution_count": 24,
   "metadata": {
    "collapsed": false
   },
   "outputs": [
    {
     "data": {
      "text/plain": [
       "[0,\n",
       " 0,\n",
       " 0,\n",
       " 0,\n",
       " 0,\n",
       " 0,\n",
       " 0,\n",
       " 0,\n",
       " 0,\n",
       " 0,\n",
       " 1,\n",
       " 1,\n",
       " 1,\n",
       " 1,\n",
       " 1,\n",
       " 1,\n",
       " 1,\n",
       " 1,\n",
       " 1,\n",
       " 1,\n",
       " 1,\n",
       " 2,\n",
       " 2,\n",
       " 2,\n",
       " 2,\n",
       " 2,\n",
       " 2,\n",
       " 2,\n",
       " 2,\n",
       " 2,\n",
       " 3,\n",
       " 3,\n",
       " 3,\n",
       " 3,\n",
       " 3,\n",
       " 3,\n",
       " 3,\n",
       " 3,\n",
       " 3,\n",
       " 3,\n",
       " 3,\n",
       " 3,\n",
       " 3,\n",
       " 4,\n",
       " 4,\n",
       " 4,\n",
       " 4,\n",
       " 4,\n",
       " 4,\n",
       " 4,\n",
       " 4,\n",
       " 4,\n",
       " 4,\n",
       " 4,\n",
       " 4,\n",
       " 4,\n",
       " 4,\n",
       " 5,\n",
       " 5,\n",
       " 5,\n",
       " 5,\n",
       " 6,\n",
       " 6,\n",
       " 6,\n",
       " 6,\n",
       " 6,\n",
       " 6,\n",
       " 6,\n",
       " 6,\n",
       " 6,\n",
       " 6,\n",
       " 7,\n",
       " 7,\n",
       " 7,\n",
       " 7,\n",
       " 7,\n",
       " 7,\n",
       " 7,\n",
       " 8,\n",
       " 8,\n",
       " 8,\n",
       " 8,\n",
       " 8,\n",
       " 8,\n",
       " 8,\n",
       " 8,\n",
       " 8,\n",
       " 8,\n",
       " 9,\n",
       " 9,\n",
       " 9,\n",
       " 9,\n",
       " 9,\n",
       " 9,\n",
       " 9,\n",
       " 9,\n",
       " 9,\n",
       " 9,\n",
       " 9,\n",
       " 9]"
      ]
     },
     "execution_count": 24,
     "metadata": {},
     "output_type": "execute_result"
    }
   ],
   "source": [
    "sorted(np.random.randint(0, 10, (100, )))"
   ]
  },
  {
   "cell_type": "markdown",
   "metadata": {},
   "source": [
    "# References\n",
    "\n",
    "* [NumPy](http://www.numpy.org/)\n",
    "* [Official NumPy tutorial](http://www.scipy.org/Tentative_NumPy_Tutorial)\n",
    "* [NumPy Example List](http://wiki.scipy.org/Numpy_Example_List)\n",
    "* [NumPy MedKit slides](http://mentat.za.net/numpy/numpy_advanced_slides/)"
   ]
  },
  {
   "cell_type": "markdown",
   "metadata": {},
   "source": [
    "# Planning store shifts\n",
    "\n",
    "You run a department store. During lunch hours 11-2, you get your biggest volume of\n",
    "customers, with an average of 100 per hour.\n",
    "\n",
    "Most customers take 2 to 3 minutes (70% of customers), but 30% of customers\n",
    "are high-maintenance and take 7-10 minutes.\n",
    "\n",
    "If you want to make sure you can handle the average workload, how many cashiers\n",
    "do you need? If you want to be able to handle 1 standard deviation above the\n",
    "average work load, how many then?\n"
   ]
  },
  {
   "cell_type": "code",
   "execution_count": 68,
   "metadata": {
    "collapsed": false
   },
   "outputs": [],
   "source": [
    "import random\n",
    "\n",
    "class Customer:\n",
    "    \"\"\"\n",
    "    Responsibilities:\n",
    "    Know how long it has left\n",
    "    \n",
    "    \"\"\"\n",
    "    def __init__(self):\n",
    "        if random.random() < 0.70:\n",
    "            # regular customer\n",
    "            self.minutes_left = random.randint(2, 3)\n",
    "        else:\n",
    "            # high-maintenance customer\n",
    "            self.minutes_left = random.randint(7, 10)\n",
    "    \n",
    "    def is_done(self):\n",
    "        if self.minutes_left <= 0:\n",
    "            return True\n",
    "        else:\n",
    "            return False\n",
    "\n",
    "class Cashier:\n",
    "    \"\"\"\n",
    "    Responsibilities:\n",
    "    - help a customer\n",
    "    \n",
    "    Collaborators:\n",
    "    - Customer\n",
    "    \"\"\"\n",
    "    def __init__(self):\n",
    "        self.customer_being_helped = None\n",
    "        \n",
    "    def help_customer(self, customer):\n",
    "        self.customer_being_helped = customer\n",
    "#         print(\"{} is helping {}\".format(self, customer))\n",
    "    \n",
    "    def tick(self):\n",
    "        if self.customer_being_helped is not None:\n",
    "            self.customer_being_helped.minutes_left -= 1\n",
    "            \n",
    "            if self.customer_being_helped.is_done():\n",
    "                self.customer_being_helped = None\n",
    "        \n",
    "    def is_free(self):\n",
    "        if self.customer_being_helped is None:\n",
    "            return True\n",
    "        else:\n",
    "            return False\n",
    "    \n",
    "    def time_left(self):\n",
    "        if self.customer_being_helped is None:\n",
    "            return 0\n",
    "        else:\n",
    "            return self.customer_being_helped.minutes_left\n"
   ]
  },
  {
   "cell_type": "code",
   "execution_count": 71,
   "metadata": {
    "collapsed": true
   },
   "outputs": [],
   "source": [
    "class Simulation:\n",
    "    \"\"\"\n",
    "    Responsibilities:\n",
    "    - set up cashiers\n",
    "    - set up queue\n",
    "    - create Customer objects and put them in the queue\n",
    "    - assign customers to a cashier\n",
    "    - report on some stats\n",
    "    - increment time\n",
    "    \n",
    "    Collaborators:\n",
    "    - Customer\n",
    "    - Cashier\n",
    "    \"\"\"\n",
    "    def __init__(self, num_of_cashiers):\n",
    "        self.cashiers = [Cashier() for _ in range(num_of_cashiers)]\n",
    "        self.queue = []\n",
    "        self.ticks = 0\n",
    "    \n",
    "    def tick(self):\n",
    "        for _ in range(np.random.poisson(100/60, (1,))[0]):\n",
    "            self.queue.append(Customer())\n",
    "            \n",
    "        for cashier in self.cashiers:\n",
    "            if cashier.is_free() and len(self.queue) > 0:\n",
    "                cashier.help_customer(self.queue.pop(0))\n",
    "            cashier.tick()\n",
    "        \n",
    "        self.ticks += 1\n",
    "        \n",
    "    def get_stats(self):\n",
    "        return {\n",
    "            'ticks': self.ticks,\n",
    "            'customers_in_queue': len(self.queue),\n",
    "            'cashiers': [c.time_left() for c in self.cashiers]\n",
    "        }\n",
    "    \n",
    "    def run(self, total_ticks=180):\n",
    "#         stats = []\n",
    "        for _ in range(total_ticks):\n",
    "            self.tick()\n",
    "#             stats.append(self.get_stats())\n",
    "#             print(self.get_stats())\n",
    "        \n",
    "        return len(self.queue)\n",
    "        \n",
    "        "
   ]
  },
  {
   "cell_type": "code",
   "execution_count": 88,
   "metadata": {
    "collapsed": false
   },
   "outputs": [],
   "source": [
    "\n",
    "import matplotlib.pyplot as plt\n",
    "%matplotlib inline\n",
    "\n",
    "results = {}\n",
    "\n",
    "for num_cashiers in range(3, 11):\n",
    "    results[num_cashiers] = []\n",
    "    for _ in range(1000):\n",
    "        sim = Simulation(num_cashiers)\n",
    "        results[num_cashiers].append(sim.run())\n",
    "    \n",
    "    results[num_cashiers] = sum(results[num_cashiers]) / len(results[num_cashiers])\n"
   ]
  },
  {
   "cell_type": "code",
   "execution_count": 89,
   "metadata": {
    "collapsed": false
   },
   "outputs": [
    {
     "name": "stdout",
     "output_type": "stream",
     "text": [
      "{3: 172.925, 4: 131.345, 5: 90.276, 6: 50.574, 7: 17.699, 8: 4.283, 9: 1.196, 10: 0.503}\n"
     ]
    },
    {
     "data": {
      "image/png": "[encoded data removed]",
      "text/plain": [
       "<matplotlib.figure.Figure at 0x113982a90>"
      ]
     },
     "metadata": {},
     "output_type": "display_data"
    }
   ],
   "source": [
    "print(results)\n",
    "\n",
    "x_values = range(3, 11)\n",
    "y_values = [results[x] for x in range(3, 11)]\n",
    "plt.scatter(x_values, y_values)\n",
    "plt.show()"
   ]
  },
  {
   "cell_type": "code",
   "execution_count": null,
   "metadata": {
    "collapsed": true
   },
   "outputs": [],
   "source": []
  },
  {
   "cell_type": "code",
   "execution_count": null,
   "metadata": {
    "collapsed": true
   },
   "outputs": [],
   "source": [
    "from traffic_lib import *\n",
    "# pulls things from traffic_lib.py\n",
    "\n"
   ]
  }
 ],
 "metadata": {
  "kernelspec": {
   "display_name": "Python 3",
   "language": "python",
   "name": "python3"
  },
  "language_info": {
   "codemirror_mode": {
    "name": "ipython",
    "version": 3
   },
   "file_extension": ".py",
   "mimetype": "text/x-python",
   "name": "python",
   "nbconvert_exporter": "python",
   "pygments_lexer": "ipython3",
   "version": "3.4.3"
  }
 },
 "nbformat": 4,
 "nbformat_minor": 0
}
