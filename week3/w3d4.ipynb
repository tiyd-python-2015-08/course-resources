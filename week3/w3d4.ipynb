{
 "cells": [
  {
   "cell_type": "code",
   "execution_count": 1,
   "metadata": {
    "collapsed": true
   },
   "outputs": [],
   "source": [
    "import math\n",
    "import random\n",
    "import statistics\n",
    "import matplotlib.pyplot as plt\n",
    "%matplotlib inline\n",
    "\n",
    "\n",
    "\n",
    "def roll_die():\n",
    "    return random.randint(1,6)\n",
    "\n",
    "\n",
    "class Player:\n",
    "    \"\"\"\n",
    "    Responsibilities:\n",
    "    Keep track of score and number of rolls\n",
    "    Determine if player should roll again based on current state\n",
    "    Run through a complete turn\n",
    "    - \n",
    "    \"\"\"\n",
    "    \n",
    "    def __init__(self):\n",
    "        self.reset()\n",
    "    \n",
    "    def reset(self):\n",
    "        self.points = 0\n",
    "        self.rolls = 0\n",
    "    \n",
    "    def should_roll_again(self):\n",
    "        \"\"\"\n",
    "        Returns True if the Player should roll again, False otherwise\n",
    "        This method should probably be overridden with subclasses to do more complex stuff!\n",
    "        \"\"\"\n",
    "        return False\n",
    "    \n",
    "    def play_turn(self):\n",
    "        self.reset()\n",
    "        \n",
    "        while True:\n",
    "            roll = roll_die()\n",
    "            self.rolls += 1\n",
    "            if roll == 1:\n",
    "                return 0\n",
    "            else:\n",
    "                self.points += roll\n",
    "            if not self.should_roll_again():\n",
    "                break\n",
    "        \n",
    "        return self.points"
   ]
  },
  {
   "cell_type": "code",
   "execution_count": 2,
   "metadata": {
    "collapsed": true
   },
   "outputs": [],
   "source": [
    "\n",
    "class PigSolitaireGame:\n",
    "    \"\"\"\n",
    "    Responsibilities:\n",
    "    Run a game\n",
    "    Keep track of total points over 7 turns\n",
    "    \n",
    "    Collaborators:\n",
    "    Player (or subclass)\n",
    "    \"\"\"\n",
    "    def __init__(self, player):\n",
    "        self.player = player\n",
    "    \n",
    "    def play_game(self):\n",
    "        total_points = 0\n",
    "        for _ in range(7):\n",
    "            total_points += self.player.play_turn()\n",
    "        \n",
    "        return total_points\n"
   ]
  },
  {
   "cell_type": "code",
   "execution_count": 3,
   "metadata": {
    "collapsed": true
   },
   "outputs": [],
   "source": [
    "class SciencePlayer(Player):\n",
    "    def should_roll_again(self):\n",
    "        if self.points >= 25:\n",
    "            return False\n",
    "        else:\n",
    "            return True\n",
    "\n",
    "\n",
    "        \n",
    "class NumberRoller(Player):\n",
    "    def __init__(self, num_rolls):\n",
    "        super().__init__(self)\n",
    "        self.target_rolls = num_rolls\n",
    "    \n",
    "    def should_roll_again(self):\n",
    "        if self.rolls < self.target_rolls:\n",
    "            return True\n",
    "        else:\n",
    "            return False\n",
    "        \n",
    "class TwoRoller(NumberRoller):\n",
    "    def __init__(self):\n",
    "        super().__init__(self, 2)\n",
    "\n",
    "        \n",
    "class ThreeRoller(NumberRoller):\n",
    "    def __init__(self):\n",
    "        super().__init__(self, 3)"
   ]
  },
  {
   "cell_type": "code",
   "execution_count": 4,
   "metadata": {
    "collapsed": false
   },
   "outputs": [
    {
     "data": {
      "text/plain": [
       "16"
      ]
     },
     "execution_count": 4,
     "metadata": {},
     "output_type": "execute_result"
    }
   ],
   "source": [
    "\n",
    "sim = PigSolitaireGame(Player())\n",
    "\n",
    "sim.play_game()\n"
   ]
  },
  {
   "cell_type": "code",
   "execution_count": 6,
   "metadata": {
    "collapsed": false
   },
   "outputs": [],
   "source": [
    "# sim = PigSolitaireGame(TwoRoller())\n",
    "# sim.play_game()"
   ]
  },
  {
   "cell_type": "markdown",
   "metadata": {},
   "source": [
    "# NumPy\n",
    "\n",
    "NumPy is a module for Python that allows us to work with large sets of data efficiently. The core method/class we use is `np.array`"
   ]
  },
  {
   "cell_type": "code",
   "execution_count": 7,
   "metadata": {
    "collapsed": true
   },
   "outputs": [],
   "source": [
    "import numpy as np"
   ]
  },
  {
   "cell_type": "code",
   "execution_count": 8,
   "metadata": {
    "collapsed": true
   },
   "outputs": [],
   "source": [
    "list_of_nums = np.array([1, 2, 3, 4, 5])\n",
    "matrix_of_nums = np.array([[1, 2, 3],\n",
    "                           [4, 5, 6],\n",
    "                           [7, 8, 9]])"
   ]
  },
  {
   "cell_type": "code",
   "execution_count": 9,
   "metadata": {
    "collapsed": false
   },
   "outputs": [
    {
     "data": {
      "text/plain": [
       "array([1, 2, 3, 4, 5])"
      ]
     },
     "execution_count": 9,
     "metadata": {},
     "output_type": "execute_result"
    }
   ],
   "source": [
    "list_of_nums"
   ]
  },
  {
   "cell_type": "code",
   "execution_count": 10,
   "metadata": {
    "collapsed": false
   },
   "outputs": [
    {
     "data": {
      "text/plain": [
       "array([[1, 2, 3],\n",
       "       [4, 5, 6],\n",
       "       [7, 8, 9]])"
      ]
     },
     "execution_count": 10,
     "metadata": {},
     "output_type": "execute_result"
    }
   ],
   "source": [
    "matrix_of_nums"
   ]
  },
  {
   "cell_type": "markdown",
   "metadata": {},
   "source": [
    "We can perform mathematical operations on entire arrays in one _simple_ command"
   ]
  },
  {
   "cell_type": "code",
   "execution_count": 11,
   "metadata": {
    "collapsed": false
   },
   "outputs": [
    {
     "data": {
      "text/plain": [
       "array([5, 6, 7, 8, 9])"
      ]
     },
     "execution_count": 11,
     "metadata": {},
     "output_type": "execute_result"
    }
   ],
   "source": [
    "list_of_nums + 4"
   ]
  },
  {
   "cell_type": "code",
   "execution_count": 12,
   "metadata": {
    "collapsed": false
   },
   "outputs": [
    {
     "data": {
      "text/plain": [
       "array([[ 5,  6,  7],\n",
       "       [ 8,  9, 10],\n",
       "       [11, 12, 13]])"
      ]
     },
     "execution_count": 12,
     "metadata": {},
     "output_type": "execute_result"
    }
   ],
   "source": [
    "matrix_of_nums + 4"
   ]
  },
  {
   "cell_type": "code",
   "execution_count": 13,
   "metadata": {
    "collapsed": false
   },
   "outputs": [
    {
     "data": {
      "text/plain": [
       "array([[ 1,  4,  9],\n",
       "       [16, 25, 36],\n",
       "       [49, 64, 81]])"
      ]
     },
     "execution_count": 13,
     "metadata": {},
     "output_type": "execute_result"
    }
   ],
   "source": [
    "matrix_of_nums ** 2"
   ]
  },
  {
   "cell_type": "code",
   "execution_count": 14,
   "metadata": {
    "collapsed": false
   },
   "outputs": [
    {
     "data": {
      "text/plain": [
       "array([[1, 2, 3],\n",
       "       [4, 5, 6],\n",
       "       [7, 8, 9]])"
      ]
     },
     "execution_count": 14,
     "metadata": {},
     "output_type": "execute_result"
    }
   ],
   "source": [
    "matrix_of_nums"
   ]
  },
  {
   "cell_type": "code",
   "execution_count": 15,
   "metadata": {
    "collapsed": false
   },
   "outputs": [
    {
     "data": {
      "text/plain": [
       "array([1, 2, 3, 4, 5])"
      ]
     },
     "execution_count": 15,
     "metadata": {},
     "output_type": "execute_result"
    }
   ],
   "source": [
    "list_of_nums"
   ]
  },
  {
   "cell_type": "code",
   "execution_count": 16,
   "metadata": {
    "collapsed": false
   },
   "outputs": [
    {
     "data": {
      "text/plain": [
       "array([ 2,  4,  6,  8, 10])"
      ]
     },
     "execution_count": 16,
     "metadata": {},
     "output_type": "execute_result"
    }
   ],
   "source": [
    "list_of_nums + list_of_nums"
   ]
  },
  {
   "cell_type": "code",
   "execution_count": 17,
   "metadata": {
    "collapsed": true
   },
   "outputs": [],
   "source": [
    "list_of_nums += list_of_nums"
   ]
  },
  {
   "cell_type": "code",
   "execution_count": 18,
   "metadata": {
    "collapsed": false
   },
   "outputs": [
    {
     "data": {
      "text/plain": [
       "array([ 2,  4,  6,  8, 10])"
      ]
     },
     "execution_count": 18,
     "metadata": {},
     "output_type": "execute_result"
    }
   ],
   "source": [
    "list_of_nums"
   ]
  },
  {
   "cell_type": "code",
   "execution_count": 19,
   "metadata": {
    "collapsed": false
   },
   "outputs": [
    {
     "data": {
      "text/plain": [
       "[1, 2, 3, 4, 5, 1, 2, 3, 4, 5]"
      ]
     },
     "execution_count": 19,
     "metadata": {},
     "output_type": "execute_result"
    }
   ],
   "source": [
    "[1, 2, 3, 4, 5] + [1, 2, 3, 4, 5]"
   ]
  },
  {
   "cell_type": "code",
   "execution_count": 20,
   "metadata": {
    "collapsed": false
   },
   "outputs": [
    {
     "data": {
      "text/plain": [
       "array([[ 2,  4,  6],\n",
       "       [ 8, 10, 12],\n",
       "       [14, 16, 18]])"
      ]
     },
     "execution_count": 20,
     "metadata": {},
     "output_type": "execute_result"
    }
   ],
   "source": [
    "matrix_of_nums + matrix_of_nums"
   ]
  },
  {
   "cell_type": "code",
   "execution_count": 21,
   "metadata": {
    "collapsed": false
   },
   "outputs": [],
   "source": [
    "other_matrix = np.array([[10, 11, 12, 13],\n",
    "                       [14, 15, 16, 17],\n",
    "                       [18, 19, 20, 21]])"
   ]
  },
  {
   "cell_type": "code",
   "execution_count": 22,
   "metadata": {
    "collapsed": false
   },
   "outputs": [
    {
     "ename": "ValueError",
     "evalue": "operands could not be broadcast together with shapes (3,4) (3,3) ",
     "output_type": "error",
     "traceback": [
      "\u001b[0;31m---------------------------------------------------------------------------\u001b[0m",
      "\u001b[0;31mValueError\u001b[0m                                Traceback (most recent call last)",
      "\u001b[0;32m<ipython-input-22-83653770f87c>\u001b[0m in \u001b[0;36m<module>\u001b[0;34m()\u001b[0m\n\u001b[0;32m----> 1\u001b[0;31m \u001b[0mother_matrix\u001b[0m \u001b[0;34m+\u001b[0m \u001b[0mmatrix_of_nums\u001b[0m\u001b[0;34m\u001b[0m\u001b[0m\n\u001b[0m",
      "\u001b[0;31mValueError\u001b[0m: operands could not be broadcast together with shapes (3,4) (3,3) "
     ]
    }
   ],
   "source": [
    "other_matrix + matrix_of_nums"
   ]
  },
  {
   "cell_type": "code",
   "execution_count": 23,
   "metadata": {
    "collapsed": false
   },
   "outputs": [
    {
     "data": {
      "text/plain": [
       "array([[1, 2, 3],\n",
       "       [4, 5, 6],\n",
       "       [7, 8, 9]])"
      ]
     },
     "execution_count": 23,
     "metadata": {},
     "output_type": "execute_result"
    }
   ],
   "source": [
    "matrix_of_nums"
   ]
  },
  {
   "cell_type": "code",
   "execution_count": 24,
   "metadata": {
    "collapsed": false
   },
   "outputs": [
    {
     "data": {
      "text/plain": [
       "array([ 2,  4,  6,  8, 10])"
      ]
     },
     "execution_count": 24,
     "metadata": {},
     "output_type": "execute_result"
    }
   ],
   "source": [
    "list_of_nums"
   ]
  },
  {
   "cell_type": "code",
   "execution_count": 25,
   "metadata": {
    "collapsed": false
   },
   "outputs": [
    {
     "ename": "ValueError",
     "evalue": "operands could not be broadcast together with shapes (3,3) (5,) ",
     "output_type": "error",
     "traceback": [
      "\u001b[0;31m---------------------------------------------------------------------------\u001b[0m",
      "\u001b[0;31mValueError\u001b[0m                                Traceback (most recent call last)",
      "\u001b[0;32m<ipython-input-25-1ef98477736a>\u001b[0m in \u001b[0;36m<module>\u001b[0;34m()\u001b[0m\n\u001b[0;32m----> 1\u001b[0;31m \u001b[0mmatrix_of_nums\u001b[0m \u001b[0;34m+\u001b[0m \u001b[0mlist_of_nums\u001b[0m\u001b[0;34m\u001b[0m\u001b[0m\n\u001b[0m",
      "\u001b[0;31mValueError\u001b[0m: operands could not be broadcast together with shapes (3,3) (5,) "
     ]
    }
   ],
   "source": [
    "matrix_of_nums + list_of_nums"
   ]
  },
  {
   "cell_type": "code",
   "execution_count": 26,
   "metadata": {
    "collapsed": true
   },
   "outputs": [],
   "source": [
    "list_of_nums = [1, 2, 3]"
   ]
  },
  {
   "cell_type": "code",
   "execution_count": 27,
   "metadata": {
    "collapsed": false
   },
   "outputs": [
    {
     "data": {
      "text/plain": [
       "array([[1, 2, 3],\n",
       "       [4, 5, 6],\n",
       "       [7, 8, 9]])"
      ]
     },
     "execution_count": 27,
     "metadata": {},
     "output_type": "execute_result"
    }
   ],
   "source": [
    "matrix_of_nums"
   ]
  },
  {
   "cell_type": "code",
   "execution_count": 28,
   "metadata": {
    "collapsed": false
   },
   "outputs": [
    {
     "data": {
      "text/plain": [
       "array([[ 2,  4,  6],\n",
       "       [ 5,  7,  9],\n",
       "       [ 8, 10, 12]])"
      ]
     },
     "execution_count": 28,
     "metadata": {},
     "output_type": "execute_result"
    }
   ],
   "source": [
    "matrix_of_nums + list_of_nums\n",
    "# adds the list to each row of the matrix"
   ]
  },
  {
   "cell_type": "code",
   "execution_count": 29,
   "metadata": {
    "collapsed": true
   },
   "outputs": [],
   "source": [
    "big_matrix = np.array([[5, 6, 7],\n",
    "                      [7, 8, 9],\n",
    "                      [10, 11, 12],\n",
    "                      [13, 14, 15],\n",
    "                      [16, 17, 18],\n",
    "                      [19, 20, 21]])"
   ]
  },
  {
   "cell_type": "code",
   "execution_count": 30,
   "metadata": {
    "collapsed": false
   },
   "outputs": [
    {
     "data": {
      "text/plain": [
       "array([[ 6,  8, 10],\n",
       "       [ 8, 10, 12],\n",
       "       [11, 13, 15],\n",
       "       [14, 16, 18],\n",
       "       [17, 19, 21],\n",
       "       [20, 22, 24]])"
      ]
     },
     "execution_count": 30,
     "metadata": {},
     "output_type": "execute_result"
    }
   ],
   "source": [
    "big_matrix + list_of_nums"
   ]
  },
  {
   "cell_type": "markdown",
   "metadata": {},
   "source": [
    "We can't add things of different shapes, unless they have a different number of dimensions"
   ]
  },
  {
   "cell_type": "code",
   "execution_count": 31,
   "metadata": {
    "collapsed": false
   },
   "outputs": [],
   "source": [
    "threed = np.array([[[1, 2, 3], [4,5,6], [7,8,9]], [5,5,5],[5,5,5],[5,5,5]])"
   ]
  },
  {
   "cell_type": "code",
   "execution_count": 32,
   "metadata": {
    "collapsed": false
   },
   "outputs": [
    {
     "data": {
      "text/plain": [
       "array([[[1, 2, 3], [4, 5, 6], [7, 8, 9]],\n",
       "       [5, 5, 5],\n",
       "       [5, 5, 5],\n",
       "       [5, 5, 5]], dtype=object)"
      ]
     },
     "execution_count": 32,
     "metadata": {},
     "output_type": "execute_result"
    }
   ],
   "source": [
    "threed"
   ]
  },
  {
   "cell_type": "markdown",
   "metadata": {},
   "source": [
    "Other bits of information we can get about arrays"
   ]
  },
  {
   "cell_type": "code",
   "execution_count": 33,
   "metadata": {
    "collapsed": false
   },
   "outputs": [
    {
     "name": "stdout",
     "output_type": "stream",
     "text": [
      "9\n"
     ]
    }
   ],
   "source": [
    "print(matrix_of_nums.size)"
   ]
  },
  {
   "cell_type": "code",
   "execution_count": 34,
   "metadata": {
    "collapsed": false
   },
   "outputs": [
    {
     "data": {
      "text/plain": [
       "2"
      ]
     },
     "execution_count": 34,
     "metadata": {},
     "output_type": "execute_result"
    }
   ],
   "source": [
    "matrix_of_nums.ndim"
   ]
  },
  {
   "cell_type": "code",
   "execution_count": 35,
   "metadata": {
    "collapsed": false
   },
   "outputs": [
    {
     "data": {
      "text/plain": [
       "(3, 3)"
      ]
     },
     "execution_count": 35,
     "metadata": {},
     "output_type": "execute_result"
    }
   ],
   "source": [
    "matrix_of_nums.shape"
   ]
  },
  {
   "cell_type": "code",
   "execution_count": 36,
   "metadata": {
    "collapsed": false
   },
   "outputs": [
    {
     "data": {
      "text/plain": [
       "(6, 3)"
      ]
     },
     "execution_count": 36,
     "metadata": {},
     "output_type": "execute_result"
    }
   ],
   "source": [
    "big_matrix.shape"
   ]
  },
  {
   "cell_type": "code",
   "execution_count": 37,
   "metadata": {
    "collapsed": false
   },
   "outputs": [
    {
     "data": {
      "text/plain": [
       "dtype('int64')"
      ]
     },
     "execution_count": 37,
     "metadata": {},
     "output_type": "execute_result"
    }
   ],
   "source": [
    "matrix_of_nums.dtype"
   ]
  },
  {
   "cell_type": "code",
   "execution_count": 38,
   "metadata": {
    "collapsed": false
   },
   "outputs": [
    {
     "data": {
      "text/plain": [
       "dtype('int64')"
      ]
     },
     "execution_count": 38,
     "metadata": {},
     "output_type": "execute_result"
    }
   ],
   "source": [
    "big_matrix.dtype"
   ]
  },
  {
   "cell_type": "code",
   "execution_count": 39,
   "metadata": {
    "collapsed": false
   },
   "outputs": [
    {
     "data": {
      "text/plain": [
       "9223372036854775808"
      ]
     },
     "execution_count": 39,
     "metadata": {},
     "output_type": "execute_result"
    }
   ],
   "source": [
    "2**63"
   ]
  },
  {
   "cell_type": "code",
   "execution_count": 40,
   "metadata": {
    "collapsed": false
   },
   "outputs": [
    {
     "name": "stderr",
     "output_type": "stream",
     "text": [
      "/Users/james/src/github.com/tiyd-python-2015-08/course-resources/.direnv/python-3.4.3/lib/python3.4/site-packages/ipykernel/__main__.py:1: DeprecationWarning: Implicitly casting between incompatible kinds. In a future numpy release, this will raise an error. Use casting=\"unsafe\" if this is intentional.\n",
      "  if __name__ == '__main__':\n"
     ]
    }
   ],
   "source": [
    "matrix_of_nums *= 1.5"
   ]
  },
  {
   "cell_type": "code",
   "execution_count": 41,
   "metadata": {
    "collapsed": false
   },
   "outputs": [
    {
     "data": {
      "text/plain": [
       "array([[ 1,  3,  4],\n",
       "       [ 6,  7,  9],\n",
       "       [10, 12, 13]])"
      ]
     },
     "execution_count": 41,
     "metadata": {},
     "output_type": "execute_result"
    }
   ],
   "source": [
    "matrix_of_nums"
   ]
  },
  {
   "cell_type": "code",
   "execution_count": 42,
   "metadata": {
    "collapsed": true
   },
   "outputs": [],
   "source": [
    "another_matrix = np.array([[1.0, 2, 3],\n",
    "                           [4, 5, 6],\n",
    "                           [7, 8, 9]])"
   ]
  },
  {
   "cell_type": "code",
   "execution_count": 43,
   "metadata": {
    "collapsed": false
   },
   "outputs": [
    {
     "data": {
      "text/plain": [
       "dtype('float64')"
      ]
     },
     "execution_count": 43,
     "metadata": {},
     "output_type": "execute_result"
    }
   ],
   "source": [
    "another_matrix.dtype"
   ]
  },
  {
   "cell_type": "code",
   "execution_count": 44,
   "metadata": {
    "collapsed": false
   },
   "outputs": [
    {
     "data": {
      "text/plain": [
       "array([[ 1.,  2.,  3.],\n",
       "       [ 4.,  5.,  6.],\n",
       "       [ 7.,  8.,  9.]])"
      ]
     },
     "execution_count": 44,
     "metadata": {},
     "output_type": "execute_result"
    }
   ],
   "source": [
    "another_matrix"
   ]
  },
  {
   "cell_type": "code",
   "execution_count": 45,
   "metadata": {
    "collapsed": true
   },
   "outputs": [],
   "source": [
    "another_matrix *= 1.5"
   ]
  },
  {
   "cell_type": "code",
   "execution_count": 46,
   "metadata": {
    "collapsed": false
   },
   "outputs": [
    {
     "data": {
      "text/plain": [
       "array([[  1.5,   3. ,   4.5],\n",
       "       [  6. ,   7.5,   9. ],\n",
       "       [ 10.5,  12. ,  13.5]])"
      ]
     },
     "execution_count": 46,
     "metadata": {},
     "output_type": "execute_result"
    }
   ],
   "source": [
    "another_matrix"
   ]
  },
  {
   "cell_type": "code",
   "execution_count": 47,
   "metadata": {
    "collapsed": false
   },
   "outputs": [
    {
     "data": {
      "text/plain": [
       "array([[  3.,   6.,   9.],\n",
       "       [ 12.,  15.,  18.],\n",
       "       [ 21.,  24.,  27.]])"
      ]
     },
     "execution_count": 47,
     "metadata": {},
     "output_type": "execute_result"
    }
   ],
   "source": [
    "another_matrix * 2"
   ]
  },
  {
   "cell_type": "code",
   "execution_count": 48,
   "metadata": {
    "collapsed": true
   },
   "outputs": [],
   "source": [
    "another_matrix *= 9223372036854775808"
   ]
  },
  {
   "cell_type": "code",
   "execution_count": 49,
   "metadata": {
    "collapsed": false
   },
   "outputs": [
    {
     "data": {
      "text/plain": [
       "array([[  1.38350581e+19,   2.76701161e+19,   4.15051742e+19],\n",
       "       [  5.53402322e+19,   6.91752903e+19,   8.30103483e+19],\n",
       "       [  9.68454064e+19,   1.10680464e+20,   1.24515522e+20]])"
      ]
     },
     "execution_count": 49,
     "metadata": {},
     "output_type": "execute_result"
    }
   ],
   "source": [
    "another_matrix"
   ]
  },
  {
   "cell_type": "code",
   "execution_count": 50,
   "metadata": {
    "collapsed": false
   },
   "outputs": [
    {
     "data": {
      "text/plain": [
       "dtype('float64')"
      ]
     },
     "execution_count": 50,
     "metadata": {},
     "output_type": "execute_result"
    }
   ],
   "source": [
    "np.array([1, 2, 3], dtype='float').dtype"
   ]
  },
  {
   "cell_type": "code",
   "execution_count": 51,
   "metadata": {
    "collapsed": false
   },
   "outputs": [
    {
     "data": {
      "text/plain": [
       "(3, 3)"
      ]
     },
     "execution_count": 51,
     "metadata": {},
     "output_type": "execute_result"
    }
   ],
   "source": [
    "another_matrix.shape"
   ]
  },
  {
   "cell_type": "code",
   "execution_count": 52,
   "metadata": {
    "collapsed": false
   },
   "outputs": [
    {
     "ename": "TypeError",
     "evalue": "an integer is required",
     "output_type": "error",
     "traceback": [
      "\u001b[0;31m---------------------------------------------------------------------------\u001b[0m",
      "\u001b[0;31mTypeError\u001b[0m                                 Traceback (most recent call last)",
      "\u001b[0;32m<ipython-input-52-54d7877bd109>\u001b[0m in \u001b[0;36m<module>\u001b[0;34m()\u001b[0m\n\u001b[0;32m----> 1\u001b[0;31m \u001b[0manother_matrix\u001b[0m\u001b[0;34m.\u001b[0m\u001b[0mresize\u001b[0m\u001b[0;34m(\u001b[0m\u001b[0;34m(\u001b[0m\u001b[0;36m5\u001b[0m\u001b[0;34m,\u001b[0m \u001b[0;36m4\u001b[0m\u001b[0;34m)\u001b[0m\u001b[0;34m,\u001b[0m \u001b[0;32mFalse\u001b[0m\u001b[0;34m)\u001b[0m\u001b[0;34m\u001b[0m\u001b[0m\n\u001b[0m",
      "\u001b[0;31mTypeError\u001b[0m: an integer is required"
     ]
    }
   ],
   "source": [
    "another_matrix.resize((5, 4), False)"
   ]
  },
  {
   "cell_type": "code",
   "execution_count": 53,
   "metadata": {
    "collapsed": true
   },
   "outputs": [],
   "source": [
    "test_matrix = np.array([[1, 2, 3], [4,5,6]])"
   ]
  },
  {
   "cell_type": "code",
   "execution_count": 54,
   "metadata": {
    "collapsed": true
   },
   "outputs": [],
   "source": [
    "test_matrix.resize((3, 5))"
   ]
  },
  {
   "cell_type": "code",
   "execution_count": 55,
   "metadata": {
    "collapsed": false
   },
   "outputs": [
    {
     "data": {
      "text/plain": [
       "array([[1, 2, 3, 4, 5],\n",
       "       [6, 0, 0, 0, 0],\n",
       "       [0, 0, 0, 0, 0]])"
      ]
     },
     "execution_count": 55,
     "metadata": {},
     "output_type": "execute_result"
    }
   ],
   "source": [
    "test_matrix"
   ]
  },
  {
   "cell_type": "markdown",
   "metadata": {},
   "source": [
    "# Creating np.arrays\n",
    "\n",
    "Often we want to create something with specific values, but we don't have to type all of them out. We might be using random numbers, or a default value, or maybe we don't even know or care what number, but we know what size we want."
   ]
  },
  {
   "cell_type": "code",
   "execution_count": 56,
   "metadata": {
    "collapsed": false
   },
   "outputs": [
    {
     "data": {
      "text/plain": [
       "array([[ 0.,  0.,  0.,  0.,  0.],\n",
       "       [ 0.,  0.,  0.,  0.,  0.],\n",
       "       [ 0.,  0.,  0.,  0.,  0.]])"
      ]
     },
     "execution_count": 56,
     "metadata": {},
     "output_type": "execute_result"
    }
   ],
   "source": [
    "np.zeros((3, 5))"
   ]
  },
  {
   "cell_type": "code",
   "execution_count": 57,
   "metadata": {
    "collapsed": false
   },
   "outputs": [
    {
     "data": {
      "text/plain": [
       "array([[[ 1.,  1.,  1.],\n",
       "        [ 1.,  1.,  1.]],\n",
       "\n",
       "       [[ 1.,  1.,  1.],\n",
       "        [ 1.,  1.,  1.]],\n",
       "\n",
       "       [[ 1.,  1.,  1.],\n",
       "        [ 1.,  1.,  1.]],\n",
       "\n",
       "       [[ 1.,  1.,  1.],\n",
       "        [ 1.,  1.,  1.]]])"
      ]
     },
     "execution_count": 57,
     "metadata": {},
     "output_type": "execute_result"
    }
   ],
   "source": [
    "np.ones((4, 2, 3))"
   ]
  },
  {
   "cell_type": "code",
   "execution_count": 58,
   "metadata": {
    "collapsed": false
   },
   "outputs": [],
   "source": [
    "arr = np.linspace(0, 19, 20, dtype='int')"
   ]
  },
  {
   "cell_type": "code",
   "execution_count": 59,
   "metadata": {
    "collapsed": false
   },
   "outputs": [
    {
     "data": {
      "text/plain": [
       "array([[ 0,  1,  2,  3,  4],\n",
       "       [ 5,  6,  7,  8,  9],\n",
       "       [10, 11, 12, 13, 14],\n",
       "       [15, 16, 17, 18, 19]])"
      ]
     },
     "execution_count": 59,
     "metadata": {},
     "output_type": "execute_result"
    }
   ],
   "source": [
    "arr.resize((4, 5))\n",
    "arr"
   ]
  },
  {
   "cell_type": "code",
   "execution_count": 60,
   "metadata": {
    "collapsed": false
   },
   "outputs": [
    {
     "data": {
      "text/plain": [
       "array([[ 0.04309163,  0.76862461,  0.31032017,  0.20107117,  0.70728243],\n",
       "       [ 0.9087647 ,  0.49581359,  0.16786435,  0.44422536,  0.95374645]])"
      ]
     },
     "execution_count": 60,
     "metadata": {},
     "output_type": "execute_result"
    }
   ],
   "source": [
    "np.random.random((2, 5))"
   ]
  },
  {
   "cell_type": "code",
   "execution_count": 61,
   "metadata": {
    "collapsed": false
   },
   "outputs": [
    {
     "data": {
      "text/plain": [
       "array([[12, 12, 34, 95, 90],\n",
       "       [21, 24, 34, 41, 79]])"
      ]
     },
     "execution_count": 61,
     "metadata": {},
     "output_type": "execute_result"
    }
   ],
   "source": [
    "np.random.randint(0, 100, (2, 5))"
   ]
  },
  {
   "cell_type": "code",
   "execution_count": 62,
   "metadata": {
    "collapsed": false
   },
   "outputs": [
    {
     "data": {
      "text/plain": [
       "array([[ 0,  2],\n",
       "       [ 4,  6],\n",
       "       [ 8, 10],\n",
       "       [12, 14],\n",
       "       [16, 18],\n",
       "       [20, 22],\n",
       "       [24, 26],\n",
       "       [28, 30],\n",
       "       [32, 34],\n",
       "       [36, 38],\n",
       "       [40, 42],\n",
       "       [44, 46],\n",
       "       [48, 50],\n",
       "       [52, 54],\n",
       "       [56, 58],\n",
       "       [60, 62],\n",
       "       [64, 66],\n",
       "       [68, 70],\n",
       "       [72, 74],\n",
       "       [76, 78],\n",
       "       [80, 82],\n",
       "       [84, 86],\n",
       "       [88, 90],\n",
       "       [92, 94],\n",
       "       [96, 98]])"
      ]
     },
     "execution_count": 62,
     "metadata": {},
     "output_type": "execute_result"
    }
   ],
   "source": [
    "np.arange(0, 100, 2).reshape((25, 2))"
   ]
  },
  {
   "cell_type": "code",
   "execution_count": 63,
   "metadata": {
    "collapsed": false
   },
   "outputs": [
    {
     "name": "stdout",
     "output_type": "stream",
     "text": [
      "[[0 1 2 3 4 5 6 7 8 9]\n",
      " [0 1 2 3 4 5 6 7 8 9]\n",
      " [0 1 2 3 4 5 6 7 8 9]]\n"
     ]
    }
   ],
   "source": [
    "# np.repeat(np.arange(0,100), 3).reshape((3, 100))\n",
    "\n",
    "# repeats each element individually\n",
    "\n",
    "some_nums = np.tile(np.arange(0, 10), 3).reshape((3, 10))\n",
    "\n",
    "# collating\n",
    "print(some_nums)"
   ]
  },
  {
   "cell_type": "code",
   "execution_count": 64,
   "metadata": {
    "collapsed": false
   },
   "outputs": [
    {
     "data": {
      "text/plain": [
       "array([[0, 0, 0],\n",
       "       [1, 1, 1],\n",
       "       [2, 2, 2],\n",
       "       [3, 3, 3],\n",
       "       [4, 4, 4],\n",
       "       [5, 5, 5],\n",
       "       [6, 6, 6],\n",
       "       [7, 7, 7],\n",
       "       [8, 8, 8],\n",
       "       [9, 9, 9]])"
      ]
     },
     "execution_count": 64,
     "metadata": {},
     "output_type": "execute_result"
    }
   ],
   "source": [
    "some_nums.swapaxes(0, 1)"
   ]
  },
  {
   "cell_type": "markdown",
   "metadata": {},
   "source": [
    "## NumPy is _awesome_"
   ]
  },
  {
   "cell_type": "code",
   "execution_count": 65,
   "metadata": {
    "collapsed": false
   },
   "outputs": [
    {
     "data": {
      "text/plain": [
       "array([2, 3, 4])"
      ]
     },
     "execution_count": 65,
     "metadata": {},
     "output_type": "execute_result"
    }
   ],
   "source": [
    "# strings in numpy\n",
    "\n",
    "np.array([1, 2, 3]) + 1"
   ]
  },
  {
   "cell_type": "markdown",
   "metadata": {},
   "source": [
    "# Calculations with NumPy"
   ]
  },
  {
   "cell_type": "code",
   "execution_count": 66,
   "metadata": {
    "collapsed": false
   },
   "outputs": [
    {
     "data": {
      "text/plain": [
       "array([[51, 26, 88, 81, 57],\n",
       "       [49, 39, 34, 69, 71],\n",
       "       [23, 99, 81, 31, 75]])"
      ]
     },
     "execution_count": 66,
     "metadata": {},
     "output_type": "execute_result"
    }
   ],
   "source": [
    "# get a random array of integers\n",
    "nums = np.random.randint(100, size=(3, 5))\n",
    "nums"
   ]
  },
  {
   "cell_type": "markdown",
   "metadata": {},
   "source": [
    "Let's find some stats out about that"
   ]
  },
  {
   "cell_type": "code",
   "execution_count": 67,
   "metadata": {
    "collapsed": false
   },
   "outputs": [
    {
     "name": "stdout",
     "output_type": "stream",
     "text": [
      "99\n",
      "23\n",
      "58.2666666667\n",
      "23.4704542398\n",
      "874\n"
     ]
    }
   ],
   "source": [
    "print(nums.max())\n",
    "print(nums.min())\n",
    "print(nums.mean())\n",
    "print(nums.std())\n",
    "print(nums.sum())"
   ]
  },
  {
   "cell_type": "markdown",
   "metadata": {},
   "source": [
    "We can also calculate it on a per-row or per-col basis"
   ]
  },
  {
   "cell_type": "code",
   "execution_count": 68,
   "metadata": {
    "collapsed": false
   },
   "outputs": [
    {
     "name": "stdout",
     "output_type": "stream",
     "text": [
      "[[51 26 88 81 57]\n",
      " [49 39 34 69 71]\n",
      " [23 99 81 31 75]]\n",
      "[88 71 99]\n",
      "[303 262 309]\n",
      "[ 60.6  52.4  61.8]\n",
      "[ 22.22251111  15.17366139  29.6       ]\n",
      "[303 262 309]\n"
     ]
    }
   ],
   "source": [
    "print(nums)\n",
    "print(nums.max(axis=1))\n",
    "print(nums.sum(axis=1))\n",
    "print(nums.mean(axis=1))\n",
    "print(nums.std(axis=1))\n",
    "print(nums.sum(axis=1))"
   ]
  },
  {
   "cell_type": "markdown",
   "metadata": {},
   "source": [
    "To do columns, just changes axis=0"
   ]
  },
  {
   "cell_type": "code",
   "execution_count": 69,
   "metadata": {
    "collapsed": false
   },
   "outputs": [
    {
     "name": "stdout",
     "output_type": "stream",
     "text": [
      "[[51 26 88 81 57]\n",
      " [49 39 34 69 71]\n",
      " [23 99 81 31 75]]\n",
      "[51 99 88 81 75]\n",
      "[123 164 203 181 203]\n",
      "[ 41.          54.66666667  67.66666667  60.33333333  67.66666667]\n",
      "[ 12.75408431  31.79447891  23.97684068  21.31248982   7.7172246 ]\n",
      "[123 164 203 181 203]\n"
     ]
    }
   ],
   "source": [
    "print(nums)\n",
    "print(nums.max(axis=0))\n",
    "print(nums.sum(axis=0))\n",
    "print(nums.mean(axis=0))\n",
    "print(nums.std(axis=0))\n",
    "print(nums.sum(axis=0))"
   ]
  },
  {
   "cell_type": "markdown",
   "metadata": {},
   "source": [
    "Axis 0 is what we think of as a column, axis 1 is the row. This confuses me."
   ]
  },
  {
   "cell_type": "code",
   "execution_count": 70,
   "metadata": {
    "collapsed": false
   },
   "outputs": [
    {
     "name": "stdout",
     "output_type": "stream",
     "text": [
      "[[51 26 88 81 57]\n",
      " [49 39 34 69 71]\n",
      " [23 99 81 31 75]]\n",
      "[[ 51  26  88  81  57]\n",
      " [100  65 122 150 128]\n",
      " [123 164 203 181 203]]\n"
     ]
    }
   ],
   "source": [
    "# cumulative sums\n",
    "print(nums)\n",
    "print(nums.cumsum(axis=0))"
   ]
  },
  {
   "cell_type": "code",
   "execution_count": 71,
   "metadata": {
    "collapsed": false
   },
   "outputs": [
    {
     "data": {
      "text/plain": [
       "array([[ 0.42175754,  0.4317833 ,  0.77706009,  0.26756847,  0.55582475],\n",
       "       [ 1.04684289,  1.3932853 ,  0.95293743,  0.48643315,  1.54948398],\n",
       "       [ 1.40631071,  2.22064251,  1.14174037,  0.83288388,  2.37759522],\n",
       "       [ 1.4370602 ,  2.28858999,  1.92756055,  1.65462285,  2.63743486],\n",
       "       [ 1.74533566,  2.73580029,  2.54212406,  1.65929865,  3.06975762],\n",
       "       [ 2.50604557,  3.49633793,  3.16169563,  2.01673703,  3.57774116],\n",
       "       [ 2.55632853,  4.45362543,  3.83422285,  2.32799936,  3.76903938],\n",
       "       [ 3.49531392,  4.51404669,  4.80624998,  3.11057523,  4.3517201 ],\n",
       "       [ 3.64964312,  5.01340588,  5.43390705,  3.9567239 ,  4.89235203],\n",
       "       [ 4.36678014,  5.96994774,  5.60950996,  4.78573702,  5.24511659]])"
      ]
     },
     "execution_count": 71,
     "metadata": {},
     "output_type": "execute_result"
    }
   ],
   "source": [
    "np.random.uniform(0, 1, (10, 5)).cumsum(axis=0)"
   ]
  },
  {
   "cell_type": "markdown",
   "metadata": {},
   "source": [
    "## Changing NumPy arrays\n",
    "\n",
    "NumPy arrays are *not* immutable. All values can be modified in a NumPy array.\n",
    "\n",
    "We index into them similar to how we work with lists"
   ]
  },
  {
   "cell_type": "code",
   "execution_count": 72,
   "metadata": {
    "collapsed": false
   },
   "outputs": [
    {
     "data": {
      "text/plain": [
       "array([[51, 26, 88, 81, 57],\n",
       "       [49, 39, 34, 69, 71],\n",
       "       [23, 99, 81, 31, 75]])"
      ]
     },
     "execution_count": 72,
     "metadata": {},
     "output_type": "execute_result"
    }
   ],
   "source": [
    "nums"
   ]
  },
  {
   "cell_type": "code",
   "execution_count": 73,
   "metadata": {
    "collapsed": false
   },
   "outputs": [
    {
     "data": {
      "text/plain": [
       "26"
      ]
     },
     "execution_count": 73,
     "metadata": {},
     "output_type": "execute_result"
    }
   ],
   "source": [
    "nums[0, 1]"
   ]
  },
  {
   "cell_type": "code",
   "execution_count": 74,
   "metadata": {
    "collapsed": false
   },
   "outputs": [
    {
     "data": {
      "text/plain": [
       "75"
      ]
     },
     "execution_count": 74,
     "metadata": {},
     "output_type": "execute_result"
    }
   ],
   "source": [
    "nums[2,4]"
   ]
  },
  {
   "cell_type": "code",
   "execution_count": 75,
   "metadata": {
    "collapsed": false
   },
   "outputs": [
    {
     "ename": "IndexError",
     "evalue": "index 3 is out of bounds for axis 0 with size 3",
     "output_type": "error",
     "traceback": [
      "\u001b[0;31m---------------------------------------------------------------------------\u001b[0m",
      "\u001b[0;31mIndexError\u001b[0m                                Traceback (most recent call last)",
      "\u001b[0;32m<ipython-input-75-bfc6e186e880>\u001b[0m in \u001b[0;36m<module>\u001b[0;34m()\u001b[0m\n\u001b[0;32m----> 1\u001b[0;31m \u001b[0mnums\u001b[0m\u001b[0;34m[\u001b[0m\u001b[0;36m3\u001b[0m\u001b[0;34m,\u001b[0m\u001b[0;36m0\u001b[0m\u001b[0;34m]\u001b[0m\u001b[0;34m\u001b[0m\u001b[0m\n\u001b[0m",
      "\u001b[0;31mIndexError\u001b[0m: index 3 is out of bounds for axis 0 with size 3"
     ]
    }
   ],
   "source": [
    "nums[3,0]"
   ]
  },
  {
   "cell_type": "code",
   "execution_count": 76,
   "metadata": {
    "collapsed": false
   },
   "outputs": [
    {
     "name": "stdout",
     "output_type": "stream",
     "text": [
      "[[51 26 88 81 57]\n",
      " [49 39 34 69 71]\n",
      " [23 99 81 31 75]]\n"
     ]
    },
    {
     "data": {
      "text/plain": [
       "array([[26, 88, 81],\n",
       "       [39, 34, 69]])"
      ]
     },
     "execution_count": 76,
     "metadata": {},
     "output_type": "execute_result"
    }
   ],
   "source": [
    "print(nums)\n",
    "nums[0:2, 1:4] # slicing!!!! takes a range of rows, and a range of cols"
   ]
  },
  {
   "cell_type": "markdown",
   "metadata": {},
   "source": [
    "Slicing a numpy array actually returns a **view** of the original array, **NOT** a copy.\n",
    "\n",
    "When we slice a list in Python, we actually get a copy - here we get something that looks at the original array"
   ]
  },
  {
   "cell_type": "code",
   "execution_count": 77,
   "metadata": {
    "collapsed": false
   },
   "outputs": [
    {
     "data": {
      "text/plain": [
       "array([[51, 26, 88, 81, 57],\n",
       "       [49, 39, 34, 69, 71],\n",
       "       [23, 99, 81, 31, 75]])"
      ]
     },
     "execution_count": 77,
     "metadata": {},
     "output_type": "execute_result"
    }
   ],
   "source": [
    "nums"
   ]
  },
  {
   "cell_type": "code",
   "execution_count": 78,
   "metadata": {
    "collapsed": false
   },
   "outputs": [
    {
     "data": {
      "text/plain": [
       "array([[26, 88],\n",
       "       [39, 34]])"
      ]
     },
     "execution_count": 78,
     "metadata": {},
     "output_type": "execute_result"
    }
   ],
   "source": [
    "nums_slice = nums[0:2, 1:3]\n",
    "nums_slice"
   ]
  },
  {
   "cell_type": "code",
   "execution_count": 79,
   "metadata": {
    "collapsed": false
   },
   "outputs": [
    {
     "data": {
      "text/plain": [
       "array([[40, 88],\n",
       "       [39, 34]])"
      ]
     },
     "execution_count": 79,
     "metadata": {},
     "output_type": "execute_result"
    }
   ],
   "source": [
    "nums_slice[0, 0] = 40\n",
    "nums_slice"
   ]
  },
  {
   "cell_type": "code",
   "execution_count": 80,
   "metadata": {
    "collapsed": false
   },
   "outputs": [
    {
     "data": {
      "text/plain": [
       "array([[51, 40, 88, 81, 57],\n",
       "       [49, 39, 34, 69, 71],\n",
       "       [23, 99, 81, 31, 75]])"
      ]
     },
     "execution_count": 80,
     "metadata": {},
     "output_type": "execute_result"
    }
   ],
   "source": [
    "nums"
   ]
  },
  {
   "cell_type": "code",
   "execution_count": 81,
   "metadata": {
    "collapsed": false
   },
   "outputs": [
    {
     "data": {
      "text/plain": [
       "array([[ 51, 120, 264,  81,  57],\n",
       "       [ 49, 117, 102,  69,  71],\n",
       "       [ 23,  99,  81,  31,  75]])"
      ]
     },
     "execution_count": 81,
     "metadata": {},
     "output_type": "execute_result"
    }
   ],
   "source": [
    "nums_slice *= 3\n",
    "nums"
   ]
  },
  {
   "cell_type": "code",
   "execution_count": 82,
   "metadata": {
    "collapsed": false
   },
   "outputs": [
    {
     "data": {
      "text/plain": [
       "23"
      ]
     },
     "execution_count": 82,
     "metadata": {},
     "output_type": "execute_result"
    }
   ],
   "source": [
    "nums[2, 0]\n"
   ]
  },
  {
   "cell_type": "code",
   "execution_count": 83,
   "metadata": {
    "collapsed": false
   },
   "outputs": [
    {
     "name": "stdout",
     "output_type": "stream",
     "text": [
      "[[ 51 120 264  81  57]\n",
      " [ 49 117 102  69  71]\n",
      " [ 23  99  81  31  75]]\n"
     ]
    },
    {
     "data": {
      "text/plain": [
       "array([[ 75,  31,  81,  99,  23],\n",
       "       [ 71,  69, 102, 117,  49],\n",
       "       [ 57,  81, 264, 120,  51]])"
      ]
     },
     "execution_count": 83,
     "metadata": {},
     "output_type": "execute_result"
    }
   ],
   "source": [
    "print(nums)\n",
    "nums[::-1, ::-1]\n"
   ]
  },
  {
   "cell_type": "code",
   "execution_count": 84,
   "metadata": {
    "collapsed": false
   },
   "outputs": [
    {
     "data": {
      "text/plain": [
       "array([[ 23,  99,  81,  31,  75],\n",
       "       [ 49, 117, 102,  69,  71],\n",
       "       [ 51, 120, 264,  81,  57]])"
      ]
     },
     "execution_count": 84,
     "metadata": {},
     "output_type": "execute_result"
    }
   ],
   "source": [
    "nums[::-1]"
   ]
  },
  {
   "cell_type": "code",
   "execution_count": 85,
   "metadata": {
    "collapsed": false
   },
   "outputs": [
    {
     "data": {
      "text/plain": [
       "array([[ 57,  81, 264, 120,  51],\n",
       "       [ 71,  69, 102, 117,  49],\n",
       "       [ 75,  31,  81,  99,  23]])"
      ]
     },
     "execution_count": 85,
     "metadata": {},
     "output_type": "execute_result"
    }
   ],
   "source": [
    "nums[:, ::-1]"
   ]
  },
  {
   "cell_type": "code",
   "execution_count": 86,
   "metadata": {
    "collapsed": false
   },
   "outputs": [],
   "source": [
    "nums[0::2, 0::2] *= 2"
   ]
  },
  {
   "cell_type": "code",
   "execution_count": 87,
   "metadata": {
    "collapsed": false
   },
   "outputs": [
    {
     "data": {
      "text/plain": [
       "array([[102, 120, 528,  81, 114],\n",
       "       [ 49, 117, 102,  69,  71],\n",
       "       [ 46,  99, 162,  31, 150]])"
      ]
     },
     "execution_count": 87,
     "metadata": {},
     "output_type": "execute_result"
    }
   ],
   "source": [
    "nums"
   ]
  },
  {
   "cell_type": "code",
   "execution_count": 88,
   "metadata": {
    "collapsed": false
   },
   "outputs": [
    {
     "data": {
      "text/plain": [
       "array([[102, 120, 528,  81, 114],\n",
       "       [ 49, 117, 102,  69,  71],\n",
       "       [ 46,  99, 162,  31, 150]])"
      ]
     },
     "execution_count": 88,
     "metadata": {},
     "output_type": "execute_result"
    }
   ],
   "source": [
    "nums"
   ]
  },
  {
   "cell_type": "code",
   "execution_count": 89,
   "metadata": {
    "collapsed": false
   },
   "outputs": [
    {
     "data": {
      "text/plain": [
       "array([[102, 528, 114],\n",
       "       [ 46, 162, 150]])"
      ]
     },
     "execution_count": 89,
     "metadata": {},
     "output_type": "execute_result"
    }
   ],
   "source": [
    "nums_slice = nums[0::2, 0::2]\n",
    "nums_slice"
   ]
  },
  {
   "cell_type": "code",
   "execution_count": 90,
   "metadata": {
    "collapsed": false
   },
   "outputs": [
    {
     "name": "stderr",
     "output_type": "stream",
     "text": [
      "/Users/james/src/github.com/tiyd-python-2015-08/course-resources/.direnv/python-3.4.3/lib/python3.4/site-packages/ipykernel/__main__.py:1: DeprecationWarning: Implicitly casting between incompatible kinds. In a future numpy release, this will raise an error. Use casting=\"unsafe\" if this is intentional.\n",
      "  if __name__ == '__main__':\n"
     ]
    }
   ],
   "source": [
    "nums *= 0.5"
   ]
  },
  {
   "cell_type": "code",
   "execution_count": 91,
   "metadata": {
    "collapsed": false
   },
   "outputs": [
    {
     "data": {
      "text/plain": [
       "array([[ 51,  60, 264,  40,  57],\n",
       "       [ 24,  58,  51,  34,  35],\n",
       "       [ 23,  49,  81,  15,  75]])"
      ]
     },
     "execution_count": 91,
     "metadata": {},
     "output_type": "execute_result"
    }
   ],
   "source": [
    "nums"
   ]
  },
  {
   "cell_type": "code",
   "execution_count": 92,
   "metadata": {
    "collapsed": false
   },
   "outputs": [
    {
     "data": {
      "text/plain": [
       "array([[ 51, 264,  57],\n",
       "       [ 23,  81,  75]])"
      ]
     },
     "execution_count": 92,
     "metadata": {},
     "output_type": "execute_result"
    }
   ],
   "source": [
    "nums_slice"
   ]
  },
  {
   "cell_type": "code",
   "execution_count": 93,
   "metadata": {
    "collapsed": false
   },
   "outputs": [
    {
     "name": "stdout",
     "output_type": "stream",
     "text": [
      "[[ 51  60 264  40  57]\n",
      " [ 24  58  51  34  35]\n",
      " [ 23  49  81  15  75]]\n",
      "[[ 75  15  81  49  23]\n",
      " [ 35  34  51  58  24]\n",
      " [ 57  40 264  60  51]]\n"
     ]
    }
   ],
   "source": [
    "mirror = nums[::-1, ::-1].copy()\n",
    "print(nums)\n",
    "print(mirror)"
   ]
  },
  {
   "cell_type": "code",
   "execution_count": 94,
   "metadata": {
    "collapsed": true
   },
   "outputs": [],
   "source": [
    "mirror *= 3"
   ]
  },
  {
   "cell_type": "code",
   "execution_count": 95,
   "metadata": {
    "collapsed": false
   },
   "outputs": [
    {
     "name": "stdout",
     "output_type": "stream",
     "text": [
      "[[ 51  60 264  40  57]\n",
      " [ 24  58  51  34  35]\n",
      " [ 23  49  81  15  75]]\n",
      "[[225  45 243 147  69]\n",
      " [105 102 153 174  72]\n",
      " [171 120 792 180 153]]\n"
     ]
    }
   ],
   "source": [
    "print(nums)\n",
    "print(mirror)"
   ]
  },
  {
   "cell_type": "markdown",
   "metadata": {},
   "source": [
    "# Histograms\n",
    "\n",
    "NumPy does offer some nice ways of summarizing data"
   ]
  },
  {
   "cell_type": "code",
   "execution_count": 96,
   "metadata": {
    "collapsed": true
   },
   "outputs": [],
   "source": [
    "import numpy as np\n",
    "\n",
    "big_data = np.random.randint(1, 1000, (1000, 100))"
   ]
  },
  {
   "cell_type": "code",
   "execution_count": 97,
   "metadata": {
    "collapsed": false
   },
   "outputs": [
    {
     "data": {
      "text/plain": [
       "array([[641, 414, 669, ..., 997, 403,  10],\n",
       "       [467,  63, 415, ..., 936, 589, 997],\n",
       "       [611, 329, 876, ..., 608, 300, 601],\n",
       "       ..., \n",
       "       [325, 533, 167, ..., 668, 268, 769],\n",
       "       [228, 232, 250, ..., 447, 317, 784],\n",
       "       [787,  88, 624, ..., 468, 622, 986]])"
      ]
     },
     "execution_count": 97,
     "metadata": {},
     "output_type": "execute_result"
    }
   ],
   "source": [
    "big_data"
   ]
  },
  {
   "cell_type": "code",
   "execution_count": 98,
   "metadata": {
    "collapsed": false
   },
   "outputs": [
    {
     "name": "stdout",
     "output_type": "stream",
     "text": [
      "(1000, 100)\n"
     ]
    }
   ],
   "source": [
    "print(big_data.shape)"
   ]
  },
  {
   "cell_type": "code",
   "execution_count": 99,
   "metadata": {
    "collapsed": false
   },
   "outputs": [
    {
     "data": {
      "text/plain": [
       "(array([19950, 20218, 19870, 19906, 20056]),\n",
       " array([   1. ,  200.6,  400.2,  599.8,  799.4,  999. ]))"
      ]
     },
     "execution_count": 99,
     "metadata": {},
     "output_type": "execute_result"
    }
   ],
   "source": [
    "np.histogram(big_data, bins=5)"
   ]
  },
  {
   "cell_type": "code",
   "execution_count": 100,
   "metadata": {
    "collapsed": false
   },
   "outputs": [
    {
     "data": {
      "text/plain": [
       "[491.286,\n",
       " 511.82499999999999,\n",
       " 504.86799999999999,\n",
       " 502.637,\n",
       " 511.23000000000002,\n",
       " 491.90600000000001,\n",
       " 497.77300000000002,\n",
       " 504.73599999999999,\n",
       " 498.59699999999998,\n",
       " 482.46699999999998,\n",
       " 495.94099999999997,\n",
       " 498.459,\n",
       " 497.56099999999998,\n",
       " 503.89800000000002,\n",
       " 488.92000000000002,\n",
       " 502.512,\n",
       " 503.80900000000003,\n",
       " 523.45000000000005,\n",
       " 478.16699999999997,\n",
       " 494.18099999999998,\n",
       " 515.54999999999995,\n",
       " 497.65800000000002,\n",
       " 496.137,\n",
       " 496.94900000000001,\n",
       " 498.65300000000002,\n",
       " 487.73899999999998,\n",
       " 495.54000000000002,\n",
       " 487.18900000000002,\n",
       " 512.05600000000004,\n",
       " 493.464,\n",
       " 503.14699999999999,\n",
       " 496.226,\n",
       " 511.66699999999997,\n",
       " 510.91500000000002,\n",
       " 505.93200000000002,\n",
       " 500.96699999999998,\n",
       " 509.70499999999998,\n",
       " 499.97899999999998,\n",
       " 501.62599999999998,\n",
       " 495.56299999999999,\n",
       " 484.06599999999997,\n",
       " 514.51400000000001,\n",
       " 502.48700000000002,\n",
       " 511.79700000000003,\n",
       " 504.19499999999999,\n",
       " 505.935,\n",
       " 501.08699999999999,\n",
       " 497.57799999999997,\n",
       " 503.05500000000001,\n",
       " 481.28899999999999,\n",
       " 490.23200000000003,\n",
       " 500.12099999999998,\n",
       " 501.601,\n",
       " 496.08100000000002,\n",
       " 510.80399999999997,\n",
       " 484.935,\n",
       " 496.75200000000001,\n",
       " 480.00700000000001,\n",
       " 508.19,\n",
       " 503.66899999999998,\n",
       " 500.05399999999997,\n",
       " 509.29899999999998,\n",
       " 505.065,\n",
       " 497.435,\n",
       " 501.12599999999998,\n",
       " 506.65800000000002,\n",
       " 514.35400000000004,\n",
       " 488.78899999999999,\n",
       " 479.911,\n",
       " 510.923,\n",
       " 495.58600000000001,\n",
       " 496.99599999999998,\n",
       " 513.51300000000003,\n",
       " 504.565,\n",
       " 502.45600000000002,\n",
       " 496.35500000000002,\n",
       " 503.209,\n",
       " 498.774,\n",
       " 494.13999999999999,\n",
       " 508.71300000000002,\n",
       " 485.23099999999999,\n",
       " 490.55799999999999,\n",
       " 495.96100000000001,\n",
       " 484.93000000000001,\n",
       " 494.85899999999998,\n",
       " 508.39600000000002,\n",
       " 485.48500000000001,\n",
       " 516.65499999999997,\n",
       " 498.84399999999999,\n",
       " 514.38199999999995,\n",
       " 494.42500000000001,\n",
       " 521.40599999999995,\n",
       " 515.02499999999998,\n",
       " 490.03899999999999,\n",
       " 501.82499999999999,\n",
       " 503.52199999999999,\n",
       " 504.459,\n",
       " 474.964,\n",
       " 495.35899999999998,\n",
       " 508.64800000000002]"
      ]
     },
     "execution_count": 100,
     "metadata": {},
     "output_type": "execute_result"
    }
   ],
   "source": [
    "[x for x in big_data.mean(axis=0)]"
   ]
  },
  {
   "cell_type": "markdown",
   "metadata": {},
   "source": [
    "## List Comprehensions (and everything else Python) + NumPy = <3"
   ]
  },
  {
   "cell_type": "code",
   "execution_count": 101,
   "metadata": {
    "collapsed": false
   },
   "outputs": [
    {
     "data": {
      "text/plain": [
       "[9, 5, 3, 9, 4, 4, 7, 5, 5, 3]"
      ]
     },
     "execution_count": 101,
     "metadata": {},
     "output_type": "execute_result"
    }
   ],
   "source": [
    "[x for x in np.random.randint(0, 10, (10,))]"
   ]
  },
  {
   "cell_type": "code",
   "execution_count": 102,
   "metadata": {
    "collapsed": false
   },
   "outputs": [
    {
     "data": {
      "text/plain": [
       "50"
      ]
     },
     "execution_count": 102,
     "metadata": {},
     "output_type": "execute_result"
    }
   ],
   "source": [
    "sum(np.random.randint(0, 10, (10,))) # Python sum function"
   ]
  },
  {
   "cell_type": "code",
   "execution_count": 103,
   "metadata": {
    "collapsed": false
   },
   "outputs": [
    {
     "data": {
      "text/plain": [
       "44"
      ]
     },
     "execution_count": 103,
     "metadata": {},
     "output_type": "execute_result"
    }
   ],
   "source": [
    "np.random.randint(0, 10, (10,)).sum() # NumPy sum method"
   ]
  },
  {
   "cell_type": "code",
   "execution_count": 104,
   "metadata": {
    "collapsed": true
   },
   "outputs": [],
   "source": [
    "import statistics as st"
   ]
  },
  {
   "cell_type": "code",
   "execution_count": 105,
   "metadata": {
    "collapsed": false
   },
   "outputs": [
    {
     "data": {
      "text/plain": [
       "2.118962010041709"
      ]
     },
     "execution_count": 105,
     "metadata": {},
     "output_type": "execute_result"
    }
   ],
   "source": [
    "st.pstdev(np.random.randint(0, 10, (10, )))"
   ]
  },
  {
   "cell_type": "code",
   "execution_count": 106,
   "metadata": {
    "collapsed": false
   },
   "outputs": [
    {
     "data": {
      "text/plain": [
       "[0,\n",
       " 0,\n",
       " 0,\n",
       " 0,\n",
       " 0,\n",
       " 0,\n",
       " 0,\n",
       " 1,\n",
       " 1,\n",
       " 1,\n",
       " 1,\n",
       " 1,\n",
       " 1,\n",
       " 1,\n",
       " 1,\n",
       " 2,\n",
       " 2,\n",
       " 2,\n",
       " 2,\n",
       " 2,\n",
       " 2,\n",
       " 2,\n",
       " 2,\n",
       " 2,\n",
       " 2,\n",
       " 2,\n",
       " 2,\n",
       " 2,\n",
       " 2,\n",
       " 2,\n",
       " 2,\n",
       " 2,\n",
       " 2,\n",
       " 3,\n",
       " 3,\n",
       " 3,\n",
       " 3,\n",
       " 3,\n",
       " 3,\n",
       " 3,\n",
       " 3,\n",
       " 3,\n",
       " 4,\n",
       " 4,\n",
       " 4,\n",
       " 4,\n",
       " 4,\n",
       " 4,\n",
       " 4,\n",
       " 4,\n",
       " 4,\n",
       " 4,\n",
       " 4,\n",
       " 4,\n",
       " 5,\n",
       " 5,\n",
       " 5,\n",
       " 5,\n",
       " 5,\n",
       " 5,\n",
       " 5,\n",
       " 5,\n",
       " 5,\n",
       " 5,\n",
       " 5,\n",
       " 6,\n",
       " 6,\n",
       " 6,\n",
       " 6,\n",
       " 6,\n",
       " 6,\n",
       " 6,\n",
       " 6,\n",
       " 7,\n",
       " 7,\n",
       " 7,\n",
       " 7,\n",
       " 7,\n",
       " 7,\n",
       " 7,\n",
       " 7,\n",
       " 8,\n",
       " 8,\n",
       " 8,\n",
       " 8,\n",
       " 8,\n",
       " 8,\n",
       " 8,\n",
       " 9,\n",
       " 9,\n",
       " 9,\n",
       " 9,\n",
       " 9,\n",
       " 9,\n",
       " 9,\n",
       " 9,\n",
       " 9,\n",
       " 9,\n",
       " 9,\n",
       " 9]"
      ]
     },
     "execution_count": 106,
     "metadata": {},
     "output_type": "execute_result"
    }
   ],
   "source": [
    "sorted(np.random.randint(0, 10, (100, )))"
   ]
  },
  {
   "cell_type": "markdown",
   "metadata": {},
   "source": [
    "# References\n",
    "\n",
    "* [NumPy](http://www.numpy.org/)\n",
    "* [Official NumPy tutorial](http://www.scipy.org/Tentative_NumPy_Tutorial)\n",
    "* [NumPy Example List](http://wiki.scipy.org/Numpy_Example_List)\n",
    "* [NumPy MedKit slides](http://mentat.za.net/numpy/numpy_advanced_slides/)"
   ]
  },
  {
   "cell_type": "markdown",
   "metadata": {},
   "source": [
    "# Planning store shifts\n",
    "\n",
    "You run a department store. During lunch hours 11-2, you get your biggest volume of\n",
    "customers, with an average of 100 per hour.\n",
    "\n",
    "Most customers take 2 to 3 minutes (70% of customers), but 30% of customers\n",
    "are high-maintenance and take 7-10 minutes.\n",
    "\n",
    "If you want to make sure you can handle the average workload, how many cashiers\n",
    "do you need? If you want to be able to handle 1 standard deviation above the\n",
    "average work load, how many then?\n"
   ]
  },
  {
   "cell_type": "code",
   "execution_count": 107,
   "metadata": {
    "collapsed": false
   },
   "outputs": [],
   "source": [
    "import random\n",
    "\n",
    "class Customer:\n",
    "    \"\"\"\n",
    "    Responsibilities:\n",
    "    Know how long it has left\n",
    "    \n",
    "    \"\"\"\n",
    "    def __init__(self):\n",
    "        if random.random() < 0.70:\n",
    "            # regular customer\n",
    "            self.minutes_left = random.randint(2, 3)\n",
    "        else:\n",
    "            # high-maintenance customer\n",
    "            self.minutes_left = random.randint(7, 10)\n",
    "    \n",
    "    def is_done(self):\n",
    "        if self.minutes_left <= 0:\n",
    "            return True\n",
    "        else:\n",
    "            return False\n",
    "\n",
    "class Cashier:\n",
    "    \"\"\"\n",
    "    Responsibilities:\n",
    "    - help a customer\n",
    "    \n",
    "    Collaborators:\n",
    "    - Customer\n",
    "    \"\"\"\n",
    "    def __init__(self):\n",
    "        self.customer_being_helped = None\n",
    "        \n",
    "    def help_customer(self, customer):\n",
    "        self.customer_being_helped = customer\n",
    "#         print(\"{} is helping {}\".format(self, customer))\n",
    "    \n",
    "    def tick(self):\n",
    "        if self.customer_being_helped is not None:\n",
    "            self.customer_being_helped.minutes_left -= 1\n",
    "            \n",
    "            if self.customer_being_helped.is_done():\n",
    "                self.customer_being_helped = None\n",
    "        \n",
    "    def is_free(self):\n",
    "        if self.customer_being_helped is None:\n",
    "            return True\n",
    "        else:\n",
    "            return False\n",
    "    \n",
    "    def time_left(self):\n",
    "        if self.customer_being_helped is None:\n",
    "            return 0\n",
    "        else:\n",
    "            return self.customer_being_helped.minutes_left\n"
   ]
  },
  {
   "cell_type": "code",
   "execution_count": 108,
   "metadata": {
    "collapsed": true
   },
   "outputs": [],
   "source": [
    "class Simulation:\n",
    "    \"\"\"\n",
    "    Responsibilities:\n",
    "    - set up cashiers\n",
    "    - set up queue\n",
    "    - create Customer objects and put them in the queue\n",
    "    - assign customers to a cashier\n",
    "    - report on some stats\n",
    "    - increment time\n",
    "    \n",
    "    Collaborators:\n",
    "    - Customer\n",
    "    - Cashier\n",
    "    \"\"\"\n",
    "    def __init__(self, num_of_cashiers):\n",
    "        self.cashiers = [Cashier() for _ in range(num_of_cashiers)]\n",
    "        self.queue = []\n",
    "        self.ticks = 0\n",
    "    \n",
    "    def tick(self):\n",
    "        for _ in range(np.random.poisson(100/60, (1,))[0]):\n",
    "            self.queue.append(Customer())\n",
    "            \n",
    "        for cashier in self.cashiers:\n",
    "            if cashier.is_free() and len(self.queue) > 0:\n",
    "                cashier.help_customer(self.queue.pop(0))\n",
    "            cashier.tick()\n",
    "        \n",
    "        self.ticks += 1\n",
    "        \n",
    "    def get_stats(self):\n",
    "        return {\n",
    "            'ticks': self.ticks,\n",
    "            'customers_in_queue': len(self.queue),\n",
    "            'cashiers': [c.time_left() for c in self.cashiers]\n",
    "        }\n",
    "    \n",
    "    def run(self, total_ticks=180):\n",
    "#         stats = []\n",
    "        for _ in range(total_ticks):\n",
    "            self.tick()\n",
    "#             stats.append(self.get_stats())\n",
    "#             print(self.get_stats())\n",
    "        \n",
    "        return len(self.queue)\n",
    "        \n",
    "        "
   ]
  },
  {
   "cell_type": "code",
   "execution_count": 109,
   "metadata": {
    "collapsed": false
   },
   "outputs": [],
   "source": [
    "\n",
    "import matplotlib.pyplot as plt\n",
    "%matplotlib inline\n",
    "\n",
    "results = {}\n",
    "\n",
    "for num_cashiers in range(3, 11):\n",
    "    results[num_cashiers] = []\n",
    "    for _ in range(1000):\n",
    "        sim = Simulation(num_cashiers)\n",
    "        results[num_cashiers].append(sim.run())\n",
    "    \n",
    "    results[num_cashiers] = sum(results[num_cashiers]) / len(results[num_cashiers])\n"
   ]
  },
  {
   "cell_type": "code",
   "execution_count": 110,
   "metadata": {
    "collapsed": false
   },
   "outputs": [
    {
     "name": "stdout",
     "output_type": "stream",
     "text": [
      "{3: 171.801, 4: 131.238, 5: 90.528, 6: 51.244, 7: 17.582, 8: 3.85, 9: 1.252, 10: 0.575}\n"
     ]
    },
    {
     "data": {
      "image/png": "[encoded data removed]",
      "text/plain": [
       "<matplotlib.figure.Figure at 0x10f4b0358>"
      ]
     },
     "metadata": {},
     "output_type": "display_data"
    }
   ],
   "source": [
    "print(results)\n",
    "\n",
    "x_values = range(3, 11)\n",
    "y_values = [results[x] for x in range(3, 11)]\n",
    "plt.scatter(x_values, y_values)\n",
    "plt.show()"
   ]
  },
  {
   "cell_type": "code",
   "execution_count": null,
   "metadata": {
    "collapsed": true
   },
   "outputs": [],
   "source": []
  },
  {
   "cell_type": "code",
   "execution_count": 111,
   "metadata": {
    "collapsed": false
   },
   "outputs": [
    {
     "ename": "ImportError",
     "evalue": "No module named 'traffic_lib'",
     "output_type": "error",
     "traceback": [
      "\u001b[0;31m---------------------------------------------------------------------------\u001b[0m",
      "\u001b[0;31mImportError\u001b[0m                               Traceback (most recent call last)",
      "\u001b[0;32m<ipython-input-111-c4f260e777f0>\u001b[0m in \u001b[0;36m<module>\u001b[0;34m()\u001b[0m\n\u001b[0;32m----> 1\u001b[0;31m \u001b[0;32mfrom\u001b[0m \u001b[0mtraffic_lib\u001b[0m \u001b[0;32mimport\u001b[0m \u001b[0;34m*\u001b[0m\u001b[0;34m\u001b[0m\u001b[0m\n\u001b[0m\u001b[1;32m      2\u001b[0m \u001b[0;31m# pulls things from traffic_lib.py\u001b[0m\u001b[0;34m\u001b[0m\u001b[0;34m\u001b[0m\u001b[0m\n\u001b[1;32m      3\u001b[0m \u001b[0;34m\u001b[0m\u001b[0m\n",
      "\u001b[0;31mImportError\u001b[0m: No module named 'traffic_lib'"
     ]
    }
   ],
   "source": [
    "from traffic_lib import *\n",
    "# pulls things from traffic_lib.py\n",
    "\n"
   ]
  }
 ],
 "metadata": {
  "kernelspec": {
   "display_name": "Python 3",
   "language": "python",
   "name": "python3"
  },
  "language_info": {
   "codemirror_mode": {
    "name": "ipython",
    "version": 3
   },
   "file_extension": ".py",
   "mimetype": "text/x-python",
   "name": "python",
   "nbconvert_exporter": "python",
   "pygments_lexer": "ipython3",
   "version": "3.4.3"
  }
 },
 "nbformat": 4,
 "nbformat_minor": 0
}
