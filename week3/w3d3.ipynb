{
 "cells": [
  {
   "cell_type": "markdown",
   "metadata": {},
   "source": [
    "# Plotting a histogram\n",
    "\n",
    "Take these weights of domestic house cats:\n",
    "\n",
    "```py\n",
    "weights = [11.3, 8.06, 9.96, 9.76, 10.09, 9.93, 9.76, 11.47, 8.09, 11.38, 8.47,\n",
    "9.44, 10.52, 8.02, 9.46, 8.44, 8.95, 9.26, 10.62, 8.76]\n",
    "```\n",
    "\n",
    "Plot a histogram of these weights. Find the mean and standard deviation of this sample of cat weights.\n"
   ]
  },
  {
   "cell_type": "code",
   "execution_count": 1,
   "metadata": {
    "collapsed": true
   },
   "outputs": [],
   "source": [
    "import statistics\n",
    "import matplotlib.pyplot as plt\n",
    "import random\n",
    "import math"
   ]
  },
  {
   "cell_type": "code",
   "execution_count": 2,
   "metadata": {
    "collapsed": true
   },
   "outputs": [],
   "source": [
    "%matplotlib inline"
   ]
  },
  {
   "cell_type": "markdown",
   "metadata": {},
   "source": [
    "# Simulations\n",
    "\n",
    "Let's simulate some dice rolls. We're going to simulate the odds of rolling 12 or higher on _n_ dice\n",
    "\n",
    "NOTE: almost anything that we simulate using random numbers could be calculated using probability calculations. Simulation lets us see some complex odds without necessarily having to do the lengthy and involved probability calculations.\n"
   ]
  },
  {
   "cell_type": "code",
   "execution_count": 3,
   "metadata": {
    "collapsed": true
   },
   "outputs": [],
   "source": [
    "def roll_die():\n",
    "    return random.randint(1, 6)\n",
    "\n",
    "def roll_n_dice(n):\n",
    "    return sum(roll_die() for _ in range(n))"
   ]
  },
  {
   "cell_type": "code",
   "execution_count": 4,
   "metadata": {
    "collapsed": false
   },
   "outputs": [
    {
     "data": {
      "text/plain": [
       "5"
      ]
     },
     "execution_count": 4,
     "metadata": {},
     "output_type": "execute_result"
    }
   ],
   "source": [
    "roll_die()"
   ]
  },
  {
   "cell_type": "code",
   "execution_count": 5,
   "metadata": {
    "collapsed": false
   },
   "outputs": [
    {
     "data": {
      "text/plain": [
       "13"
      ]
     },
     "execution_count": 5,
     "metadata": {},
     "output_type": "execute_result"
    }
   ],
   "source": [
    "roll_n_dice(3)"
   ]
  },
  {
   "cell_type": "code",
   "execution_count": 38,
   "metadata": {
    "collapsed": false
   },
   "outputs": [],
   "source": [
    "n = 20\n",
    "data = []\n",
    "\n",
    "for _ in range(10000):\n",
    "    data.append(roll_n_dice(n))\n",
    "\n"
   ]
  },
  {
   "cell_type": "code",
   "execution_count": 39,
   "metadata": {
    "collapsed": false
   },
   "outputs": [
    {
     "data": {
      "image/png": "[encoded data removed]",
      "text/plain": [
       "<matplotlib.figure.Figure at 0x1127f8cc0>"
      ]
     },
     "metadata": {},
     "output_type": "display_data"
    },
    {
     "name": "stdout",
     "output_type": "stream",
     "text": [
      "70.0382\n",
      "7.744658722879491\n"
     ]
    }
   ],
   "source": [
    "\n",
    "plt.hist(data, bins=range(n, 6*n+2))\n",
    "plt.xlim(n, 6*n+1)\n",
    "plt.show()\n",
    "\n",
    "print(statistics.mean(data))\n",
    "print(statistics.stdev(data))\n"
   ]
  },
  {
   "cell_type": "code",
   "execution_count": 46,
   "metadata": {
    "collapsed": false
   },
   "outputs": [],
   "source": [
    "def trial_roll(target=12, num_dice=3, num_trials=100):\n",
    "    \"\"\"\n",
    "    Returns the ratio of hits/total rolls\n",
    "    \"\"\"\n",
    "    rolls = [roll_n_dice(num_dice) for _ in range(num_trials)]\n",
    "    hits = len([roll for roll in rolls if roll >= target])\n",
    "    return hits / num_trials\n",
    "\n",
    "x_values = range(1, 11)\n",
    "y_values = [trial_roll(num_dice=x) for x in x_values]\n",
    "    "
   ]
  },
  {
   "cell_type": "code",
   "execution_count": 47,
   "metadata": {
    "collapsed": false
   },
   "outputs": [
    {
     "data": {
      "image/png": "[encoded data removed]",
      "text/plain": [
       "<matplotlib.figure.Figure at 0x1113c99e8>"
      ]
     },
     "metadata": {},
     "output_type": "display_data"
    }
   ],
   "source": [
    "plt.scatter(x_values, y_values)\n",
    "plt.show()\n"
   ]
  },
  {
   "cell_type": "markdown",
   "metadata": {},
   "source": [
    "# Roomba simulation\n",
    "\n",
    "* Room that is 15x20 ft\n",
    "* Each \"tick\" (unit of time) the Roomba moves 1 foot or until it hits a wall. Whatever spot (1 ft x 1 ft square) the roomba is in at this time is considered cleaned\n",
    "* The Roomba does not keep track of where it's been, the only thing it knows is the number of degrees it last turned\n",
    "* Our default (base) Roomba follows these rules:\n",
    "  * Move in a straight line until it hits a wall\n",
    "  * Rotate randomly from 90-270 degrees"
   ]
  },
  {
   "cell_type": "code",
   "execution_count": null,
   "metadata": {
    "collapsed": true
   },
   "outputs": [],
   "source": []
  }
 ],
 "metadata": {
  "kernelspec": {
   "display_name": "Python 3",
   "language": "python",
   "name": "python3"
  },
  "language_info": {
   "codemirror_mode": {
    "name": "ipython",
    "version": 3
   },
   "file_extension": ".py",
   "mimetype": "text/x-python",
   "name": "python",
   "nbconvert_exporter": "python",
   "pygments_lexer": "ipython3",
   "version": "3.4.3"
  }
 },
 "nbformat": 4,
 "nbformat_minor": 0
}
