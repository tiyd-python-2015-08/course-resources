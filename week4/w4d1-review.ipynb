{
 "cells": [
  {
   "cell_type": "code",
   "execution_count": 45,
   "metadata": {
    "collapsed": false
   },
   "outputs": [],
   "source": [
    "from accounts import *"
   ]
  },
  {
   "cell_type": "code",
   "execution_count": 39,
   "metadata": {
    "collapsed": false
   },
   "outputs": [
    {
     "name": "stdout",
     "output_type": "stream",
     "text": [
      "0, expected 0\n",
      "55, expected 55\n",
      "99, expected 99\n",
      "139, expected 139\n",
      "We got a ValueError exception (we wanted an exception)\n",
      "We got a TypeError exception (we wanted an exception)\n",
      "64, expected 64\n",
      "We got a OverdrawnException exception (we wanted one)\n",
      "We got a ValueError exception (we wanted one)\n",
      "55, expected 55\n"
     ]
    }
   ],
   "source": [
    "nancys_account = BankAccount(1234, 5678)\n",
    "print(\"{}, expected 0\".format(nancys_account.balance))\n",
    "\n",
    "garrys_account = BankAccount(1122, 5678, 55)\n",
    "print(\"{}, expected 55\".format(garrys_account.balance))\n",
    "\n",
    "nancys_account.deposit(99)\n",
    "print(\"{}, expected 99\".format(nancys_account.balance))\n",
    "\n",
    "nancys_account.deposit(40)\n",
    "print(\"{}, expected 139\".format(nancys_account.balance))\n",
    "\n",
    "try:\n",
    "    nancys_account.deposit(-5)\n",
    "    print(nancys_account.balance)\n",
    "except ValueError:\n",
    "    print(\"We got a ValueError exception (we wanted an exception)\")\n",
    "    \n",
    "try:\n",
    "    nancys_account.deposit('apple')\n",
    "except TypeError:\n",
    "    print(\"We got a TypeError exception (we wanted an exception)\")\n",
    "\n",
    "\n",
    "nancys_account.withdraw(75)\n",
    "print(\"{}, expected {}\".format(nancys_account.balance, 139-75))\n",
    "\n",
    "try:\n",
    "    nancys_account.withdraw(500)\n",
    "except OverdrawnException:\n",
    "    print(\"We got a OverdrawnException exception (we wanted one)\")\n",
    "\n",
    "try:\n",
    "    nancys_account.withdraw(-50)\n",
    "except ValueError:\n",
    "    print(\"We got a ValueError exception (we wanted one)\")\n",
    "\n",
    "print(\"{}, expected 55\".format(garrys_account.balance))\n",
    "    "
   ]
  },
  {
   "cell_type": "code",
   "execution_count": 36,
   "metadata": {
    "collapsed": false
   },
   "outputs": [
    {
     "name": "stdout",
     "output_type": "stream",
     "text": [
      "0, expected 0\n",
      "<class '__main__.CheckingAccount'>\n",
      "55, expected 55\n",
      "99, expected 99\n",
      "139, expected 139\n",
      "We got a ValueError exception (we wanted an exception)\n"
     ]
    }
   ],
   "source": [
    "freds_account = CheckingAccount(1234, 5678)\n",
    "print(\"{}, expected 0\".format(freds_account.balance))\n",
    "\n",
    "print(type(freds_account))\n",
    "\n",
    "sallys_account = CheckingAccount(1122, 5678, 55)\n",
    "print(\"{}, expected 55\".format(sallys_account.balance))\n",
    "\n",
    "freds_account.deposit(99)\n",
    "print(\"{}, expected 99\".format(freds_account.balance))\n",
    "\n",
    "freds_account.deposit(40)\n",
    "print(\"{}, expected 139\".format(freds_account.balance))\n",
    "\n",
    "try:\n",
    "    freds_account.deposit(-5)\n",
    "    print(freds_account.balance)\n",
    "except ValueError:\n",
    "    print(\"We got a ValueError exception (we wanted an exception)\")\n",
    "    \n"
   ]
  },
  {
   "cell_type": "code",
   "execution_count": 44,
   "metadata": {
    "collapsed": false
   },
   "outputs": [
    {
     "name": "stdout",
     "output_type": "stream",
     "text": [
      "0, expected 0\n",
      "55, expected 55\n",
      "99, expected 99\n",
      "139, expected 139\n",
      "We got a ValueError exception (we wanted an exception)\n",
      "64, expected 64\n",
      "1, expected 1\n",
      "64.26666666666667, expected ?\n"
     ]
    }
   ],
   "source": [
    "johns_account = SavingsAccount(1234, 5678, interest_rate=0.05)\n",
    "print(\"{}, expected 0\".format(johns_account.balance))\n",
    "\n",
    "rufuses_account = SavingsAccount(1122, 5678, 55)\n",
    "print(\"{}, expected 55\".format(rufuses_account.balance))\n",
    "\n",
    "johns_account.deposit(99)\n",
    "print(\"{}, expected 99\".format(johns_account.balance))\n",
    "\n",
    "johns_account.deposit(40)\n",
    "print(\"{}, expected 139\".format(johns_account.balance))\n",
    "\n",
    "try:\n",
    "    johns_account.deposit(-5)\n",
    "    print(johns_account.balance)\n",
    "except ValueError:\n",
    "    print(\"We got a ValueError exception (we wanted an exception)\")\n",
    "    \n",
    "    \n",
    "johns_account.withdraw(75)\n",
    "print(\"{}, expected {}\".format(johns_account.balance, 139-75))\n",
    "\n",
    "print(\"{}, expected 1\".format(johns_account.transaction_count))\n",
    "\n",
    "johns_account.compound_interest()\n",
    "\n",
    "print(\"{}, expected ?\".format(johns_account.balance))\n"
   ]
  },
  {
   "cell_type": "code",
   "execution_count": null,
   "metadata": {
    "collapsed": true
   },
   "outputs": [],
   "source": []
  }
 ],
 "metadata": {
  "kernelspec": {
   "display_name": "Python 3",
   "language": "python",
   "name": "python3"
  },
  "language_info": {
   "codemirror_mode": {
    "name": "ipython",
    "version": 3
   },
   "file_extension": ".py",
   "mimetype": "text/x-python",
   "name": "python",
   "nbconvert_exporter": "python",
   "pygments_lexer": "ipython3",
   "version": "3.4.3"
  }
 },
 "nbformat": 4,
 "nbformat_minor": 0
}
