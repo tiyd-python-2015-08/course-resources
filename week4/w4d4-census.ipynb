{
 "cells": [
  {
   "cell_type": "code",
   "execution_count": 1,
   "metadata": {
    "collapsed": false
   },
   "outputs": [
    {
     "name": "stdout",
     "output_type": "stream",
     "text": [
      "NST-EST2014-01.csv      u.item                  w4d2-regex.ipynb\r\n",
      "README.md               u.user                  w4d2-ufo.ipynb\r\n",
      "\u001b[34m__pycache__\u001b[m\u001b[m             ufo_awesome.tsv         w4d2.ipynb\r\n",
      "accounts.py             w4d1-cleaning.ipynb     w4d3.ipynb\r\n",
      "baby_names.csv          w4d1-household.ipynb    w4d4-census.ipynb\r\n",
      "complaints_dec_2014.csv w4d1-review.ipynb       \u001b[31mwdi_data_extract.csv\u001b[m\u001b[m\r\n",
      "rdu-daily-2014.csv      w4d1.ipynb\r\n",
      "u.data                  w4d2-hw-review.ipynb\r\n"
     ]
    }
   ],
   "source": [
    "!ls"
   ]
  },
  {
   "cell_type": "code",
   "execution_count": 11,
   "metadata": {
    "collapsed": false
   },
   "outputs": [
    {
     "name": "stdout",
     "output_type": "stream",
     "text": [
      "table with row headers in column A and column headers in rows 3 through 4. (leading dots indicate sub-parts),,,,,,,\r",
      "\r\n",
      "\"Table 1. Annual Estimates of the Resident Population for the United States, Regions, States, and Puerto Rico: April 1, 2010 to July 1, 2014\",,,,,,,\r",
      "\r\n",
      "Geographic Area,\"April 1, 2010\",,Population Estimate (as of July 1),,,,\r",
      "\r\n",
      ",Census,Estimates Base,2010,2011,2012,2013,2014\r",
      "\r\n",
      "United States,\"308,745,538\",\"308,758,105\",\"309,347,057\",\"311,721,632\",\"314,112,078\",\"316,497,531\",\"318,857,056\"\r",
      "\r\n"
     ]
    }
   ],
   "source": [
    "!head -n 5 NST-EST2014-01.csv"
   ]
  },
  {
   "cell_type": "code",
   "execution_count": 4,
   "metadata": {
    "collapsed": false
   },
   "outputs": [
    {
     "name": "stdout",
     "output_type": "stream",
     "text": [
      ".West Virginia,\"1,852,994\",\"1,853,033\",\"1,854,176\",\"1,854,982\",\"1,856,313\",\"1,853,595\",\"1,850,326\"\r",
      "\r\n",
      ".Wisconsin,\"5,686,986\",\"5,687,289\",\"5,689,268\",\"5,708,785\",\"5,724,888\",\"5,742,953\",\"5,757,564\"\r",
      "\r\n",
      ".Wyoming,\"563,626\",\"563,767\",\"564,358\",\"567,631\",\"576,893\",\"583,223\",\"584,153\"\r",
      "\r\n",
      ",,,,,,,\r",
      "\r\n",
      "Puerto Rico,\"3,725,789\",\"3,726,157\",\"3,721,527\",\"3,686,771\",\"3,642,281\",\"3,595,839\",\"3,548,397\"\r",
      "\r\n",
      "\"Note: The estimates are based on the 2010 Census and reflect changes to the April 1, 2010 population due to the Count Question Resolution program and geographic program revisions. See Geographic Terms and Definitions at http://www.census.gov/popest/about/geo/terms.html for a list of the states that are included in each region.  All geographic boundaries for the 2014 population estimates series are defined as of January 1, 2014.  For population estimates methodology statements, see http://www.census.gov/popest/methodology/index.html.\",,,,,,,\r",
      "\r\n",
      "Suggested Citation:,,,,,,,\r",
      "\r\n",
      "\"Table 1. Annual Estimates of the Resident Population for the United States, Regions, States, and Puerto Rico: April 1, 2010 to July 1, 2014 (NST-EST2014-01)\",,,,,,,\r",
      "\r\n",
      "\"Source: U.S. Census Bureau, Population Division\",,,,,,,\r",
      "\r\n",
      "Release Date: December 2014,,,,,,,\r",
      "\r\n"
     ]
    }
   ],
   "source": [
    "!tail NST-EST2014-01.csv"
   ]
  },
  {
   "cell_type": "markdown",
   "metadata": {},
   "source": [
    "A lot of data files we might deal with have extra/junk rows at the head and the tail"
   ]
  },
  {
   "cell_type": "code",
   "execution_count": 5,
   "metadata": {
    "collapsed": true
   },
   "outputs": [],
   "source": [
    "import pandas as pd\n",
    "import numpy as np"
   ]
  },
  {
   "cell_type": "code",
   "execution_count": 12,
   "metadata": {
    "collapsed": false
   },
   "outputs": [
    {
     "data": {
      "text/html": [
       "<div>\n",
       "<table border=\"1\" class=\"dataframe\">\n",
       "  <thead>\n",
       "    <tr style=\"text-align: right;\">\n",
       "      <th></th>\n",
       "      <th>table with row headers in column A and column headers in rows 3 through 4. (leading dots indicate sub-parts)</th>\n",
       "      <th>Unnamed: 1</th>\n",
       "      <th>Unnamed: 2</th>\n",
       "      <th>Unnamed: 3</th>\n",
       "      <th>Unnamed: 4</th>\n",
       "      <th>Unnamed: 5</th>\n",
       "      <th>Unnamed: 6</th>\n",
       "      <th>Unnamed: 7</th>\n",
       "    </tr>\n",
       "  </thead>\n",
       "  <tbody>\n",
       "    <tr>\n",
       "      <th>0</th>\n",
       "      <td>Table 1. Annual Estimates of the Resident Popu...</td>\n",
       "      <td>NaN</td>\n",
       "      <td>NaN</td>\n",
       "      <td>NaN</td>\n",
       "      <td>NaN</td>\n",
       "      <td>NaN</td>\n",
       "      <td>NaN</td>\n",
       "      <td>NaN</td>\n",
       "    </tr>\n",
       "    <tr>\n",
       "      <th>1</th>\n",
       "      <td>Geographic Area</td>\n",
       "      <td>April 1, 2010</td>\n",
       "      <td>NaN</td>\n",
       "      <td>Population Estimate (as of July 1)</td>\n",
       "      <td>NaN</td>\n",
       "      <td>NaN</td>\n",
       "      <td>NaN</td>\n",
       "      <td>NaN</td>\n",
       "    </tr>\n",
       "    <tr>\n",
       "      <th>2</th>\n",
       "      <td>NaN</td>\n",
       "      <td>Census</td>\n",
       "      <td>Estimates Base</td>\n",
       "      <td>2010</td>\n",
       "      <td>2011</td>\n",
       "      <td>2012</td>\n",
       "      <td>2013</td>\n",
       "      <td>2014</td>\n",
       "    </tr>\n",
       "    <tr>\n",
       "      <th>3</th>\n",
       "      <td>United States</td>\n",
       "      <td>308,745,538</td>\n",
       "      <td>308,758,105</td>\n",
       "      <td>309,347,057</td>\n",
       "      <td>311,721,632</td>\n",
       "      <td>314,112,078</td>\n",
       "      <td>316,497,531</td>\n",
       "      <td>318,857,056</td>\n",
       "    </tr>\n",
       "    <tr>\n",
       "      <th>4</th>\n",
       "      <td>Northeast</td>\n",
       "      <td>55,317,240</td>\n",
       "      <td>55,318,348</td>\n",
       "      <td>55,381,690</td>\n",
       "      <td>55,635,670</td>\n",
       "      <td>55,832,038</td>\n",
       "      <td>56,028,220</td>\n",
       "      <td>56,152,333</td>\n",
       "    </tr>\n",
       "  </tbody>\n",
       "</table>\n",
       "</div>"
      ],
      "text/plain": [
       "  table with row headers in column A and column headers in rows 3 through 4. (leading dots indicate sub-parts)  \\\n",
       "0  Table 1. Annual Estimates of the Resident Popu...                                                             \n",
       "1                                    Geographic Area                                                             \n",
       "2                                                NaN                                                             \n",
       "3                                      United States                                                             \n",
       "4                                          Northeast                                                             \n",
       "\n",
       "      Unnamed: 1      Unnamed: 2                          Unnamed: 3  \\\n",
       "0            NaN             NaN                                 NaN   \n",
       "1  April 1, 2010             NaN  Population Estimate (as of July 1)   \n",
       "2         Census  Estimates Base                                2010   \n",
       "3    308,745,538     308,758,105                         309,347,057   \n",
       "4     55,317,240      55,318,348                          55,381,690   \n",
       "\n",
       "    Unnamed: 4   Unnamed: 5   Unnamed: 6   Unnamed: 7  \n",
       "0          NaN          NaN          NaN          NaN  \n",
       "1          NaN          NaN          NaN          NaN  \n",
       "2         2011         2012         2013         2014  \n",
       "3  311,721,632  314,112,078  316,497,531  318,857,056  \n",
       "4   55,635,670   55,832,038   56,028,220   56,152,333  "
      ]
     },
     "execution_count": 12,
     "metadata": {},
     "output_type": "execute_result"
    }
   ],
   "source": [
    "pd.read_csv('NST-EST2014-01.csv').head()"
   ]
  },
  {
   "cell_type": "code",
   "execution_count": 14,
   "metadata": {
    "collapsed": false
   },
   "outputs": [
    {
     "data": {
      "text/html": [
       "<div>\n",
       "<table border=\"1\" class=\"dataframe\">\n",
       "  <thead>\n",
       "    <tr style=\"text-align: right;\">\n",
       "      <th></th>\n",
       "      <th>Unnamed: 0</th>\n",
       "      <th>Census</th>\n",
       "      <th>Estimates Base</th>\n",
       "      <th>2010</th>\n",
       "      <th>2011</th>\n",
       "      <th>2012</th>\n",
       "      <th>2013</th>\n",
       "      <th>2014</th>\n",
       "    </tr>\n",
       "  </thead>\n",
       "  <tbody>\n",
       "    <tr>\n",
       "      <th>0</th>\n",
       "      <td>United States</td>\n",
       "      <td>308,745,538</td>\n",
       "      <td>308,758,105</td>\n",
       "      <td>309,347,057</td>\n",
       "      <td>311,721,632</td>\n",
       "      <td>314,112,078</td>\n",
       "      <td>316,497,531</td>\n",
       "      <td>318,857,056</td>\n",
       "    </tr>\n",
       "    <tr>\n",
       "      <th>1</th>\n",
       "      <td>Northeast</td>\n",
       "      <td>55,317,240</td>\n",
       "      <td>55,318,348</td>\n",
       "      <td>55,381,690</td>\n",
       "      <td>55,635,670</td>\n",
       "      <td>55,832,038</td>\n",
       "      <td>56,028,220</td>\n",
       "      <td>56,152,333</td>\n",
       "    </tr>\n",
       "    <tr>\n",
       "      <th>2</th>\n",
       "      <td>Midwest</td>\n",
       "      <td>66,927,001</td>\n",
       "      <td>66,929,898</td>\n",
       "      <td>66,972,390</td>\n",
       "      <td>67,149,657</td>\n",
       "      <td>67,331,458</td>\n",
       "      <td>67,567,871</td>\n",
       "      <td>67,745,108</td>\n",
       "    </tr>\n",
       "    <tr>\n",
       "      <th>3</th>\n",
       "      <td>South</td>\n",
       "      <td>114,555,744</td>\n",
       "      <td>114,562,951</td>\n",
       "      <td>114,871,231</td>\n",
       "      <td>116,089,908</td>\n",
       "      <td>117,346,322</td>\n",
       "      <td>118,522,802</td>\n",
       "      <td>119,771,934</td>\n",
       "    </tr>\n",
       "    <tr>\n",
       "      <th>4</th>\n",
       "      <td>West</td>\n",
       "      <td>71,945,553</td>\n",
       "      <td>71,946,908</td>\n",
       "      <td>72,121,746</td>\n",
       "      <td>72,846,397</td>\n",
       "      <td>73,602,260</td>\n",
       "      <td>74,378,638</td>\n",
       "      <td>75,187,681</td>\n",
       "    </tr>\n",
       "  </tbody>\n",
       "</table>\n",
       "</div>"
      ],
      "text/plain": [
       "      Unnamed: 0       Census Estimates Base         2010         2011  \\\n",
       "0  United States  308,745,538    308,758,105  309,347,057  311,721,632   \n",
       "1      Northeast   55,317,240     55,318,348   55,381,690   55,635,670   \n",
       "2        Midwest   66,927,001     66,929,898   66,972,390   67,149,657   \n",
       "3          South  114,555,744    114,562,951  114,871,231  116,089,908   \n",
       "4           West   71,945,553     71,946,908   72,121,746   72,846,397   \n",
       "\n",
       "          2012         2013         2014  \n",
       "0  314,112,078  316,497,531  318,857,056  \n",
       "1   55,832,038   56,028,220   56,152,333  \n",
       "2   67,331,458   67,567,871   67,745,108  \n",
       "3  117,346,322  118,522,802  119,771,934  \n",
       "4   73,602,260   74,378,638   75,187,681  "
      ]
     },
     "execution_count": 14,
     "metadata": {},
     "output_type": "execute_result"
    }
   ],
   "source": [
    "pd.read_csv('NST-EST2014-01.csv', header=3).head()"
   ]
  },
  {
   "cell_type": "code",
   "execution_count": 15,
   "metadata": {
    "collapsed": true
   },
   "outputs": [],
   "source": [
    "pop_data = pd.read_csv('NST-EST2014-01.csv', header=3)"
   ]
  },
  {
   "cell_type": "code",
   "execution_count": 16,
   "metadata": {
    "collapsed": false
   },
   "outputs": [
    {
     "data": {
      "text/html": [
       "<div>\n",
       "<table border=\"1\" class=\"dataframe\">\n",
       "  <thead>\n",
       "    <tr style=\"text-align: right;\">\n",
       "      <th></th>\n",
       "      <th>Unnamed: 0</th>\n",
       "      <th>Census</th>\n",
       "      <th>Estimates Base</th>\n",
       "      <th>2010</th>\n",
       "      <th>2011</th>\n",
       "      <th>2012</th>\n",
       "      <th>2013</th>\n",
       "      <th>2014</th>\n",
       "    </tr>\n",
       "  </thead>\n",
       "  <tbody>\n",
       "    <tr>\n",
       "      <th>0</th>\n",
       "      <td>United States</td>\n",
       "      <td>308,745,538</td>\n",
       "      <td>308,758,105</td>\n",
       "      <td>309,347,057</td>\n",
       "      <td>311,721,632</td>\n",
       "      <td>314,112,078</td>\n",
       "      <td>316,497,531</td>\n",
       "      <td>318,857,056</td>\n",
       "    </tr>\n",
       "    <tr>\n",
       "      <th>1</th>\n",
       "      <td>Northeast</td>\n",
       "      <td>55,317,240</td>\n",
       "      <td>55,318,348</td>\n",
       "      <td>55,381,690</td>\n",
       "      <td>55,635,670</td>\n",
       "      <td>55,832,038</td>\n",
       "      <td>56,028,220</td>\n",
       "      <td>56,152,333</td>\n",
       "    </tr>\n",
       "    <tr>\n",
       "      <th>2</th>\n",
       "      <td>Midwest</td>\n",
       "      <td>66,927,001</td>\n",
       "      <td>66,929,898</td>\n",
       "      <td>66,972,390</td>\n",
       "      <td>67,149,657</td>\n",
       "      <td>67,331,458</td>\n",
       "      <td>67,567,871</td>\n",
       "      <td>67,745,108</td>\n",
       "    </tr>\n",
       "    <tr>\n",
       "      <th>3</th>\n",
       "      <td>South</td>\n",
       "      <td>114,555,744</td>\n",
       "      <td>114,562,951</td>\n",
       "      <td>114,871,231</td>\n",
       "      <td>116,089,908</td>\n",
       "      <td>117,346,322</td>\n",
       "      <td>118,522,802</td>\n",
       "      <td>119,771,934</td>\n",
       "    </tr>\n",
       "    <tr>\n",
       "      <th>4</th>\n",
       "      <td>West</td>\n",
       "      <td>71,945,553</td>\n",
       "      <td>71,946,908</td>\n",
       "      <td>72,121,746</td>\n",
       "      <td>72,846,397</td>\n",
       "      <td>73,602,260</td>\n",
       "      <td>74,378,638</td>\n",
       "      <td>75,187,681</td>\n",
       "    </tr>\n",
       "  </tbody>\n",
       "</table>\n",
       "</div>"
      ],
      "text/plain": [
       "      Unnamed: 0       Census Estimates Base         2010         2011  \\\n",
       "0  United States  308,745,538    308,758,105  309,347,057  311,721,632   \n",
       "1      Northeast   55,317,240     55,318,348   55,381,690   55,635,670   \n",
       "2        Midwest   66,927,001     66,929,898   66,972,390   67,149,657   \n",
       "3          South  114,555,744    114,562,951  114,871,231  116,089,908   \n",
       "4           West   71,945,553     71,946,908   72,121,746   72,846,397   \n",
       "\n",
       "          2012         2013         2014  \n",
       "0  314,112,078  316,497,531  318,857,056  \n",
       "1   55,832,038   56,028,220   56,152,333  \n",
       "2   67,331,458   67,567,871   67,745,108  \n",
       "3  117,346,322  118,522,802  119,771,934  \n",
       "4   73,602,260   74,378,638   75,187,681  "
      ]
     },
     "execution_count": 16,
     "metadata": {},
     "output_type": "execute_result"
    }
   ],
   "source": [
    "pop_data.head()"
   ]
  },
  {
   "cell_type": "code",
   "execution_count": 18,
   "metadata": {
    "collapsed": false
   },
   "outputs": [],
   "source": [
    "pop_data['geographic_area'] = pop_data.pop('Unnamed: 0')"
   ]
  },
  {
   "cell_type": "code",
   "execution_count": 19,
   "metadata": {
    "collapsed": false
   },
   "outputs": [
    {
     "data": {
      "text/html": [
       "<div>\n",
       "<table border=\"1\" class=\"dataframe\">\n",
       "  <thead>\n",
       "    <tr style=\"text-align: right;\">\n",
       "      <th></th>\n",
       "      <th>Census</th>\n",
       "      <th>Estimates Base</th>\n",
       "      <th>2010</th>\n",
       "      <th>2011</th>\n",
       "      <th>2012</th>\n",
       "      <th>2013</th>\n",
       "      <th>2014</th>\n",
       "      <th>geographic_area</th>\n",
       "    </tr>\n",
       "  </thead>\n",
       "  <tbody>\n",
       "    <tr>\n",
       "      <th>0</th>\n",
       "      <td>308,745,538</td>\n",
       "      <td>308,758,105</td>\n",
       "      <td>309,347,057</td>\n",
       "      <td>311,721,632</td>\n",
       "      <td>314,112,078</td>\n",
       "      <td>316,497,531</td>\n",
       "      <td>318,857,056</td>\n",
       "      <td>United States</td>\n",
       "    </tr>\n",
       "    <tr>\n",
       "      <th>1</th>\n",
       "      <td>55,317,240</td>\n",
       "      <td>55,318,348</td>\n",
       "      <td>55,381,690</td>\n",
       "      <td>55,635,670</td>\n",
       "      <td>55,832,038</td>\n",
       "      <td>56,028,220</td>\n",
       "      <td>56,152,333</td>\n",
       "      <td>Northeast</td>\n",
       "    </tr>\n",
       "    <tr>\n",
       "      <th>2</th>\n",
       "      <td>66,927,001</td>\n",
       "      <td>66,929,898</td>\n",
       "      <td>66,972,390</td>\n",
       "      <td>67,149,657</td>\n",
       "      <td>67,331,458</td>\n",
       "      <td>67,567,871</td>\n",
       "      <td>67,745,108</td>\n",
       "      <td>Midwest</td>\n",
       "    </tr>\n",
       "    <tr>\n",
       "      <th>3</th>\n",
       "      <td>114,555,744</td>\n",
       "      <td>114,562,951</td>\n",
       "      <td>114,871,231</td>\n",
       "      <td>116,089,908</td>\n",
       "      <td>117,346,322</td>\n",
       "      <td>118,522,802</td>\n",
       "      <td>119,771,934</td>\n",
       "      <td>South</td>\n",
       "    </tr>\n",
       "    <tr>\n",
       "      <th>4</th>\n",
       "      <td>71,945,553</td>\n",
       "      <td>71,946,908</td>\n",
       "      <td>72,121,746</td>\n",
       "      <td>72,846,397</td>\n",
       "      <td>73,602,260</td>\n",
       "      <td>74,378,638</td>\n",
       "      <td>75,187,681</td>\n",
       "      <td>West</td>\n",
       "    </tr>\n",
       "  </tbody>\n",
       "</table>\n",
       "</div>"
      ],
      "text/plain": [
       "        Census Estimates Base         2010         2011         2012  \\\n",
       "0  308,745,538    308,758,105  309,347,057  311,721,632  314,112,078   \n",
       "1   55,317,240     55,318,348   55,381,690   55,635,670   55,832,038   \n",
       "2   66,927,001     66,929,898   66,972,390   67,149,657   67,331,458   \n",
       "3  114,555,744    114,562,951  114,871,231  116,089,908  117,346,322   \n",
       "4   71,945,553     71,946,908   72,121,746   72,846,397   73,602,260   \n",
       "\n",
       "          2013         2014 geographic_area  \n",
       "0  316,497,531  318,857,056   United States  \n",
       "1   56,028,220   56,152,333       Northeast  \n",
       "2   67,567,871   67,745,108         Midwest  \n",
       "3  118,522,802  119,771,934           South  \n",
       "4   74,378,638   75,187,681            West  "
      ]
     },
     "execution_count": 19,
     "metadata": {},
     "output_type": "execute_result"
    }
   ],
   "source": [
    "pop_data.head()"
   ]
  },
  {
   "cell_type": "code",
   "execution_count": 20,
   "metadata": {
    "collapsed": true
   },
   "outputs": [],
   "source": [
    "pop_data.index = pop_data.pop('geographic_area')"
   ]
  },
  {
   "cell_type": "code",
   "execution_count": 21,
   "metadata": {
    "collapsed": false
   },
   "outputs": [
    {
     "data": {
      "text/html": [
       "<div>\n",
       "<table border=\"1\" class=\"dataframe\">\n",
       "  <thead>\n",
       "    <tr style=\"text-align: right;\">\n",
       "      <th></th>\n",
       "      <th>Census</th>\n",
       "      <th>Estimates Base</th>\n",
       "      <th>2010</th>\n",
       "      <th>2011</th>\n",
       "      <th>2012</th>\n",
       "      <th>2013</th>\n",
       "      <th>2014</th>\n",
       "    </tr>\n",
       "    <tr>\n",
       "      <th>geographic_area</th>\n",
       "      <th></th>\n",
       "      <th></th>\n",
       "      <th></th>\n",
       "      <th></th>\n",
       "      <th></th>\n",
       "      <th></th>\n",
       "      <th></th>\n",
       "    </tr>\n",
       "  </thead>\n",
       "  <tbody>\n",
       "    <tr>\n",
       "      <th>United States</th>\n",
       "      <td>308,745,538</td>\n",
       "      <td>308,758,105</td>\n",
       "      <td>309,347,057</td>\n",
       "      <td>311,721,632</td>\n",
       "      <td>314,112,078</td>\n",
       "      <td>316,497,531</td>\n",
       "      <td>318,857,056</td>\n",
       "    </tr>\n",
       "    <tr>\n",
       "      <th>Northeast</th>\n",
       "      <td>55,317,240</td>\n",
       "      <td>55,318,348</td>\n",
       "      <td>55,381,690</td>\n",
       "      <td>55,635,670</td>\n",
       "      <td>55,832,038</td>\n",
       "      <td>56,028,220</td>\n",
       "      <td>56,152,333</td>\n",
       "    </tr>\n",
       "    <tr>\n",
       "      <th>Midwest</th>\n",
       "      <td>66,927,001</td>\n",
       "      <td>66,929,898</td>\n",
       "      <td>66,972,390</td>\n",
       "      <td>67,149,657</td>\n",
       "      <td>67,331,458</td>\n",
       "      <td>67,567,871</td>\n",
       "      <td>67,745,108</td>\n",
       "    </tr>\n",
       "    <tr>\n",
       "      <th>South</th>\n",
       "      <td>114,555,744</td>\n",
       "      <td>114,562,951</td>\n",
       "      <td>114,871,231</td>\n",
       "      <td>116,089,908</td>\n",
       "      <td>117,346,322</td>\n",
       "      <td>118,522,802</td>\n",
       "      <td>119,771,934</td>\n",
       "    </tr>\n",
       "    <tr>\n",
       "      <th>West</th>\n",
       "      <td>71,945,553</td>\n",
       "      <td>71,946,908</td>\n",
       "      <td>72,121,746</td>\n",
       "      <td>72,846,397</td>\n",
       "      <td>73,602,260</td>\n",
       "      <td>74,378,638</td>\n",
       "      <td>75,187,681</td>\n",
       "    </tr>\n",
       "  </tbody>\n",
       "</table>\n",
       "</div>"
      ],
      "text/plain": [
       "                      Census Estimates Base         2010         2011  \\\n",
       "geographic_area                                                         \n",
       "United States    308,745,538    308,758,105  309,347,057  311,721,632   \n",
       "Northeast         55,317,240     55,318,348   55,381,690   55,635,670   \n",
       "Midwest           66,927,001     66,929,898   66,972,390   67,149,657   \n",
       "South            114,555,744    114,562,951  114,871,231  116,089,908   \n",
       "West              71,945,553     71,946,908   72,121,746   72,846,397   \n",
       "\n",
       "                        2012         2013         2014  \n",
       "geographic_area                                         \n",
       "United States    314,112,078  316,497,531  318,857,056  \n",
       "Northeast         55,832,038   56,028,220   56,152,333  \n",
       "Midwest           67,331,458   67,567,871   67,745,108  \n",
       "South            117,346,322  118,522,802  119,771,934  \n",
       "West              73,602,260   74,378,638   75,187,681  "
      ]
     },
     "execution_count": 21,
     "metadata": {},
     "output_type": "execute_result"
    }
   ],
   "source": [
    "pop_data.head()"
   ]
  },
  {
   "cell_type": "code",
   "execution_count": 23,
   "metadata": {
    "collapsed": false
   },
   "outputs": [
    {
     "data": {
      "text/plain": [
       "'9,559,488'"
      ]
     },
     "execution_count": 23,
     "metadata": {},
     "output_type": "execute_result"
    }
   ],
   "source": [
    "pop_data.loc['.North Carolina', '2010']"
   ]
  },
  {
   "cell_type": "code",
   "execution_count": 24,
   "metadata": {
    "collapsed": false
   },
   "outputs": [
    {
     "data": {
      "text/html": [
       "<div>\n",
       "<table border=\"1\" class=\"dataframe\">\n",
       "  <thead>\n",
       "    <tr style=\"text-align: right;\">\n",
       "      <th></th>\n",
       "      <th>Census</th>\n",
       "      <th>Estimates Base</th>\n",
       "      <th>2010</th>\n",
       "      <th>2011</th>\n",
       "      <th>2012</th>\n",
       "      <th>2013</th>\n",
       "      <th>2014</th>\n",
       "    </tr>\n",
       "    <tr>\n",
       "      <th>geographic_area</th>\n",
       "      <th></th>\n",
       "      <th></th>\n",
       "      <th></th>\n",
       "      <th></th>\n",
       "      <th></th>\n",
       "      <th></th>\n",
       "      <th></th>\n",
       "    </tr>\n",
       "  </thead>\n",
       "  <tbody>\n",
       "    <tr>\n",
       "      <th>United States</th>\n",
       "      <td>308,745,538</td>\n",
       "      <td>308,758,105</td>\n",
       "      <td>309,347,057</td>\n",
       "      <td>311,721,632</td>\n",
       "      <td>314,112,078</td>\n",
       "      <td>316,497,531</td>\n",
       "      <td>318,857,056</td>\n",
       "    </tr>\n",
       "    <tr>\n",
       "      <th>Northeast</th>\n",
       "      <td>55,317,240</td>\n",
       "      <td>55,318,348</td>\n",
       "      <td>55,381,690</td>\n",
       "      <td>55,635,670</td>\n",
       "      <td>55,832,038</td>\n",
       "      <td>56,028,220</td>\n",
       "      <td>56,152,333</td>\n",
       "    </tr>\n",
       "    <tr>\n",
       "      <th>Midwest</th>\n",
       "      <td>66,927,001</td>\n",
       "      <td>66,929,898</td>\n",
       "      <td>66,972,390</td>\n",
       "      <td>67,149,657</td>\n",
       "      <td>67,331,458</td>\n",
       "      <td>67,567,871</td>\n",
       "      <td>67,745,108</td>\n",
       "    </tr>\n",
       "    <tr>\n",
       "      <th>South</th>\n",
       "      <td>114,555,744</td>\n",
       "      <td>114,562,951</td>\n",
       "      <td>114,871,231</td>\n",
       "      <td>116,089,908</td>\n",
       "      <td>117,346,322</td>\n",
       "      <td>118,522,802</td>\n",
       "      <td>119,771,934</td>\n",
       "    </tr>\n",
       "    <tr>\n",
       "      <th>West</th>\n",
       "      <td>71,945,553</td>\n",
       "      <td>71,946,908</td>\n",
       "      <td>72,121,746</td>\n",
       "      <td>72,846,397</td>\n",
       "      <td>73,602,260</td>\n",
       "      <td>74,378,638</td>\n",
       "      <td>75,187,681</td>\n",
       "    </tr>\n",
       "    <tr>\n",
       "      <th>.Alabama</th>\n",
       "      <td>4,779,736</td>\n",
       "      <td>4,780,127</td>\n",
       "      <td>4,785,822</td>\n",
       "      <td>4,801,695</td>\n",
       "      <td>4,817,484</td>\n",
       "      <td>4,833,996</td>\n",
       "      <td>4,849,377</td>\n",
       "    </tr>\n",
       "    <tr>\n",
       "      <th>.Alaska</th>\n",
       "      <td>710,231</td>\n",
       "      <td>710,249</td>\n",
       "      <td>713,856</td>\n",
       "      <td>722,572</td>\n",
       "      <td>731,081</td>\n",
       "      <td>737,259</td>\n",
       "      <td>736,732</td>\n",
       "    </tr>\n",
       "    <tr>\n",
       "      <th>.Arizona</th>\n",
       "      <td>6,392,017</td>\n",
       "      <td>6,392,310</td>\n",
       "      <td>6,411,999</td>\n",
       "      <td>6,472,867</td>\n",
       "      <td>6,556,236</td>\n",
       "      <td>6,634,997</td>\n",
       "      <td>6,731,484</td>\n",
       "    </tr>\n",
       "    <tr>\n",
       "      <th>.Arkansas</th>\n",
       "      <td>2,915,918</td>\n",
       "      <td>2,915,958</td>\n",
       "      <td>2,922,297</td>\n",
       "      <td>2,938,430</td>\n",
       "      <td>2,949,300</td>\n",
       "      <td>2,958,765</td>\n",
       "      <td>2,966,369</td>\n",
       "    </tr>\n",
       "    <tr>\n",
       "      <th>.California</th>\n",
       "      <td>37,253,956</td>\n",
       "      <td>37,254,503</td>\n",
       "      <td>37,336,011</td>\n",
       "      <td>37,701,901</td>\n",
       "      <td>38,062,780</td>\n",
       "      <td>38,431,393</td>\n",
       "      <td>38,802,500</td>\n",
       "    </tr>\n",
       "  </tbody>\n",
       "</table>\n",
       "</div>"
      ],
      "text/plain": [
       "                      Census Estimates Base         2010         2011  \\\n",
       "geographic_area                                                         \n",
       "United States    308,745,538    308,758,105  309,347,057  311,721,632   \n",
       "Northeast         55,317,240     55,318,348   55,381,690   55,635,670   \n",
       "Midwest           66,927,001     66,929,898   66,972,390   67,149,657   \n",
       "South            114,555,744    114,562,951  114,871,231  116,089,908   \n",
       "West              71,945,553     71,946,908   72,121,746   72,846,397   \n",
       ".Alabama           4,779,736      4,780,127    4,785,822    4,801,695   \n",
       ".Alaska              710,231        710,249      713,856      722,572   \n",
       ".Arizona           6,392,017      6,392,310    6,411,999    6,472,867   \n",
       ".Arkansas          2,915,918      2,915,958    2,922,297    2,938,430   \n",
       ".California       37,253,956     37,254,503   37,336,011   37,701,901   \n",
       "\n",
       "                        2012         2013         2014  \n",
       "geographic_area                                         \n",
       "United States    314,112,078  316,497,531  318,857,056  \n",
       "Northeast         55,832,038   56,028,220   56,152,333  \n",
       "Midwest           67,331,458   67,567,871   67,745,108  \n",
       "South            117,346,322  118,522,802  119,771,934  \n",
       "West              73,602,260   74,378,638   75,187,681  \n",
       ".Alabama           4,817,484    4,833,996    4,849,377  \n",
       ".Alaska              731,081      737,259      736,732  \n",
       ".Arizona           6,556,236    6,634,997    6,731,484  \n",
       ".Arkansas          2,949,300    2,958,765    2,966,369  \n",
       ".California       38,062,780   38,431,393   38,802,500  "
      ]
     },
     "execution_count": 24,
     "metadata": {},
     "output_type": "execute_result"
    }
   ],
   "source": [
    "pop_data.head(10)"
   ]
  },
  {
   "cell_type": "code",
   "execution_count": 25,
   "metadata": {
    "collapsed": false
   },
   "outputs": [
    {
     "data": {
      "text/plain": [
       "Census            4,779,736\n",
       "Estimates Base    4,780,127\n",
       "2010              4,785,822\n",
       "2011              4,801,695\n",
       "2012              4,817,484\n",
       "2013              4,833,996\n",
       "2014              4,849,377\n",
       "Name: .Alabama, dtype: object"
      ]
     },
     "execution_count": 25,
     "metadata": {},
     "output_type": "execute_result"
    }
   ],
   "source": [
    "pop_data.iloc[5] # 0-based row access"
   ]
  },
  {
   "cell_type": "code",
   "execution_count": 28,
   "metadata": {
    "collapsed": false
   },
   "outputs": [
    {
     "data": {
      "text/plain": [
       "Census            4,779,736\n",
       "Estimates Base    4,780,127\n",
       "2010              4,785,822\n",
       "2011              4,801,695\n",
       "2012              4,817,484\n",
       "2013              4,833,996\n",
       "2014              4,849,377\n",
       "Name: .Alabama, dtype: object"
      ]
     },
     "execution_count": 28,
     "metadata": {},
     "output_type": "execute_result"
    }
   ],
   "source": [
    "pop_data.loc['.Alabama'] # label-based row access, same result as iloc above"
   ]
  },
  {
   "cell_type": "code",
   "execution_count": 31,
   "metadata": {
    "collapsed": false
   },
   "outputs": [
    {
     "data": {
      "text/plain": [
       "Census    4,779,736\n",
       "2010      4,785,822\n",
       "Name: .Alabama, dtype: object"
      ]
     },
     "execution_count": 31,
     "metadata": {},
     "output_type": "execute_result"
    }
   ],
   "source": [
    "pop_data.loc['.Alabama', ['Census', '2010']]"
   ]
  },
  {
   "cell_type": "code",
   "execution_count": 33,
   "metadata": {
    "collapsed": false
   },
   "outputs": [
    {
     "data": {
      "text/html": [
       "<div>\n",
       "<table border=\"1\" class=\"dataframe\">\n",
       "  <thead>\n",
       "    <tr style=\"text-align: right;\">\n",
       "      <th></th>\n",
       "      <th>Census</th>\n",
       "      <th>Estimates Base</th>\n",
       "      <th>2010</th>\n",
       "      <th>2011</th>\n",
       "      <th>2012</th>\n",
       "      <th>2013</th>\n",
       "      <th>2014</th>\n",
       "    </tr>\n",
       "    <tr>\n",
       "      <th>geographic_area</th>\n",
       "      <th></th>\n",
       "      <th></th>\n",
       "      <th></th>\n",
       "      <th></th>\n",
       "      <th></th>\n",
       "      <th></th>\n",
       "      <th></th>\n",
       "    </tr>\n",
       "  </thead>\n",
       "  <tbody>\n",
       "    <tr>\n",
       "      <th>.Alabama</th>\n",
       "      <td>4,779,736</td>\n",
       "      <td>4,780,127</td>\n",
       "      <td>4,785,822</td>\n",
       "      <td>4,801,695</td>\n",
       "      <td>4,817,484</td>\n",
       "      <td>4,833,996</td>\n",
       "      <td>4,849,377</td>\n",
       "    </tr>\n",
       "    <tr>\n",
       "      <th>.North Carolina</th>\n",
       "      <td>9,535,483</td>\n",
       "      <td>9,535,691</td>\n",
       "      <td>9,559,488</td>\n",
       "      <td>9,651,502</td>\n",
       "      <td>9,748,181</td>\n",
       "      <td>9,848,917</td>\n",
       "      <td>9,943,964</td>\n",
       "    </tr>\n",
       "  </tbody>\n",
       "</table>\n",
       "</div>"
      ],
      "text/plain": [
       "                    Census Estimates Base       2010       2011       2012  \\\n",
       "geographic_area                                                              \n",
       ".Alabama         4,779,736      4,780,127  4,785,822  4,801,695  4,817,484   \n",
       ".North Carolina  9,535,483      9,535,691  9,559,488  9,651,502  9,748,181   \n",
       "\n",
       "                      2013       2014  \n",
       "geographic_area                        \n",
       ".Alabama         4,833,996  4,849,377  \n",
       ".North Carolina  9,848,917  9,943,964  "
      ]
     },
     "execution_count": 33,
     "metadata": {},
     "output_type": "execute_result"
    }
   ],
   "source": [
    "pop_data.loc[['.Alabama', '.North Carolina']]"
   ]
  },
  {
   "cell_type": "code",
   "execution_count": 35,
   "metadata": {
    "collapsed": false
   },
   "outputs": [
    {
     "data": {
      "text/html": [
       "<div>\n",
       "<table border=\"1\" class=\"dataframe\">\n",
       "  <thead>\n",
       "    <tr style=\"text-align: right;\">\n",
       "      <th></th>\n",
       "      <th>Census</th>\n",
       "      <th>Estimates Base</th>\n",
       "      <th>2010</th>\n",
       "      <th>2011</th>\n",
       "      <th>2012</th>\n",
       "      <th>2013</th>\n",
       "      <th>2014</th>\n",
       "    </tr>\n",
       "    <tr>\n",
       "      <th>geographic_area</th>\n",
       "      <th></th>\n",
       "      <th></th>\n",
       "      <th></th>\n",
       "      <th></th>\n",
       "      <th></th>\n",
       "      <th></th>\n",
       "      <th></th>\n",
       "    </tr>\n",
       "  </thead>\n",
       "  <tbody>\n",
       "    <tr>\n",
       "      <th>.West Virginia</th>\n",
       "      <td>1,852,994</td>\n",
       "      <td>1,853,033</td>\n",
       "      <td>1,854,176</td>\n",
       "      <td>1,854,982</td>\n",
       "      <td>1,856,313</td>\n",
       "      <td>1,853,595</td>\n",
       "      <td>1,850,326</td>\n",
       "    </tr>\n",
       "    <tr>\n",
       "      <th>.Wisconsin</th>\n",
       "      <td>5,686,986</td>\n",
       "      <td>5,687,289</td>\n",
       "      <td>5,689,268</td>\n",
       "      <td>5,708,785</td>\n",
       "      <td>5,724,888</td>\n",
       "      <td>5,742,953</td>\n",
       "      <td>5,757,564</td>\n",
       "    </tr>\n",
       "    <tr>\n",
       "      <th>.Wyoming</th>\n",
       "      <td>563,626</td>\n",
       "      <td>563,767</td>\n",
       "      <td>564,358</td>\n",
       "      <td>567,631</td>\n",
       "      <td>576,893</td>\n",
       "      <td>583,223</td>\n",
       "      <td>584,153</td>\n",
       "    </tr>\n",
       "    <tr>\n",
       "      <th>NaN</th>\n",
       "      <td>NaN</td>\n",
       "      <td>NaN</td>\n",
       "      <td>NaN</td>\n",
       "      <td>NaN</td>\n",
       "      <td>NaN</td>\n",
       "      <td>NaN</td>\n",
       "      <td>NaN</td>\n",
       "    </tr>\n",
       "    <tr>\n",
       "      <th>Puerto Rico</th>\n",
       "      <td>3,725,789</td>\n",
       "      <td>3,726,157</td>\n",
       "      <td>3,721,527</td>\n",
       "      <td>3,686,771</td>\n",
       "      <td>3,642,281</td>\n",
       "      <td>3,595,839</td>\n",
       "      <td>3,548,397</td>\n",
       "    </tr>\n",
       "    <tr>\n",
       "      <th>Note: The estimates are based on the 2010 Census and reflect changes to the April 1, 2010 population due to the Count Question Resolution program and geographic program revisions. See Geographic Terms and Definitions at http://www.census.gov/popest/about/geo/terms.html for a list of the states that are included in each region.  All geographic boundaries for the 2014 population estimates series are defined as of January 1, 2014.  For population estimates methodology statements, see http://www.census.gov/popest/methodology/index.html.</th>\n",
       "      <td>NaN</td>\n",
       "      <td>NaN</td>\n",
       "      <td>NaN</td>\n",
       "      <td>NaN</td>\n",
       "      <td>NaN</td>\n",
       "      <td>NaN</td>\n",
       "      <td>NaN</td>\n",
       "    </tr>\n",
       "    <tr>\n",
       "      <th>Suggested Citation:</th>\n",
       "      <td>NaN</td>\n",
       "      <td>NaN</td>\n",
       "      <td>NaN</td>\n",
       "      <td>NaN</td>\n",
       "      <td>NaN</td>\n",
       "      <td>NaN</td>\n",
       "      <td>NaN</td>\n",
       "    </tr>\n",
       "    <tr>\n",
       "      <th>Table 1. Annual Estimates of the Resident Population for the United States, Regions, States, and Puerto Rico: April 1, 2010 to July 1, 2014 (NST-EST2014-01)</th>\n",
       "      <td>NaN</td>\n",
       "      <td>NaN</td>\n",
       "      <td>NaN</td>\n",
       "      <td>NaN</td>\n",
       "      <td>NaN</td>\n",
       "      <td>NaN</td>\n",
       "      <td>NaN</td>\n",
       "    </tr>\n",
       "    <tr>\n",
       "      <th>Source: U.S. Census Bureau, Population Division</th>\n",
       "      <td>NaN</td>\n",
       "      <td>NaN</td>\n",
       "      <td>NaN</td>\n",
       "      <td>NaN</td>\n",
       "      <td>NaN</td>\n",
       "      <td>NaN</td>\n",
       "      <td>NaN</td>\n",
       "    </tr>\n",
       "    <tr>\n",
       "      <th>Release Date: December 2014</th>\n",
       "      <td>NaN</td>\n",
       "      <td>NaN</td>\n",
       "      <td>NaN</td>\n",
       "      <td>NaN</td>\n",
       "      <td>NaN</td>\n",
       "      <td>NaN</td>\n",
       "      <td>NaN</td>\n",
       "    </tr>\n",
       "  </tbody>\n",
       "</table>\n",
       "</div>"
      ],
      "text/plain": [
       "                                                       Census Estimates Base  \\\n",
       "geographic_area                                                                \n",
       ".West Virginia                                      1,852,994      1,853,033   \n",
       ".Wisconsin                                          5,686,986      5,687,289   \n",
       ".Wyoming                                              563,626        563,767   \n",
       "NaN                                                       NaN            NaN   \n",
       "Puerto Rico                                         3,725,789      3,726,157   \n",
       "Note: The estimates are based on the 2010 Censu...        NaN            NaN   \n",
       "Suggested Citation:                                       NaN            NaN   \n",
       "Table 1. Annual Estimates of the Resident Popul...        NaN            NaN   \n",
       "Source: U.S. Census Bureau, Population Division           NaN            NaN   \n",
       "Release Date: December 2014                               NaN            NaN   \n",
       "\n",
       "                                                         2010       2011  \\\n",
       "geographic_area                                                            \n",
       ".West Virginia                                      1,854,176  1,854,982   \n",
       ".Wisconsin                                          5,689,268  5,708,785   \n",
       ".Wyoming                                              564,358    567,631   \n",
       "NaN                                                       NaN        NaN   \n",
       "Puerto Rico                                         3,721,527  3,686,771   \n",
       "Note: The estimates are based on the 2010 Censu...        NaN        NaN   \n",
       "Suggested Citation:                                       NaN        NaN   \n",
       "Table 1. Annual Estimates of the Resident Popul...        NaN        NaN   \n",
       "Source: U.S. Census Bureau, Population Division           NaN        NaN   \n",
       "Release Date: December 2014                               NaN        NaN   \n",
       "\n",
       "                                                         2012       2013  \\\n",
       "geographic_area                                                            \n",
       ".West Virginia                                      1,856,313  1,853,595   \n",
       ".Wisconsin                                          5,724,888  5,742,953   \n",
       ".Wyoming                                              576,893    583,223   \n",
       "NaN                                                       NaN        NaN   \n",
       "Puerto Rico                                         3,642,281  3,595,839   \n",
       "Note: The estimates are based on the 2010 Censu...        NaN        NaN   \n",
       "Suggested Citation:                                       NaN        NaN   \n",
       "Table 1. Annual Estimates of the Resident Popul...        NaN        NaN   \n",
       "Source: U.S. Census Bureau, Population Division           NaN        NaN   \n",
       "Release Date: December 2014                               NaN        NaN   \n",
       "\n",
       "                                                         2014  \n",
       "geographic_area                                                \n",
       ".West Virginia                                      1,850,326  \n",
       ".Wisconsin                                          5,757,564  \n",
       ".Wyoming                                              584,153  \n",
       "NaN                                                       NaN  \n",
       "Puerto Rico                                         3,548,397  \n",
       "Note: The estimates are based on the 2010 Censu...        NaN  \n",
       "Suggested Citation:                                       NaN  \n",
       "Table 1. Annual Estimates of the Resident Popul...        NaN  \n",
       "Source: U.S. Census Bureau, Population Division           NaN  \n",
       "Release Date: December 2014                               NaN  "
      ]
     },
     "execution_count": 35,
     "metadata": {},
     "output_type": "execute_result"
    }
   ],
   "source": [
    "pop_data.tail(10)"
   ]
  },
  {
   "cell_type": "code",
   "execution_count": 37,
   "metadata": {
    "collapsed": false
   },
   "outputs": [
    {
     "data": {
      "text/html": [
       "<div>\n",
       "<table border=\"1\" class=\"dataframe\">\n",
       "  <thead>\n",
       "    <tr style=\"text-align: right;\">\n",
       "      <th></th>\n",
       "      <th>Census</th>\n",
       "      <th>Estimates Base</th>\n",
       "      <th>2010</th>\n",
       "      <th>2011</th>\n",
       "      <th>2012</th>\n",
       "      <th>2013</th>\n",
       "      <th>2014</th>\n",
       "    </tr>\n",
       "    <tr>\n",
       "      <th>geographic_area</th>\n",
       "      <th></th>\n",
       "      <th></th>\n",
       "      <th></th>\n",
       "      <th></th>\n",
       "      <th></th>\n",
       "      <th></th>\n",
       "      <th></th>\n",
       "    </tr>\n",
       "  </thead>\n",
       "  <tbody>\n",
       "    <tr>\n",
       "      <th>.Washington</th>\n",
       "      <td>6,724,540</td>\n",
       "      <td>6,724,543</td>\n",
       "      <td>6,741,911</td>\n",
       "      <td>6,822,112</td>\n",
       "      <td>6,896,325</td>\n",
       "      <td>6,973,742</td>\n",
       "      <td>7,061,530</td>\n",
       "    </tr>\n",
       "    <tr>\n",
       "      <th>.West Virginia</th>\n",
       "      <td>1,852,994</td>\n",
       "      <td>1,853,033</td>\n",
       "      <td>1,854,176</td>\n",
       "      <td>1,854,982</td>\n",
       "      <td>1,856,313</td>\n",
       "      <td>1,853,595</td>\n",
       "      <td>1,850,326</td>\n",
       "    </tr>\n",
       "    <tr>\n",
       "      <th>.Wisconsin</th>\n",
       "      <td>5,686,986</td>\n",
       "      <td>5,687,289</td>\n",
       "      <td>5,689,268</td>\n",
       "      <td>5,708,785</td>\n",
       "      <td>5,724,888</td>\n",
       "      <td>5,742,953</td>\n",
       "      <td>5,757,564</td>\n",
       "    </tr>\n",
       "    <tr>\n",
       "      <th>.Wyoming</th>\n",
       "      <td>563,626</td>\n",
       "      <td>563,767</td>\n",
       "      <td>564,358</td>\n",
       "      <td>567,631</td>\n",
       "      <td>576,893</td>\n",
       "      <td>583,223</td>\n",
       "      <td>584,153</td>\n",
       "    </tr>\n",
       "    <tr>\n",
       "      <th>Puerto Rico</th>\n",
       "      <td>3,725,789</td>\n",
       "      <td>3,726,157</td>\n",
       "      <td>3,721,527</td>\n",
       "      <td>3,686,771</td>\n",
       "      <td>3,642,281</td>\n",
       "      <td>3,595,839</td>\n",
       "      <td>3,548,397</td>\n",
       "    </tr>\n",
       "  </tbody>\n",
       "</table>\n",
       "</div>"
      ],
      "text/plain": [
       "                    Census Estimates Base       2010       2011       2012  \\\n",
       "geographic_area                                                              \n",
       ".Washington      6,724,540      6,724,543  6,741,911  6,822,112  6,896,325   \n",
       ".West Virginia   1,852,994      1,853,033  1,854,176  1,854,982  1,856,313   \n",
       ".Wisconsin       5,686,986      5,687,289  5,689,268  5,708,785  5,724,888   \n",
       ".Wyoming           563,626        563,767    564,358    567,631    576,893   \n",
       "Puerto Rico      3,725,789      3,726,157  3,721,527  3,686,771  3,642,281   \n",
       "\n",
       "                      2013       2014  \n",
       "geographic_area                        \n",
       ".Washington      6,973,742  7,061,530  \n",
       ".West Virginia   1,853,595  1,850,326  \n",
       ".Wisconsin       5,742,953  5,757,564  \n",
       ".Wyoming           583,223    584,153  \n",
       "Puerto Rico      3,595,839  3,548,397  "
      ]
     },
     "execution_count": 37,
     "metadata": {},
     "output_type": "execute_result"
    }
   ],
   "source": [
    "pop_data.dropna().tail()"
   ]
  },
  {
   "cell_type": "code",
   "execution_count": 40,
   "metadata": {
    "collapsed": false
   },
   "outputs": [
    {
     "data": {
      "text/html": [
       "<div>\n",
       "<table border=\"1\" class=\"dataframe\">\n",
       "  <thead>\n",
       "    <tr style=\"text-align: right;\">\n",
       "      <th></th>\n",
       "      <th>Census</th>\n",
       "      <th>Estimates Base</th>\n",
       "      <th>2010</th>\n",
       "      <th>2011</th>\n",
       "      <th>2012</th>\n",
       "      <th>2013</th>\n",
       "      <th>2014</th>\n",
       "    </tr>\n",
       "    <tr>\n",
       "      <th>geographic_area</th>\n",
       "      <th></th>\n",
       "      <th></th>\n",
       "      <th></th>\n",
       "      <th></th>\n",
       "      <th></th>\n",
       "      <th></th>\n",
       "      <th></th>\n",
       "    </tr>\n",
       "  </thead>\n",
       "  <tbody>\n",
       "    <tr>\n",
       "      <th>.West Virginia</th>\n",
       "      <td>1,852,994</td>\n",
       "      <td>1,853,033</td>\n",
       "      <td>1,854,176</td>\n",
       "      <td>1,854,982</td>\n",
       "      <td>1,856,313</td>\n",
       "      <td>1,853,595</td>\n",
       "      <td>1,850,326</td>\n",
       "    </tr>\n",
       "    <tr>\n",
       "      <th>.Wisconsin</th>\n",
       "      <td>5,686,986</td>\n",
       "      <td>5,687,289</td>\n",
       "      <td>5,689,268</td>\n",
       "      <td>5,708,785</td>\n",
       "      <td>5,724,888</td>\n",
       "      <td>5,742,953</td>\n",
       "      <td>5,757,564</td>\n",
       "    </tr>\n",
       "    <tr>\n",
       "      <th>.Wyoming</th>\n",
       "      <td>563,626</td>\n",
       "      <td>563,767</td>\n",
       "      <td>564,358</td>\n",
       "      <td>567,631</td>\n",
       "      <td>576,893</td>\n",
       "      <td>583,223</td>\n",
       "      <td>584,153</td>\n",
       "    </tr>\n",
       "    <tr>\n",
       "      <th>NaN</th>\n",
       "      <td>NaN</td>\n",
       "      <td>NaN</td>\n",
       "      <td>NaN</td>\n",
       "      <td>NaN</td>\n",
       "      <td>NaN</td>\n",
       "      <td>NaN</td>\n",
       "      <td>NaN</td>\n",
       "    </tr>\n",
       "    <tr>\n",
       "      <th>Puerto Rico</th>\n",
       "      <td>3,725,789</td>\n",
       "      <td>3,726,157</td>\n",
       "      <td>3,721,527</td>\n",
       "      <td>3,686,771</td>\n",
       "      <td>3,642,281</td>\n",
       "      <td>3,595,839</td>\n",
       "      <td>3,548,397</td>\n",
       "    </tr>\n",
       "    <tr>\n",
       "      <th>Note: The estimates are based on the 2010 Census and reflect changes to the April 1, 2010 population due to the Count Question Resolution program and geographic program revisions. See Geographic Terms and Definitions at http://www.census.gov/popest/about/geo/terms.html for a list of the states that are included in each region.  All geographic boundaries for the 2014 population estimates series are defined as of January 1, 2014.  For population estimates methodology statements, see http://www.census.gov/popest/methodology/index.html.</th>\n",
       "      <td>NaN</td>\n",
       "      <td>NaN</td>\n",
       "      <td>NaN</td>\n",
       "      <td>NaN</td>\n",
       "      <td>NaN</td>\n",
       "      <td>NaN</td>\n",
       "      <td>NaN</td>\n",
       "    </tr>\n",
       "    <tr>\n",
       "      <th>Suggested Citation:</th>\n",
       "      <td>NaN</td>\n",
       "      <td>NaN</td>\n",
       "      <td>NaN</td>\n",
       "      <td>NaN</td>\n",
       "      <td>NaN</td>\n",
       "      <td>NaN</td>\n",
       "      <td>NaN</td>\n",
       "    </tr>\n",
       "    <tr>\n",
       "      <th>Table 1. Annual Estimates of the Resident Population for the United States, Regions, States, and Puerto Rico: April 1, 2010 to July 1, 2014 (NST-EST2014-01)</th>\n",
       "      <td>NaN</td>\n",
       "      <td>NaN</td>\n",
       "      <td>NaN</td>\n",
       "      <td>NaN</td>\n",
       "      <td>NaN</td>\n",
       "      <td>NaN</td>\n",
       "      <td>NaN</td>\n",
       "    </tr>\n",
       "    <tr>\n",
       "      <th>Source: U.S. Census Bureau, Population Division</th>\n",
       "      <td>NaN</td>\n",
       "      <td>NaN</td>\n",
       "      <td>NaN</td>\n",
       "      <td>NaN</td>\n",
       "      <td>NaN</td>\n",
       "      <td>NaN</td>\n",
       "      <td>NaN</td>\n",
       "    </tr>\n",
       "    <tr>\n",
       "      <th>Release Date: December 2014</th>\n",
       "      <td>NaN</td>\n",
       "      <td>NaN</td>\n",
       "      <td>NaN</td>\n",
       "      <td>NaN</td>\n",
       "      <td>NaN</td>\n",
       "      <td>NaN</td>\n",
       "      <td>NaN</td>\n",
       "    </tr>\n",
       "  </tbody>\n",
       "</table>\n",
       "</div>"
      ],
      "text/plain": [
       "                                                       Census Estimates Base  \\\n",
       "geographic_area                                                                \n",
       ".West Virginia                                      1,852,994      1,853,033   \n",
       ".Wisconsin                                          5,686,986      5,687,289   \n",
       ".Wyoming                                              563,626        563,767   \n",
       "NaN                                                       NaN            NaN   \n",
       "Puerto Rico                                         3,725,789      3,726,157   \n",
       "Note: The estimates are based on the 2010 Censu...        NaN            NaN   \n",
       "Suggested Citation:                                       NaN            NaN   \n",
       "Table 1. Annual Estimates of the Resident Popul...        NaN            NaN   \n",
       "Source: U.S. Census Bureau, Population Division           NaN            NaN   \n",
       "Release Date: December 2014                               NaN            NaN   \n",
       "\n",
       "                                                         2010       2011  \\\n",
       "geographic_area                                                            \n",
       ".West Virginia                                      1,854,176  1,854,982   \n",
       ".Wisconsin                                          5,689,268  5,708,785   \n",
       ".Wyoming                                              564,358    567,631   \n",
       "NaN                                                       NaN        NaN   \n",
       "Puerto Rico                                         3,721,527  3,686,771   \n",
       "Note: The estimates are based on the 2010 Censu...        NaN        NaN   \n",
       "Suggested Citation:                                       NaN        NaN   \n",
       "Table 1. Annual Estimates of the Resident Popul...        NaN        NaN   \n",
       "Source: U.S. Census Bureau, Population Division           NaN        NaN   \n",
       "Release Date: December 2014                               NaN        NaN   \n",
       "\n",
       "                                                         2012       2013  \\\n",
       "geographic_area                                                            \n",
       ".West Virginia                                      1,856,313  1,853,595   \n",
       ".Wisconsin                                          5,724,888  5,742,953   \n",
       ".Wyoming                                              576,893    583,223   \n",
       "NaN                                                       NaN        NaN   \n",
       "Puerto Rico                                         3,642,281  3,595,839   \n",
       "Note: The estimates are based on the 2010 Censu...        NaN        NaN   \n",
       "Suggested Citation:                                       NaN        NaN   \n",
       "Table 1. Annual Estimates of the Resident Popul...        NaN        NaN   \n",
       "Source: U.S. Census Bureau, Population Division           NaN        NaN   \n",
       "Release Date: December 2014                               NaN        NaN   \n",
       "\n",
       "                                                         2014  \n",
       "geographic_area                                                \n",
       ".West Virginia                                      1,850,326  \n",
       ".Wisconsin                                          5,757,564  \n",
       ".Wyoming                                              584,153  \n",
       "NaN                                                       NaN  \n",
       "Puerto Rico                                         3,548,397  \n",
       "Note: The estimates are based on the 2010 Censu...        NaN  \n",
       "Suggested Citation:                                       NaN  \n",
       "Table 1. Annual Estimates of the Resident Popul...        NaN  \n",
       "Source: U.S. Census Bureau, Population Division           NaN  \n",
       "Release Date: December 2014                               NaN  "
      ]
     },
     "execution_count": 40,
     "metadata": {},
     "output_type": "execute_result"
    }
   ],
   "source": [
    "pop_data.tail(10)"
   ]
  },
  {
   "cell_type": "code",
   "execution_count": 42,
   "metadata": {
    "collapsed": false
   },
   "outputs": [],
   "source": [
    "pop_data = pop_data.dropna(how='all')"
   ]
  },
  {
   "cell_type": "code",
   "execution_count": 43,
   "metadata": {
    "collapsed": false
   },
   "outputs": [
    {
     "data": {
      "text/html": [
       "<div>\n",
       "<table border=\"1\" class=\"dataframe\">\n",
       "  <thead>\n",
       "    <tr style=\"text-align: right;\">\n",
       "      <th></th>\n",
       "      <th>Census</th>\n",
       "      <th>Estimates Base</th>\n",
       "      <th>2010</th>\n",
       "      <th>2011</th>\n",
       "      <th>2012</th>\n",
       "      <th>2013</th>\n",
       "      <th>2014</th>\n",
       "    </tr>\n",
       "    <tr>\n",
       "      <th>geographic_area</th>\n",
       "      <th></th>\n",
       "      <th></th>\n",
       "      <th></th>\n",
       "      <th></th>\n",
       "      <th></th>\n",
       "      <th></th>\n",
       "      <th></th>\n",
       "    </tr>\n",
       "  </thead>\n",
       "  <tbody>\n",
       "    <tr>\n",
       "      <th>.Washington</th>\n",
       "      <td>6,724,540</td>\n",
       "      <td>6,724,543</td>\n",
       "      <td>6,741,911</td>\n",
       "      <td>6,822,112</td>\n",
       "      <td>6,896,325</td>\n",
       "      <td>6,973,742</td>\n",
       "      <td>7,061,530</td>\n",
       "    </tr>\n",
       "    <tr>\n",
       "      <th>.West Virginia</th>\n",
       "      <td>1,852,994</td>\n",
       "      <td>1,853,033</td>\n",
       "      <td>1,854,176</td>\n",
       "      <td>1,854,982</td>\n",
       "      <td>1,856,313</td>\n",
       "      <td>1,853,595</td>\n",
       "      <td>1,850,326</td>\n",
       "    </tr>\n",
       "    <tr>\n",
       "      <th>.Wisconsin</th>\n",
       "      <td>5,686,986</td>\n",
       "      <td>5,687,289</td>\n",
       "      <td>5,689,268</td>\n",
       "      <td>5,708,785</td>\n",
       "      <td>5,724,888</td>\n",
       "      <td>5,742,953</td>\n",
       "      <td>5,757,564</td>\n",
       "    </tr>\n",
       "    <tr>\n",
       "      <th>.Wyoming</th>\n",
       "      <td>563,626</td>\n",
       "      <td>563,767</td>\n",
       "      <td>564,358</td>\n",
       "      <td>567,631</td>\n",
       "      <td>576,893</td>\n",
       "      <td>583,223</td>\n",
       "      <td>584,153</td>\n",
       "    </tr>\n",
       "    <tr>\n",
       "      <th>Puerto Rico</th>\n",
       "      <td>3,725,789</td>\n",
       "      <td>3,726,157</td>\n",
       "      <td>3,721,527</td>\n",
       "      <td>3,686,771</td>\n",
       "      <td>3,642,281</td>\n",
       "      <td>3,595,839</td>\n",
       "      <td>3,548,397</td>\n",
       "    </tr>\n",
       "  </tbody>\n",
       "</table>\n",
       "</div>"
      ],
      "text/plain": [
       "                    Census Estimates Base       2010       2011       2012  \\\n",
       "geographic_area                                                              \n",
       ".Washington      6,724,540      6,724,543  6,741,911  6,822,112  6,896,325   \n",
       ".West Virginia   1,852,994      1,853,033  1,854,176  1,854,982  1,856,313   \n",
       ".Wisconsin       5,686,986      5,687,289  5,689,268  5,708,785  5,724,888   \n",
       ".Wyoming           563,626        563,767    564,358    567,631    576,893   \n",
       "Puerto Rico      3,725,789      3,726,157  3,721,527  3,686,771  3,642,281   \n",
       "\n",
       "                      2013       2014  \n",
       "geographic_area                        \n",
       ".Washington      6,973,742  7,061,530  \n",
       ".West Virginia   1,853,595  1,850,326  \n",
       ".Wisconsin       5,742,953  5,757,564  \n",
       ".Wyoming           583,223    584,153  \n",
       "Puerto Rico      3,595,839  3,548,397  "
      ]
     },
     "execution_count": 43,
     "metadata": {},
     "output_type": "execute_result"
    }
   ],
   "source": [
    "pop_data.tail()"
   ]
  },
  {
   "cell_type": "code",
   "execution_count": 50,
   "metadata": {
    "collapsed": false
   },
   "outputs": [
    {
     "data": {
      "text/html": [
       "<div>\n",
       "<table border=\"1\" class=\"dataframe\">\n",
       "  <thead>\n",
       "    <tr style=\"text-align: right;\">\n",
       "      <th></th>\n",
       "      <th>Census</th>\n",
       "      <th>Estimates Base</th>\n",
       "      <th>2010</th>\n",
       "      <th>2011</th>\n",
       "      <th>2012</th>\n",
       "      <th>2013</th>\n",
       "      <th>2014</th>\n",
       "    </tr>\n",
       "    <tr>\n",
       "      <th>geographic_area</th>\n",
       "      <th></th>\n",
       "      <th></th>\n",
       "      <th></th>\n",
       "      <th></th>\n",
       "      <th></th>\n",
       "      <th></th>\n",
       "      <th></th>\n",
       "    </tr>\n",
       "  </thead>\n",
       "  <tbody>\n",
       "    <tr>\n",
       "      <th>.Virginia</th>\n",
       "      <td>8,001,024</td>\n",
       "      <td>8,001,023</td>\n",
       "      <td>8,025,376</td>\n",
       "      <td>8,110,188</td>\n",
       "      <td>8,193,422</td>\n",
       "      <td>8,270,345</td>\n",
       "      <td>8,326,289</td>\n",
       "    </tr>\n",
       "    <tr>\n",
       "      <th>.Washington</th>\n",
       "      <td>6,724,540</td>\n",
       "      <td>6,724,543</td>\n",
       "      <td>6,741,911</td>\n",
       "      <td>6,822,112</td>\n",
       "      <td>6,896,325</td>\n",
       "      <td>6,973,742</td>\n",
       "      <td>7,061,530</td>\n",
       "    </tr>\n",
       "    <tr>\n",
       "      <th>.West Virginia</th>\n",
       "      <td>1,852,994</td>\n",
       "      <td>1,853,033</td>\n",
       "      <td>1,854,176</td>\n",
       "      <td>1,854,982</td>\n",
       "      <td>1,856,313</td>\n",
       "      <td>1,853,595</td>\n",
       "      <td>1,850,326</td>\n",
       "    </tr>\n",
       "    <tr>\n",
       "      <th>.Wisconsin</th>\n",
       "      <td>5,686,986</td>\n",
       "      <td>5,687,289</td>\n",
       "      <td>5,689,268</td>\n",
       "      <td>5,708,785</td>\n",
       "      <td>5,724,888</td>\n",
       "      <td>5,742,953</td>\n",
       "      <td>5,757,564</td>\n",
       "    </tr>\n",
       "    <tr>\n",
       "      <th>.Wyoming</th>\n",
       "      <td>563,626</td>\n",
       "      <td>563,767</td>\n",
       "      <td>564,358</td>\n",
       "      <td>567,631</td>\n",
       "      <td>576,893</td>\n",
       "      <td>583,223</td>\n",
       "      <td>584,153</td>\n",
       "    </tr>\n",
       "  </tbody>\n",
       "</table>\n",
       "</div>"
      ],
      "text/plain": [
       "                    Census Estimates Base       2010       2011       2012  \\\n",
       "geographic_area                                                              \n",
       ".Virginia        8,001,024      8,001,023  8,025,376  8,110,188  8,193,422   \n",
       ".Washington      6,724,540      6,724,543  6,741,911  6,822,112  6,896,325   \n",
       ".West Virginia   1,852,994      1,853,033  1,854,176  1,854,982  1,856,313   \n",
       ".Wisconsin       5,686,986      5,687,289  5,689,268  5,708,785  5,724,888   \n",
       ".Wyoming           563,626        563,767    564,358    567,631    576,893   \n",
       "\n",
       "                      2013       2014  \n",
       "geographic_area                        \n",
       ".Virginia        8,270,345  8,326,289  \n",
       ".Washington      6,973,742  7,061,530  \n",
       ".West Virginia   1,853,595  1,850,326  \n",
       ".Wisconsin       5,742,953  5,757,564  \n",
       ".Wyoming           583,223    584,153  "
      ]
     },
     "execution_count": 50,
     "metadata": {},
     "output_type": "execute_result"
    }
   ],
   "source": [
    "# drop a row by naming the index\n",
    "pop_data.drop('Puerto Rico', axis=0).tail()"
   ]
  },
  {
   "cell_type": "code",
   "execution_count": 51,
   "metadata": {
    "collapsed": false
   },
   "outputs": [
    {
     "data": {
      "text/html": [
       "<div>\n",
       "<table border=\"1\" class=\"dataframe\">\n",
       "  <thead>\n",
       "    <tr style=\"text-align: right;\">\n",
       "      <th></th>\n",
       "      <th>Census</th>\n",
       "      <th>Estimates Base</th>\n",
       "      <th>2011</th>\n",
       "      <th>2012</th>\n",
       "      <th>2013</th>\n",
       "      <th>2014</th>\n",
       "    </tr>\n",
       "    <tr>\n",
       "      <th>geographic_area</th>\n",
       "      <th></th>\n",
       "      <th></th>\n",
       "      <th></th>\n",
       "      <th></th>\n",
       "      <th></th>\n",
       "      <th></th>\n",
       "    </tr>\n",
       "  </thead>\n",
       "  <tbody>\n",
       "    <tr>\n",
       "      <th>United States</th>\n",
       "      <td>308,745,538</td>\n",
       "      <td>308,758,105</td>\n",
       "      <td>311,721,632</td>\n",
       "      <td>314,112,078</td>\n",
       "      <td>316,497,531</td>\n",
       "      <td>318,857,056</td>\n",
       "    </tr>\n",
       "    <tr>\n",
       "      <th>Northeast</th>\n",
       "      <td>55,317,240</td>\n",
       "      <td>55,318,348</td>\n",
       "      <td>55,635,670</td>\n",
       "      <td>55,832,038</td>\n",
       "      <td>56,028,220</td>\n",
       "      <td>56,152,333</td>\n",
       "    </tr>\n",
       "    <tr>\n",
       "      <th>Midwest</th>\n",
       "      <td>66,927,001</td>\n",
       "      <td>66,929,898</td>\n",
       "      <td>67,149,657</td>\n",
       "      <td>67,331,458</td>\n",
       "      <td>67,567,871</td>\n",
       "      <td>67,745,108</td>\n",
       "    </tr>\n",
       "    <tr>\n",
       "      <th>South</th>\n",
       "      <td>114,555,744</td>\n",
       "      <td>114,562,951</td>\n",
       "      <td>116,089,908</td>\n",
       "      <td>117,346,322</td>\n",
       "      <td>118,522,802</td>\n",
       "      <td>119,771,934</td>\n",
       "    </tr>\n",
       "    <tr>\n",
       "      <th>West</th>\n",
       "      <td>71,945,553</td>\n",
       "      <td>71,946,908</td>\n",
       "      <td>72,846,397</td>\n",
       "      <td>73,602,260</td>\n",
       "      <td>74,378,638</td>\n",
       "      <td>75,187,681</td>\n",
       "    </tr>\n",
       "  </tbody>\n",
       "</table>\n",
       "</div>"
      ],
      "text/plain": [
       "                      Census Estimates Base         2011         2012  \\\n",
       "geographic_area                                                         \n",
       "United States    308,745,538    308,758,105  311,721,632  314,112,078   \n",
       "Northeast         55,317,240     55,318,348   55,635,670   55,832,038   \n",
       "Midwest           66,927,001     66,929,898   67,149,657   67,331,458   \n",
       "South            114,555,744    114,562,951  116,089,908  117,346,322   \n",
       "West              71,945,553     71,946,908   72,846,397   73,602,260   \n",
       "\n",
       "                        2013         2014  \n",
       "geographic_area                            \n",
       "United States    316,497,531  318,857,056  \n",
       "Northeast         56,028,220   56,152,333  \n",
       "Midwest           67,567,871   67,745,108  \n",
       "South            118,522,802  119,771,934  \n",
       "West              74,378,638   75,187,681  "
      ]
     },
     "execution_count": 51,
     "metadata": {},
     "output_type": "execute_result"
    }
   ],
   "source": [
    "# drop a column by naming the column and the axis\n",
    "pop_data.drop('2010', axis=1).head()"
   ]
  },
  {
   "cell_type": "code",
   "execution_count": 52,
   "metadata": {
    "collapsed": false
   },
   "outputs": [
    {
     "data": {
      "text/plain": [
       "Index(['United States', 'Northeast', 'Midwest', 'South', 'West', '.Alabama',\n",
       "       '.Alaska', '.Arizona', '.Arkansas', '.California', '.Colorado',\n",
       "       '.Connecticut', '.Delaware', '.District of Columbia', '.Florida',\n",
       "       '.Georgia', '.Hawaii', '.Idaho', '.Illinois', '.Indiana', '.Iowa',\n",
       "       '.Kansas', '.Kentucky', '.Louisiana', '.Maine', '.Maryland',\n",
       "       '.Massachusetts', '.Michigan', '.Minnesota', '.Mississippi',\n",
       "       '.Missouri', '.Montana', '.Nebraska', '.Nevada', '.New Hampshire',\n",
       "       '.New Jersey', '.New Mexico', '.New York', '.North Carolina',\n",
       "       '.North Dakota', '.Ohio', '.Oklahoma', '.Oregon', '.Pennsylvania',\n",
       "       '.Rhode Island', '.South Carolina', '.South Dakota', '.Tennessee',\n",
       "       '.Texas', '.Utah', '.Vermont', '.Virginia', '.Washington',\n",
       "       '.West Virginia', '.Wisconsin', '.Wyoming', 'Puerto Rico'],\n",
       "      dtype='object', name='geographic_area')"
      ]
     },
     "execution_count": 52,
     "metadata": {},
     "output_type": "execute_result"
    }
   ],
   "source": [
    "pop_data.index"
   ]
  },
  {
   "cell_type": "code",
   "execution_count": 59,
   "metadata": {
    "collapsed": false
   },
   "outputs": [],
   "source": [
    "i_as_series = pop_data.index.to_series()\n",
    "pop_data.index = i_as_series.str.replace(r'^\\.', '')"
   ]
  },
  {
   "cell_type": "code",
   "execution_count": 62,
   "metadata": {
    "collapsed": false
   },
   "outputs": [
    {
     "data": {
      "text/html": [
       "<div>\n",
       "<table border=\"1\" class=\"dataframe\">\n",
       "  <thead>\n",
       "    <tr style=\"text-align: right;\">\n",
       "      <th></th>\n",
       "      <th>Census</th>\n",
       "      <th>Estimates Base</th>\n",
       "      <th>2010</th>\n",
       "      <th>2011</th>\n",
       "      <th>2012</th>\n",
       "      <th>2013</th>\n",
       "      <th>2014</th>\n",
       "    </tr>\n",
       "    <tr>\n",
       "      <th>geographic_area</th>\n",
       "      <th></th>\n",
       "      <th></th>\n",
       "      <th></th>\n",
       "      <th></th>\n",
       "      <th></th>\n",
       "      <th></th>\n",
       "      <th></th>\n",
       "    </tr>\n",
       "  </thead>\n",
       "  <tbody>\n",
       "    <tr>\n",
       "      <th>United States</th>\n",
       "      <td>308,745,538</td>\n",
       "      <td>308,758,105</td>\n",
       "      <td>309,347,057</td>\n",
       "      <td>311,721,632</td>\n",
       "      <td>314,112,078</td>\n",
       "      <td>316,497,531</td>\n",
       "      <td>318,857,056</td>\n",
       "    </tr>\n",
       "    <tr>\n",
       "      <th>Northeast</th>\n",
       "      <td>55,317,240</td>\n",
       "      <td>55,318,348</td>\n",
       "      <td>55,381,690</td>\n",
       "      <td>55,635,670</td>\n",
       "      <td>55,832,038</td>\n",
       "      <td>56,028,220</td>\n",
       "      <td>56,152,333</td>\n",
       "    </tr>\n",
       "    <tr>\n",
       "      <th>Midwest</th>\n",
       "      <td>66,927,001</td>\n",
       "      <td>66,929,898</td>\n",
       "      <td>66,972,390</td>\n",
       "      <td>67,149,657</td>\n",
       "      <td>67,331,458</td>\n",
       "      <td>67,567,871</td>\n",
       "      <td>67,745,108</td>\n",
       "    </tr>\n",
       "    <tr>\n",
       "      <th>South</th>\n",
       "      <td>114,555,744</td>\n",
       "      <td>114,562,951</td>\n",
       "      <td>114,871,231</td>\n",
       "      <td>116,089,908</td>\n",
       "      <td>117,346,322</td>\n",
       "      <td>118,522,802</td>\n",
       "      <td>119,771,934</td>\n",
       "    </tr>\n",
       "    <tr>\n",
       "      <th>West</th>\n",
       "      <td>71,945,553</td>\n",
       "      <td>71,946,908</td>\n",
       "      <td>72,121,746</td>\n",
       "      <td>72,846,397</td>\n",
       "      <td>73,602,260</td>\n",
       "      <td>74,378,638</td>\n",
       "      <td>75,187,681</td>\n",
       "    </tr>\n",
       "    <tr>\n",
       "      <th>Alabama</th>\n",
       "      <td>4,779,736</td>\n",
       "      <td>4,780,127</td>\n",
       "      <td>4,785,822</td>\n",
       "      <td>4,801,695</td>\n",
       "      <td>4,817,484</td>\n",
       "      <td>4,833,996</td>\n",
       "      <td>4,849,377</td>\n",
       "    </tr>\n",
       "    <tr>\n",
       "      <th>Alaska</th>\n",
       "      <td>710,231</td>\n",
       "      <td>710,249</td>\n",
       "      <td>713,856</td>\n",
       "      <td>722,572</td>\n",
       "      <td>731,081</td>\n",
       "      <td>737,259</td>\n",
       "      <td>736,732</td>\n",
       "    </tr>\n",
       "    <tr>\n",
       "      <th>Arizona</th>\n",
       "      <td>6,392,017</td>\n",
       "      <td>6,392,310</td>\n",
       "      <td>6,411,999</td>\n",
       "      <td>6,472,867</td>\n",
       "      <td>6,556,236</td>\n",
       "      <td>6,634,997</td>\n",
       "      <td>6,731,484</td>\n",
       "    </tr>\n",
       "    <tr>\n",
       "      <th>Arkansas</th>\n",
       "      <td>2,915,918</td>\n",
       "      <td>2,915,958</td>\n",
       "      <td>2,922,297</td>\n",
       "      <td>2,938,430</td>\n",
       "      <td>2,949,300</td>\n",
       "      <td>2,958,765</td>\n",
       "      <td>2,966,369</td>\n",
       "    </tr>\n",
       "    <tr>\n",
       "      <th>California</th>\n",
       "      <td>37,253,956</td>\n",
       "      <td>37,254,503</td>\n",
       "      <td>37,336,011</td>\n",
       "      <td>37,701,901</td>\n",
       "      <td>38,062,780</td>\n",
       "      <td>38,431,393</td>\n",
       "      <td>38,802,500</td>\n",
       "    </tr>\n",
       "  </tbody>\n",
       "</table>\n",
       "</div>"
      ],
      "text/plain": [
       "                      Census Estimates Base         2010         2011  \\\n",
       "geographic_area                                                         \n",
       "United States    308,745,538    308,758,105  309,347,057  311,721,632   \n",
       "Northeast         55,317,240     55,318,348   55,381,690   55,635,670   \n",
       "Midwest           66,927,001     66,929,898   66,972,390   67,149,657   \n",
       "South            114,555,744    114,562,951  114,871,231  116,089,908   \n",
       "West              71,945,553     71,946,908   72,121,746   72,846,397   \n",
       "Alabama            4,779,736      4,780,127    4,785,822    4,801,695   \n",
       "Alaska               710,231        710,249      713,856      722,572   \n",
       "Arizona            6,392,017      6,392,310    6,411,999    6,472,867   \n",
       "Arkansas           2,915,918      2,915,958    2,922,297    2,938,430   \n",
       "California        37,253,956     37,254,503   37,336,011   37,701,901   \n",
       "\n",
       "                        2012         2013         2014  \n",
       "geographic_area                                         \n",
       "United States    314,112,078  316,497,531  318,857,056  \n",
       "Northeast         55,832,038   56,028,220   56,152,333  \n",
       "Midwest           67,331,458   67,567,871   67,745,108  \n",
       "South            117,346,322  118,522,802  119,771,934  \n",
       "West              73,602,260   74,378,638   75,187,681  \n",
       "Alabama            4,817,484    4,833,996    4,849,377  \n",
       "Alaska               731,081      737,259      736,732  \n",
       "Arizona            6,556,236    6,634,997    6,731,484  \n",
       "Arkansas           2,949,300    2,958,765    2,966,369  \n",
       "California        38,062,780   38,431,393   38,802,500  "
      ]
     },
     "execution_count": 62,
     "metadata": {},
     "output_type": "execute_result"
    }
   ],
   "source": [
    "pop_data.head(10)"
   ]
  },
  {
   "cell_type": "code",
   "execution_count": 72,
   "metadata": {
    "collapsed": false
   },
   "outputs": [],
   "source": [
    "# Eliminate territories using slicing\n",
    "\n",
    "# Note that slicing works on dataframes, \n",
    "# but indexing with a number [5] requires \n",
    "# using iloc or non-label-based indexes\n",
    "\n",
    "pop_data = pop_data[5:]"
   ]
  },
  {
   "cell_type": "code",
   "execution_count": 73,
   "metadata": {
    "collapsed": false
   },
   "outputs": [
    {
     "data": {
      "text/html": [
       "<div>\n",
       "<table border=\"1\" class=\"dataframe\">\n",
       "  <thead>\n",
       "    <tr style=\"text-align: right;\">\n",
       "      <th></th>\n",
       "      <th>Census</th>\n",
       "      <th>Estimates Base</th>\n",
       "      <th>2010</th>\n",
       "      <th>2011</th>\n",
       "      <th>2012</th>\n",
       "      <th>2013</th>\n",
       "      <th>2014</th>\n",
       "    </tr>\n",
       "    <tr>\n",
       "      <th>geographic_area</th>\n",
       "      <th></th>\n",
       "      <th></th>\n",
       "      <th></th>\n",
       "      <th></th>\n",
       "      <th></th>\n",
       "      <th></th>\n",
       "      <th></th>\n",
       "    </tr>\n",
       "  </thead>\n",
       "  <tbody>\n",
       "    <tr>\n",
       "      <th>Alabama</th>\n",
       "      <td>4,779,736</td>\n",
       "      <td>4,780,127</td>\n",
       "      <td>4,785,822</td>\n",
       "      <td>4,801,695</td>\n",
       "      <td>4,817,484</td>\n",
       "      <td>4,833,996</td>\n",
       "      <td>4,849,377</td>\n",
       "    </tr>\n",
       "    <tr>\n",
       "      <th>Alaska</th>\n",
       "      <td>710,231</td>\n",
       "      <td>710,249</td>\n",
       "      <td>713,856</td>\n",
       "      <td>722,572</td>\n",
       "      <td>731,081</td>\n",
       "      <td>737,259</td>\n",
       "      <td>736,732</td>\n",
       "    </tr>\n",
       "    <tr>\n",
       "      <th>Arizona</th>\n",
       "      <td>6,392,017</td>\n",
       "      <td>6,392,310</td>\n",
       "      <td>6,411,999</td>\n",
       "      <td>6,472,867</td>\n",
       "      <td>6,556,236</td>\n",
       "      <td>6,634,997</td>\n",
       "      <td>6,731,484</td>\n",
       "    </tr>\n",
       "    <tr>\n",
       "      <th>Arkansas</th>\n",
       "      <td>2,915,918</td>\n",
       "      <td>2,915,958</td>\n",
       "      <td>2,922,297</td>\n",
       "      <td>2,938,430</td>\n",
       "      <td>2,949,300</td>\n",
       "      <td>2,958,765</td>\n",
       "      <td>2,966,369</td>\n",
       "    </tr>\n",
       "    <tr>\n",
       "      <th>California</th>\n",
       "      <td>37,253,956</td>\n",
       "      <td>37,254,503</td>\n",
       "      <td>37,336,011</td>\n",
       "      <td>37,701,901</td>\n",
       "      <td>38,062,780</td>\n",
       "      <td>38,431,393</td>\n",
       "      <td>38,802,500</td>\n",
       "    </tr>\n",
       "  </tbody>\n",
       "</table>\n",
       "</div>"
      ],
      "text/plain": [
       "                     Census Estimates Base        2010        2011  \\\n",
       "geographic_area                                                      \n",
       "Alabama           4,779,736      4,780,127   4,785,822   4,801,695   \n",
       "Alaska              710,231        710,249     713,856     722,572   \n",
       "Arizona           6,392,017      6,392,310   6,411,999   6,472,867   \n",
       "Arkansas          2,915,918      2,915,958   2,922,297   2,938,430   \n",
       "California       37,253,956     37,254,503  37,336,011  37,701,901   \n",
       "\n",
       "                       2012        2013        2014  \n",
       "geographic_area                                      \n",
       "Alabama           4,817,484   4,833,996   4,849,377  \n",
       "Alaska              731,081     737,259     736,732  \n",
       "Arizona           6,556,236   6,634,997   6,731,484  \n",
       "Arkansas          2,949,300   2,958,765   2,966,369  \n",
       "California       38,062,780  38,431,393  38,802,500  "
      ]
     },
     "execution_count": 73,
     "metadata": {},
     "output_type": "execute_result"
    }
   ],
   "source": [
    "pop_data.head()"
   ]
  },
  {
   "cell_type": "code",
   "execution_count": 74,
   "metadata": {
    "collapsed": false
   },
   "outputs": [
    {
     "data": {
      "text/plain": [
       "'4,779,736710,2316,392,0172,915,91837,253,9565,029,1963,574,097897,934601,72318,801,3109,687,6531,360,3011,567,58212,830,6326,483,8023,046,3552,853,1184,339,3674,533,3721,328,3615,773,5526,547,6299,883,6405,303,9252,967,2975,988,927989,4151,826,3412,700,5511,316,4708,791,8942,059,17919,378,1029,535,483672,59111,536,5043,751,3513,831,07412,702,3791,052,5674,625,364814,1806,346,10525,145,5612,763,885625,7418,001,0246,724,5401,852,9945,686,986563,6263,725,789'"
      ]
     },
     "execution_count": 74,
     "metadata": {},
     "output_type": "execute_result"
    }
   ],
   "source": [
    "pop_data.Census.sum()"
   ]
  },
  {
   "cell_type": "markdown",
   "metadata": {},
   "source": [
    "# Converting Numbers\n",
    "\n",
    "Here's the thing - converting numbers with ,s is a little more complicated than what we're used to. Not much though\n"
   ]
  },
  {
   "cell_type": "code",
   "execution_count": 75,
   "metadata": {
    "collapsed": false
   },
   "outputs": [
    {
     "ename": "ValueError",
     "evalue": "invalid literal for int() with base 10: '1,000'",
     "output_type": "error",
     "traceback": [
      "\u001b[0;31m---------------------------------------------------------------------------\u001b[0m",
      "\u001b[0;31mValueError\u001b[0m                                Traceback (most recent call last)",
      "\u001b[0;32m<ipython-input-75-2f713fa5286f>\u001b[0m in \u001b[0;36m<module>\u001b[0;34m()\u001b[0m\n\u001b[0;32m----> 1\u001b[0;31m \u001b[0mint\u001b[0m\u001b[0;34m(\u001b[0m\u001b[0;34m'1,000'\u001b[0m\u001b[0;34m)\u001b[0m\u001b[0;34m\u001b[0m\u001b[0m\n\u001b[0m",
      "\u001b[0;31mValueError\u001b[0m: invalid literal for int() with base 10: '1,000'"
     ]
    }
   ],
   "source": [
    "int('1,000')"
   ]
  },
  {
   "cell_type": "code",
   "execution_count": 76,
   "metadata": {
    "collapsed": false
   },
   "outputs": [
    {
     "ename": "TypeError",
     "evalue": "cannot convert the series to <class 'int'>",
     "output_type": "error",
     "traceback": [
      "\u001b[0;31m---------------------------------------------------------------------------\u001b[0m",
      "\u001b[0;31mTypeError\u001b[0m                                 Traceback (most recent call last)",
      "\u001b[0;32m<ipython-input-76-cec1ff1a1e7e>\u001b[0m in \u001b[0;36m<module>\u001b[0;34m()\u001b[0m\n\u001b[0;32m----> 1\u001b[0;31m \u001b[0mint\u001b[0m\u001b[0;34m(\u001b[0m\u001b[0mpop_data\u001b[0m\u001b[0;34m.\u001b[0m\u001b[0mCensus\u001b[0m\u001b[0;34m)\u001b[0m\u001b[0;34m\u001b[0m\u001b[0m\n\u001b[0m",
      "\u001b[0;32m/Users/james/src/github.com/tiyd-python-2015-08/course-resources/.direnv/python-3.4.3/lib/python3.4/site-packages/pandas/core/series.py\u001b[0m in \u001b[0;36mwrapper\u001b[0;34m(self)\u001b[0m\n\u001b[1;32m     75\u001b[0m             \u001b[0;32mreturn\u001b[0m \u001b[0mconverter\u001b[0m\u001b[0;34m(\u001b[0m\u001b[0mself\u001b[0m\u001b[0;34m.\u001b[0m\u001b[0miloc\u001b[0m\u001b[0;34m[\u001b[0m\u001b[0;36m0\u001b[0m\u001b[0;34m]\u001b[0m\u001b[0;34m)\u001b[0m\u001b[0;34m\u001b[0m\u001b[0m\n\u001b[1;32m     76\u001b[0m         raise TypeError(\n\u001b[0;32m---> 77\u001b[0;31m             \"cannot convert the series to {0}\".format(str(converter)))\n\u001b[0m\u001b[1;32m     78\u001b[0m     \u001b[0;32mreturn\u001b[0m \u001b[0mwrapper\u001b[0m\u001b[0;34m\u001b[0m\u001b[0m\n\u001b[1;32m     79\u001b[0m \u001b[0;34m\u001b[0m\u001b[0m\n",
      "\u001b[0;31mTypeError\u001b[0m: cannot convert the series to <class 'int'>"
     ]
    }
   ],
   "source": [
    "int(pop_data.Census)"
   ]
  },
  {
   "cell_type": "code",
   "execution_count": 77,
   "metadata": {
    "collapsed": true
   },
   "outputs": [],
   "source": [
    "import locale"
   ]
  },
  {
   "cell_type": "code",
   "execution_count": 78,
   "metadata": {
    "collapsed": false
   },
   "outputs": [
    {
     "name": "stdout",
     "output_type": "stream",
     "text": [
      "Help on function atoi in module locale:\n",
      "\n",
      "atoi(str)\n",
      "    Converts a string to an integer according to the locale settings.\n",
      "\n"
     ]
    }
   ],
   "source": [
    "help(locale.atoi)"
   ]
  },
  {
   "cell_type": "markdown",
   "metadata": {},
   "source": [
    "We need to configure locale before using the functions\n",
    "\n",
    "To be safe we should be explicit"
   ]
  },
  {
   "cell_type": "code",
   "execution_count": 93,
   "metadata": {
    "collapsed": false
   },
   "outputs": [
    {
     "data": {
      "text/plain": [
       "'en_US.UTF-8'"
      ]
     },
     "execution_count": 93,
     "metadata": {},
     "output_type": "execute_result"
    }
   ],
   "source": [
    "locale.setlocale(locale.LC_NUMERIC, '')"
   ]
  },
  {
   "cell_type": "code",
   "execution_count": 81,
   "metadata": {
    "collapsed": false
   },
   "outputs": [
    {
     "data": {
      "text/plain": [
       "1000134643"
      ]
     },
     "execution_count": 81,
     "metadata": {},
     "output_type": "execute_result"
    }
   ],
   "source": [
    "locale.atoi('1,000,134,643')"
   ]
  },
  {
   "cell_type": "code",
   "execution_count": 84,
   "metadata": {
    "collapsed": false
   },
   "outputs": [
    {
     "data": {
      "text/plain": [
       "14524523434.514515"
      ]
     },
     "execution_count": 84,
     "metadata": {},
     "output_type": "execute_result"
    }
   ],
   "source": [
    "locale.atof('1,45245234,34.514514')"
   ]
  },
  {
   "cell_type": "code",
   "execution_count": 85,
   "metadata": {
    "collapsed": false
   },
   "outputs": [
    {
     "data": {
      "text/plain": [
       "'de_DE'"
      ]
     },
     "execution_count": 85,
     "metadata": {},
     "output_type": "execute_result"
    }
   ],
   "source": [
    "locale.setlocale(locale.LC_NUMERIC, 'de_DE')"
   ]
  },
  {
   "cell_type": "code",
   "execution_count": 87,
   "metadata": {
    "collapsed": false
   },
   "outputs": [
    {
     "data": {
      "text/plain": [
       "1.45"
      ]
     },
     "execution_count": 87,
     "metadata": {},
     "output_type": "execute_result"
    }
   ],
   "source": [
    "locale.atof('1,45')"
   ]
  },
  {
   "cell_type": "code",
   "execution_count": 92,
   "metadata": {
    "collapsed": false
   },
   "outputs": [
    {
     "data": {
      "text/plain": [
       "'$55.63'"
      ]
     },
     "execution_count": 92,
     "metadata": {},
     "output_type": "execute_result"
    }
   ],
   "source": [
    "locale.setlocale(locale.LC_MONETARY, '')\n",
    "\n",
    "locale.currency(55.63)"
   ]
  },
  {
   "cell_type": "code",
   "execution_count": 95,
   "metadata": {
    "collapsed": false
   },
   "outputs": [],
   "source": [
    "locale.setlocale(locale.LC_NUMERIC, '')\n",
    "pop_data = pop_data.applymap(locale.atoi)"
   ]
  },
  {
   "cell_type": "code",
   "execution_count": 99,
   "metadata": {
    "collapsed": false
   },
   "outputs": [
    {
     "data": {
      "text/plain": [
       "6110660.75"
      ]
     },
     "execution_count": 99,
     "metadata": {},
     "output_type": "execute_result"
    }
   ],
   "source": [
    "pop_data['2012'].mean()"
   ]
  },
  {
   "cell_type": "code",
   "execution_count": 106,
   "metadata": {
    "collapsed": false
   },
   "outputs": [
    {
     "data": {
      "text/plain": [
       "<matplotlib.axes._subplots.AxesSubplot at 0x10b80add8>"
      ]
     },
     "execution_count": 106,
     "metadata": {},
     "output_type": "execute_result"
    },
    {
     "data": {
      "image/png": "[encoded data removed]",
      "text/plain": [
       "<matplotlib.figure.Figure at 0x10b53cc88>"
      ]
     },
     "metadata": {},
     "output_type": "display_data"
    }
   ],
   "source": [
    "%matplotlib inline\n",
    "pop_data.plot(kind='barh', figsize=(5, 20))"
   ]
  },
  {
   "cell_type": "code",
   "execution_count": 113,
   "metadata": {
    "collapsed": false
   },
   "outputs": [
    {
     "data": {
      "text/plain": [
       "<matplotlib.axes._subplots.AxesSubplot at 0x10cb3d6a0>"
      ]
     },
     "execution_count": 113,
     "metadata": {},
     "output_type": "execute_result"
    },
    {
     "data": {
      "image/png": "[encoded data removed]",
      "text/plain": [
       "<matplotlib.figure.Figure at 0x10cb3f1d0>"
      ]
     },
     "metadata": {},
     "output_type": "display_data"
    }
   ],
   "source": [
    "pop_data.loc['Alabama', ['2010', '2011', '2012', '2013', '2014']].plot(kind='line', ylim=(0,5000000))"
   ]
  },
  {
   "cell_type": "code",
   "execution_count": null,
   "metadata": {
    "collapsed": true
   },
   "outputs": [],
   "source": []
  }
 ],
 "metadata": {
  "kernelspec": {
   "display_name": "Python 3",
   "language": "python",
   "name": "python3"
  },
  "language_info": {
   "codemirror_mode": {
    "name": "ipython",
    "version": 3
   },
   "file_extension": ".py",
   "mimetype": "text/x-python",
   "name": "python",
   "nbconvert_exporter": "python",
   "pygments_lexer": "ipython3",
   "version": "3.4.3"
  }
 },
 "nbformat": 4,
 "nbformat_minor": 0
}
