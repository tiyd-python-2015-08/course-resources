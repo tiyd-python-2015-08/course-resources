{
 "cells": [
  {
   "cell_type": "markdown",
   "metadata": {},
   "source": [
    "Regular expressions are complicated and powerful and potentially a lot of fun because you can do really cool things with them.\n",
    "\n",
    "First things first: in writing regexes, non-special characters just match themselves."
   ]
  },
  {
   "cell_type": "code",
   "execution_count": 1,
   "metadata": {
    "collapsed": true
   },
   "outputs": [],
   "source": [
    "import re\n",
    "\n",
    "sentence = 'Mary had a little lamb.'"
   ]
  },
  {
   "cell_type": "code",
   "execution_count": 2,
   "metadata": {
    "collapsed": false
   },
   "outputs": [
    {
     "name": "stdout",
     "output_type": "stream",
     "text": [
      "Help on function search in module re:\n",
      "\n",
      "search(pattern, string, flags=0)\n",
      "    Scan through string looking for a match to the pattern, returning\n",
      "    a match object, or None if no match was found.\n",
      "\n"
     ]
    }
   ],
   "source": [
    "help(re.search)"
   ]
  },
  {
   "cell_type": "code",
   "execution_count": 11,
   "metadata": {
    "collapsed": false
   },
   "outputs": [
    {
     "data": {
      "text/plain": [
       "<_sre.SRE_Match object; span=(16, 17), match='e'>"
      ]
     },
     "execution_count": 11,
     "metadata": {},
     "output_type": "execute_result"
    }
   ],
   "source": [
    "re.search(r'e', sentence)"
   ]
  },
  {
   "cell_type": "code",
   "execution_count": 15,
   "metadata": {
    "collapsed": false
   },
   "outputs": [],
   "source": [
    "re.search(r'z', sentence)"
   ]
  },
  {
   "cell_type": "code",
   "execution_count": 13,
   "metadata": {
    "collapsed": false
   },
   "outputs": [
    {
     "data": {
      "text/plain": [
       "'a'"
      ]
     },
     "execution_count": 13,
     "metadata": {},
     "output_type": "execute_result"
    }
   ],
   "source": [
    "re.search(r'a', sentence).group()"
   ]
  },
  {
   "cell_type": "code",
   "execution_count": 16,
   "metadata": {
    "collapsed": true
   },
   "outputs": [],
   "source": [
    "paragraph = '''\n",
    "Mr. Sherlock Holmes, who was usually very late in the mornings, save upon those not infrequent occasions when he was up all night, was seated at the breakfast table. I stood upon the hearth-rug and picked up the stick which our visitor had left behind him the night before. It was a fine, thick piece of wood, bulbous-headed, of the sort which is known as a \"Penang lawyer.\" Just under the head was a broad silver band nearly an inch across. \"To James Mortimer, M.R.C.S., from his friends of the C.C.H.,\" was engraved upon it, with the date \"1884.\" It was just such a stick as the old-fashioned family practitioner used to carry—dignified, solid, and reassuring.\n",
    "'''"
   ]
  },
  {
   "cell_type": "code",
   "execution_count": 19,
   "metadata": {
    "collapsed": false
   },
   "outputs": [
    {
     "data": {
      "text/plain": [
       "'e'"
      ]
     },
     "execution_count": 19,
     "metadata": {},
     "output_type": "execute_result"
    }
   ],
   "source": [
    "re.search(r'e', paragraph).group()"
   ]
  },
  {
   "cell_type": "code",
   "execution_count": 22,
   "metadata": {
    "collapsed": false
   },
   "outputs": [
    {
     "data": {
      "text/plain": [
       "'mornings'"
      ]
     },
     "execution_count": 22,
     "metadata": {},
     "output_type": "execute_result"
    }
   ],
   "source": [
    "re.search(r'mornings', paragraph).group()"
   ]
  },
  {
   "cell_type": "markdown",
   "metadata": {},
   "source": [
    "`re.search` returns a `Match` object. The `Match` object has many methods, but it only finds the **first** occurrence of the pattern."
   ]
  },
  {
   "cell_type": "code",
   "execution_count": 24,
   "metadata": {
    "collapsed": true
   },
   "outputs": [],
   "source": [
    "m = re.search(r'mornings', paragraph)"
   ]
  },
  {
   "cell_type": "code",
   "execution_count": 26,
   "metadata": {
    "collapsed": false
   },
   "outputs": [
    {
     "data": {
      "text/plain": [
       "55"
      ]
     },
     "execution_count": 26,
     "metadata": {},
     "output_type": "execute_result"
    }
   ],
   "source": []
  },
  {
   "cell_type": "code",
   "execution_count": 29,
   "metadata": {
    "collapsed": false
   },
   "outputs": [
    {
     "data": {
      "text/plain": [
       "['the', 'the', 'the', 'the', 'the', 'the', 'the', 'the', 'the', 'the']"
      ]
     },
     "execution_count": 29,
     "metadata": {},
     "output_type": "execute_result"
    }
   ],
   "source": [
    "re.findall(r'the', paragraph)"
   ]
  },
  {
   "cell_type": "code",
   "execution_count": 30,
   "metadata": {
    "collapsed": false
   },
   "outputs": [
    {
     "data": {
      "text/plain": [
       "10"
      ]
     },
     "execution_count": 30,
     "metadata": {},
     "output_type": "execute_result"
    }
   ],
   "source": [
    "len(re.findall(r'the', paragraph))"
   ]
  },
  {
   "cell_type": "code",
   "execution_count": 35,
   "metadata": {
    "collapsed": false
   },
   "outputs": [
    {
     "data": {
      "text/plain": [
       "['wh', 'wh', 'wh', 'wh']"
      ]
     },
     "execution_count": 35,
     "metadata": {},
     "output_type": "execute_result"
    }
   ],
   "source": [
    "re.findall(r'wh', paragraph)"
   ]
  },
  {
   "cell_type": "markdown",
   "metadata": {},
   "source": [
    "## Wildcard\n",
    "\n",
    "There is one character that can represent \"any\" character: that's the `.`\n",
    "\n",
    "If we want to find, for instance, \"a double-o followed by any character\""
   ]
  },
  {
   "cell_type": "code",
   "execution_count": 36,
   "metadata": {
    "collapsed": false
   },
   "outputs": [
    {
     "data": {
      "text/plain": [
       "<_sre.SRE_Match object; span=(171, 174), match='ood'>"
      ]
     },
     "execution_count": 36,
     "metadata": {},
     "output_type": "execute_result"
    }
   ],
   "source": [
    "re.search(r'oo.', paragraph)"
   ]
  },
  {
   "cell_type": "code",
   "execution_count": 38,
   "metadata": {
    "collapsed": false
   },
   "outputs": [
    {
     "data": {
      "text/plain": [
       "['lly', 'll ']"
      ]
     },
     "execution_count": 38,
     "metadata": {},
     "output_type": "execute_result"
    }
   ],
   "source": [
    "re.findall(r'll.', paragraph)"
   ]
  },
  {
   "cell_type": "markdown",
   "metadata": {},
   "source": [
    "Our wildcard matches EVERYTHING except for newlines."
   ]
  },
  {
   "cell_type": "code",
   "execution_count": 41,
   "metadata": {
    "collapsed": true
   },
   "outputs": [],
   "source": [
    "long_story = '''\n",
    "Once upon\n",
    "a\n",
    "time\n",
    "'''"
   ]
  },
  {
   "cell_type": "code",
   "execution_count": 42,
   "metadata": {
    "collapsed": false
   },
   "outputs": [
    {
     "data": {
      "text/plain": [
       "<_sre.SRE_Match object; span=(3, 6), match='ce '>"
      ]
     },
     "execution_count": 42,
     "metadata": {},
     "output_type": "execute_result"
    }
   ],
   "source": [
    "re.search(r'ce.', long_story)"
   ]
  },
  {
   "cell_type": "markdown",
   "metadata": {},
   "source": [
    "Finding actual dots - use backslash to *escape* the dot"
   ]
  },
  {
   "cell_type": "code",
   "execution_count": 43,
   "metadata": {
    "collapsed": false
   },
   "outputs": [
    {
     "data": {
      "text/plain": [
       "<_sre.SRE_Match object; span=(3, 4), match='.'>"
      ]
     },
     "execution_count": 43,
     "metadata": {},
     "output_type": "execute_result"
    }
   ],
   "source": [
    "re.search('\\.', paragraph)"
   ]
  },
  {
   "cell_type": "markdown",
   "metadata": {},
   "source": [
    "You can do case-insensitive searches by passing the `re.IGNORECASE` option as the second argument to `findall`"
   ]
  },
  {
   "cell_type": "code",
   "execution_count": 46,
   "metadata": {
    "collapsed": false
   },
   "outputs": [
    {
     "data": {
      "text/plain": [
       "['ito', 'It ', 'it,', 'ith', 'It ', 'iti']"
      ]
     },
     "execution_count": 46,
     "metadata": {},
     "output_type": "execute_result"
    }
   ],
   "source": [
    "re.findall(r'it.', paragraph, re.IGNORECASE)"
   ]
  },
  {
   "cell_type": "code",
   "execution_count": 47,
   "metadata": {
    "collapsed": false
   },
   "outputs": [
    {
     "data": {
      "text/plain": [
       "['ito', 'it,', 'ith', 'iti']"
      ]
     },
     "execution_count": 47,
     "metadata": {},
     "output_type": "execute_result"
    }
   ],
   "source": [
    "re.findall(r'it.', paragraph)"
   ]
  },
  {
   "cell_type": "markdown",
   "metadata": {},
   "source": [
    "## Match objects\n"
   ]
  },
  {
   "cell_type": "code",
   "execution_count": 48,
   "metadata": {
    "collapsed": true
   },
   "outputs": [],
   "source": [
    "match = re.search('it', paragraph)"
   ]
  },
  {
   "cell_type": "code",
   "execution_count": 49,
   "metadata": {
    "collapsed": false
   },
   "outputs": [
    {
     "name": "stdout",
     "output_type": "stream",
     "text": [
      "Help on SRE_Match object:\n",
      "\n",
      "class SRE_Match(builtins.object)\n",
      " |  The result of re.match() and re.search().\n",
      " |  Match objects always have a boolean value of True.\n",
      " |  \n",
      " |  Methods defined here:\n",
      " |  \n",
      " |  __copy__(...)\n",
      " |  \n",
      " |  __deepcopy__(...)\n",
      " |  \n",
      " |  __repr__(self, /)\n",
      " |      Return repr(self).\n",
      " |  \n",
      " |  end(...)\n",
      " |      end([group=0]) -> int.\n",
      " |      Return index of the end of the substring matched by group.\n",
      " |  \n",
      " |  expand(...)\n",
      " |      expand(template) -> str.\n",
      " |      Return the string obtained by doing backslash substitution\n",
      " |      on the string template, as done by the sub() method.\n",
      " |  \n",
      " |  group(...)\n",
      " |      group([group1, ...]) -> str or tuple.\n",
      " |      Return subgroup(s) of the match by indices or names.\n",
      " |      For 0 returns the entire match.\n",
      " |  \n",
      " |  groupdict(...)\n",
      " |      groupdict([default=None]) -> dict.\n",
      " |      Return a dictionary containing all the named subgroups of the match,\n",
      " |      keyed by the subgroup name. The default argument is used for groups\n",
      " |      that did not participate in the match\n",
      " |  \n",
      " |  groups(...)\n",
      " |      groups([default=None]) -> tuple.\n",
      " |      Return a tuple containing all the subgroups of the match, from 1.\n",
      " |      The default argument is used for groups\n",
      " |      that did not participate in the match\n",
      " |  \n",
      " |  span(...)\n",
      " |      span([group]) -> tuple.\n",
      " |      For MatchObject m, return the 2-tuple (m.start(group), m.end(group)).\n",
      " |  \n",
      " |  start(...)\n",
      " |      start([group=0]) -> int.\n",
      " |      Return index of the start of the substring matched by group.\n",
      " |  \n",
      " |  ----------------------------------------------------------------------\n",
      " |  Data descriptors defined here:\n",
      " |  \n",
      " |  endpos\n",
      " |  \n",
      " |  lastgroup\n",
      " |  \n",
      " |  lastindex\n",
      " |  \n",
      " |  pos\n",
      " |  \n",
      " |  re\n",
      " |  \n",
      " |  regs\n",
      " |  \n",
      " |  string\n",
      "\n"
     ]
    }
   ],
   "source": [
    "help(match)"
   ]
  },
  {
   "cell_type": "markdown",
   "metadata": {},
   "source": [
    "### Start/end matches\n",
    "\n",
    "Sometimes you only want an expression to match if it's at the beginning and/or it is at the end of a string\n",
    "\n",
    "Use `^` to match the beginning, and the `$` to match the end"
   ]
  },
  {
   "cell_type": "code",
   "execution_count": 50,
   "metadata": {
    "collapsed": false
   },
   "outputs": [
    {
     "data": {
      "text/plain": [
       "'Mary had a little lamb.'"
      ]
     },
     "execution_count": 50,
     "metadata": {},
     "output_type": "execute_result"
    }
   ],
   "source": [
    "sentence"
   ]
  },
  {
   "cell_type": "code",
   "execution_count": 54,
   "metadata": {
    "collapsed": false
   },
   "outputs": [],
   "source": [
    "re.search(r'^l', sentence)"
   ]
  },
  {
   "cell_type": "code",
   "execution_count": 60,
   "metadata": {
    "collapsed": false
   },
   "outputs": [
    {
     "data": {
      "text/plain": [
       "<_sre.SRE_Match object; span=(22, 23), match='.'>"
      ]
     },
     "execution_count": 60,
     "metadata": {},
     "output_type": "execute_result"
    }
   ],
   "source": [
    "re.search(r'.$', sentence)"
   ]
  },
  {
   "cell_type": "markdown",
   "metadata": {},
   "source": [
    "Remember, `.` matches anything, so if you're checking for a period, make sure to escape it!"
   ]
  },
  {
   "cell_type": "markdown",
   "metadata": {},
   "source": [
    "## Matching multiple characters\n",
    "\n",
    "Sometimes you want to match something only if there is more than one of it. Could be 0 or more somethings, could be 1 or more, could be a specific number of something. RegExes can handle all of these\n",
    "\n",
    "* `*` matches 0 or more\n",
    "* `+` matches 1 or more\n",
    "* `?` matches 0 or 1\n",
    "* `{n}` matches _n_ times\n",
    "* `{m,n}` matches between _m_ and _n_ times. Like slicing, you can leave a number out and it will match from 0-n or from m-infinity times"
   ]
  },
  {
   "cell_type": "code",
   "execution_count": 61,
   "metadata": {
    "collapsed": false
   },
   "outputs": [
    {
     "data": {
      "text/plain": [
       "['o',\n",
       " 'o',\n",
       " 'o',\n",
       " 'o',\n",
       " 'o',\n",
       " 'o',\n",
       " 'o',\n",
       " 'o',\n",
       " 'o',\n",
       " 'oo',\n",
       " 'o',\n",
       " 'o',\n",
       " 'o',\n",
       " 'o',\n",
       " 'o',\n",
       " 'oo',\n",
       " 'o',\n",
       " 'o',\n",
       " 'o',\n",
       " 'o',\n",
       " 'o',\n",
       " 'o',\n",
       " 'o',\n",
       " 'o',\n",
       " 'o',\n",
       " 'o',\n",
       " 'o',\n",
       " 'o',\n",
       " 'o',\n",
       " 'o',\n",
       " 'o',\n",
       " 'o']"
      ]
     },
     "execution_count": 61,
     "metadata": {},
     "output_type": "execute_result"
    }
   ],
   "source": [
    "re.findall(r'o+', paragraph)"
   ]
  },
  {
   "cell_type": "code",
   "execution_count": 63,
   "metadata": {
    "collapsed": false
   },
   "outputs": [
    {
     "data": {
      "text/plain": [
       "['ng', 'g', 'g', 'g', 'ng', 'ng', 'g', 'ng']"
      ]
     },
     "execution_count": 63,
     "metadata": {},
     "output_type": "execute_result"
    }
   ],
   "source": [
    "re.findall(r'n?g', paragraph)"
   ]
  },
  {
   "cell_type": "code",
   "execution_count": 64,
   "metadata": {
    "collapsed": false
   },
   "outputs": [
    {
     "data": {
      "text/plain": [
       "['ng', 'ig', 'ug', 'ig', 'ng', 'ng', 'ig', 'ng']"
      ]
     },
     "execution_count": 64,
     "metadata": {},
     "output_type": "execute_result"
    }
   ],
   "source": [
    "re.findall(r'.?g', paragraph)"
   ]
  },
  {
   "cell_type": "code",
   "execution_count": 65,
   "metadata": {
    "collapsed": false
   },
   "outputs": [
    {
     "data": {
      "text/plain": [
       "['g', ' g', 'ng']"
      ]
     },
     "execution_count": 65,
     "metadata": {},
     "output_type": "execute_result"
    }
   ],
   "source": [
    "re.findall(r'.?g', 'go west and get riding')"
   ]
  },
  {
   "cell_type": "code",
   "execution_count": 66,
   "metadata": {
    "collapsed": true
   },
   "outputs": [],
   "source": [
    "no_a = 'b'\n",
    "one_a = 'ab'\n",
    "lots_of_a = 'aaaaaaaaaaaab'"
   ]
  },
  {
   "cell_type": "code",
   "execution_count": 67,
   "metadata": {
    "collapsed": false
   },
   "outputs": [
    {
     "data": {
      "text/plain": [
       "<_sre.SRE_Match object; span=(0, 1), match='b'>"
      ]
     },
     "execution_count": 67,
     "metadata": {},
     "output_type": "execute_result"
    }
   ],
   "source": [
    "re.search(r'a*b', no_a)"
   ]
  },
  {
   "cell_type": "code",
   "execution_count": 68,
   "metadata": {
    "collapsed": false
   },
   "outputs": [
    {
     "data": {
      "text/plain": [
       "<_sre.SRE_Match object; span=(0, 2), match='ab'>"
      ]
     },
     "execution_count": 68,
     "metadata": {},
     "output_type": "execute_result"
    }
   ],
   "source": [
    "re.search(r'a*b', one_a)"
   ]
  },
  {
   "cell_type": "code",
   "execution_count": 69,
   "metadata": {
    "collapsed": false
   },
   "outputs": [
    {
     "data": {
      "text/plain": [
       "<_sre.SRE_Match object; span=(0, 13), match='aaaaaaaaaaaab'>"
      ]
     },
     "execution_count": 69,
     "metadata": {},
     "output_type": "execute_result"
    }
   ],
   "source": [
    "re.search(r'a*b', lots_of_a)"
   ]
  },
  {
   "cell_type": "code",
   "execution_count": 70,
   "metadata": {
    "collapsed": false
   },
   "outputs": [
    {
     "data": {
      "text/plain": [
       "<_sre.SRE_Match object; span=(0, 1), match='b'>"
      ]
     },
     "execution_count": 70,
     "metadata": {},
     "output_type": "execute_result"
    }
   ],
   "source": [
    "other_string = 'baaaaaaaaaab'\n",
    "re.search(r'a*b', other_string)"
   ]
  },
  {
   "cell_type": "code",
   "execution_count": 71,
   "metadata": {
    "collapsed": false
   },
   "outputs": [
    {
     "data": {
      "text/plain": [
       "['b', 'aaaaaaaaaab']"
      ]
     },
     "execution_count": 71,
     "metadata": {},
     "output_type": "execute_result"
    }
   ],
   "source": [
    "re.findall(r'a*b', other_string)"
   ]
  },
  {
   "cell_type": "code",
   "execution_count": 72,
   "metadata": {
    "collapsed": true
   },
   "outputs": [],
   "source": [
    "re.search(r'a+b', no_a)"
   ]
  },
  {
   "cell_type": "code",
   "execution_count": 73,
   "metadata": {
    "collapsed": false
   },
   "outputs": [
    {
     "data": {
      "text/plain": [
       "<_sre.SRE_Match object; span=(0, 2), match='ab'>"
      ]
     },
     "execution_count": 73,
     "metadata": {},
     "output_type": "execute_result"
    }
   ],
   "source": [
    "re.search(r'a+b', one_a)"
   ]
  },
  {
   "cell_type": "code",
   "execution_count": 74,
   "metadata": {
    "collapsed": false
   },
   "outputs": [
    {
     "data": {
      "text/plain": [
       "<_sre.SRE_Match object; span=(0, 13), match='aaaaaaaaaaaab'>"
      ]
     },
     "execution_count": 74,
     "metadata": {},
     "output_type": "execute_result"
    }
   ],
   "source": [
    "re.search(r'a+b', lots_of_a)"
   ]
  },
  {
   "cell_type": "code",
   "execution_count": 75,
   "metadata": {
    "collapsed": true
   },
   "outputs": [],
   "source": [
    "re.search(r'a{2}b', no_a)"
   ]
  },
  {
   "cell_type": "code",
   "execution_count": 76,
   "metadata": {
    "collapsed": true
   },
   "outputs": [],
   "source": [
    "re.search(r'a{2}b', one_a)"
   ]
  },
  {
   "cell_type": "code",
   "execution_count": 77,
   "metadata": {
    "collapsed": false
   },
   "outputs": [
    {
     "data": {
      "text/plain": [
       "<_sre.SRE_Match object; span=(10, 13), match='aab'>"
      ]
     },
     "execution_count": 77,
     "metadata": {},
     "output_type": "execute_result"
    }
   ],
   "source": [
    "re.search(r'a{2}b', lots_of_a)"
   ]
  },
  {
   "cell_type": "code",
   "execution_count": 78,
   "metadata": {
    "collapsed": false
   },
   "outputs": [
    {
     "data": {
      "text/plain": [
       "<_sre.SRE_Match object; span=(0, 13), match='aaaaaaaaaaaab'>"
      ]
     },
     "execution_count": 78,
     "metadata": {},
     "output_type": "execute_result"
    }
   ],
   "source": [
    "re.search(r'a{2,}b', lots_of_a)"
   ]
  },
  {
   "cell_type": "code",
   "execution_count": 79,
   "metadata": {
    "collapsed": false
   },
   "outputs": [
    {
     "data": {
      "text/plain": [
       "<_sre.SRE_Match object; span=(7, 13), match='aaaaab'>"
      ]
     },
     "execution_count": 79,
     "metadata": {},
     "output_type": "execute_result"
    }
   ],
   "source": [
    "re.search(r'a{,5}b', lots_of_a)"
   ]
  },
  {
   "cell_type": "code",
   "execution_count": 80,
   "metadata": {
    "collapsed": false
   },
   "outputs": [
    {
     "data": {
      "text/plain": [
       "<_sre.SRE_Match object; span=(0, 2), match='ab'>"
      ]
     },
     "execution_count": 80,
     "metadata": {},
     "output_type": "execute_result"
    }
   ],
   "source": [
    "re.search(r'a{,5}b', one_a)"
   ]
  },
  {
   "cell_type": "code",
   "execution_count": 84,
   "metadata": {
    "collapsed": false
   },
   "outputs": [
    {
     "data": {
      "text/plain": [
       "<_sre.SRE_Match object; span=(0, 7), match='abaaaab'>"
      ]
     },
     "execution_count": 84,
     "metadata": {},
     "output_type": "execute_result"
    }
   ],
   "source": [
    "re.search(r'(a+b){2}', 'abaaaabaaab')"
   ]
  },
  {
   "cell_type": "markdown",
   "metadata": {},
   "source": [
    "Parentheses indicate subpatterns, and we can match those using our specifiers of multiplicity"
   ]
  },
  {
   "cell_type": "markdown",
   "metadata": {},
   "source": [
    "## Matching sets of things\n",
    "\n",
    "It's nice to be able to match multiple options for a particular sequence.\n",
    "\n",
    "We use square brackets to indicate multiple characters can match.\n",
    "\n",
    "`.` matches everything that's not a newline\n",
    "\n",
    "* `[abc]` to match a, b, or c\n",
    "* `[A-Z]` to match A, B, C.. X, Y, Z\n",
    "* `[^m-q]`to match everything that is NOT m, n, o, p, or q"
   ]
  },
  {
   "cell_type": "code",
   "execution_count": 91,
   "metadata": {
    "collapsed": false
   },
   "outputs": [
    {
     "data": {
      "text/plain": [
       "['The', ' apple ']"
      ]
     },
     "execution_count": 91,
     "metadata": {},
     "output_type": "execute_result"
    }
   ],
   "source": [
    "# find words 3-5 letters long\n",
    "re.findall(r'^[a-z]{3,5}| [a-z]{3,5} | [a-z]{3,5}$', 'The apple tree', re.IGNORECASE)"
   ]
  },
  {
   "cell_type": "code",
   "execution_count": 95,
   "metadata": {
    "collapsed": false
   },
   "outputs": [
    {
     "data": {
      "text/plain": [
       "[' apple ']"
      ]
     },
     "execution_count": 95,
     "metadata": {},
     "output_type": "execute_result"
    }
   ],
   "source": [
    "re.findall(r' [a-z]{3,5} ', 'The apple tree', re.IGNORECASE)"
   ]
  },
  {
   "cell_type": "code",
   "execution_count": 100,
   "metadata": {
    "collapsed": false
   },
   "outputs": [
    {
     "data": {
      "text/plain": [
       "['100']"
      ]
     },
     "execution_count": 100,
     "metadata": {},
     "output_type": "execute_result"
    }
   ],
   "source": [
    "# find the first number in a string\n",
    "\n",
    "re.findall(r'[0-9]+', 'I ate 100 ghost peppers')"
   ]
  },
  {
   "cell_type": "code",
   "execution_count": 106,
   "metadata": {
    "collapsed": false
   },
   "outputs": [
    {
     "data": {
      "text/plain": [
       "['\\n',\n",
       " '.',\n",
       " ',',\n",
       " ',',\n",
       " ',',\n",
       " '.',\n",
       " '-',\n",
       " '.',\n",
       " ',',\n",
       " ',',\n",
       " '-',\n",
       " ',',\n",
       " '\"',\n",
       " '.',\n",
       " '\"',\n",
       " '.',\n",
       " '\"',\n",
       " ',',\n",
       " '.',\n",
       " '.',\n",
       " '.',\n",
       " '.',\n",
       " ',',\n",
       " '.',\n",
       " '.',\n",
       " '.',\n",
       " ',',\n",
       " '\"',\n",
       " ',',\n",
       " '\"',\n",
       " '.',\n",
       " '\"',\n",
       " '-',\n",
       " '—',\n",
       " ',',\n",
       " ',',\n",
       " '.',\n",
       " '\\n']"
      ]
     },
     "execution_count": 106,
     "metadata": {},
     "output_type": "execute_result"
    }
   ],
   "source": [
    "# find all punctuation\n",
    "\n",
    "re.findall(r'[\\.,;?!]', paragraph)\n",
    "re.findall(r'[^a-zA-Z0-9 ]', paragraph)"
   ]
  },
  {
   "cell_type": "code",
   "execution_count": 117,
   "metadata": {
    "collapsed": false
   },
   "outputs": [
    {
     "name": "stdout",
     "output_type": "stream",
     "text": [
      "<_sre.SRE_Match object; span=(19, 31), match='555-555-1234'>\n",
      "<_sre.SRE_Match object; span=(19, 29), match='5555551234'>\n",
      "<_sre.SRE_Match object; span=(19, 31), match='555.555-1234'>\n",
      "<_sre.SRE_Match object; span=(19, 33), match='(555) 555-1234'>\n"
     ]
    }
   ],
   "source": [
    "# find a phone number\n",
    "\n",
    "print(re.search(r'[0-9]{3}-?[0-9]{3}-?[0-9]{4}', 'My phone number is 555-555-1234'))\n",
    "\n",
    "print(re.search(r'[0-9]{3}-?[0-9]{3}-?[0-9]{4}', 'My phone number is 5555551234'))\n",
    "\n",
    "print(re.search(r'\\(?[0-9]{3}\\)?[-. ]?[0-9]{3}[-. ]?[0-9]{4}', 'My phone number is 555.555-1234'))\n",
    "\n",
    "print(re.search(r'\\(?[0-9]{3}\\)?[-. ]?[0-9]{3}[-. ]?[0-9]{4}', 'My phone number is (555) 555-1234'))\n"
   ]
  },
  {
   "cell_type": "markdown",
   "metadata": {},
   "source": [
    "## Character Classes\n",
    "\n",
    "Some common groupings of characters have shortcuts, known as _character classes_\n",
    "\n",
    "* `\\d` - matches digits (0-9)\n",
    "* `\\D` - matches _non_-digits\n",
    "* `\\w` - matches \"word characters\" ([a-zA-Z0-9_], plus all other valid unicode characters that can appear in words\n",
    "* `\\W` - matches _non_-word characters\n",
    "* `\\s` - matches whitespace characters ([ \\t\\n\\r\\f\\v])\n",
    "* `\\S` - matches _non_-whitespace characters"
   ]
  },
  {
   "cell_type": "code",
   "execution_count": 118,
   "metadata": {
    "collapsed": false
   },
   "outputs": [
    {
     "name": "stdout",
     "output_type": "stream",
     "text": [
      "<_sre.SRE_Match object; span=(19, 33), match='(555) 555-1234'>\n"
     ]
    }
   ],
   "source": [
    "# phone number revisited\n",
    "print(re.search(r'\\(?\\d{3}\\)?[-. ]?\\d{3}[-. ]?\\d{4}', 'My phone number is (555) 555-1234'))\n"
   ]
  },
  {
   "cell_type": "code",
   "execution_count": 123,
   "metadata": {
    "collapsed": false
   },
   "outputs": [
    {
     "data": {
      "text/plain": [
       "['.',\n",
       " ',',\n",
       " ',',\n",
       " ',',\n",
       " '.',\n",
       " '-',\n",
       " '.',\n",
       " ',',\n",
       " ',',\n",
       " '-',\n",
       " ',',\n",
       " '\"',\n",
       " '.',\n",
       " '\"',\n",
       " '.',\n",
       " '\"',\n",
       " ',',\n",
       " '.',\n",
       " '.',\n",
       " '.',\n",
       " '.',\n",
       " ',',\n",
       " '.',\n",
       " '.',\n",
       " '.',\n",
       " ',',\n",
       " '\"',\n",
       " ',',\n",
       " '\"',\n",
       " '.',\n",
       " '\"',\n",
       " '-',\n",
       " '—',\n",
       " ',',\n",
       " ',',\n",
       " '.']"
      ]
     },
     "execution_count": 123,
     "metadata": {},
     "output_type": "execute_result"
    }
   ],
   "source": [
    "# find all punctuation\n",
    "\n",
    "re.findall(r'[^\\w\\s]', paragraph)"
   ]
  },
  {
   "cell_type": "markdown",
   "metadata": {},
   "source": [
    "A couple weirder character classes:\n",
    "\n",
    "* `\\A` - matches the beginning of the string (basically like `^`, different for multi-line strings)\n",
    "* `\\Z` - matches the end of the string\n",
    "* `\\b` - matches a word boundary, which matches the empty string if it's at the end of a word"
   ]
  },
  {
   "cell_type": "code",
   "execution_count": 124,
   "metadata": {
    "collapsed": false
   },
   "outputs": [
    {
     "data": {
      "text/plain": [
       "['Mary', 'had', 'lamb']"
      ]
     },
     "execution_count": 124,
     "metadata": {},
     "output_type": "execute_result"
    }
   ],
   "source": [
    "# words 3-5 letters long\n",
    "re.findall(r'\\b\\w{3,5}\\b', sentence)"
   ]
  },
  {
   "cell_type": "markdown",
   "metadata": {},
   "source": [
    "\n",
    "# Capturing matches\n",
    "\n",
    "We often want to hang onto something that matches a regex. Using parentheses, we can mark parts of the string that are interesting"
   ]
  },
  {
   "cell_type": "code",
   "execution_count": 128,
   "metadata": {
    "collapsed": false
   },
   "outputs": [
    {
     "name": "stdout",
     "output_type": "stream",
     "text": [
      "('Atlanta', 'GA')\n",
      "('Durham', 'NC')\n",
      "('Little River', 'SC')\n",
      "(' Cleveland', 'OH')\n",
      "('Winston-Salem', 'NC')\n"
     ]
    }
   ],
   "source": [
    "locations = ['Atlanta, GA', 'Durham, NC', 'Little River, SC', 'Seattle', 'This is a long thing. Cleveland, OH', 'Winston-Salem, NC']\n",
    "\n",
    "for l in locations:\n",
    "    match = re.search(r'([\\w\\s-]+), ([A-Z]{2})', l)\n",
    "    if match:\n",
    "        print(match.groups())"
   ]
  },
  {
   "cell_type": "code",
   "execution_count": 133,
   "metadata": {
    "collapsed": false
   },
   "outputs": [
    {
     "name": "stdout",
     "output_type": "stream",
     "text": [
      "(999) 555-1212\n",
      "(703) 440-5678\n",
      "(800) 555-1234\n",
      "(314) 135-5311\n"
     ]
    }
   ],
   "source": [
    "phone_nums = [\n",
    "    '999-555-1212',\n",
    "    '(703) 440-5678',\n",
    "    '800.555.1234',\n",
    "    '3141355311',\n",
    "    '1235',\n",
    "]\n",
    "\n",
    "for num in phone_nums:\n",
    "    match = re.search(r'\\(?(\\d{3})\\)?[-. ]?(\\d{3})[-. ]?(\\d{4})', num)\n",
    "    if match:\n",
    "#         print(match.groups())\n",
    "        print(\"({}) {}-{}\".format(*match.groups()))\n"
   ]
  },
  {
   "cell_type": "code",
   "execution_count": null,
   "metadata": {
    "collapsed": true
   },
   "outputs": [],
   "source": []
  }
 ],
 "metadata": {
  "kernelspec": {
   "display_name": "Python 3",
   "language": "python",
   "name": "python3"
  },
  "language_info": {
   "codemirror_mode": {
    "name": "ipython",
    "version": 3
   },
   "file_extension": ".py",
   "mimetype": "text/x-python",
   "name": "python",
   "nbconvert_exporter": "python",
   "pygments_lexer": "ipython3",
   "version": "3.4.3"
  }
 },
 "nbformat": 4,
 "nbformat_minor": 0
}
