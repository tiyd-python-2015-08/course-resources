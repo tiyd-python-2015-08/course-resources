{
 "cells": [
  {
   "cell_type": "code",
   "execution_count": 3,
   "metadata": {
    "collapsed": false
   },
   "outputs": [],
   "source": [
    "from accounts import *\n",
    "\n",
    "class Household:\n",
    "    def __init__(self):\n",
    "        self.checking = CheckingAccount(1234, 5678)\n",
    "        self.savings = SavingsAccount(5566, 5678)\n",
    "        \n",
    "    def pay_bills(self):\n",
    "        for bill in self.bills:\n",
    "            self.checking.withdraw(bill.amount)\n",
    "            \n",
    "    def deposit_to_savings(self):\n",
    "        #  deposit 10% of the checking balance into the savings account\n",
    "        amount = .10 * self.checking.balance\n",
    "        self.checking.withdraw(amount)\n",
    "        self.savings.deposit(amount)"
   ]
  },
  {
   "cell_type": "code",
   "execution_count": null,
   "metadata": {
    "collapsed": true
   },
   "outputs": [],
   "source": [
    "bobs_house = Household()\n",
    "\n"
   ]
  }
 ],
 "metadata": {
  "kernelspec": {
   "display_name": "Python 3",
   "language": "python",
   "name": "python3"
  },
  "language_info": {
   "codemirror_mode": {
    "name": "ipython",
    "version": 3
   },
   "file_extension": ".py",
   "mimetype": "text/x-python",
   "name": "python",
   "nbconvert_exporter": "python",
   "pygments_lexer": "ipython3",
   "version": "3.4.3"
  }
 },
 "nbformat": 4,
 "nbformat_minor": 0
}
