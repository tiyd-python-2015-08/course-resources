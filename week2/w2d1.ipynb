{
 "cells": [
  {
   "cell_type": "markdown",
   "metadata": {},
   "source": [
    "# One on Ones\n",
    "\n",
    "@ 1:15 ideally if you can make it, otherwise during lab at some point\n",
    "\n",
    "\n",
    "| Week of | Monday  | Tuesday  | Wednesday | Thursday | Friday   |\n",
    "|---------|---------|----------|-----------|----------|----------|\n",
    "| 9/7     | Bob     | Ryan     | Will      | David    | Jonathan |\n",
    "| 9/14    | Adam    | Glenn    | Karthik   | Tyler    | Andrew   |\n",
    "| 9/21    | Michael | Jermaine | Kathleen  | Brent    |          |\n",
    "| 9/28    | Bob     | Ryan     | Will      | David    | Jonathan |\n",
    "| 10/5    | Adam    | Glenn    | Karthik   | Tyler    | Andrew   |\n",
    "| 10/12   | Michael | Jermaine | Kathleen  | Brent    |          |\n",
    "| 10/19   | Bob     | Ryan     | Will      | David    | Jonathan |\n",
    "| 10/26   | Adam    | Glenn    | Karthik   | Tyler    | Andrew   |\n",
    "| 11/2    | Michael | Jermaine | Kathleen  | Brent    |          |\n",
    "| 11/9    | Bob     | Ryan     | Will      | David    | Jonathan |\n",
    "| 11/16   | Adam    | Glenn    | Karthik   | Tyler    | Andrew   |\n",
    "\n"
   ]
  },
  {
   "cell_type": "code",
   "execution_count": 1,
   "metadata": {
    "collapsed": true
   },
   "outputs": [],
   "source": [
    "import random\n",
    "import math"
   ]
  },
  {
   "cell_type": "markdown",
   "metadata": {},
   "source": [
    "# List comprehensions\n",
    "\n",
    "List comprehensions let us *transform* an iterable's values through another function AND/OR *filter* those values, ultimately returning a list.\n",
    "\n",
    "They let us take some sequence or list, run some function on everything inside that, and get the result as another list\n"
   ]
  },
  {
   "cell_type": "code",
   "execution_count": 2,
   "metadata": {
    "collapsed": false
   },
   "outputs": [
    {
     "name": "stdout",
     "output_type": "stream",
     "text": [
      "[1, 2, 4, 8, 16, 32, 64, 128, 256, 512]\n"
     ]
    }
   ],
   "source": [
    "# The first 10 powers of 2 \n",
    "\n",
    "powers = []\n",
    "for x in range(10):\n",
    "    powers.append(2**x)\n",
    "print(powers)"
   ]
  },
  {
   "cell_type": "code",
   "execution_count": 4,
   "metadata": {
    "collapsed": false
   },
   "outputs": [
    {
     "name": "stdout",
     "output_type": "stream",
     "text": [
      "[1, 2, 4, 8, 16, 32, 64, 128, 256, 512]\n"
     ]
    }
   ],
   "source": [
    "# the first 10 powers of 2\n",
    "\n",
    "powers = [2**x for x in range(10)]\n",
    "print(powers)"
   ]
  },
  {
   "cell_type": "code",
   "execution_count": 5,
   "metadata": {
    "collapsed": false
   },
   "outputs": [
    {
     "name": "stdout",
     "output_type": "stream",
     "text": [
      "[1, 2, 4, 8, 16, 32, 64, 128, 256, 512]\n"
     ]
    }
   ],
   "source": [
    "print([2**x for x in range(10)])"
   ]
  },
  {
   "cell_type": "code",
   "execution_count": 7,
   "metadata": {
    "collapsed": false
   },
   "outputs": [
    {
     "name": "stdout",
     "output_type": "stream",
     "text": [
      "[72, 101, 108, 108, 111, 44, 32, 80, 121, 116, 104, 111, 110, 105, 115, 116, 97, 115, 33]\n"
     ]
    }
   ],
   "source": [
    "greeting = 'Hello, Pythonistas!'\n",
    "unicode_nums = []\n",
    "for c in greeting:\n",
    "    unicode_nums.append(ord(c))\n",
    "print(unicode_nums)"
   ]
  },
  {
   "cell_type": "code",
   "execution_count": 8,
   "metadata": {
    "collapsed": false
   },
   "outputs": [
    {
     "name": "stdout",
     "output_type": "stream",
     "text": [
      "[72, 101, 108, 108, 111, 44, 32, 80, 121, 116, 104, 111, 110, 105, 115, 116, 97, 115, 33]\n"
     ]
    }
   ],
   "source": [
    "print([ord(c) for c in greeting])"
   ]
  },
  {
   "cell_type": "code",
   "execution_count": 9,
   "metadata": {
    "collapsed": false
   },
   "outputs": [
    {
     "data": {
      "text/plain": [
       "[0.7059643836685069,\n",
       " 0.8019383316010859,\n",
       " 0.9873895457148355,\n",
       " 0.7568751785880206,\n",
       " 0.4945949559305475,\n",
       " 0.19843072915608218]"
      ]
     },
     "execution_count": 9,
     "metadata": {},
     "output_type": "execute_result"
    }
   ],
   "source": [
    "[random.random() for _ in range(6)]"
   ]
  },
  {
   "cell_type": "code",
   "execution_count": 10,
   "metadata": {
    "collapsed": false
   },
   "outputs": [
    {
     "name": "stdout",
     "output_type": "stream",
     "text": [
      "Help on built-in function random:\n",
      "\n",
      "random(...) method of random.Random instance\n",
      "    random() -> x in the interval [0, 1).\n",
      "\n"
     ]
    }
   ],
   "source": [
    "help(random.random)"
   ]
  },
  {
   "cell_type": "markdown",
   "metadata": {},
   "source": [
    "**_** above is just used as a placeholder"
   ]
  },
  {
   "cell_type": "markdown",
   "metadata": {},
   "source": [
    "## Comprehension parts\n",
    "\n",
    "Every comprehension has the following things:\n",
    "\n",
    "1. collection\n",
    "2. iteration\n",
    "3. selection (optional)\n",
    "\n",
    "```python\n",
    "[\n",
    " 2**x               # collection\n",
    " for x in range(10) # iteration\n",
    "]\n",
    "\n",
    "[\n",
    " ord(c)            # collection\n",
    " for c in greeting # iteration\n",
    "]\n",
    "\n",
    "\n",
    "```\n",
    "\n",
    "**iteration**: looping over something, just iterates over whatever sequence\n",
    "**collection** is the value that we're going to **collect** into our new list\n",
    "\n",
    "What about **selection**?"
   ]
  },
  {
   "cell_type": "code",
   "execution_count": 11,
   "metadata": {
    "collapsed": false
   },
   "outputs": [
    {
     "data": {
      "text/plain": [
       "[1, 4, 16, 64, 256]"
      ]
     },
     "execution_count": 11,
     "metadata": {},
     "output_type": "execute_result"
    }
   ],
   "source": [
    "[2**x for x in range(10) if x % 2 == 0]"
   ]
  },
  {
   "cell_type": "markdown",
   "metadata": {},
   "source": [
    "```python\n",
    "[\n",
    " 2**x # collection\n",
    " for x in range(10) # iteration\n",
    " if x % 2 == 0 # selection\n",
    "]\n",
    "```\n",
    "\n",
    "**selection** filters what we use from the iteration. We still iterate over the entire range, but we only collect when the value x is even"
   ]
  },
  {
   "cell_type": "code",
   "execution_count": 13,
   "metadata": {
    "collapsed": false
   },
   "outputs": [
    {
     "data": {
      "text/plain": [
       "['i', 'n', 'd', 'e', 'f', 'a', 't', 'i', 'g', 'a', 'b', 'l', 'e']"
      ]
     },
     "execution_count": 13,
     "metadata": {},
     "output_type": "execute_result"
    }
   ],
   "source": [
    "letters = 'abcdefghijklmnopqrstuvwxyz'\n",
    "\n",
    "word = 'indef1at4i5g6675able'\n",
    "\n",
    "[c for c in word if c in letters]\n"
   ]
  },
  {
   "cell_type": "code",
   "execution_count": 15,
   "metadata": {
    "collapsed": false
   },
   "outputs": [
    {
     "data": {
      "text/plain": [
       "[0,\n",
       " 1,\n",
       " 4,\n",
       " 9,\n",
       " 16,\n",
       " 25,\n",
       " 36,\n",
       " 49,\n",
       " 64,\n",
       " 81,\n",
       " 100,\n",
       " 121,\n",
       " 144,\n",
       " 169,\n",
       " 196,\n",
       " 225,\n",
       " 256,\n",
       " 289,\n",
       " 324,\n",
       " 361,\n",
       " 400,\n",
       " 441,\n",
       " 484,\n",
       " 529,\n",
       " 576,\n",
       " 625,\n",
       " 676,\n",
       " 729,\n",
       " 784,\n",
       " 841,\n",
       " 900,\n",
       " 961]"
      ]
     },
     "execution_count": 15,
     "metadata": {},
     "output_type": "execute_result"
    }
   ],
   "source": [
    "# all the squares of the first 1000 integers\n",
    "\n",
    "squares = [x for x in range(1000) if math.sqrt(x).is_integer()]\n",
    "squares"
   ]
  },
  {
   "cell_type": "code",
   "execution_count": 18,
   "metadata": {
    "collapsed": false
   },
   "outputs": [
    {
     "data": {
      "text/plain": [
       "'_ _ G _ _ T _ _ E'"
      ]
     },
     "execution_count": 18,
     "metadata": {},
     "output_type": "execute_result"
    }
   ],
   "source": [
    "word = 'MAGNITUDE'\n",
    "guesses = ['G', 'E', 'T']\n",
    "\n",
    "def display_word(word, guesses):\n",
    "    return ' '.join([letter\n",
    "                     if letter in guesses\n",
    "                     else '_'\n",
    "                     for letter in word])\n",
    "\n",
    "display_word(word, guesses)"
   ]
  },
  {
   "cell_type": "code",
   "execution_count": 19,
   "metadata": {
    "collapsed": false
   },
   "outputs": [
    {
     "data": {
      "text/plain": [
       "5"
      ]
     },
     "execution_count": 19,
     "metadata": {},
     "output_type": "execute_result"
    }
   ],
   "source": [
    "x = 5 if guesses[0] in word else 100\n",
    "x"
   ]
  },
  {
   "cell_type": "code",
   "execution_count": 21,
   "metadata": {
    "collapsed": false
   },
   "outputs": [
    {
     "ename": "SyntaxError",
     "evalue": "invalid syntax (<ipython-input-21-573098652917>, line 4)",
     "output_type": "error",
     "traceback": [
      "\u001b[0;36m  File \u001b[0;32m\"<ipython-input-21-573098652917>\"\u001b[0;36m, line \u001b[0;32m4\u001b[0m\n\u001b[0;31m    if letter in guesses else '_'])\u001b[0m\n\u001b[0m                            ^\u001b[0m\n\u001b[0;31mSyntaxError\u001b[0m\u001b[0;31m:\u001b[0m invalid syntax\n"
     ]
    }
   ],
   "source": [
    "def display_word(word, guesses):\n",
    "    return ' '.join([letter if letter in guesses\n",
    "                     else '_'\n",
    "                     for letter in word\n",
    "                     if letter in guesses])\n",
    "\n",
    "display_word(word, guesses)"
   ]
  },
  {
   "cell_type": "markdown",
   "metadata": {},
   "source": [
    "### Advice for list comprehensions\n",
    "\n",
    "If you're building a list using a for loop, it might be a good candidate for list comprehension\n"
   ]
  },
  {
   "cell_type": "markdown",
   "metadata": {},
   "source": [
    "## Advanced list comprehension\n",
    "\n",
    "You can nest list comprehensions\n"
   ]
  },
  {
   "cell_type": "code",
   "execution_count": 57,
   "metadata": {
    "collapsed": false
   },
   "outputs": [
    {
     "data": {
      "text/plain": [
       "[5, 5, 6, 4]"
      ]
     },
     "execution_count": 57,
     "metadata": {},
     "output_type": "execute_result"
    }
   ],
   "source": [
    "# Roll 6 dice, only keep the rolls that were 4 or higher\n",
    "\n",
    "random.seed()\n",
    "# print([\n",
    "#         random.randint(1,6)\n",
    "#         for _ in range(6)\n",
    "#     ])\n",
    "\n",
    "[die\n",
    " for die in [\n",
    "        random.randint(1,6)\n",
    "        for _ in range(6)\n",
    "    ]\n",
    " if die >= 4\n",
    "]"
   ]
  },
  {
   "cell_type": "code",
   "execution_count": 58,
   "metadata": {
    "collapsed": false
   },
   "outputs": [
    {
     "data": {
      "text/plain": [
       "0.015625"
      ]
     },
     "execution_count": 58,
     "metadata": {},
     "output_type": "execute_result"
    }
   ],
   "source": [
    ".5**6"
   ]
  },
  {
   "cell_type": "code",
   "execution_count": 59,
   "metadata": {
    "collapsed": false
   },
   "outputs": [
    {
     "data": {
      "text/plain": [
       "[[1, 4, 7], [2, 5, 8], [3, 6, 9]]"
      ]
     },
     "execution_count": 59,
     "metadata": {},
     "output_type": "execute_result"
    }
   ],
   "source": [
    "matrix = [[1, 2, 3],\n",
    "          [4, 5, 6],\n",
    "          [7, 8, 9]]\n",
    "\n",
    "[[row[i]\n",
    " for row in matrix]\n",
    " for i in range(len(matrix[0]))]"
   ]
  },
  {
   "cell_type": "markdown",
   "metadata": {},
   "source": [
    "The iteration stage can actually take multiple sequences\n",
    "if that's the case, it essentially does nested for loops\n",
    "\n"
   ]
  },
  {
   "cell_type": "code",
   "execution_count": 62,
   "metadata": {
    "collapsed": false
   },
   "outputs": [
    {
     "name": "stdout",
     "output_type": "stream",
     "text": [
      "[('Glenn', 'Mike'), ('Glenn', 'Andrew'), ('Mike', 'Glenn'), ('Mike', 'Andrew'), ('Andrew', 'Glenn'), ('Andrew', 'Mike')]\n"
     ]
    }
   ],
   "source": [
    "# all student pairings\n",
    "\n",
    "students = ['Glenn', 'Mike', 'Andrew']\n",
    "\n",
    "pairings = [\n",
    "    (s1, s2)\n",
    "    for s1 in students\n",
    "    for s2 in students\n",
    "    if s1 != s2\n",
    "]\n",
    "\n",
    "print(pairings)\n",
    "\n",
    "# we'll come back to eliminating duplicates with different orders"
   ]
  },
  {
   "cell_type": "code",
   "execution_count": 63,
   "metadata": {
    "collapsed": false
   },
   "outputs": [
    {
     "data": {
      "text/plain": [
       "6"
      ]
     },
     "execution_count": 63,
     "metadata": {},
     "output_type": "execute_result"
    }
   ],
   "source": [
    "len(pairings)"
   ]
  },
  {
   "cell_type": "markdown",
   "metadata": {},
   "source": [
    "# Dictionary comprehensions\n",
    "\n",
    "Use dictionaries instead of lists, but very similar to list comprehensions\n",
    "\n",
    "You use curly braces instead of square brackets, and you use a colon to keep track of the key/value for each collection"
   ]
  },
  {
   "cell_type": "code",
   "execution_count": 65,
   "metadata": {
    "collapsed": false
   },
   "outputs": [
    {
     "data": {
      "text/plain": [
       "{' ': 32, 'd': 100, 'e': 101, 'h': 104, 'l': 108, 'o': 111, 'r': 114, 'w': 119}"
      ]
     },
     "execution_count": 65,
     "metadata": {},
     "output_type": "execute_result"
    }
   ],
   "source": [
    "# mapping of letters to unicode values\n",
    "\n",
    "{\n",
    " letter: ord(letter) # collection\n",
    " for letter in 'hello world' # iteration\n",
    "}\n",
    "\n",
    "# dictionaries have ONE value for each key"
   ]
  },
  {
   "cell_type": "markdown",
   "metadata": {},
   "source": [
    "For dictionary comprehension, collection requires a `key: value`"
   ]
  },
  {
   "cell_type": "code",
   "execution_count": 69,
   "metadata": {
    "collapsed": false
   },
   "outputs": [
    {
     "data": {
      "text/plain": [
       "[('e', 4),\n",
       " ('r', 3),\n",
       " ('l', 2),\n",
       " ('h', 2),\n",
       " ('t', 1),\n",
       " ('n', 1),\n",
       " ('a', 1),\n",
       " ('p', 1),\n",
       " ('d', 1),\n",
       " ('o', 1)]"
      ]
     },
     "execution_count": 69,
     "metadata": {},
     "output_type": "execute_result"
    }
   ],
   "source": [
    "# map letters to their frequency\n",
    "\n",
    "sentence = 'hello there pardner'\n",
    "\n",
    "sorted({letter: sentence.count(letter)\n",
    " for letter in sentence\n",
    " if letter is not ' '}.items(), key=lambda x: x[1], reverse=True)\n",
    "\n",
    "# This gets really complex/long as the sentence gets longer"
   ]
  },
  {
   "cell_type": "markdown",
   "metadata": {},
   "source": [
    "# Sets\n",
    "\n",
    "Sets are another data structure\n",
    "\n",
    "They are *unordered* collections of unique items\n",
    "\n",
    "Each item in a set must be **hashable** - in Python, it can't be **mutable** - it can't be changeable\n",
    "So strings are hashable\n",
    "Dictionaries and lists aren't hashable, so you can't put lists inside sets\n",
    "This also means you can't put sets in sets\n",
    "Tuples are immutable, and therefore hashable, so you CAN put tuples in a set\n",
    "\n",
    "If you want to make a set of SETS, you can create something called a frozenset that is hashable"
   ]
  },
  {
   "cell_type": "code",
   "execution_count": 73,
   "metadata": {
    "collapsed": false
   },
   "outputs": [
    {
     "data": {
      "text/plain": [
       "{1, 2, 3, 4, 5}"
      ]
     },
     "execution_count": 73,
     "metadata": {},
     "output_type": "execute_result"
    }
   ],
   "source": [
    "# to make a set, use curly braces but don't use colons\n",
    "\n",
    "{1, 2, 1, 1, 1, 1, 3, 4, 5, 1} # there can be only one 1\n",
    "\n"
   ]
  },
  {
   "cell_type": "code",
   "execution_count": 75,
   "metadata": {
    "collapsed": false
   },
   "outputs": [
    {
     "name": "stdout",
     "output_type": "stream",
     "text": [
      "{'t', 'h', 'a', 'p', 'e', 'd', 'r', 'y', 'n', 'w', 'o'}\n",
      "t\n",
      "h\n",
      "a\n",
      "p\n",
      "e\n",
      "d\n",
      "r\n",
      "y\n",
      "n\n",
      "w\n",
      "o\n"
     ]
    }
   ],
   "source": [
    "# use a set comprehension on a list\n",
    "unique_letters = {letter for letter in 'howdy there pardner' if letter is not ' '}\n",
    "print(unique_letters)\n",
    "\n",
    "for letter in unique_letters:\n",
    "    print(letter)"
   ]
  },
  {
   "cell_type": "code",
   "execution_count": 77,
   "metadata": {
    "collapsed": false
   },
   "outputs": [
    {
     "data": {
      "text/plain": [
       "{' ', 'a', 'd', 'e', 'h', 'n', 'o', 'p', 'r', 't', 'w', 'y'}"
      ]
     },
     "execution_count": 77,
     "metadata": {},
     "output_type": "execute_result"
    }
   ],
   "source": [
    "set(list('howdy there pardner'))\n",
    "# use the set() function to get the unique values from a sequence"
   ]
  },
  {
   "cell_type": "code",
   "execution_count": 78,
   "metadata": {
    "collapsed": false
   },
   "outputs": [
    {
     "data": {
      "text/plain": [
       "{' ', 'a', 'd', 'e', 'h', 'n', 'o', 'p', 'r', 't', 'w', 'y'}"
      ]
     },
     "execution_count": 78,
     "metadata": {},
     "output_type": "execute_result"
    }
   ],
   "source": [
    "set('howdy there pardner')"
   ]
  },
  {
   "cell_type": "code",
   "execution_count": 89,
   "metadata": {
    "collapsed": false
   },
   "outputs": [
    {
     "name": "stdout",
     "output_type": "stream",
     "text": [
      "{frozenset({'Adam', 'Jonathan'}), frozenset({'Glenn', 'Jonathan'}), frozenset({'Jonathan', 'Kathleen'}), frozenset({'Glenn', 'Adam'}), frozenset({'Adam', 'Kathleen'}), frozenset({'Glenn', 'Kathleen'}), frozenset({'Glenn', 'Mike'}), frozenset({'Andrew', 'Kathleen'}), frozenset({'Mike', 'Andrew'}), frozenset({'Jonathan', 'Andrew'}), frozenset({'Mike', 'Adam'}), frozenset({'Adam', 'Andrew'}), frozenset({'Glenn', 'Andrew'}), frozenset({'Mike', 'Jonathan'}), frozenset({'Mike', 'Kathleen'})}\n",
      "['Adam x Jonathan', 'Glenn x Jonathan', 'Jonathan x Kathleen', 'Glenn x Adam', 'Adam x Kathleen', 'Glenn x Kathleen', 'Glenn x Mike', 'Andrew x Kathleen', 'Mike x Andrew', 'Jonathan x Andrew', 'Mike x Adam', 'Adam x Andrew', 'Glenn x Andrew', 'Mike x Jonathan', 'Mike x Kathleen']\n"
     ]
    }
   ],
   "source": [
    "# back to the unique student pairings\n",
    "\n",
    "# all student pairings\n",
    "\n",
    "students = ['Glenn', 'Mike', 'Andrew', 'Adam', 'Jonathan', 'Kathleen']\n",
    "\n",
    "pairings = {\n",
    "    frozenset((s1, s2))\n",
    "    for s1 in students\n",
    "    for s2 in students\n",
    "    if s1 != s2\n",
    "}\n",
    "\n",
    "print(pairings)\n",
    "print([' x '.join(pair) for pair in pairings])\n",
    "\n",
    "# we'll come back to eliminating duplicates with different orders"
   ]
  },
  {
   "cell_type": "code",
   "execution_count": 90,
   "metadata": {
    "collapsed": false
   },
   "outputs": [
    {
     "name": "stdout",
     "output_type": "stream",
     "text": [
      "Help on class frozenset in module builtins:\n",
      "\n",
      "class frozenset(object)\n",
      " |  frozenset() -> empty frozenset object\n",
      " |  frozenset(iterable) -> frozenset object\n",
      " |  \n",
      " |  Build an immutable unordered collection of unique elements.\n",
      " |  \n",
      " |  Methods defined here:\n",
      " |  \n",
      " |  __and__(self, value, /)\n",
      " |      Return self&value.\n",
      " |  \n",
      " |  __contains__(...)\n",
      " |      x.__contains__(y) <==> y in x.\n",
      " |  \n",
      " |  __eq__(self, value, /)\n",
      " |      Return self==value.\n",
      " |  \n",
      " |  __ge__(self, value, /)\n",
      " |      Return self>=value.\n",
      " |  \n",
      " |  __getattribute__(self, name, /)\n",
      " |      Return getattr(self, name).\n",
      " |  \n",
      " |  __gt__(self, value, /)\n",
      " |      Return self>value.\n",
      " |  \n",
      " |  __hash__(self, /)\n",
      " |      Return hash(self).\n",
      " |  \n",
      " |  __iter__(self, /)\n",
      " |      Implement iter(self).\n",
      " |  \n",
      " |  __le__(self, value, /)\n",
      " |      Return self<=value.\n",
      " |  \n",
      " |  __len__(self, /)\n",
      " |      Return len(self).\n",
      " |  \n",
      " |  __lt__(self, value, /)\n",
      " |      Return self<value.\n",
      " |  \n",
      " |  __ne__(self, value, /)\n",
      " |      Return self!=value.\n",
      " |  \n",
      " |  __new__(*args, **kwargs) from builtins.type\n",
      " |      Create and return a new object.  See help(type) for accurate signature.\n",
      " |  \n",
      " |  __or__(self, value, /)\n",
      " |      Return self|value.\n",
      " |  \n",
      " |  __rand__(self, value, /)\n",
      " |      Return value&self.\n",
      " |  \n",
      " |  __reduce__(...)\n",
      " |      Return state information for pickling.\n",
      " |  \n",
      " |  __repr__(self, /)\n",
      " |      Return repr(self).\n",
      " |  \n",
      " |  __ror__(self, value, /)\n",
      " |      Return value|self.\n",
      " |  \n",
      " |  __rsub__(self, value, /)\n",
      " |      Return value-self.\n",
      " |  \n",
      " |  __rxor__(self, value, /)\n",
      " |      Return value^self.\n",
      " |  \n",
      " |  __sizeof__(...)\n",
      " |      S.__sizeof__() -> size of S in memory, in bytes\n",
      " |  \n",
      " |  __sub__(self, value, /)\n",
      " |      Return self-value.\n",
      " |  \n",
      " |  __xor__(self, value, /)\n",
      " |      Return self^value.\n",
      " |  \n",
      " |  copy(...)\n",
      " |      Return a shallow copy of a set.\n",
      " |  \n",
      " |  difference(...)\n",
      " |      Return the difference of two or more sets as a new set.\n",
      " |      \n",
      " |      (i.e. all elements that are in this set but not the others.)\n",
      " |  \n",
      " |  intersection(...)\n",
      " |      Return the intersection of two sets as a new set.\n",
      " |      \n",
      " |      (i.e. all elements that are in both sets.)\n",
      " |  \n",
      " |  isdisjoint(...)\n",
      " |      Return True if two sets have a null intersection.\n",
      " |  \n",
      " |  issubset(...)\n",
      " |      Report whether another set contains this set.\n",
      " |  \n",
      " |  issuperset(...)\n",
      " |      Report whether this set contains another set.\n",
      " |  \n",
      " |  symmetric_difference(...)\n",
      " |      Return the symmetric difference of two sets as a new set.\n",
      " |      \n",
      " |      (i.e. all elements that are in exactly one of the sets.)\n",
      " |  \n",
      " |  union(...)\n",
      " |      Return the union of sets as a new set.\n",
      " |      \n",
      " |      (i.e. all elements that are in either set.)\n",
      "\n"
     ]
    }
   ],
   "source": [
    "help(frozenset)"
   ]
  },
  {
   "cell_type": "code",
   "execution_count": 114,
   "metadata": {
    "collapsed": false
   },
   "outputs": [
    {
     "name": "stdout",
     "output_type": "stream",
     "text": [
      "Glenn Hurley & Brent Hilsabeck\n",
      "Jonathan Frederick & Jermaine Kee\n",
      "Adam Hartz & David Denney\n",
      "Ryan Burton & Kathleen Rauh\n",
      "Michael Krawiec & Andrew Pierce\n",
      "Tyler Kotkin & Robert Amand\n",
      "Karthik Kasala & William Butts\n"
     ]
    }
   ],
   "source": [
    "students = '''Robert Amand\n",
    "Ryan Burton\n",
    "William Butts\n",
    "David Denney\n",
    "Jonathan Frederick\n",
    "Adam Hartz\n",
    "Glenn Hurley\n",
    "Karthik Kasala\n",
    "Jermaine Kee\n",
    "Michael Krawiec\n",
    "Tyler Kotkin\n",
    "Andrew Pierce\n",
    "Kathleen Rauh\n",
    "Brent Hilsabeck'''\n",
    "\n",
    "# turn into a list\n",
    "students = students.split('\\n')\n",
    "# print(students)\n",
    "# set stuff to get unique pairings\n",
    "pairings = list({\n",
    "    frozenset((s1, s2))\n",
    "    for s1 in students\n",
    "    for s2 in students\n",
    "    if s1 != s2\n",
    "})\n",
    "\n",
    "# print(pairings)\n",
    "\n",
    "while len(pairings) > 0:\n",
    "    this_pair = random.choice(pairings)\n",
    "    print(' & '.join(this_pair))\n",
    "    for pair in pairings[:]:\n",
    "        if not this_pair.isdisjoint(pair):\n",
    "            pairings.remove(pair)\n",
    "\n"
   ]
  },
  {
   "cell_type": "code",
   "execution_count": null,
   "metadata": {
    "collapsed": false
   },
   "outputs": [],
   "source": [
    "test_set = {'a', 'b'}\n",
    "dir(test_set)"
   ]
  },
  {
   "cell_type": "code",
   "execution_count": 106,
   "metadata": {
    "collapsed": false
   },
   "outputs": [
    {
     "name": "stdout",
     "output_type": "stream",
     "text": [
      "Help on built-in function isdisjoint:\n",
      "\n",
      "isdisjoint(...) method of builtins.set instance\n",
      "    Return True if two sets have a null intersection.\n",
      "\n"
     ]
    }
   ],
   "source": [
    "help(test_set.isdisjoint)"
   ]
  },
  {
   "cell_type": "code",
   "execution_count": null,
   "metadata": {
    "collapsed": true
   },
   "outputs": [],
   "source": []
  },
  {
   "cell_type": "code",
   "execution_count": null,
   "metadata": {
    "collapsed": true
   },
   "outputs": [],
   "source": []
  },
  {
   "cell_type": "code",
   "execution_count": null,
   "metadata": {
    "collapsed": true
   },
   "outputs": [],
   "source": []
  },
  {
   "cell_type": "markdown",
   "metadata": {},
   "source": [
    "# Calculate Grades in-class exercise\n",
    "**PAIR PROGRAMMING** - one driver, one “navigator”\n",
    "After 5 minutes, switch\n",
    "\n",
    "```python\n",
    "cohort1 = {\n",
    "    'Avery': [63, 62, 41, 66, 84, 82, 73, 89, 69, 75],\n",
    "    'Blake': [79, 97, 78, 78, 74, 69, 80, 100, 74, 70],\n",
    "    'Casey': [93, 97, 99, 95, 98, 91, 96, 99, 100, 88],\n",
    "    'Dakota': [71, 65, 72, 65, 24, 100, 84, 71, 59, 50],\n",
    "    'Elliot': [84, 73, 90, 72, 69, 93, 61, 65, 81, 98],\n",
    "    'Fox': [80, 91, 90, 80, 83, 73, 84, 89, 84, 84],\n",
    "    'Gale': [41, 7, 64, 60, 78, 48, 73, 50, 69, 89]\n",
    "}\n",
    "```\n",
    "\n",
    "Create functions that can take a data structure like `cohort1`.\n",
    "\n",
    "`student_means`: Return a new dictionary, with students as keys and their mean test score as the value.\n",
    "Then add an optional boolean argument, `drop_lowest`. When True, drop each student's lowest score before calculating their mean.\n",
    "\n",
    "`student_grades`: Return a new dictionary, with students as keys and their grade as the value. Add the optional `drop_lowest` boolean argument like in `student_means`. A is 90+, B is 80-89, C is 70-79, D is 60-69, F is below 60.\n",
    "\n",
    "`all_scores`: Return a list of all the students' test scores.\n",
    "\n",
    "`class_mean`: Return a float, the mean score for the entire class across all tests.\n",
    "\n",
    "`score_histogram`: Return a new dictionary. Each key is a letter grade (A, B, C, D, F). The value for each is all the students' test scores that fall within that grade range.\n",
    "\n",
    "### NOTE\n",
    "\n",
    "There is a hard requirement that no function have more than 7 lines of code. This will necessitate breaking up functions into other helper functions.\n"
   ]
  },
  {
   "cell_type": "code",
   "execution_count": null,
   "metadata": {
    "collapsed": true
   },
   "outputs": [],
   "source": [
    "def mean(some_list):\n",
    "    return sum(some_list) / len(some_list)\n",
    "\n",
    "def drop_lowest(some_list):\n",
    "#     return sorted(some_list)[1:]\n",
    "    some_list.remove(min(some_list))\n",
    "    return some_list"
   ]
  }
 ],
 "metadata": {
  "kernelspec": {
   "display_name": "Python 3",
   "language": "python",
   "name": "python3"
  },
  "language_info": {
   "codemirror_mode": {
    "name": "ipython",
    "version": 3
   },
   "file_extension": ".py",
   "mimetype": "text/x-python",
   "name": "python",
   "nbconvert_exporter": "python",
   "pygments_lexer": "ipython3",
   "version": "3.4.3"
  }
 },
 "nbformat": 4,
 "nbformat_minor": 0
}
