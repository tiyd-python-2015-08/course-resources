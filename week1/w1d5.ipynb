{
 "cells": [
  {
   "cell_type": "code",
   "execution_count": 6,
   "metadata": {
    "collapsed": false
   },
   "outputs": [
    {
     "name": "stdout",
     "output_type": "stream",
     "text": [
      "\n",
      "this\n",
      "is\n",
      "a\n",
      "string\n",
      "with\n",
      "words\n",
      "on\n",
      "new\n",
      "lines and even some lines with more than one word     and even some extra spaces\n",
      "\n",
      "['this', 'is', 'a', 'string', 'with', 'words', 'on', 'new', 'lines', 'and', 'even', 'some', 'lines', 'with', 'more', 'than', 'one', 'word', 'and', 'even', 'some', 'extra', 'spaces']\n"
     ]
    }
   ],
   "source": [
    "import re\n",
    "\n",
    "s = \"\"\"\n",
    "This\n",
    "is\n",
    "a\n",
    "string\n",
    "with\n",
    "words\n",
    "on\n",
    "new\n",
    "lines and even some lines with MORE THAN ONE WORD     and even some extra spaces!\n",
    "\"\"\"\n",
    "\n",
    "cleaned = re.sub(r'[^A-Za-z\\s]', '', s).lower()\n",
    "# cleaned = re.sub(r'[^A-Za-z ]', '', s))\n",
    "print(cleaned)\n",
    "\n",
    "print(cleaned.split())\n"
   ]
  },
  {
   "cell_type": "code",
   "execution_count": 5,
   "metadata": {
    "collapsed": false
   },
   "outputs": [
    {
     "name": "stdout",
     "output_type": "stream",
     "text": [
      "Help on method_descriptor:\n",
      "\n",
      "split(...)\n",
      "    S.split(sep=None, maxsplit=-1) -> list of strings\n",
      "    \n",
      "    Return a list of the words in S, using sep as the\n",
      "    delimiter string.  If maxsplit is given, at most maxsplit\n",
      "    splits are done. If sep is not specified or is None, any\n",
      "    whitespace string is a separator and empty strings are\n",
      "    removed from the result.\n",
      "\n"
     ]
    }
   ],
   "source": [
    "help(str.split)"
   ]
  },
  {
   "cell_type": "code",
   "execution_count": null,
   "metadata": {
    "collapsed": true
   },
   "outputs": [],
   "source": []
  }
 ],
 "metadata": {
  "kernelspec": {
   "display_name": "Python 3",
   "language": "python",
   "name": "python3"
  },
  "language_info": {
   "codemirror_mode": {
    "name": "ipython",
    "version": 3
   },
   "file_extension": ".py",
   "mimetype": "text/x-python",
   "name": "python",
   "nbconvert_exporter": "python",
   "pygments_lexer": "ipython3",
   "version": "3.4.3"
  }
 },
 "nbformat": 4,
 "nbformat_minor": 0
}
