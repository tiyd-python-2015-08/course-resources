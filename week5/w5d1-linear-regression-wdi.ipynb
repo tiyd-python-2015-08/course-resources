{
 "cells": [
  {
   "cell_type": "code",
   "execution_count": 1,
   "metadata": {
    "collapsed": true
   },
   "outputs": [],
   "source": [
    "import pandas as pd\n",
    "import numpy as np\n",
    "import matplotlib.pyplot as plt\n",
    "\n",
    "%matplotlib inline"
   ]
  },
  {
   "cell_type": "code",
   "execution_count": 21,
   "metadata": {
    "collapsed": false
   },
   "outputs": [],
   "source": [
    "country_data = pd.read_csv('wdi_data_extract.csv')\n",
    "country_data = country_data.rename(columns={'\\ufeffCountry Name': 'Country Name'})\n",
    "country_data = country_data.dropna(thresh=2)\n",
    "country_data = country_data.replace(\"..\", np.nan)\n",
    "\n",
    "country_data.columns[0]\n",
    "\n",
    "# country_data.columns\n",
    "country_data['2000 [YR2000]'] = country_data['2000 [YR2000]'].apply(float)\n"
   ]
  },
  {
   "cell_type": "code",
   "execution_count": 7,
   "metadata": {
    "collapsed": false
   },
   "outputs": [
    {
     "data": {
      "text/html": [
       "<div>\n",
       "<table border=\"1\" class=\"dataframe\">\n",
       "  <thead>\n",
       "    <tr style=\"text-align: right;\">\n",
       "      <th></th>\n",
       "      <th>﻿Country Name</th>\n",
       "      <th>Country Code</th>\n",
       "      <th>Series Name</th>\n",
       "      <th>Series Code</th>\n",
       "      <th>1990 [YR1990]</th>\n",
       "      <th>1995 [YR1995]</th>\n",
       "      <th>2000 [YR2000]</th>\n",
       "      <th>2005 [YR2005]</th>\n",
       "      <th>2010 [YR2010]</th>\n",
       "      <th>2013 [YR2013]</th>\n",
       "      <th>2014 [YR2014]</th>\n",
       "      <th>2015 [YR2015]</th>\n",
       "    </tr>\n",
       "  </thead>\n",
       "  <tbody>\n",
       "    <tr>\n",
       "      <th>0</th>\n",
       "      <td>Afghanistan</td>\n",
       "      <td>AFG</td>\n",
       "      <td>Age dependency ratio (% of working-age populat...</td>\n",
       "      <td>SP.POP.DPND</td>\n",
       "      <td>101.094929920886</td>\n",
       "      <td>100.476265721036</td>\n",
       "      <td>103.254202331086</td>\n",
       "      <td>99.0784443357126</td>\n",
       "      <td>99.4598389068067</td>\n",
       "      <td>92.6027850428629</td>\n",
       "      <td>89.7737769801677</td>\n",
       "      <td>NaN</td>\n",
       "    </tr>\n",
       "    <tr>\n",
       "      <th>1</th>\n",
       "      <td>Afghanistan</td>\n",
       "      <td>AFG</td>\n",
       "      <td>Age dependency ratio, old (% of working-age po...</td>\n",
       "      <td>SP.POP.DPND.OL</td>\n",
       "      <td>4.43831058242286</td>\n",
       "      <td>4.6542465771763</td>\n",
       "      <td>4.54656544022227</td>\n",
       "      <td>4.33203777048311</td>\n",
       "      <td>4.53820916606831</td>\n",
       "      <td>4.61170757520736</td>\n",
       "      <td>4.62039281529307</td>\n",
       "      <td>NaN</td>\n",
       "    </tr>\n",
       "    <tr>\n",
       "      <th>2</th>\n",
       "      <td>Afghanistan</td>\n",
       "      <td>AFG</td>\n",
       "      <td>Age dependency ratio, young (% of working-age ...</td>\n",
       "      <td>SP.POP.DPND.YG</td>\n",
       "      <td>96.6566193384628</td>\n",
       "      <td>95.8220191438596</td>\n",
       "      <td>98.7076368908636</td>\n",
       "      <td>94.7464065652295</td>\n",
       "      <td>94.9216297407384</td>\n",
       "      <td>87.9910774676555</td>\n",
       "      <td>85.1533841648746</td>\n",
       "      <td>NaN</td>\n",
       "    </tr>\n",
       "    <tr>\n",
       "      <th>3</th>\n",
       "      <td>Afghanistan</td>\n",
       "      <td>AFG</td>\n",
       "      <td>Birth rate, crude (per 1,000 people)</td>\n",
       "      <td>SP.DYN.CBRT.IN</td>\n",
       "      <td>50.467</td>\n",
       "      <td>50.978</td>\n",
       "      <td>49.999</td>\n",
       "      <td>45.078</td>\n",
       "      <td>37.952</td>\n",
       "      <td>34.065</td>\n",
       "      <td>NaN</td>\n",
       "      <td>NaN</td>\n",
       "    </tr>\n",
       "    <tr>\n",
       "      <th>4</th>\n",
       "      <td>Afghanistan</td>\n",
       "      <td>AFG</td>\n",
       "      <td>Completeness of birth registration (%)</td>\n",
       "      <td>SP.REG.BRTH.ZS</td>\n",
       "      <td>NaN</td>\n",
       "      <td>NaN</td>\n",
       "      <td>NaN</td>\n",
       "      <td>NaN</td>\n",
       "      <td>NaN</td>\n",
       "      <td>NaN</td>\n",
       "      <td>NaN</td>\n",
       "      <td>NaN</td>\n",
       "    </tr>\n",
       "  </tbody>\n",
       "</table>\n",
       "</div>"
      ],
      "text/plain": [
       "  ﻿Country Name Country Code  \\\n",
       "0   Afghanistan          AFG   \n",
       "1   Afghanistan          AFG   \n",
       "2   Afghanistan          AFG   \n",
       "3   Afghanistan          AFG   \n",
       "4   Afghanistan          AFG   \n",
       "\n",
       "                                         Series Name     Series Code  \\\n",
       "0  Age dependency ratio (% of working-age populat...     SP.POP.DPND   \n",
       "1  Age dependency ratio, old (% of working-age po...  SP.POP.DPND.OL   \n",
       "2  Age dependency ratio, young (% of working-age ...  SP.POP.DPND.YG   \n",
       "3               Birth rate, crude (per 1,000 people)  SP.DYN.CBRT.IN   \n",
       "4             Completeness of birth registration (%)  SP.REG.BRTH.ZS   \n",
       "\n",
       "      1990 [YR1990]     1995 [YR1995]     2000 [YR2000]     2005 [YR2005]  \\\n",
       "0  101.094929920886  100.476265721036  103.254202331086  99.0784443357126   \n",
       "1  4.43831058242286   4.6542465771763  4.54656544022227  4.33203777048311   \n",
       "2  96.6566193384628  95.8220191438596  98.7076368908636  94.7464065652295   \n",
       "3            50.467            50.978            49.999            45.078   \n",
       "4               NaN               NaN               NaN               NaN   \n",
       "\n",
       "      2010 [YR2010]     2013 [YR2013]     2014 [YR2014] 2015 [YR2015]  \n",
       "0  99.4598389068067  92.6027850428629  89.7737769801677           NaN  \n",
       "1  4.53820916606831  4.61170757520736  4.62039281529307           NaN  \n",
       "2  94.9216297407384  87.9910774676555  85.1533841648746           NaN  \n",
       "3            37.952            34.065               NaN           NaN  \n",
       "4               NaN               NaN               NaN           NaN  "
      ]
     },
     "execution_count": 7,
     "metadata": {},
     "output_type": "execute_result"
    }
   ],
   "source": [
    "country_data.head()"
   ]
  },
  {
   "cell_type": "code",
   "execution_count": 22,
   "metadata": {
    "collapsed": false,
    "scrolled": true
   },
   "outputs": [],
   "source": [
    "indicators = country_data.pivot_table(index='Country Name', columns='Series Name', values='2000 [YR2000]')"
   ]
  },
  {
   "cell_type": "code",
   "execution_count": 23,
   "metadata": {
    "collapsed": false
   },
   "outputs": [
    {
     "data": {
      "text/html": [
       "<div>\n",
       "<table border=\"1\" class=\"dataframe\">\n",
       "  <thead>\n",
       "    <tr style=\"text-align: right;\">\n",
       "      <th>Series Name</th>\n",
       "      <th>Age dependency ratio (% of working-age population)</th>\n",
       "      <th>Age dependency ratio, old (% of working-age population)</th>\n",
       "      <th>Age dependency ratio, young (% of working-age population)</th>\n",
       "      <th>Birth rate, crude (per 1,000 people)</th>\n",
       "      <th>Births attended by skilled health staff (% of total)</th>\n",
       "      <th>Completeness of birth registration (%)</th>\n",
       "      <th>Completeness of birth registration, rural (%)</th>\n",
       "      <th>Completeness of birth registration, urban (%)</th>\n",
       "      <th>Completeness of death registration with cause-of-death information (%)</th>\n",
       "      <th>Contraceptive prevalence (% of women ages 15-49)</th>\n",
       "      <th>...</th>\n",
       "      <th>Mortality rate, neonatal (per 1,000 live births)</th>\n",
       "      <th>Mortality rate, under-5 (per 1,000 live births)</th>\n",
       "      <th>Mortality rate, under-5, female (per 1,000)</th>\n",
       "      <th>Mortality rate, under-5, male (per 1,000 live births)</th>\n",
       "      <th>Population ages 0-14 (% of total)</th>\n",
       "      <th>Population ages 15-64 (% of total)</th>\n",
       "      <th>Population ages 65 and above (% of total)</th>\n",
       "      <th>Population growth (annual %)</th>\n",
       "      <th>Population, female (% of total)</th>\n",
       "      <th>Population, total</th>\n",
       "    </tr>\n",
       "    <tr>\n",
       "      <th>Country Name</th>\n",
       "      <th></th>\n",
       "      <th></th>\n",
       "      <th></th>\n",
       "      <th></th>\n",
       "      <th></th>\n",
       "      <th></th>\n",
       "      <th></th>\n",
       "      <th></th>\n",
       "      <th></th>\n",
       "      <th></th>\n",
       "      <th></th>\n",
       "      <th></th>\n",
       "      <th></th>\n",
       "      <th></th>\n",
       "      <th></th>\n",
       "      <th></th>\n",
       "      <th></th>\n",
       "      <th></th>\n",
       "      <th></th>\n",
       "      <th></th>\n",
       "      <th></th>\n",
       "    </tr>\n",
       "  </thead>\n",
       "  <tbody>\n",
       "    <tr>\n",
       "      <th>Afghanistan</th>\n",
       "      <td>103.254202</td>\n",
       "      <td>4.546565</td>\n",
       "      <td>98.707637</td>\n",
       "      <td>49.999</td>\n",
       "      <td>12.4</td>\n",
       "      <td>NaN</td>\n",
       "      <td>NaN</td>\n",
       "      <td>NaN</td>\n",
       "      <td>NaN</td>\n",
       "      <td>4.9</td>\n",
       "      <td>...</td>\n",
       "      <td>45.2</td>\n",
       "      <td>137.0</td>\n",
       "      <td>132.7</td>\n",
       "      <td>141.1</td>\n",
       "      <td>48.563639</td>\n",
       "      <td>49.199475</td>\n",
       "      <td>2.236886</td>\n",
       "      <td>3.425807</td>\n",
       "      <td>48.499808</td>\n",
       "      <td>19701940</td>\n",
       "    </tr>\n",
       "    <tr>\n",
       "      <th>Albania</th>\n",
       "      <td>59.585866</td>\n",
       "      <td>11.289891</td>\n",
       "      <td>48.295975</td>\n",
       "      <td>18.938</td>\n",
       "      <td>99.1</td>\n",
       "      <td>NaN</td>\n",
       "      <td>NaN</td>\n",
       "      <td>NaN</td>\n",
       "      <td>NaN</td>\n",
       "      <td>57.5</td>\n",
       "      <td>...</td>\n",
       "      <td>11.3</td>\n",
       "      <td>26.2</td>\n",
       "      <td>23.4</td>\n",
       "      <td>28.8</td>\n",
       "      <td>30.263312</td>\n",
       "      <td>62.662202</td>\n",
       "      <td>7.074487</td>\n",
       "      <td>-0.637357</td>\n",
       "      <td>49.466922</td>\n",
       "      <td>3089027</td>\n",
       "    </tr>\n",
       "    <tr>\n",
       "      <th>Algeria</th>\n",
       "      <td>62.886169</td>\n",
       "      <td>7.061206</td>\n",
       "      <td>55.824963</td>\n",
       "      <td>19.595</td>\n",
       "      <td>92.6</td>\n",
       "      <td>NaN</td>\n",
       "      <td>NaN</td>\n",
       "      <td>NaN</td>\n",
       "      <td>NaN</td>\n",
       "      <td>64.0</td>\n",
       "      <td>...</td>\n",
       "      <td>21.0</td>\n",
       "      <td>39.7</td>\n",
       "      <td>36.7</td>\n",
       "      <td>42.5</td>\n",
       "      <td>34.272378</td>\n",
       "      <td>61.392567</td>\n",
       "      <td>4.335056</td>\n",
       "      <td>1.346608</td>\n",
       "      <td>49.322334</td>\n",
       "      <td>31183658</td>\n",
       "    </tr>\n",
       "    <tr>\n",
       "      <th>American Samoa</th>\n",
       "      <td>NaN</td>\n",
       "      <td>NaN</td>\n",
       "      <td>NaN</td>\n",
       "      <td>NaN</td>\n",
       "      <td>NaN</td>\n",
       "      <td>NaN</td>\n",
       "      <td>NaN</td>\n",
       "      <td>NaN</td>\n",
       "      <td>NaN</td>\n",
       "      <td>NaN</td>\n",
       "      <td>...</td>\n",
       "      <td>NaN</td>\n",
       "      <td>NaN</td>\n",
       "      <td>NaN</td>\n",
       "      <td>NaN</td>\n",
       "      <td>NaN</td>\n",
       "      <td>NaN</td>\n",
       "      <td>NaN</td>\n",
       "      <td>1.319470</td>\n",
       "      <td>NaN</td>\n",
       "      <td>57522</td>\n",
       "    </tr>\n",
       "    <tr>\n",
       "      <th>Andorra</th>\n",
       "      <td>NaN</td>\n",
       "      <td>NaN</td>\n",
       "      <td>NaN</td>\n",
       "      <td>11.300</td>\n",
       "      <td>NaN</td>\n",
       "      <td>NaN</td>\n",
       "      <td>NaN</td>\n",
       "      <td>NaN</td>\n",
       "      <td>NaN</td>\n",
       "      <td>NaN</td>\n",
       "      <td>...</td>\n",
       "      <td>2.2</td>\n",
       "      <td>4.6</td>\n",
       "      <td>4.2</td>\n",
       "      <td>5.0</td>\n",
       "      <td>NaN</td>\n",
       "      <td>NaN</td>\n",
       "      <td>NaN</td>\n",
       "      <td>1.911142</td>\n",
       "      <td>NaN</td>\n",
       "      <td>65399</td>\n",
       "    </tr>\n",
       "  </tbody>\n",
       "</table>\n",
       "<p>5 rows × 29 columns</p>\n",
       "</div>"
      ],
      "text/plain": [
       "Series Name     Age dependency ratio (% of working-age population)  \\\n",
       "Country Name                                                         \n",
       "Afghanistan                                            103.254202    \n",
       "Albania                                                 59.585866    \n",
       "Algeria                                                 62.886169    \n",
       "American Samoa                                                NaN    \n",
       "Andorra                                                       NaN    \n",
       "\n",
       "Series Name     Age dependency ratio, old (% of working-age population)  \\\n",
       "Country Name                                                              \n",
       "Afghanistan                                              4.546565         \n",
       "Albania                                                 11.289891         \n",
       "Algeria                                                  7.061206         \n",
       "American Samoa                                                NaN         \n",
       "Andorra                                                       NaN         \n",
       "\n",
       "Series Name     Age dependency ratio, young (% of working-age population)  \\\n",
       "Country Name                                                                \n",
       "Afghanistan                                             98.707637           \n",
       "Albania                                                 48.295975           \n",
       "Algeria                                                 55.824963           \n",
       "American Samoa                                                NaN           \n",
       "Andorra                                                       NaN           \n",
       "\n",
       "Series Name     Birth rate, crude (per 1,000 people)  \\\n",
       "Country Name                                           \n",
       "Afghanistan                                   49.999   \n",
       "Albania                                       18.938   \n",
       "Algeria                                       19.595   \n",
       "American Samoa                                   NaN   \n",
       "Andorra                                       11.300   \n",
       "\n",
       "Series Name     Births attended by skilled health staff (% of total)  \\\n",
       "Country Name                                                           \n",
       "Afghanistan                                                  12.4      \n",
       "Albania                                                      99.1      \n",
       "Algeria                                                      92.6      \n",
       "American Samoa                                                NaN      \n",
       "Andorra                                                       NaN      \n",
       "\n",
       "Series Name     Completeness of birth registration (%)  \\\n",
       "Country Name                                             \n",
       "Afghanistan                                        NaN   \n",
       "Albania                                            NaN   \n",
       "Algeria                                            NaN   \n",
       "American Samoa                                     NaN   \n",
       "Andorra                                            NaN   \n",
       "\n",
       "Series Name     Completeness of birth registration, rural (%)  \\\n",
       "Country Name                                                    \n",
       "Afghanistan                                               NaN   \n",
       "Albania                                                   NaN   \n",
       "Algeria                                                   NaN   \n",
       "American Samoa                                            NaN   \n",
       "Andorra                                                   NaN   \n",
       "\n",
       "Series Name     Completeness of birth registration, urban (%)  \\\n",
       "Country Name                                                    \n",
       "Afghanistan                                               NaN   \n",
       "Albania                                                   NaN   \n",
       "Algeria                                                   NaN   \n",
       "American Samoa                                            NaN   \n",
       "Andorra                                                   NaN   \n",
       "\n",
       "Series Name     Completeness of death registration with cause-of-death information (%)  \\\n",
       "Country Name                                                                             \n",
       "Afghanistan                                                   NaN                        \n",
       "Albania                                                       NaN                        \n",
       "Algeria                                                       NaN                        \n",
       "American Samoa                                                NaN                        \n",
       "Andorra                                                       NaN                        \n",
       "\n",
       "Series Name     Contraceptive prevalence (% of women ages 15-49)  \\\n",
       "Country Name                                                       \n",
       "Afghanistan                                                  4.9   \n",
       "Albania                                                     57.5   \n",
       "Algeria                                                     64.0   \n",
       "American Samoa                                               NaN   \n",
       "Andorra                                                      NaN   \n",
       "\n",
       "Series Name           ...          \\\n",
       "Country Name          ...           \n",
       "Afghanistan           ...           \n",
       "Albania               ...           \n",
       "Algeria               ...           \n",
       "American Samoa        ...           \n",
       "Andorra               ...           \n",
       "\n",
       "Series Name     Mortality rate, neonatal (per 1,000 live births)  \\\n",
       "Country Name                                                       \n",
       "Afghanistan                                                 45.2   \n",
       "Albania                                                     11.3   \n",
       "Algeria                                                     21.0   \n",
       "American Samoa                                               NaN   \n",
       "Andorra                                                      2.2   \n",
       "\n",
       "Series Name     Mortality rate, under-5 (per 1,000 live births)  \\\n",
       "Country Name                                                      \n",
       "Afghanistan                                               137.0   \n",
       "Albania                                                    26.2   \n",
       "Algeria                                                    39.7   \n",
       "American Samoa                                              NaN   \n",
       "Andorra                                                     4.6   \n",
       "\n",
       "Series Name     Mortality rate, under-5, female (per 1,000)  \\\n",
       "Country Name                                                  \n",
       "Afghanistan                                           132.7   \n",
       "Albania                                                23.4   \n",
       "Algeria                                                36.7   \n",
       "American Samoa                                          NaN   \n",
       "Andorra                                                 4.2   \n",
       "\n",
       "Series Name     Mortality rate, under-5, male (per 1,000 live births)  \\\n",
       "Country Name                                                            \n",
       "Afghanistan                                                 141.1       \n",
       "Albania                                                      28.8       \n",
       "Algeria                                                      42.5       \n",
       "American Samoa                                                NaN       \n",
       "Andorra                                                       5.0       \n",
       "\n",
       "Series Name     Population ages 0-14 (% of total)  \\\n",
       "Country Name                                        \n",
       "Afghanistan                             48.563639   \n",
       "Albania                                 30.263312   \n",
       "Algeria                                 34.272378   \n",
       "American Samoa                                NaN   \n",
       "Andorra                                       NaN   \n",
       "\n",
       "Series Name     Population ages 15-64 (% of total)  \\\n",
       "Country Name                                         \n",
       "Afghanistan                              49.199475   \n",
       "Albania                                  62.662202   \n",
       "Algeria                                  61.392567   \n",
       "American Samoa                                 NaN   \n",
       "Andorra                                        NaN   \n",
       "\n",
       "Series Name     Population ages 65 and above (% of total)  \\\n",
       "Country Name                                                \n",
       "Afghanistan                                      2.236886   \n",
       "Albania                                          7.074487   \n",
       "Algeria                                          4.335056   \n",
       "American Samoa                                        NaN   \n",
       "Andorra                                               NaN   \n",
       "\n",
       "Series Name     Population growth (annual %)  Population, female (% of total)  \\\n",
       "Country Name                                                                    \n",
       "Afghanistan                         3.425807                        48.499808   \n",
       "Albania                            -0.637357                        49.466922   \n",
       "Algeria                             1.346608                        49.322334   \n",
       "American Samoa                      1.319470                              NaN   \n",
       "Andorra                             1.911142                              NaN   \n",
       "\n",
       "Series Name     Population, total  \n",
       "Country Name                       \n",
       "Afghanistan              19701940  \n",
       "Albania                   3089027  \n",
       "Algeria                  31183658  \n",
       "American Samoa              57522  \n",
       "Andorra                     65399  \n",
       "\n",
       "[5 rows x 29 columns]"
      ]
     },
     "execution_count": 23,
     "metadata": {},
     "output_type": "execute_result"
    }
   ],
   "source": [
    "indicators.head()"
   ]
  },
  {
   "cell_type": "code",
   "execution_count": 24,
   "metadata": {
    "collapsed": false
   },
   "outputs": [
    {
     "data": {
      "text/plain": [
       "['Age dependency ratio (% of working-age population)',\n",
       " 'Age dependency ratio, old (% of working-age population)',\n",
       " 'Age dependency ratio, young (% of working-age population)',\n",
       " 'Birth rate, crude (per 1,000 people)',\n",
       " 'Births attended by skilled health staff (% of total)',\n",
       " 'Completeness of birth registration (%)',\n",
       " 'Completeness of birth registration, rural (%)',\n",
       " 'Completeness of birth registration, urban (%)',\n",
       " 'Completeness of death registration with cause-of-death information (%)',\n",
       " 'Contraceptive prevalence (% of women ages 15-49)',\n",
       " 'Death rate, crude (per 1,000 people)',\n",
       " 'Female headed households (% of households with a female head)',\n",
       " 'Maternal mortality ratio (modeled estimate, per 100,000 live births)',\n",
       " 'Maternal mortality ratio (national estimate, per 100,000 live births)',\n",
       " 'Mortality rate, adult, female (per 1,000 female adults)',\n",
       " 'Mortality rate, adult, male (per 1,000 male adults)',\n",
       " 'Mortality rate, infant (per 1,000 live births)',\n",
       " 'Mortality rate, infant, female (per 1,000 live births)',\n",
       " 'Mortality rate, infant, male (per 1,000 live births)',\n",
       " 'Mortality rate, neonatal (per 1,000 live births)',\n",
       " 'Mortality rate, under-5 (per 1,000 live births)',\n",
       " 'Mortality rate, under-5, female (per 1,000)',\n",
       " 'Mortality rate, under-5, male (per 1,000 live births)',\n",
       " 'Population ages 0-14 (% of total)',\n",
       " 'Population ages 15-64 (% of total)',\n",
       " 'Population ages 65 and above (% of total)',\n",
       " 'Population growth (annual %)',\n",
       " 'Population, female (% of total)',\n",
       " 'Population, total']"
      ]
     },
     "execution_count": 24,
     "metadata": {},
     "output_type": "execute_result"
    }
   ],
   "source": [
    "list(indicators.columns)"
   ]
  },
  {
   "cell_type": "code",
   "execution_count": 30,
   "metadata": {
    "collapsed": false
   },
   "outputs": [],
   "source": [
    "subset = indicators[['Age dependency ratio, young (% of working-age population)',\n",
    " 'Birth rate, crude (per 1,000 people)']].dropna()"
   ]
  },
  {
   "cell_type": "code",
   "execution_count": 31,
   "metadata": {
    "collapsed": false
   },
   "outputs": [
    {
     "data": {
      "text/html": [
       "<div>\n",
       "<table border=\"1\" class=\"dataframe\">\n",
       "  <thead>\n",
       "    <tr style=\"text-align: right;\">\n",
       "      <th>Series Name</th>\n",
       "      <th>Age dependency ratio, young (% of working-age population)</th>\n",
       "      <th>Birth rate, crude (per 1,000 people)</th>\n",
       "    </tr>\n",
       "    <tr>\n",
       "      <th>Country Name</th>\n",
       "      <th></th>\n",
       "      <th></th>\n",
       "    </tr>\n",
       "  </thead>\n",
       "  <tbody>\n",
       "    <tr>\n",
       "      <th>Afghanistan</th>\n",
       "      <td>98.707637</td>\n",
       "      <td>49.999</td>\n",
       "    </tr>\n",
       "    <tr>\n",
       "      <th>Albania</th>\n",
       "      <td>48.295975</td>\n",
       "      <td>18.938</td>\n",
       "    </tr>\n",
       "    <tr>\n",
       "      <th>Algeria</th>\n",
       "      <td>55.824963</td>\n",
       "      <td>19.595</td>\n",
       "    </tr>\n",
       "    <tr>\n",
       "      <th>Angola</th>\n",
       "      <td>96.086665</td>\n",
       "      <td>50.477</td>\n",
       "    </tr>\n",
       "    <tr>\n",
       "      <th>Antigua and Barbuda</th>\n",
       "      <td>45.868629</td>\n",
       "      <td>20.240</td>\n",
       "    </tr>\n",
       "  </tbody>\n",
       "</table>\n",
       "</div>"
      ],
      "text/plain": [
       "Series Name          Age dependency ratio, young (% of working-age population)  \\\n",
       "Country Name                                                                     \n",
       "Afghanistan                                                  98.707637           \n",
       "Albania                                                      48.295975           \n",
       "Algeria                                                      55.824963           \n",
       "Angola                                                       96.086665           \n",
       "Antigua and Barbuda                                          45.868629           \n",
       "\n",
       "Series Name          Birth rate, crude (per 1,000 people)  \n",
       "Country Name                                               \n",
       "Afghanistan                                        49.999  \n",
       "Albania                                            18.938  \n",
       "Algeria                                            19.595  \n",
       "Angola                                             50.477  \n",
       "Antigua and Barbuda                                20.240  "
      ]
     },
     "execution_count": 31,
     "metadata": {},
     "output_type": "execute_result"
    }
   ],
   "source": [
    "subset.head()"
   ]
  },
  {
   "cell_type": "code",
   "execution_count": 32,
   "metadata": {
    "collapsed": false
   },
   "outputs": [
    {
     "data": {
      "text/plain": [
       "<matplotlib.axes._subplots.AxesSubplot at 0x10ed5a240>"
      ]
     },
     "execution_count": 32,
     "metadata": {},
     "output_type": "execute_result"
    },
    {
     "data": {
      "image/png": "[encoded data removed]",
      "text/plain": [
       "<matplotlib.figure.Figure at 0x10e04d390>"
      ]
     },
     "metadata": {},
     "output_type": "display_data"
    }
   ],
   "source": [
    "subset.plot(kind='scatter', x='Birth rate, crude (per 1,000 people)', y='Age dependency ratio, young (% of working-age population)')"
   ]
  },
  {
   "cell_type": "code",
   "execution_count": 33,
   "metadata": {
    "collapsed": false
   },
   "outputs": [
    {
     "data": {
      "text/html": [
       "<div>\n",
       "<table border=\"1\" class=\"dataframe\">\n",
       "  <thead>\n",
       "    <tr style=\"text-align: right;\">\n",
       "      <th>Series Name</th>\n",
       "      <th>Age dependency ratio, young (% of working-age population)</th>\n",
       "      <th>Birth rate, crude (per 1,000 people)</th>\n",
       "    </tr>\n",
       "    <tr>\n",
       "      <th>Series Name</th>\n",
       "      <th></th>\n",
       "      <th></th>\n",
       "    </tr>\n",
       "  </thead>\n",
       "  <tbody>\n",
       "    <tr>\n",
       "      <th>Age dependency ratio, young (% of working-age population)</th>\n",
       "      <td>1.000000</td>\n",
       "      <td>0.968497</td>\n",
       "    </tr>\n",
       "    <tr>\n",
       "      <th>Birth rate, crude (per 1,000 people)</th>\n",
       "      <td>0.968497</td>\n",
       "      <td>1.000000</td>\n",
       "    </tr>\n",
       "  </tbody>\n",
       "</table>\n",
       "</div>"
      ],
      "text/plain": [
       "Series Name                                         Age dependency ratio, young (% of working-age population)  \\\n",
       "Series Name                                                                                                     \n",
       "Age dependency ratio, young (% of working-age p...                                           1.000000           \n",
       "Birth rate, crude (per 1,000 people)                                                         0.968497           \n",
       "\n",
       "Series Name                                         Birth rate, crude (per 1,000 people)  \n",
       "Series Name                                                                               \n",
       "Age dependency ratio, young (% of working-age p...                              0.968497  \n",
       "Birth rate, crude (per 1,000 people)                                            1.000000  "
      ]
     },
     "execution_count": 33,
     "metadata": {},
     "output_type": "execute_result"
    }
   ],
   "source": [
    "subset.corr()"
   ]
  },
  {
   "cell_type": "code",
   "execution_count": 34,
   "metadata": {
    "collapsed": true
   },
   "outputs": [],
   "source": [
    "from sklearn import linear_model"
   ]
  },
  {
   "cell_type": "code",
   "execution_count": 41,
   "metadata": {
    "collapsed": true
   },
   "outputs": [],
   "source": [
    "# pull out the x and y from our data\n",
    "\n",
    "# input data expects x values on their own separate rows\n",
    "# use double brackets to keep data in a DataFrame, which meets that requirement\n",
    "input_data = subset[['Birth rate, crude (per 1,000 people)']]\n",
    "output_data = subset['Age dependency ratio, young (% of working-age population)']"
   ]
  },
  {
   "cell_type": "code",
   "execution_count": 46,
   "metadata": {
    "collapsed": false
   },
   "outputs": [
    {
     "name": "stdout",
     "output_type": "stream",
     "text": [
      "[ 1.90592138] 9.49264003853\n",
      "0.937987058\n"
     ]
    }
   ],
   "source": [
    "# input_data.head()\n",
    "\n",
    "regr1 = linear_model.LinearRegression()\n",
    "regr1.fit(input_data, output_data)\n",
    "\n",
    "print(regr1.coef_, regr1.intercept_)\n",
    "\n",
    "# the score\n",
    "print(regr1.score(input_data, output_data))"
   ]
  },
  {
   "cell_type": "code",
   "execution_count": 48,
   "metadata": {
    "collapsed": false
   },
   "outputs": [
    {
     "data": {
      "text/plain": [
       "[<matplotlib.lines.Line2D at 0x10f206908>]"
      ]
     },
     "execution_count": 48,
     "metadata": {},
     "output_type": "execute_result"
    },
    {
     "data": {
      "image/png": "[encoded data removed]",
      "text/plain": [
       "<matplotlib.figure.Figure at 0x10f2066a0>"
      ]
     },
     "metadata": {},
     "output_type": "display_data"
    }
   ],
   "source": [
    "plt.scatter(input_data, output_data, color='magenta')\n",
    "plt.plot(input_data, regr1.predict(input_data), color='blue', linewidth=3)"
   ]
  },
  {
   "cell_type": "markdown",
   "metadata": {},
   "source": [
    "A single X and a single Y are great, but a little boring.\n",
    "\n",
    "The reality is that there are often multiple factors in correlations.\n",
    "\n",
    "Let's take a look at feature vectors with multiple elements."
   ]
  },
  {
   "cell_type": "code",
   "execution_count": 49,
   "metadata": {
    "collapsed": false
   },
   "outputs": [
    {
     "data": {
      "text/plain": [
       "['Age dependency ratio (% of working-age population)',\n",
       " 'Age dependency ratio, old (% of working-age population)',\n",
       " 'Age dependency ratio, young (% of working-age population)',\n",
       " 'Birth rate, crude (per 1,000 people)',\n",
       " 'Births attended by skilled health staff (% of total)',\n",
       " 'Completeness of birth registration (%)',\n",
       " 'Completeness of birth registration, rural (%)',\n",
       " 'Completeness of birth registration, urban (%)',\n",
       " 'Completeness of death registration with cause-of-death information (%)',\n",
       " 'Contraceptive prevalence (% of women ages 15-49)',\n",
       " 'Death rate, crude (per 1,000 people)',\n",
       " 'Female headed households (% of households with a female head)',\n",
       " 'Maternal mortality ratio (modeled estimate, per 100,000 live births)',\n",
       " 'Maternal mortality ratio (national estimate, per 100,000 live births)',\n",
       " 'Mortality rate, adult, female (per 1,000 female adults)',\n",
       " 'Mortality rate, adult, male (per 1,000 male adults)',\n",
       " 'Mortality rate, infant (per 1,000 live births)',\n",
       " 'Mortality rate, infant, female (per 1,000 live births)',\n",
       " 'Mortality rate, infant, male (per 1,000 live births)',\n",
       " 'Mortality rate, neonatal (per 1,000 live births)',\n",
       " 'Mortality rate, under-5 (per 1,000 live births)',\n",
       " 'Mortality rate, under-5, female (per 1,000)',\n",
       " 'Mortality rate, under-5, male (per 1,000 live births)',\n",
       " 'Population ages 0-14 (% of total)',\n",
       " 'Population ages 15-64 (% of total)',\n",
       " 'Population ages 65 and above (% of total)',\n",
       " 'Population growth (annual %)',\n",
       " 'Population, female (% of total)',\n",
       " 'Population, total']"
      ]
     },
     "execution_count": 49,
     "metadata": {},
     "output_type": "execute_result"
    }
   ],
   "source": [
    "list(indicators.columns)"
   ]
  },
  {
   "cell_type": "code",
   "execution_count": 51,
   "metadata": {
    "collapsed": true
   },
   "outputs": [],
   "source": [
    "multiset = indicators[['Birth rate, crude (per 1,000 people)',\n",
    "                       'Population growth (annual %)',\n",
    "                       'Contraceptive prevalence (% of women ages 15-49)']]"
   ]
  },
  {
   "cell_type": "code",
   "execution_count": 68,
   "metadata": {
    "collapsed": false
   },
   "outputs": [],
   "source": [
    "multiset = multiset.dropna()"
   ]
  },
  {
   "cell_type": "code",
   "execution_count": 69,
   "metadata": {
    "collapsed": true
   },
   "outputs": [],
   "source": [
    "input_data = multiset[['Birth rate, crude (per 1,000 people)',\n",
    "                       'Population growth (annual %)']]\n",
    "output_data = multiset['Contraceptive prevalence (% of women ages 15-49)']"
   ]
  },
  {
   "cell_type": "code",
   "execution_count": 70,
   "metadata": {
    "collapsed": false
   },
   "outputs": [
    {
     "data": {
      "text/plain": [
       "Country Name\n",
       "Afghanistan     4.900000\n",
       "Albania        57.500000\n",
       "Algeria        64.000000\n",
       "Arab World     44.315424\n",
       "Armenia        60.500000\n",
       "Name: Contraceptive prevalence (% of women ages 15-49), dtype: float64"
      ]
     },
     "execution_count": 70,
     "metadata": {},
     "output_type": "execute_result"
    }
   ],
   "source": [
    "output_data.head()"
   ]
  },
  {
   "cell_type": "code",
   "execution_count": 72,
   "metadata": {
    "collapsed": false
   },
   "outputs": [
    {
     "name": "stdout",
     "output_type": "stream",
     "text": [
      "[-1.81659144  2.54023855] 90.2402840117\n"
     ]
    }
   ],
   "source": [
    "regr2 = linear_model.LinearRegression()\n",
    "regr2.fit(input_data, output_data)\n",
    "print(regr2.coef_, regr2.intercept_)"
   ]
  },
  {
   "cell_type": "code",
   "execution_count": 73,
   "metadata": {
    "collapsed": false
   },
   "outputs": [
    {
     "name": "stdout",
     "output_type": "stream",
     "text": [
      "0.688470814427\n"
     ]
    }
   ],
   "source": [
    "print(regr2.score(input_data, output_data))"
   ]
  },
  {
   "cell_type": "code",
   "execution_count": 74,
   "metadata": {
    "collapsed": true
   },
   "outputs": [],
   "source": [
    "from mpl_toolkits.mplot3d import Axes3D"
   ]
  },
  {
   "cell_type": "code",
   "execution_count": 77,
   "metadata": {
    "collapsed": false
   },
   "outputs": [
    {
     "data": {
      "text/plain": [
       "<matplotlib.text.Text at 0x1108ffb38>"
      ]
     },
     "execution_count": 77,
     "metadata": {},
     "output_type": "execute_result"
    },
    {
     "data": {
      "image/png": "[encoded data removed]",
      "text/plain": [
       "<matplotlib.figure.Figure at 0x1108eb7f0>"
      ]
     },
     "metadata": {},
     "output_type": "display_data"
    }
   ],
   "source": [
    "# 3D plots aren't really practical\n",
    "# but they look cool\n",
    "\n",
    "fig = plt.figure()\n",
    "ax = fig.add_subplot(111, projection='3d')\n",
    "\n",
    "xx = input_data['Birth rate, crude (per 1,000 people)']\n",
    "yy = input_data['Population growth (annual %)']\n",
    "zz = output_data\n",
    "\n",
    "predict = regr2.predict(input_data)\n",
    "x_surf, y_surf = np.meshgrid(xx, yy)\n",
    "\n",
    "ax.plot_surface(x_surf, y_surf, predict, color='red', alpha=0.1)\n",
    "ax.scatter(xx, yy, zz)\n",
    "\n",
    "plt.xlabel('Birth rate, crude (per 1,000 people)')\n",
    "plt.ylabel('Population growth (annual %)')\n"
   ]
  },
  {
   "cell_type": "markdown",
   "metadata": {},
   "source": [
    "## A little help"
   ]
  },
  {
   "cell_type": "code",
   "execution_count": 78,
   "metadata": {
    "collapsed": true
   },
   "outputs": [],
   "source": [
    "import itertools\n",
    "\n",
    "possible_columns = ['A', 'B', 'C', 'D', 'E']\n"
   ]
  },
  {
   "cell_type": "code",
   "execution_count": 84,
   "metadata": {
    "collapsed": false
   },
   "outputs": [
    {
     "name": "stdout",
     "output_type": "stream",
     "text": [
      "[('A', 'B'), ('A', 'C'), ('A', 'D'), ('A', 'E'), ('B', 'C'), ('B', 'D'), ('B', 'E'), ('C', 'D'), ('C', 'E'), ('D', 'E')]\n"
     ]
    }
   ],
   "source": [
    "combos = list(itertools.combinations(possible_columns, 2))\n",
    "print(combos)"
   ]
  },
  {
   "cell_type": "code",
   "execution_count": 86,
   "metadata": {
    "collapsed": false
   },
   "outputs": [
    {
     "data": {
      "text/plain": [
       "[()]"
      ]
     },
     "execution_count": 86,
     "metadata": {},
     "output_type": "execute_result"
    }
   ],
   "source": [
    "list(itertools.combinations(possible_columns, 0))"
   ]
  },
  {
   "cell_type": "code",
   "execution_count": null,
   "metadata": {
    "collapsed": true
   },
   "outputs": [],
   "source": []
  }
 ],
 "metadata": {
  "kernelspec": {
   "display_name": "Python 3",
   "language": "python",
   "name": "python3"
  },
  "language_info": {
   "codemirror_mode": {
    "name": "ipython",
    "version": 3
   },
   "file_extension": ".py",
   "mimetype": "text/x-python",
   "name": "python",
   "nbconvert_exporter": "python",
   "pygments_lexer": "ipython3",
   "version": "3.4.3"
  }
 },
 "nbformat": 4,
 "nbformat_minor": 0
}
