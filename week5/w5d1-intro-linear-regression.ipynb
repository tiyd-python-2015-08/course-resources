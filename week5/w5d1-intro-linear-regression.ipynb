{
 "cells": [
  {
   "cell_type": "code",
   "execution_count": 1,
   "metadata": {
    "collapsed": true
   },
   "outputs": [],
   "source": [
    "import pandas as pd\n",
    "import matplotlib.pyplot as plt\n",
    "import numpy as np\n",
    "\n",
    "from sklearn import linear_model"
   ]
  },
  {
   "cell_type": "code",
   "execution_count": 2,
   "metadata": {
    "collapsed": true
   },
   "outputs": [],
   "source": [
    "%matplotlib inline"
   ]
  },
  {
   "cell_type": "code",
   "execution_count": 3,
   "metadata": {
    "collapsed": false
   },
   "outputs": [
    {
     "name": "stdout",
     "output_type": "stream",
     "text": [
      "<class 'pandas.core.frame.DataFrame'>\n",
      "Int64Index: 11592 entries, 0 to 11591\n",
      "Columns: 409 entries, tucaseid to t500107\n",
      "dtypes: float64(1), int64(408)\n",
      "memory usage: 36.3 MB\n"
     ]
    }
   ],
   "source": [
    "summary = pd.read_csv('atussum_2014.dat')\n",
    "summary.info()"
   ]
  },
  {
   "cell_type": "code",
   "execution_count": 4,
   "metadata": {
    "collapsed": false
   },
   "outputs": [
    {
     "data": {
      "text/html": [
       "<div>\n",
       "<table border=\"1\" class=\"dataframe\">\n",
       "  <thead>\n",
       "    <tr style=\"text-align: right;\">\n",
       "      <th></th>\n",
       "      <th>tucaseid</th>\n",
       "      <th>TUFINLWGT</th>\n",
       "      <th>TRYHHCHILD</th>\n",
       "      <th>TEAGE</th>\n",
       "      <th>TESEX</th>\n",
       "      <th>PEEDUCA</th>\n",
       "      <th>PTDTRACE</th>\n",
       "      <th>PEHSPNON</th>\n",
       "      <th>GTMETSTA</th>\n",
       "      <th>TELFS</th>\n",
       "      <th>...</th>\n",
       "      <th>t181601</th>\n",
       "      <th>t181699</th>\n",
       "      <th>t181801</th>\n",
       "      <th>t181899</th>\n",
       "      <th>t189999</th>\n",
       "      <th>t500101</th>\n",
       "      <th>t500103</th>\n",
       "      <th>t500105</th>\n",
       "      <th>t500106</th>\n",
       "      <th>t500107</th>\n",
       "    </tr>\n",
       "  </thead>\n",
       "  <tbody>\n",
       "    <tr>\n",
       "      <th>0</th>\n",
       "      <td>20140101140007</td>\n",
       "      <td>4891315.826760</td>\n",
       "      <td>0</td>\n",
       "      <td>20</td>\n",
       "      <td>2</td>\n",
       "      <td>39</td>\n",
       "      <td>1</td>\n",
       "      <td>1</td>\n",
       "      <td>1</td>\n",
       "      <td>4</td>\n",
       "      <td>...</td>\n",
       "      <td>0</td>\n",
       "      <td>0</td>\n",
       "      <td>0</td>\n",
       "      <td>0</td>\n",
       "      <td>0</td>\n",
       "      <td>0</td>\n",
       "      <td>0</td>\n",
       "      <td>0</td>\n",
       "      <td>0</td>\n",
       "      <td>0</td>\n",
       "    </tr>\n",
       "    <tr>\n",
       "      <th>1</th>\n",
       "      <td>20140101140011</td>\n",
       "      <td>23147368.359655</td>\n",
       "      <td>16</td>\n",
       "      <td>16</td>\n",
       "      <td>2</td>\n",
       "      <td>37</td>\n",
       "      <td>2</td>\n",
       "      <td>2</td>\n",
       "      <td>1</td>\n",
       "      <td>1</td>\n",
       "      <td>...</td>\n",
       "      <td>0</td>\n",
       "      <td>0</td>\n",
       "      <td>0</td>\n",
       "      <td>0</td>\n",
       "      <td>0</td>\n",
       "      <td>0</td>\n",
       "      <td>0</td>\n",
       "      <td>0</td>\n",
       "      <td>0</td>\n",
       "      <td>0</td>\n",
       "    </tr>\n",
       "    <tr>\n",
       "      <th>2</th>\n",
       "      <td>20140101140028</td>\n",
       "      <td>20941823.429044</td>\n",
       "      <td>2</td>\n",
       "      <td>65</td>\n",
       "      <td>2</td>\n",
       "      <td>38</td>\n",
       "      <td>1</td>\n",
       "      <td>1</td>\n",
       "      <td>1</td>\n",
       "      <td>5</td>\n",
       "      <td>...</td>\n",
       "      <td>0</td>\n",
       "      <td>0</td>\n",
       "      <td>0</td>\n",
       "      <td>0</td>\n",
       "      <td>0</td>\n",
       "      <td>0</td>\n",
       "      <td>0</td>\n",
       "      <td>0</td>\n",
       "      <td>0</td>\n",
       "      <td>0</td>\n",
       "    </tr>\n",
       "    <tr>\n",
       "      <th>3</th>\n",
       "      <td>20140101140063</td>\n",
       "      <td>2505899.417166</td>\n",
       "      <td>-1</td>\n",
       "      <td>50</td>\n",
       "      <td>2</td>\n",
       "      <td>39</td>\n",
       "      <td>2</td>\n",
       "      <td>2</td>\n",
       "      <td>2</td>\n",
       "      <td>5</td>\n",
       "      <td>...</td>\n",
       "      <td>0</td>\n",
       "      <td>0</td>\n",
       "      <td>0</td>\n",
       "      <td>0</td>\n",
       "      <td>0</td>\n",
       "      <td>0</td>\n",
       "      <td>0</td>\n",
       "      <td>0</td>\n",
       "      <td>0</td>\n",
       "      <td>0</td>\n",
       "    </tr>\n",
       "    <tr>\n",
       "      <th>4</th>\n",
       "      <td>20140101140168</td>\n",
       "      <td>15928231.823165</td>\n",
       "      <td>8</td>\n",
       "      <td>23</td>\n",
       "      <td>2</td>\n",
       "      <td>39</td>\n",
       "      <td>2</td>\n",
       "      <td>2</td>\n",
       "      <td>2</td>\n",
       "      <td>4</td>\n",
       "      <td>...</td>\n",
       "      <td>0</td>\n",
       "      <td>0</td>\n",
       "      <td>0</td>\n",
       "      <td>0</td>\n",
       "      <td>0</td>\n",
       "      <td>0</td>\n",
       "      <td>0</td>\n",
       "      <td>0</td>\n",
       "      <td>0</td>\n",
       "      <td>0</td>\n",
       "    </tr>\n",
       "  </tbody>\n",
       "</table>\n",
       "<p>5 rows × 409 columns</p>\n",
       "</div>"
      ],
      "text/plain": [
       "         tucaseid        TUFINLWGT  TRYHHCHILD  TEAGE  TESEX  PEEDUCA  \\\n",
       "0  20140101140007   4891315.826760           0     20      2       39   \n",
       "1  20140101140011  23147368.359655          16     16      2       37   \n",
       "2  20140101140028  20941823.429044           2     65      2       38   \n",
       "3  20140101140063   2505899.417166          -1     50      2       39   \n",
       "4  20140101140168  15928231.823165           8     23      2       39   \n",
       "\n",
       "   PTDTRACE  PEHSPNON  GTMETSTA  TELFS   ...     t181601  t181699  t181801  \\\n",
       "0         1         1         1      4   ...           0        0        0   \n",
       "1         2         2         1      1   ...           0        0        0   \n",
       "2         1         1         1      5   ...           0        0        0   \n",
       "3         2         2         2      5   ...           0        0        0   \n",
       "4         2         2         2      4   ...           0        0        0   \n",
       "\n",
       "   t181899  t189999  t500101  t500103  t500105  t500106  t500107  \n",
       "0        0        0        0        0        0        0        0  \n",
       "1        0        0        0        0        0        0        0  \n",
       "2        0        0        0        0        0        0        0  \n",
       "3        0        0        0        0        0        0        0  \n",
       "4        0        0        0        0        0        0        0  \n",
       "\n",
       "[5 rows x 409 columns]"
      ]
     },
     "execution_count": 4,
     "metadata": {},
     "output_type": "execute_result"
    }
   ],
   "source": [
    "summary.head()"
   ]
  },
  {
   "cell_type": "code",
   "execution_count": 5,
   "metadata": {
    "collapsed": false
   },
   "outputs": [
    {
     "data": {
      "text/plain": [
       "Index(['tucaseid', 'TUFINLWGT', 'TRYHHCHILD', 'TEAGE', 'TESEX', 'PEEDUCA',\n",
       "       'PTDTRACE', 'PEHSPNON', 'GTMETSTA', 'TELFS', \n",
       "       ...\n",
       "       't181601', 't181699', 't181801', 't181899', 't189999', 't500101',\n",
       "       't500103', 't500105', 't500106', 't500107'],\n",
       "      dtype='object', length=409)"
      ]
     },
     "execution_count": 5,
     "metadata": {},
     "output_type": "execute_result"
    }
   ],
   "source": [
    "summary.columns"
   ]
  },
  {
   "cell_type": "code",
   "execution_count": 6,
   "metadata": {
    "collapsed": false
   },
   "outputs": [
    {
     "data": {
      "text/plain": [
       "['tucaseid',\n",
       " 'TUFINLWGT',\n",
       " 'TRYHHCHILD',\n",
       " 'TEAGE',\n",
       " 'TESEX',\n",
       " 'PEEDUCA',\n",
       " 'PTDTRACE',\n",
       " 'PEHSPNON',\n",
       " 'GTMETSTA',\n",
       " 'TELFS',\n",
       " 'TEMJOT',\n",
       " 'TRDPFTPT',\n",
       " 'TESCHENR',\n",
       " 'TESCHLVL',\n",
       " 'TRSPPRES',\n",
       " 'TESPEMPNOT',\n",
       " 'TRERNWA',\n",
       " 'TRCHILDNUM',\n",
       " 'TRSPFTPT',\n",
       " 'TEHRUSLT',\n",
       " 'TUDIARYDAY',\n",
       " 'TRHOLIDAY',\n",
       " 'TRTEC',\n",
       " 'TRTHH',\n",
       " 't010101',\n",
       " 't010102',\n",
       " 't010201',\n",
       " 't010299',\n",
       " 't010301',\n",
       " 't010399',\n",
       " 't010401',\n",
       " 't010501',\n",
       " 't019999',\n",
       " 't020101',\n",
       " 't020102',\n",
       " 't020103',\n",
       " 't020104',\n",
       " 't020199',\n",
       " 't020201',\n",
       " 't020202',\n",
       " 't020203',\n",
       " 't020301',\n",
       " 't020302',\n",
       " 't020303',\n",
       " 't020399',\n",
       " 't020401',\n",
       " 't020402',\n",
       " 't020499',\n",
       " 't020501',\n",
       " 't020502',\n",
       " 't020599',\n",
       " 't020601',\n",
       " 't020602',\n",
       " 't020699',\n",
       " 't020701',\n",
       " 't020799',\n",
       " 't020801',\n",
       " 't020901',\n",
       " 't020902',\n",
       " 't020903',\n",
       " 't020904',\n",
       " 't020905',\n",
       " 't020999',\n",
       " 't029999',\n",
       " 't030101',\n",
       " 't030102',\n",
       " 't030103',\n",
       " 't030104',\n",
       " 't030105',\n",
       " 't030106',\n",
       " 't030108',\n",
       " 't030109',\n",
       " 't030110',\n",
       " 't030111',\n",
       " 't030112',\n",
       " 't030199',\n",
       " 't030201',\n",
       " 't030202',\n",
       " 't030203',\n",
       " 't030299',\n",
       " 't030301',\n",
       " 't030302',\n",
       " 't030303',\n",
       " 't030399',\n",
       " 't030401',\n",
       " 't030402',\n",
       " 't030403',\n",
       " 't030404',\n",
       " 't030405',\n",
       " 't030499',\n",
       " 't030501',\n",
       " 't030502',\n",
       " 't030503',\n",
       " 't030504',\n",
       " 't030599',\n",
       " 't039999',\n",
       " 't040101',\n",
       " 't040102',\n",
       " 't040103',\n",
       " 't040104',\n",
       " 't040105',\n",
       " 't040106',\n",
       " 't040108',\n",
       " 't040109',\n",
       " 't040110',\n",
       " 't040111',\n",
       " 't040112',\n",
       " 't040199',\n",
       " 't040201',\n",
       " 't040203',\n",
       " 't040301',\n",
       " 't040302',\n",
       " 't040303',\n",
       " 't040401',\n",
       " 't040402',\n",
       " 't040403',\n",
       " 't040404',\n",
       " 't040405',\n",
       " 't040501',\n",
       " 't040502',\n",
       " 't040503',\n",
       " 't040504',\n",
       " 't040505',\n",
       " 't040506',\n",
       " 't040507',\n",
       " 't040508',\n",
       " 't040599',\n",
       " 't049999',\n",
       " 't050101',\n",
       " 't050102',\n",
       " 't050103',\n",
       " 't050104',\n",
       " 't050199',\n",
       " 't050201',\n",
       " 't050202',\n",
       " 't050203',\n",
       " 't050205',\n",
       " 't050301',\n",
       " 't050302',\n",
       " 't050303',\n",
       " 't050304',\n",
       " 't050305',\n",
       " 't050399',\n",
       " 't050401',\n",
       " 't050403',\n",
       " 't050404',\n",
       " 't050499',\n",
       " 't059999',\n",
       " 't060101',\n",
       " 't060102',\n",
       " 't060103',\n",
       " 't060199',\n",
       " 't060201',\n",
       " 't060202',\n",
       " 't060301',\n",
       " 't060302',\n",
       " 't060303',\n",
       " 't060399',\n",
       " 't060401',\n",
       " 't060403',\n",
       " 't060499',\n",
       " 't069999',\n",
       " 't070101',\n",
       " 't070102',\n",
       " 't070103',\n",
       " 't070104',\n",
       " 't070105',\n",
       " 't070199',\n",
       " 't070201',\n",
       " 't079999',\n",
       " 't080101',\n",
       " 't080201',\n",
       " 't080202',\n",
       " 't080203',\n",
       " 't080301',\n",
       " 't080399',\n",
       " 't080401',\n",
       " 't080402',\n",
       " 't080403',\n",
       " 't080501',\n",
       " 't080502',\n",
       " 't080601',\n",
       " 't080602',\n",
       " 't080701',\n",
       " 't080702',\n",
       " 't080799',\n",
       " 't089999',\n",
       " 't090101',\n",
       " 't090103',\n",
       " 't090104',\n",
       " 't090199',\n",
       " 't090201',\n",
       " 't090202',\n",
       " 't090301',\n",
       " 't090401',\n",
       " 't090501',\n",
       " 't090502',\n",
       " 't090599',\n",
       " 't099999',\n",
       " 't100101',\n",
       " 't100102',\n",
       " 't100103',\n",
       " 't100199',\n",
       " 't100201',\n",
       " 't100304',\n",
       " 't100305',\n",
       " 't109999',\n",
       " 't110101',\n",
       " 't110201',\n",
       " 't110299',\n",
       " 't120101',\n",
       " 't120199',\n",
       " 't120201',\n",
       " 't120202',\n",
       " 't120299',\n",
       " 't120301',\n",
       " 't120302',\n",
       " 't120303',\n",
       " 't120304',\n",
       " 't120305',\n",
       " 't120306',\n",
       " 't120307',\n",
       " 't120308',\n",
       " 't120309',\n",
       " 't120310',\n",
       " 't120311',\n",
       " 't120312',\n",
       " 't120313',\n",
       " 't120399',\n",
       " 't120401',\n",
       " 't120402',\n",
       " 't120403',\n",
       " 't120404',\n",
       " 't120499',\n",
       " 't120501',\n",
       " 't120502',\n",
       " 't120503',\n",
       " 't120504',\n",
       " 't129999',\n",
       " 't130101',\n",
       " 't130102',\n",
       " 't130103',\n",
       " 't130104',\n",
       " 't130105',\n",
       " 't130106',\n",
       " 't130107',\n",
       " 't130108',\n",
       " 't130109',\n",
       " 't130110',\n",
       " 't130112',\n",
       " 't130113',\n",
       " 't130114',\n",
       " 't130115',\n",
       " 't130116',\n",
       " 't130117',\n",
       " 't130118',\n",
       " 't130119',\n",
       " 't130120',\n",
       " 't130122',\n",
       " 't130124',\n",
       " 't130125',\n",
       " 't130126',\n",
       " 't130127',\n",
       " 't130128',\n",
       " 't130129',\n",
       " 't130130',\n",
       " 't130131',\n",
       " 't130132',\n",
       " 't130133',\n",
       " 't130134',\n",
       " 't130136',\n",
       " 't130199',\n",
       " 't130202',\n",
       " 't130203',\n",
       " 't130204',\n",
       " 't130205',\n",
       " 't130206',\n",
       " 't130210',\n",
       " 't130213',\n",
       " 't130214',\n",
       " 't130215',\n",
       " 't130216',\n",
       " 't130218',\n",
       " 't130219',\n",
       " 't130222',\n",
       " 't130224',\n",
       " 't130225',\n",
       " 't130226',\n",
       " 't130227',\n",
       " 't130229',\n",
       " 't130231',\n",
       " 't130299',\n",
       " 't130301',\n",
       " 't130302',\n",
       " 't139999',\n",
       " 't140101',\n",
       " 't140102',\n",
       " 't140103',\n",
       " 't140104',\n",
       " 't140105',\n",
       " 't149999',\n",
       " 't150101',\n",
       " 't150102',\n",
       " 't150103',\n",
       " 't150104',\n",
       " 't150105',\n",
       " 't150106',\n",
       " 't150199',\n",
       " 't150201',\n",
       " 't150202',\n",
       " 't150203',\n",
       " 't150204',\n",
       " 't150299',\n",
       " 't150301',\n",
       " 't150302',\n",
       " 't150401',\n",
       " 't150402',\n",
       " 't150499',\n",
       " 't150501',\n",
       " 't150601',\n",
       " 't150602',\n",
       " 't150701',\n",
       " 't159999',\n",
       " 't160101',\n",
       " 't160102',\n",
       " 't160103',\n",
       " 't160104',\n",
       " 't160105',\n",
       " 't160106',\n",
       " 't160107',\n",
       " 't160108',\n",
       " 't160199',\n",
       " 't169999',\n",
       " 't180101',\n",
       " 't180201',\n",
       " 't180202',\n",
       " 't180203',\n",
       " 't180204',\n",
       " 't180205',\n",
       " 't180206',\n",
       " 't180207',\n",
       " 't180208',\n",
       " 't180209',\n",
       " 't180299',\n",
       " 't180301',\n",
       " 't180302',\n",
       " 't180303',\n",
       " 't180304',\n",
       " 't180305',\n",
       " 't180401',\n",
       " 't180402',\n",
       " 't180403',\n",
       " 't180404',\n",
       " 't180405',\n",
       " 't180499',\n",
       " 't180501',\n",
       " 't180502',\n",
       " 't180503',\n",
       " 't180504',\n",
       " 't180599',\n",
       " 't180601',\n",
       " 't180602',\n",
       " 't180603',\n",
       " 't180604',\n",
       " 't180699',\n",
       " 't180701',\n",
       " 't180702',\n",
       " 't180703',\n",
       " 't180704',\n",
       " 't180799',\n",
       " 't180801',\n",
       " 't180802',\n",
       " 't180803',\n",
       " 't180804',\n",
       " 't180805',\n",
       " 't180806',\n",
       " 't180807',\n",
       " 't180899',\n",
       " 't180901',\n",
       " 't180902',\n",
       " 't180903',\n",
       " 't180905',\n",
       " 't180999',\n",
       " 't181001',\n",
       " 't181002',\n",
       " 't181099',\n",
       " 't181101',\n",
       " 't181201',\n",
       " 't181202',\n",
       " 't181203',\n",
       " 't181204',\n",
       " 't181205',\n",
       " 't181299',\n",
       " 't181301',\n",
       " 't181302',\n",
       " 't181399',\n",
       " 't181401',\n",
       " 't181501',\n",
       " 't181599',\n",
       " 't181601',\n",
       " 't181699',\n",
       " 't181801',\n",
       " 't181899',\n",
       " 't189999',\n",
       " 't500101',\n",
       " 't500103',\n",
       " 't500105',\n",
       " 't500106',\n",
       " 't500107']"
      ]
     },
     "execution_count": 6,
     "metadata": {},
     "output_type": "execute_result"
    }
   ],
   "source": [
    "list(summary.columns)"
   ]
  },
  {
   "cell_type": "code",
   "execution_count": 14,
   "metadata": {
    "collapsed": true
   },
   "outputs": [],
   "source": [
    "# handy function to summarize our data\n",
    "\n",
    "def activity_by_age(df, activity_code, subsample=True):\n",
    "    activity_col_name = 't{}'.format(activity_code)\n",
    "    df = df[['TUFINLWGT', 'TEAGE', activity_col_name]]\n",
    "    df = df.rename(columns={'TUFINLWGT': 'weight', 'TEAGE': 'age', activity_col_name: 'minutes'})\n",
    "    if subsample:\n",
    "        df = df[df.age % 5 == 0]\n",
    "    df['weighted_minutes'] = df.weight * df.minutes\n",
    "    df = df.groupby('age').sum()\n",
    "    df['mean_minutes'] = df.weighted_minutes / df.weight\n",
    "    df = df[['mean_minutes']]\n",
    "    return df"
   ]
  },
  {
   "cell_type": "markdown",
   "metadata": {},
   "source": [
    "The code for Medical Care is `080401`.\n",
    "\n",
    "let's look at the data for medical care"
   ]
  },
  {
   "cell_type": "code",
   "execution_count": 16,
   "metadata": {
    "collapsed": false
   },
   "outputs": [
    {
     "data": {
      "text/plain": [
       "<matplotlib.collections.PathCollection at 0x10cf04748>"
      ]
     },
     "execution_count": 16,
     "metadata": {},
     "output_type": "execute_result"
    },
    {
     "data": {
      "image/png": "[encoded data removed]",
      "text/plain": [
       "<matplotlib.figure.Figure at 0x10cbe8f60>"
      ]
     },
     "metadata": {},
     "output_type": "display_data"
    }
   ],
   "source": [
    "medical_care = activity_by_age(summary, '080401', subsample=False)\n",
    "\n",
    "plt.scatter(medical_care.index, medical_care.mean_minutes)"
   ]
  },
  {
   "cell_type": "markdown",
   "metadata": {},
   "source": [
    "# Linear Regression\n",
    "\n",
    "Linear regression is the process of finding a line that describes the relationship between _features_ such that given a known variable we can make a prediction about an unknown variable.\n",
    "\n",
    "Or as wikipedia says:\n",
    "> In linear regression, data are modeled using linear predictor functions, and unknown model parameters are estimated from the data \n",
    "\n",
    "If our predictor function is steeper or shallower than the actual results, we won't get a good prediction of the data. One way to get a quick idea of how well a predictor function works is to graph it on top of our data\n"
   ]
  },
  {
   "cell_type": "code",
   "execution_count": 19,
   "metadata": {
    "collapsed": true
   },
   "outputs": [],
   "source": [
    "def linear_least_squares(df, fn):\n",
    "    estimated_values = df.index.map(fn)\n",
    "    diffs = df.mean_minutes - estimated_values\n",
    "    diffs_squared = diffs ** 2\n",
    "    return diffs_squared.sum() / (2 * len(diffs))"
   ]
  },
  {
   "cell_type": "markdown",
   "metadata": {},
   "source": [
    "The function above applies the predictor function to the actual set of data we've got, computes the difference between the estimate and the actual data, squares it, sums it, divides it by 2 * # of elements, and this gives us a number\n",
    "\n",
    "It needs to be a passed a function that is supposed to predict the estimates given the # of years\n",
    "\n",
    "We can pass it lambda functions that are like simple slope + y-intercept"
   ]
  },
  {
   "cell_type": "code",
   "execution_count": 20,
   "metadata": {
    "collapsed": false
   },
   "outputs": [
    {
     "name": "stdout",
     "output_type": "stream",
     "text": [
      "46.8044012289\n"
     ]
    },
    {
     "data": {
      "text/plain": [
       "[<matplotlib.lines.Line2D at 0x10cf2a240>]"
      ]
     },
     "execution_count": 20,
     "metadata": {},
     "output_type": "execute_result"
    },
    {
     "data": {
      "image/png": "[encoded data removed]",
      "text/plain": [
       "<matplotlib.figure.Figure at 0x10cf2a278>"
      ]
     },
     "metadata": {},
     "output_type": "display_data"
    }
   ],
   "source": [
    "attempt1 = lambda x: 0.25 * x + 0\n",
    "\n",
    "print(linear_least_squares(medical_care, attempt1))\n",
    "\n",
    "plt.scatter(medical_care.index, medical_care.mean_minutes)\n",
    "plt.plot(medical_care.index, attempt1(medical_care.index))"
   ]
  },
  {
   "cell_type": "code",
   "execution_count": 21,
   "metadata": {
    "collapsed": false
   },
   "outputs": [
    {
     "name": "stdout",
     "output_type": "stream",
     "text": [
      "8.31090435076\n"
     ]
    },
    {
     "data": {
      "text/plain": [
       "[<matplotlib.lines.Line2D at 0x110ce7908>]"
      ]
     },
     "execution_count": 21,
     "metadata": {},
     "output_type": "execute_result"
    },
    {
     "data": {
      "image/png": "[encoded data removed]",
      "text/plain": [
       "<matplotlib.figure.Figure at 0x10cf60898>"
      ]
     },
     "metadata": {},
     "output_type": "display_data"
    }
   ],
   "source": [
    "attempt2 = lambda x: 0.125 * x + 0\n",
    "\n",
    "print(linear_least_squares(medical_care, attempt2))\n",
    "\n",
    "plt.scatter(medical_care.index, medical_care.mean_minutes)\n",
    "plt.plot(medical_care.index, attempt1(medical_care.index), alpha=0.3)\n",
    "plt.plot(medical_care.index, attempt2(medical_care.index))"
   ]
  },
  {
   "cell_type": "code",
   "execution_count": 22,
   "metadata": {
    "collapsed": false
   },
   "outputs": [
    {
     "name": "stdout",
     "output_type": "stream",
     "text": [
      "4.67311380848\n"
     ]
    },
    {
     "data": {
      "text/plain": [
       "[<matplotlib.lines.Line2D at 0x110d4ff60>]"
      ]
     },
     "execution_count": 22,
     "metadata": {},
     "output_type": "execute_result"
    },
    {
     "data": {
      "image/png": "[encoded data removed]",
      "text/plain": [
       "<matplotlib.figure.Figure at 0x110cf4390>"
      ]
     },
     "metadata": {},
     "output_type": "display_data"
    }
   ],
   "source": [
    "attempt3 = lambda x: 0.075 * x + 0\n",
    "\n",
    "print(linear_least_squares(medical_care, attempt3))\n",
    "\n",
    "plt.scatter(medical_care.index, medical_care.mean_minutes)\n",
    "plt.plot(medical_care.index, attempt1(medical_care.index), alpha=0.3)\n",
    "plt.plot(medical_care.index, attempt2(medical_care.index), alpha=0.3)\n",
    "plt.plot(medical_care.index, attempt3(medical_care.index))"
   ]
  },
  {
   "cell_type": "code",
   "execution_count": 28,
   "metadata": {
    "collapsed": false
   },
   "outputs": [
    {
     "name": "stdout",
     "output_type": "stream",
     "text": [
      "4.65110303914\n"
     ]
    },
    {
     "data": {
      "text/plain": [
       "[<matplotlib.lines.Line2D at 0x111285c18>]"
      ]
     },
     "execution_count": 28,
     "metadata": {},
     "output_type": "execute_result"
    },
    {
     "data": {
      "image/png": "[encoded data removed]",
      "text/plain": [
       "<matplotlib.figure.Figure at 0x111182860>"
      ]
     },
     "metadata": {},
     "output_type": "display_data"
    }
   ],
   "source": [
    "attempt4 = lambda x: 0.075 * x - 0.5\n",
    "\n",
    "print(linear_least_squares(medical_care, attempt4))\n",
    "\n",
    "plt.scatter(medical_care.index, medical_care.mean_minutes)\n",
    "plt.plot(medical_care.index, attempt1(medical_care.index), alpha=0.3)\n",
    "plt.plot(medical_care.index, attempt2(medical_care.index), alpha=0.3)\n",
    "plt.plot(medical_care.index, attempt3(medical_care.index), alpha=0.3)\n",
    "plt.plot(medical_care.index, attempt4(medical_care.index))"
   ]
  },
  {
   "cell_type": "code",
   "execution_count": 30,
   "metadata": {
    "collapsed": false
   },
   "outputs": [
    {
     "name": "stdout",
     "output_type": "stream",
     "text": [
      "12.0037304721\n"
     ]
    },
    {
     "data": {
      "text/plain": [
       "[<matplotlib.lines.Line2D at 0x11141ceb8>]"
      ]
     },
     "execution_count": 30,
     "metadata": {},
     "output_type": "execute_result"
    },
    {
     "data": {
      "image/png": "[encoded data removed]",
      "text/plain": [
       "<matplotlib.figure.Figure at 0x1113671d0>"
      ]
     },
     "metadata": {},
     "output_type": "display_data"
    }
   ],
   "source": [
    "attempt5 = lambda x: -0.075 * x + 5\n",
    "\n",
    "print(linear_least_squares(medical_care, attempt5))\n",
    "\n",
    "plt.scatter(medical_care.index, medical_care.mean_minutes)\n",
    "plt.plot(medical_care.index, attempt1(medical_care.index), alpha=0.3)\n",
    "plt.plot(medical_care.index, attempt2(medical_care.index), alpha=0.3)\n",
    "plt.plot(medical_care.index, attempt3(medical_care.index), alpha=0.3)\n",
    "plt.plot(medical_care.index, attempt4(medical_care.index), alpha=0.3)\n",
    "plt.plot(medical_care.index, attempt5(medical_care.index))"
   ]
  },
  {
   "cell_type": "markdown",
   "metadata": {},
   "source": [
    "While it's tons of fun to tweak slopes and y-intercepts, it's not a practical use of our time. Thankfully, there is a library to do what we were doing.\n",
    "\n",
    "Using LinearRegression(), we can have scikit_learn come up with a linear best fit for our data."
   ]
  },
  {
   "cell_type": "code",
   "execution_count": 34,
   "metadata": {
    "collapsed": false
   },
   "outputs": [
    {
     "data": {
      "text/plain": [
       "LinearRegression(copy_X=True, fit_intercept=True, n_jobs=1, normalize=False)"
      ]
     },
     "execution_count": 34,
     "metadata": {},
     "output_type": "execute_result"
    }
   ],
   "source": [
    "regression = linear_model.LinearRegression()\n",
    "# transpose our data\n",
    "transposed_index = np.array(medical_care.index.values).reshape(-1, 1)\n",
    "\n",
    "regression.fit(transposed_index, medical_care.mean_minutes.values)"
   ]
  },
  {
   "cell_type": "code",
   "execution_count": 36,
   "metadata": {
    "collapsed": false
   },
   "outputs": [
    {
     "name": "stdout",
     "output_type": "stream",
     "text": [
      "Help on method fit in module sklearn.linear_model.base:\n",
      "\n",
      "fit(X, y, n_jobs=1) method of sklearn.linear_model.base.LinearRegression instance\n",
      "    Fit linear model.\n",
      "    \n",
      "    Parameters\n",
      "    ----------\n",
      "    X : numpy array or sparse matrix of shape [n_samples,n_features]\n",
      "        Training data\n",
      "    \n",
      "    y : numpy array of shape [n_samples, n_targets]\n",
      "        Target values\n",
      "    \n",
      "    Returns\n",
      "    -------\n",
      "    self : returns an instance of self.\n",
      "\n"
     ]
    }
   ],
   "source": [
    "help(regression.fit)"
   ]
  },
  {
   "cell_type": "code",
   "execution_count": 37,
   "metadata": {
    "collapsed": false
   },
   "outputs": [
    {
     "data": {
      "text/plain": [
       "array([ 4.7696473])"
      ]
     },
     "execution_count": 37,
     "metadata": {},
     "output_type": "execute_result"
    }
   ],
   "source": [
    "regression.predict(63)"
   ]
  },
  {
   "cell_type": "code",
   "execution_count": 38,
   "metadata": {
    "collapsed": false
   },
   "outputs": [
    {
     "data": {
      "text/plain": [
       "array([-0.40676435])"
      ]
     },
     "execution_count": 38,
     "metadata": {},
     "output_type": "execute_result"
    }
   ],
   "source": [
    "regression.predict(10)"
   ]
  },
  {
   "cell_type": "code",
   "execution_count": 39,
   "metadata": {
    "collapsed": false
   },
   "outputs": [
    {
     "name": "stdout",
     "output_type": "stream",
     "text": [
      "[ 0.09766814] -1.38344578893\n"
     ]
    }
   ],
   "source": [
    "print(regression.coef_, regression.intercept_)"
   ]
  },
  {
   "cell_type": "code",
   "execution_count": 42,
   "metadata": {
    "collapsed": false
   },
   "outputs": [
    {
     "name": "stdout",
     "output_type": "stream",
     "text": [
      "4.53272771457\n"
     ]
    },
    {
     "data": {
      "text/plain": [
       "[<matplotlib.lines.Line2D at 0x1116d18d0>]"
      ]
     },
     "execution_count": 42,
     "metadata": {},
     "output_type": "execute_result"
    },
    {
     "data": {
      "image/png": "[encoded data removed]",
      "text/plain": [
       "<matplotlib.figure.Figure at 0x111560320>"
      ]
     },
     "metadata": {},
     "output_type": "display_data"
    }
   ],
   "source": [
    "attempt6 = lambda x: regression.predict(x)[0]\n",
    "print(linear_least_squares(medical_care, attempt6))\n",
    "\n",
    "plt.scatter(medical_care.index, medical_care.mean_minutes)\n",
    "plt.plot(medical_care.index, attempt1(medical_care.index), alpha=0.3)\n",
    "plt.plot(medical_care.index, attempt2(medical_care.index), alpha=0.3)\n",
    "plt.plot(medical_care.index, attempt3(medical_care.index), alpha=0.3)\n",
    "plt.plot(medical_care.index, attempt4(medical_care.index), alpha=0.3)\n",
    "plt.plot(medical_care.index, attempt5(medical_care.index), alpha=0.3)\n",
    "plt.plot(medical_care.index, [attempt6(x) for x in medical_care.index])"
   ]
  },
  {
   "cell_type": "code",
   "execution_count": 44,
   "metadata": {
    "collapsed": false
   },
   "outputs": [
    {
     "ename": "TypeError",
     "evalue": "score() missing 2 required positional arguments: 'X' and 'y'",
     "output_type": "error",
     "traceback": [
      "\u001b[0;31m---------------------------------------------------------------------------\u001b[0m",
      "\u001b[0;31mTypeError\u001b[0m                                 Traceback (most recent call last)",
      "\u001b[0;32m<ipython-input-44-733987162b65>\u001b[0m in \u001b[0;36m<module>\u001b[0;34m()\u001b[0m\n\u001b[0;32m----> 1\u001b[0;31m \u001b[0mregression\u001b[0m\u001b[0;34m.\u001b[0m\u001b[0mscore\u001b[0m\u001b[0;34m(\u001b[0m\u001b[0;34m)\u001b[0m\u001b[0;34m\u001b[0m\u001b[0m\n\u001b[0m",
      "\u001b[0;31mTypeError\u001b[0m: score() missing 2 required positional arguments: 'X' and 'y'"
     ]
    }
   ],
   "source": [
    "regression.score()"
   ]
  },
  {
   "cell_type": "code",
   "execution_count": 45,
   "metadata": {
    "collapsed": false
   },
   "outputs": [
    {
     "data": {
      "text/plain": [
       "0.28465800587836465"
      ]
     },
     "execution_count": 45,
     "metadata": {},
     "output_type": "execute_result"
    }
   ],
   "source": [
    "regression.score(transposed_index, medical_care.mean_minutes.values)"
   ]
  },
  {
   "cell_type": "code",
   "execution_count": null,
   "metadata": {
    "collapsed": true
   },
   "outputs": [],
   "source": []
  }
 ],
 "metadata": {
  "kernelspec": {
   "display_name": "Python 3",
   "language": "python",
   "name": "python3"
  },
  "language_info": {
   "codemirror_mode": {
    "name": "ipython",
    "version": 3
   },
   "file_extension": ".py",
   "mimetype": "text/x-python",
   "name": "python",
   "nbconvert_exporter": "python",
   "pygments_lexer": "ipython3",
   "version": "3.4.3"
  }
 },
 "nbformat": 4,
 "nbformat_minor": 0
}
