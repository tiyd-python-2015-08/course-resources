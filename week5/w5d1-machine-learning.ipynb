{
 "cells": [
  {
   "cell_type": "markdown",
   "metadata": {},
   "source": [
    "# scikit-learn\n",
    "\n",
    "Old packages:\n",
    "```\n",
    "pandas\n",
    "numpy\n",
    "matplotlib\n",
    "seaborn\n",
    "```\n",
    "\n",
    "New packages:\n",
    "```\n",
    "pip install scikit-learn scipy\n",
    "```\n",
    "\n",
    "We will be using `scikit-learn` linear regression, or fitting data to a model"
   ]
  },
  {
   "cell_type": "code",
   "execution_count": 1,
   "metadata": {
    "collapsed": true
   },
   "outputs": [],
   "source": [
    "import pandas as pd\n",
    "import numpy as np\n",
    "import matplotlib.pyplot as plt\n",
    "import seaborn as sbs\n",
    "import math\n",
    "\n",
    "%matplotlib inline"
   ]
  },
  {
   "cell_type": "markdown",
   "metadata": {},
   "source": [
    "# Machine Learning\n",
    "\n",
    "_Machine learning_ is a **very large** topic, and we're going to do a survey of the topic"
   ]
  },
  {
   "cell_type": "markdown",
   "metadata": {},
   "source": [
    "Machine learning: \"a field of study that gives computers the ability to learn without being explicitly programmed.\" (Arthur Samuel)\n",
    "\n",
    "Different types:\n",
    "* **supervised** - prediction/regression, classification\n",
    "* **unsupervised** - clustering, organizing\n",
    "\n",
    "Machine learning \"involves observing a set of examples that represent incomplete information about some statistical phenomenon, and then attempting to infer something about the process that generated those examples.\" (John Gottag, _Introduction to Programming and Computation with Python_)\n",
    "\n",
    "(A large amount of what comes below comes from _Introduction to Programming and Computation with Python._)\n",
    "\n",
    "**representation** and **generalization**\n",
    "\n",
    "* **representation** is extracting structure from data\n",
    "* **generalization** is making _predictions_ from data\n"
   ]
  },
  {
   "cell_type": "code",
   "execution_count": 4,
   "metadata": {
    "collapsed": false
   },
   "outputs": [
    {
     "data": {
      "text/html": [
       "<div>\n",
       "<table border=\"1\" class=\"dataframe\">\n",
       "  <thead>\n",
       "    <tr style=\"text-align: right;\">\n",
       "      <th></th>\n",
       "      <th>energy</th>\n",
       "      <th>height</th>\n",
       "      <th>weight</th>\n",
       "    </tr>\n",
       "  </thead>\n",
       "  <tbody>\n",
       "    <tr>\n",
       "      <th>Alaskan Malamute</th>\n",
       "      <td>4</td>\n",
       "      <td>24</td>\n",
       "      <td>80.0</td>\n",
       "    </tr>\n",
       "    <tr>\n",
       "      <th>Basset Hound</th>\n",
       "      <td>2</td>\n",
       "      <td>14</td>\n",
       "      <td>50.0</td>\n",
       "    </tr>\n",
       "    <tr>\n",
       "      <th>Bichon Frise</th>\n",
       "      <td>4</td>\n",
       "      <td>10</td>\n",
       "      <td>9.5</td>\n",
       "    </tr>\n",
       "    <tr>\n",
       "      <th>Irish Wolfhound</th>\n",
       "      <td>2</td>\n",
       "      <td>32</td>\n",
       "      <td>120.0</td>\n",
       "    </tr>\n",
       "  </tbody>\n",
       "</table>\n",
       "</div>"
      ],
      "text/plain": [
       "                  energy  height  weight\n",
       "Alaskan Malamute       4      24    80.0\n",
       "Basset Hound           2      14    50.0\n",
       "Bichon Frise           4      10     9.5\n",
       "Irish Wolfhound        2      32   120.0"
      ]
     },
     "execution_count": 4,
     "metadata": {},
     "output_type": "execute_result"
    }
   ],
   "source": [
    "dog_breeds = {\"Alaskan Malamute\": {\"height\": 24, \"weight\": 80, \"energy\": 4},\n",
    "              \"Bichon Frise\": {\"height\": 10, \"weight\": 9.5, \"energy\": 4},\n",
    "              \"Irish Wolfhound\": {\"height\": 32, \"weight\": 120, \"energy\": 2},\n",
    "              \"Basset Hound\": {\"height\": 14, \"weight\": 50, \"energy\": 2}}\n",
    "\n",
    "x = pd.DataFrame(dog_breeds)\n",
    "x = x.transpose()\n",
    "x"
   ]
  },
  {
   "cell_type": "code",
   "execution_count": 5,
   "metadata": {
    "collapsed": true
   },
   "outputs": [],
   "source": [
    "set_a = {'Alaskan Malamute', 'Irish Wolfound'}\n",
    "set_b = {'Bichon Frise', 'Basset Hound'}\n"
   ]
  },
  {
   "cell_type": "markdown",
   "metadata": {},
   "source": [
    "A _feature vector_ can be generated to descibe each dog breed. Each element in the vector can be used to describe some aspect of the breed.\n",
    "\n",
    "`malamute = [4, 24, 80]`\n",
    "`basset_hound = [2, 14, 50]`\n",
    "\n",
    "Just wanted to focus on size, so we would generate our feature vector to only include height, weight\n",
    "\n",
    "`malamute = [24, 80]`\n",
    "`basset_hound = [14, 50]`\n",
    "\n",
    "We need to select elements for our feature vector that are relevant to our situation.\n",
    "\n",
    "In **supervised learning**, we (the programmers) determine the elements to include in the feature vector, we provide training (we say these examples are in one set, these are in the other). Applications of this can include: spam filtering, automatic labeling of documents, recommending products\n",
    "\n",
    "In **unsupervised learning**, we have feature vectors from somewhere, but there's no labeling of them. The machine looks for some structure in the data that we don't even know about (necessarily). It can provide insights into data that we might not otherwise see\n",
    "\n",
    "## Figuring out feature vectors\n",
    "\n",
    "Most real world situations have **too much** data. Checking every posssible feature is likely to lead to a giant mess. Using too many features can give you a bad statistical model of things, and also can greatly slow down the process of machine learning\n",
    "\n",
    "### Feature extraction\n",
    "\n",
    "It's hard, but necessary. Even if we're trying \"unsupervised\" learning, we need human input at least to figure out what the feature vectors\n",
    "\n"
   ]
  },
  {
   "cell_type": "code",
   "execution_count": 6,
   "metadata": {
    "collapsed": false
   },
   "outputs": [
    {
     "data": {
      "text/html": [
       "<div>\n",
       "<table border=\"1\" class=\"dataframe\">\n",
       "  <thead>\n",
       "    <tr style=\"text-align: right;\">\n",
       "      <th></th>\n",
       "      <th>_name</th>\n",
       "      <th>cold-blooded</th>\n",
       "      <th>egg-laying</th>\n",
       "      <th>num_legs</th>\n",
       "      <th>poisonous</th>\n",
       "      <th>scales</th>\n",
       "    </tr>\n",
       "  </thead>\n",
       "  <tbody>\n",
       "    <tr>\n",
       "      <th>0</th>\n",
       "      <td>Cobra</td>\n",
       "      <td>True</td>\n",
       "      <td>True</td>\n",
       "      <td>0</td>\n",
       "      <td>True</td>\n",
       "      <td>True</td>\n",
       "    </tr>\n",
       "    <tr>\n",
       "      <th>1</th>\n",
       "      <td>Rattlesnake</td>\n",
       "      <td>True</td>\n",
       "      <td>True</td>\n",
       "      <td>0</td>\n",
       "      <td>True</td>\n",
       "      <td>True</td>\n",
       "    </tr>\n",
       "    <tr>\n",
       "      <th>2</th>\n",
       "      <td>Boa constrictor</td>\n",
       "      <td>True</td>\n",
       "      <td>False</td>\n",
       "      <td>0</td>\n",
       "      <td>False</td>\n",
       "      <td>True</td>\n",
       "    </tr>\n",
       "    <tr>\n",
       "      <th>3</th>\n",
       "      <td>Alligator</td>\n",
       "      <td>True</td>\n",
       "      <td>True</td>\n",
       "      <td>4</td>\n",
       "      <td>False</td>\n",
       "      <td>True</td>\n",
       "    </tr>\n",
       "    <tr>\n",
       "      <th>4</th>\n",
       "      <td>Dart frog</td>\n",
       "      <td>False</td>\n",
       "      <td>True</td>\n",
       "      <td>4</td>\n",
       "      <td>True</td>\n",
       "      <td>False</td>\n",
       "    </tr>\n",
       "    <tr>\n",
       "      <th>5</th>\n",
       "      <td>Salmon</td>\n",
       "      <td>True</td>\n",
       "      <td>True</td>\n",
       "      <td>0</td>\n",
       "      <td>False</td>\n",
       "      <td>True</td>\n",
       "    </tr>\n",
       "    <tr>\n",
       "      <th>6</th>\n",
       "      <td>Python</td>\n",
       "      <td>True</td>\n",
       "      <td>True</td>\n",
       "      <td>0</td>\n",
       "      <td>False</td>\n",
       "      <td>True</td>\n",
       "    </tr>\n",
       "  </tbody>\n",
       "</table>\n",
       "</div>"
      ],
      "text/plain": [
       "             _name cold-blooded egg-laying  num_legs poisonous scales\n",
       "0            Cobra         True       True         0      True   True\n",
       "1      Rattlesnake         True       True         0      True   True\n",
       "2  Boa constrictor         True      False         0     False   True\n",
       "3        Alligator         True       True         4     False   True\n",
       "4        Dart frog        False       True         4      True  False\n",
       "5           Salmon         True       True         0     False   True\n",
       "6           Python         True       True         0     False   True"
      ]
     },
     "execution_count": 6,
     "metadata": {},
     "output_type": "execute_result"
    }
   ],
   "source": [
    "animals = [{\"_name\": \"Cobra\", \"egg-laying\": True, \"scales\": True,\n",
    "            \"poisonous\": True, \"cold-blooded\": True, \"num_legs\": 0}, \n",
    "           {\"_name\": \"Rattlesnake\", \"egg-laying\": True, \"scales\": True,\n",
    "            \"poisonous\": True, \"cold-blooded\": True, \"num_legs\": 0},\n",
    "           {\"_name\": \"Boa constrictor\", \"egg-laying\": False, \"scales\": True,\n",
    "            \"poisonous\": False, \"cold-blooded\": True, \"num_legs\": 0},\n",
    "           {\"_name\": \"Alligator\", \"egg-laying\": True, \"scales\": True,\n",
    "            \"poisonous\": False, \"cold-blooded\": True, \"num_legs\": 4},\n",
    "           {\"_name\": \"Dart frog\", \"egg-laying\": True, \"scales\": False,\n",
    "            \"poisonous\": True, \"cold-blooded\": False, \"num_legs\": 4},\n",
    "           {\"_name\": \"Salmon\", \"egg-laying\": True, \"scales\": True,\n",
    "            \"poisonous\": False, \"cold-blooded\": True, \"num_legs\": 0},\n",
    "           {\"_name\": \"Python\", \"egg-laying\": True, \"scales\": True,\n",
    "            \"poisonous\": False, \"cold-blooded\": True, \"num_legs\": 0}]\n",
    "pd.DataFrame(animals)\n"
   ]
  },
  {
   "cell_type": "markdown",
   "metadata": {},
   "source": [
    "What _features_ are relevant to classifying an animal as a **reptile**?"
   ]
  },
  {
   "cell_type": "markdown",
   "metadata": {},
   "source": [
    "## Measuring distance\n",
    "\n",
    "We can measure the similarity of the features by treating them like coordinates in space and calculating the distance between them.\n",
    "\n",
    "For instance, if we've got a feature vector [2, 4] and a feature vector [6, 2], we calculate the distance between using the pythagorean theorem.\n",
    "\n",
    "**Euclidean distance**\n",
    "\n",
    "First of all, we need to make sure all of our columns are numbers"
   ]
  },
  {
   "cell_type": "code",
   "execution_count": 8,
   "metadata": {
    "collapsed": false
   },
   "outputs": [
    {
     "data": {
      "text/html": [
       "<div>\n",
       "<table border=\"1\" class=\"dataframe\">\n",
       "  <thead>\n",
       "    <tr style=\"text-align: right;\">\n",
       "      <th></th>\n",
       "      <th>_name</th>\n",
       "      <th>cold-blooded</th>\n",
       "      <th>egg-laying</th>\n",
       "      <th>num_legs</th>\n",
       "      <th>poisonous</th>\n",
       "      <th>scales</th>\n",
       "    </tr>\n",
       "  </thead>\n",
       "  <tbody>\n",
       "    <tr>\n",
       "      <th>0</th>\n",
       "      <td>Cobra</td>\n",
       "      <td>1</td>\n",
       "      <td>1</td>\n",
       "      <td>0</td>\n",
       "      <td>1</td>\n",
       "      <td>1</td>\n",
       "    </tr>\n",
       "    <tr>\n",
       "      <th>1</th>\n",
       "      <td>Rattlesnake</td>\n",
       "      <td>1</td>\n",
       "      <td>1</td>\n",
       "      <td>0</td>\n",
       "      <td>1</td>\n",
       "      <td>1</td>\n",
       "    </tr>\n",
       "    <tr>\n",
       "      <th>2</th>\n",
       "      <td>Boa constrictor</td>\n",
       "      <td>1</td>\n",
       "      <td>0</td>\n",
       "      <td>0</td>\n",
       "      <td>0</td>\n",
       "      <td>1</td>\n",
       "    </tr>\n",
       "    <tr>\n",
       "      <th>3</th>\n",
       "      <td>Alligator</td>\n",
       "      <td>1</td>\n",
       "      <td>1</td>\n",
       "      <td>4</td>\n",
       "      <td>0</td>\n",
       "      <td>1</td>\n",
       "    </tr>\n",
       "    <tr>\n",
       "      <th>4</th>\n",
       "      <td>Dart frog</td>\n",
       "      <td>0</td>\n",
       "      <td>1</td>\n",
       "      <td>4</td>\n",
       "      <td>1</td>\n",
       "      <td>0</td>\n",
       "    </tr>\n",
       "    <tr>\n",
       "      <th>5</th>\n",
       "      <td>Salmon</td>\n",
       "      <td>1</td>\n",
       "      <td>1</td>\n",
       "      <td>0</td>\n",
       "      <td>0</td>\n",
       "      <td>1</td>\n",
       "    </tr>\n",
       "    <tr>\n",
       "      <th>6</th>\n",
       "      <td>Python</td>\n",
       "      <td>1</td>\n",
       "      <td>1</td>\n",
       "      <td>0</td>\n",
       "      <td>0</td>\n",
       "      <td>1</td>\n",
       "    </tr>\n",
       "  </tbody>\n",
       "</table>\n",
       "</div>"
      ],
      "text/plain": [
       "             _name  cold-blooded  egg-laying  num_legs  poisonous  scales\n",
       "0            Cobra             1           1         0          1       1\n",
       "1      Rattlesnake             1           1         0          1       1\n",
       "2  Boa constrictor             1           0         0          0       1\n",
       "3        Alligator             1           1         4          0       1\n",
       "4        Dart frog             0           1         4          1       0\n",
       "5           Salmon             1           1         0          0       1\n",
       "6           Python             1           1         0          0       1"
      ]
     },
     "execution_count": 8,
     "metadata": {},
     "output_type": "execute_result"
    }
   ],
   "source": [
    "df = pd.DataFrame(animals)\n",
    "for col in df.columns:\n",
    "    if col is not \"_name\":\n",
    "        df[col] = df[col].astype(np.int)\n",
    "\n",
    "df"
   ]
  },
  {
   "cell_type": "code",
   "execution_count": null,
   "metadata": {
    "collapsed": true
   },
   "outputs": [],
   "source": []
  },
  {
   "cell_type": "code",
   "execution_count": 13,
   "metadata": {
    "collapsed": false
   },
   "outputs": [
    {
     "data": {
      "text/plain": [
       "{'Alligator': {'cold-blooded': 1,\n",
       "  'egg-laying': 1,\n",
       "  'num_legs': 4,\n",
       "  'poisonous': 0,\n",
       "  'scales': 1},\n",
       " 'Boa constrictor': {'cold-blooded': 1,\n",
       "  'egg-laying': 0,\n",
       "  'num_legs': 0,\n",
       "  'poisonous': 0,\n",
       "  'scales': 1},\n",
       " 'Cobra': {'cold-blooded': 1,\n",
       "  'egg-laying': 1,\n",
       "  'num_legs': 0,\n",
       "  'poisonous': 1,\n",
       "  'scales': 1},\n",
       " 'Dart frog': {'cold-blooded': 0,\n",
       "  'egg-laying': 1,\n",
       "  'num_legs': 4,\n",
       "  'poisonous': 1,\n",
       "  'scales': 0},\n",
       " 'Python': {'cold-blooded': 1,\n",
       "  'egg-laying': 1,\n",
       "  'num_legs': 0,\n",
       "  'poisonous': 0,\n",
       "  'scales': 1},\n",
       " 'Rattlesnake': {'cold-blooded': 1,\n",
       "  'egg-laying': 1,\n",
       "  'num_legs': 0,\n",
       "  'poisonous': 1,\n",
       "  'scales': 1},\n",
       " 'Salmon': {'cold-blooded': 1,\n",
       "  'egg-laying': 1,\n",
       "  'num_legs': 0,\n",
       "  'poisonous': 0,\n",
       "  'scales': 1}}"
      ]
     },
     "execution_count": 13,
     "metadata": {},
     "output_type": "execute_result"
    }
   ],
   "source": [
    "# convert the transposed version of our DataFrame to a dictionary\n",
    "\n",
    "df.index = df.pop('_name')\n",
    "df.T.to_dict()"
   ]
  },
  {
   "cell_type": "code",
   "execution_count": 23,
   "metadata": {
    "collapsed": false
   },
   "outputs": [],
   "source": [
    "animal_features = {}\n",
    "for key, value in df.T.items():\n",
    "    animal_features[key] = np.array(list(value.values))"
   ]
  },
  {
   "cell_type": "code",
   "execution_count": 24,
   "metadata": {
    "collapsed": false
   },
   "outputs": [
    {
     "data": {
      "text/plain": [
       "{'Alligator': array([1, 1, 4, 0, 1]),\n",
       " 'Boa constrictor': array([1, 0, 0, 0, 1]),\n",
       " 'Cobra': array([1, 1, 0, 1, 1]),\n",
       " 'Dart frog': array([0, 1, 4, 1, 0]),\n",
       " 'Python': array([1, 1, 0, 0, 1]),\n",
       " 'Rattlesnake': array([1, 1, 0, 1, 1]),\n",
       " 'Salmon': array([1, 1, 0, 0, 1])}"
      ]
     },
     "execution_count": 24,
     "metadata": {},
     "output_type": "execute_result"
    }
   ],
   "source": [
    "animal_features"
   ]
  },
  {
   "cell_type": "markdown",
   "metadata": {},
   "source": [
    "### Euclidean distance\n",
    "\n",
    "It's a general formula to calculate the distance between two vectors of the same length\n",
    "\n",
    "LaTeX:\n",
    "\n",
    "$$distance(V1, V2) = \\sqrt{\\sum\\limits_{i=1}^{len}(V1_i-V2_i)^{2}}$$\n",
    "\n",
    "This looks complicated, it really isn't.\n",
    "\n",
    "We just calculate the difference between element in each vector, square that, sum all the squares together\n",
    "\n",
    "- V1 = [0, 0]\n",
    "- V2 = [3, 4]\n",
    "\n",
    "Sum the differences:\n",
    "\n",
    "$$ (0 - 3)^2 + (0 - 4)^2 $$\n",
    "\n",
    "$$ 9 + 16 $$\n",
    "\n",
    "$$ 25 $$\n",
    "\n",
    "Square root of that:\n",
    "\n",
    "$$ \\sqrt{25} $$\n",
    "\n",
    "$$ 5 $$\n",
    "\n",
    "Let's write a euclidean distance function\n"
   ]
  },
  {
   "cell_type": "code",
   "execution_count": 25,
   "metadata": {
    "collapsed": true
   },
   "outputs": [],
   "source": [
    "def euclidean_distance(v1, v2):\n",
    "    squares = (v1 - v2) ** 2\n",
    "    return math.sqrt(squares.sum())"
   ]
  },
  {
   "cell_type": "code",
   "execution_count": 28,
   "metadata": {
    "collapsed": false
   },
   "outputs": [],
   "source": [
    "euclidean_distance(np.array([0, 0]), np.array([3, 4]))\n",
    "\n",
    "# write tests!\n",
    "assert euclidean_distance(np.array([0, 0]), np.array([3, 4])) == 5.0"
   ]
  },
  {
   "cell_type": "code",
   "execution_count": 33,
   "metadata": {
    "collapsed": false
   },
   "outputs": [
    {
     "data": {
      "text/html": [
       "<div>\n",
       "<table border=\"1\" class=\"dataframe\">\n",
       "  <thead>\n",
       "    <tr style=\"text-align: right;\">\n",
       "      <th></th>\n",
       "      <th>Salmon</th>\n",
       "      <th>Alligator</th>\n",
       "      <th>Rattlesnake</th>\n",
       "      <th>Cobra</th>\n",
       "      <th>Boa constrictor</th>\n",
       "      <th>Dart frog</th>\n",
       "      <th>Python</th>\n",
       "    </tr>\n",
       "  </thead>\n",
       "  <tbody>\n",
       "    <tr>\n",
       "      <th>Salmon</th>\n",
       "      <td>--</td>\n",
       "      <td>4</td>\n",
       "      <td>1</td>\n",
       "      <td>1</td>\n",
       "      <td>1</td>\n",
       "      <td>4.358899</td>\n",
       "      <td>0</td>\n",
       "    </tr>\n",
       "    <tr>\n",
       "      <th>Alligator</th>\n",
       "      <td>4</td>\n",
       "      <td>--</td>\n",
       "      <td>4.123106</td>\n",
       "      <td>4.123106</td>\n",
       "      <td>4.123106</td>\n",
       "      <td>1.732051</td>\n",
       "      <td>4</td>\n",
       "    </tr>\n",
       "    <tr>\n",
       "      <th>Rattlesnake</th>\n",
       "      <td>1</td>\n",
       "      <td>4.123106</td>\n",
       "      <td>--</td>\n",
       "      <td>0</td>\n",
       "      <td>1.414214</td>\n",
       "      <td>4.242641</td>\n",
       "      <td>1</td>\n",
       "    </tr>\n",
       "    <tr>\n",
       "      <th>Cobra</th>\n",
       "      <td>1</td>\n",
       "      <td>4.123106</td>\n",
       "      <td>0</td>\n",
       "      <td>--</td>\n",
       "      <td>1.414214</td>\n",
       "      <td>4.242641</td>\n",
       "      <td>1</td>\n",
       "    </tr>\n",
       "    <tr>\n",
       "      <th>Boa constrictor</th>\n",
       "      <td>1</td>\n",
       "      <td>4.123106</td>\n",
       "      <td>1.414214</td>\n",
       "      <td>1.414214</td>\n",
       "      <td>--</td>\n",
       "      <td>4.472136</td>\n",
       "      <td>1</td>\n",
       "    </tr>\n",
       "    <tr>\n",
       "      <th>Dart frog</th>\n",
       "      <td>4.358899</td>\n",
       "      <td>1.732051</td>\n",
       "      <td>4.242641</td>\n",
       "      <td>4.242641</td>\n",
       "      <td>4.472136</td>\n",
       "      <td>--</td>\n",
       "      <td>4.358899</td>\n",
       "    </tr>\n",
       "    <tr>\n",
       "      <th>Python</th>\n",
       "      <td>0</td>\n",
       "      <td>4</td>\n",
       "      <td>1</td>\n",
       "      <td>1</td>\n",
       "      <td>1</td>\n",
       "      <td>4.358899</td>\n",
       "      <td>--</td>\n",
       "    </tr>\n",
       "  </tbody>\n",
       "</table>\n",
       "</div>"
      ],
      "text/plain": [
       "                   Salmon Alligator Rattlesnake     Cobra Boa constrictor  \\\n",
       "Salmon                 --         4           1         1               1   \n",
       "Alligator               4        --    4.123106  4.123106        4.123106   \n",
       "Rattlesnake             1  4.123106          --         0        1.414214   \n",
       "Cobra                   1  4.123106           0        --        1.414214   \n",
       "Boa constrictor         1  4.123106    1.414214  1.414214              --   \n",
       "Dart frog        4.358899  1.732051    4.242641  4.242641        4.472136   \n",
       "Python                  0         4           1         1               1   \n",
       "\n",
       "                Dart frog    Python  \n",
       "Salmon           4.358899         0  \n",
       "Alligator        1.732051         4  \n",
       "Rattlesnake      4.242641         1  \n",
       "Cobra            4.242641         1  \n",
       "Boa constrictor  4.472136         1  \n",
       "Dart frog              --  4.358899  \n",
       "Python           4.358899        --  "
      ]
     },
     "execution_count": 33,
     "metadata": {},
     "output_type": "execute_result"
    }
   ],
   "source": [
    "# create a DataFrame with animals as its rows (indexes) as well as\n",
    "# the columns, each cell contains the euclidean distance between\n",
    "# the animals\n",
    "\n",
    "def compare_animals(animal_features, keys=None):\n",
    "    '''Given a dict of animals' feature vectors, does the above'''\n",
    "    \n",
    "    if keys is None:\n",
    "        keys = animal_features.keys()\n",
    "    \n",
    "    col_labels = row_labels = keys\n",
    "    \n",
    "    table = []\n",
    "    \n",
    "    for row_label in row_labels:\n",
    "        row = []\n",
    "        for col_label in col_labels:\n",
    "            if col_label == row_label:\n",
    "                row.append('--')\n",
    "            else:\n",
    "                row.append(euclidean_distance(animal_features[row_label], animal_features[col_label]))\n",
    "        \n",
    "        table.append(row)\n",
    "    \n",
    "    df = pd.DataFrame(table, columns=col_labels, index=row_labels)\n",
    "    return df\n",
    "\n",
    "compare_animals(animal_features)"
   ]
  },
  {
   "cell_type": "code",
   "execution_count": 34,
   "metadata": {
    "collapsed": false
   },
   "outputs": [
    {
     "data": {
      "text/html": [
       "<div>\n",
       "<table border=\"1\" class=\"dataframe\">\n",
       "  <thead>\n",
       "    <tr style=\"text-align: right;\">\n",
       "      <th></th>\n",
       "      <th>Rattlesnake</th>\n",
       "      <th>Boa constrictor</th>\n",
       "      <th>Dart frog</th>\n",
       "      <th>Alligator</th>\n",
       "    </tr>\n",
       "  </thead>\n",
       "  <tbody>\n",
       "    <tr>\n",
       "      <th>Rattlesnake</th>\n",
       "      <td>--</td>\n",
       "      <td>1.414214</td>\n",
       "      <td>4.242641</td>\n",
       "      <td>4.123106</td>\n",
       "    </tr>\n",
       "    <tr>\n",
       "      <th>Boa constrictor</th>\n",
       "      <td>1.414214</td>\n",
       "      <td>--</td>\n",
       "      <td>4.472136</td>\n",
       "      <td>4.123106</td>\n",
       "    </tr>\n",
       "    <tr>\n",
       "      <th>Dart frog</th>\n",
       "      <td>4.242641</td>\n",
       "      <td>4.472136</td>\n",
       "      <td>--</td>\n",
       "      <td>1.732051</td>\n",
       "    </tr>\n",
       "    <tr>\n",
       "      <th>Alligator</th>\n",
       "      <td>4.123106</td>\n",
       "      <td>4.123106</td>\n",
       "      <td>1.732051</td>\n",
       "      <td>--</td>\n",
       "    </tr>\n",
       "  </tbody>\n",
       "</table>\n",
       "</div>"
      ],
      "text/plain": [
       "                Rattlesnake Boa constrictor Dart frog Alligator\n",
       "Rattlesnake              --        1.414214  4.242641  4.123106\n",
       "Boa constrictor    1.414214              --  4.472136  4.123106\n",
       "Dart frog          4.242641        4.472136        --  1.732051\n",
       "Alligator          4.123106        4.123106  1.732051        --"
      ]
     },
     "execution_count": 34,
     "metadata": {},
     "output_type": "execute_result"
    }
   ],
   "source": [
    "compare_animals(animal_features, ['Rattlesnake', 'Boa constrictor', 'Dart frog', 'Alligator'])"
   ]
  },
  {
   "cell_type": "markdown",
   "metadata": {},
   "source": [
    "We **could** make num_legs into a boolean like \"has_legs\""
   ]
  },
  {
   "cell_type": "code",
   "execution_count": 35,
   "metadata": {
    "collapsed": true
   },
   "outputs": [],
   "source": [
    "df['has_legs'] = df.num_legs > 0"
   ]
  },
  {
   "cell_type": "code",
   "execution_count": 42,
   "metadata": {
    "collapsed": false
   },
   "outputs": [
    {
     "ename": "ValueError",
     "evalue": "labels ['num_legs'] not contained in axis",
     "output_type": "error",
     "traceback": [
      "\u001b[0;31m---------------------------------------------------------------------------\u001b[0m",
      "\u001b[0;31mValueError\u001b[0m                                Traceback (most recent call last)",
      "\u001b[0;32m<ipython-input-42-df1b656be3cb>\u001b[0m in \u001b[0;36m<module>\u001b[0;34m()\u001b[0m\n\u001b[1;32m      1\u001b[0m \u001b[0mdf\u001b[0m\u001b[0;34m[\u001b[0m\u001b[0;34m'has_legs'\u001b[0m\u001b[0;34m]\u001b[0m \u001b[0;34m=\u001b[0m \u001b[0mdf\u001b[0m\u001b[0;34m[\u001b[0m\u001b[0;34m'has_legs'\u001b[0m\u001b[0;34m]\u001b[0m\u001b[0;34m.\u001b[0m\u001b[0mastype\u001b[0m\u001b[0;34m(\u001b[0m\u001b[0mnp\u001b[0m\u001b[0;34m.\u001b[0m\u001b[0mint\u001b[0m\u001b[0;34m)\u001b[0m\u001b[0;34m\u001b[0m\u001b[0m\n\u001b[0;32m----> 2\u001b[0;31m \u001b[0mdf\u001b[0m \u001b[0;34m=\u001b[0m \u001b[0mdf\u001b[0m\u001b[0;34m.\u001b[0m\u001b[0mdrop\u001b[0m\u001b[0;34m(\u001b[0m\u001b[0mlabels\u001b[0m\u001b[0;34m=\u001b[0m\u001b[0;34m'num_legs'\u001b[0m\u001b[0;34m,\u001b[0m \u001b[0maxis\u001b[0m\u001b[0;34m=\u001b[0m\u001b[0;36m1\u001b[0m\u001b[0;34m)\u001b[0m\u001b[0;34m\u001b[0m\u001b[0m\n\u001b[0m",
      "\u001b[0;32m/Users/james/src/github.com/tiyd-python-2015-08/course-resources/.direnv/python-3.4.3/lib/python3.4/site-packages/pandas/core/generic.py\u001b[0m in \u001b[0;36mdrop\u001b[0;34m(self, labels, axis, level, inplace, errors)\u001b[0m\n\u001b[1;32m   1595\u001b[0m                 \u001b[0mnew_axis\u001b[0m \u001b[0;34m=\u001b[0m \u001b[0maxis\u001b[0m\u001b[0;34m.\u001b[0m\u001b[0mdrop\u001b[0m\u001b[0;34m(\u001b[0m\u001b[0mlabels\u001b[0m\u001b[0;34m,\u001b[0m \u001b[0mlevel\u001b[0m\u001b[0;34m=\u001b[0m\u001b[0mlevel\u001b[0m\u001b[0;34m,\u001b[0m \u001b[0merrors\u001b[0m\u001b[0;34m=\u001b[0m\u001b[0merrors\u001b[0m\u001b[0;34m)\u001b[0m\u001b[0;34m\u001b[0m\u001b[0m\n\u001b[1;32m   1596\u001b[0m             \u001b[0;32melse\u001b[0m\u001b[0;34m:\u001b[0m\u001b[0;34m\u001b[0m\u001b[0m\n\u001b[0;32m-> 1597\u001b[0;31m                 \u001b[0mnew_axis\u001b[0m \u001b[0;34m=\u001b[0m \u001b[0maxis\u001b[0m\u001b[0;34m.\u001b[0m\u001b[0mdrop\u001b[0m\u001b[0;34m(\u001b[0m\u001b[0mlabels\u001b[0m\u001b[0;34m,\u001b[0m \u001b[0merrors\u001b[0m\u001b[0;34m=\u001b[0m\u001b[0merrors\u001b[0m\u001b[0;34m)\u001b[0m\u001b[0;34m\u001b[0m\u001b[0m\n\u001b[0m\u001b[1;32m   1598\u001b[0m             \u001b[0mdropped\u001b[0m \u001b[0;34m=\u001b[0m \u001b[0mself\u001b[0m\u001b[0;34m.\u001b[0m\u001b[0mreindex\u001b[0m\u001b[0;34m(\u001b[0m\u001b[0;34m**\u001b[0m\u001b[0;34m{\u001b[0m\u001b[0maxis_name\u001b[0m\u001b[0;34m:\u001b[0m \u001b[0mnew_axis\u001b[0m\u001b[0;34m}\u001b[0m\u001b[0;34m)\u001b[0m\u001b[0;34m\u001b[0m\u001b[0m\n\u001b[1;32m   1599\u001b[0m             \u001b[0;32mtry\u001b[0m\u001b[0;34m:\u001b[0m\u001b[0;34m\u001b[0m\u001b[0m\n",
      "\u001b[0;32m/Users/james/src/github.com/tiyd-python-2015-08/course-resources/.direnv/python-3.4.3/lib/python3.4/site-packages/pandas/core/index.py\u001b[0m in \u001b[0;36mdrop\u001b[0;34m(self, labels, errors)\u001b[0m\n\u001b[1;32m   2568\u001b[0m         \u001b[0;32mif\u001b[0m \u001b[0mmask\u001b[0m\u001b[0;34m.\u001b[0m\u001b[0many\u001b[0m\u001b[0;34m(\u001b[0m\u001b[0;34m)\u001b[0m\u001b[0;34m:\u001b[0m\u001b[0;34m\u001b[0m\u001b[0m\n\u001b[1;32m   2569\u001b[0m             \u001b[0;32mif\u001b[0m \u001b[0merrors\u001b[0m \u001b[0;34m!=\u001b[0m \u001b[0;34m'ignore'\u001b[0m\u001b[0;34m:\u001b[0m\u001b[0;34m\u001b[0m\u001b[0m\n\u001b[0;32m-> 2570\u001b[0;31m                 \u001b[0;32mraise\u001b[0m \u001b[0mValueError\u001b[0m\u001b[0;34m(\u001b[0m\u001b[0;34m'labels %s not contained in axis'\u001b[0m \u001b[0;34m%\u001b[0m \u001b[0mlabels\u001b[0m\u001b[0;34m[\u001b[0m\u001b[0mmask\u001b[0m\u001b[0;34m]\u001b[0m\u001b[0;34m)\u001b[0m\u001b[0;34m\u001b[0m\u001b[0m\n\u001b[0m\u001b[1;32m   2571\u001b[0m             \u001b[0mindexer\u001b[0m \u001b[0;34m=\u001b[0m \u001b[0mindexer\u001b[0m\u001b[0;34m[\u001b[0m\u001b[0;34m~\u001b[0m\u001b[0mmask\u001b[0m\u001b[0;34m]\u001b[0m\u001b[0;34m\u001b[0m\u001b[0m\n\u001b[1;32m   2572\u001b[0m         \u001b[0;32mreturn\u001b[0m \u001b[0mself\u001b[0m\u001b[0;34m.\u001b[0m\u001b[0mdelete\u001b[0m\u001b[0;34m(\u001b[0m\u001b[0mindexer\u001b[0m\u001b[0;34m)\u001b[0m\u001b[0;34m\u001b[0m\u001b[0m\n",
      "\u001b[0;31mValueError\u001b[0m: labels ['num_legs'] not contained in axis"
     ]
    }
   ],
   "source": [
    "df['has_legs'] = df['has_legs'].astype(np.int)\n",
    "df = df.drop(labels='num_legs', axis=1)"
   ]
  },
  {
   "cell_type": "code",
   "execution_count": 43,
   "metadata": {
    "collapsed": false
   },
   "outputs": [
    {
     "data": {
      "text/html": [
       "<div>\n",
       "<table border=\"1\" class=\"dataframe\">\n",
       "  <thead>\n",
       "    <tr style=\"text-align: right;\">\n",
       "      <th></th>\n",
       "      <th>cold-blooded</th>\n",
       "      <th>egg-laying</th>\n",
       "      <th>poisonous</th>\n",
       "      <th>scales</th>\n",
       "      <th>has_legs</th>\n",
       "    </tr>\n",
       "    <tr>\n",
       "      <th>_name</th>\n",
       "      <th></th>\n",
       "      <th></th>\n",
       "      <th></th>\n",
       "      <th></th>\n",
       "      <th></th>\n",
       "    </tr>\n",
       "  </thead>\n",
       "  <tbody>\n",
       "    <tr>\n",
       "      <th>Cobra</th>\n",
       "      <td>1</td>\n",
       "      <td>1</td>\n",
       "      <td>1</td>\n",
       "      <td>1</td>\n",
       "      <td>0</td>\n",
       "    </tr>\n",
       "    <tr>\n",
       "      <th>Rattlesnake</th>\n",
       "      <td>1</td>\n",
       "      <td>1</td>\n",
       "      <td>1</td>\n",
       "      <td>1</td>\n",
       "      <td>0</td>\n",
       "    </tr>\n",
       "    <tr>\n",
       "      <th>Boa constrictor</th>\n",
       "      <td>1</td>\n",
       "      <td>0</td>\n",
       "      <td>0</td>\n",
       "      <td>1</td>\n",
       "      <td>0</td>\n",
       "    </tr>\n",
       "    <tr>\n",
       "      <th>Alligator</th>\n",
       "      <td>1</td>\n",
       "      <td>1</td>\n",
       "      <td>0</td>\n",
       "      <td>1</td>\n",
       "      <td>1</td>\n",
       "    </tr>\n",
       "    <tr>\n",
       "      <th>Dart frog</th>\n",
       "      <td>0</td>\n",
       "      <td>1</td>\n",
       "      <td>1</td>\n",
       "      <td>0</td>\n",
       "      <td>1</td>\n",
       "    </tr>\n",
       "    <tr>\n",
       "      <th>Salmon</th>\n",
       "      <td>1</td>\n",
       "      <td>1</td>\n",
       "      <td>0</td>\n",
       "      <td>1</td>\n",
       "      <td>0</td>\n",
       "    </tr>\n",
       "    <tr>\n",
       "      <th>Python</th>\n",
       "      <td>1</td>\n",
       "      <td>1</td>\n",
       "      <td>0</td>\n",
       "      <td>1</td>\n",
       "      <td>0</td>\n",
       "    </tr>\n",
       "  </tbody>\n",
       "</table>\n",
       "</div>"
      ],
      "text/plain": [
       "                 cold-blooded  egg-laying  poisonous  scales  has_legs\n",
       "_name                                                                 \n",
       "Cobra                       1           1          1       1         0\n",
       "Rattlesnake                 1           1          1       1         0\n",
       "Boa constrictor             1           0          0       1         0\n",
       "Alligator                   1           1          0       1         1\n",
       "Dart frog                   0           1          1       0         1\n",
       "Salmon                      1           1          0       1         0\n",
       "Python                      1           1          0       1         0"
      ]
     },
     "execution_count": 43,
     "metadata": {},
     "output_type": "execute_result"
    }
   ],
   "source": [
    "df"
   ]
  },
  {
   "cell_type": "code",
   "execution_count": 44,
   "metadata": {
    "collapsed": true
   },
   "outputs": [],
   "source": [
    "animal_features2 = {}\n",
    "for key, value in df.T.items():\n",
    "    animal_features2[key] = np.array(list(value.values))"
   ]
  },
  {
   "cell_type": "code",
   "execution_count": 45,
   "metadata": {
    "collapsed": false
   },
   "outputs": [
    {
     "data": {
      "text/html": [
       "<div>\n",
       "<table border=\"1\" class=\"dataframe\">\n",
       "  <thead>\n",
       "    <tr style=\"text-align: right;\">\n",
       "      <th></th>\n",
       "      <th>Rattlesnake</th>\n",
       "      <th>Boa constrictor</th>\n",
       "      <th>Dart frog</th>\n",
       "      <th>Alligator</th>\n",
       "    </tr>\n",
       "  </thead>\n",
       "  <tbody>\n",
       "    <tr>\n",
       "      <th>Rattlesnake</th>\n",
       "      <td>--</td>\n",
       "      <td>1.414214</td>\n",
       "      <td>1.732051</td>\n",
       "      <td>1.414214</td>\n",
       "    </tr>\n",
       "    <tr>\n",
       "      <th>Boa constrictor</th>\n",
       "      <td>1.414214</td>\n",
       "      <td>--</td>\n",
       "      <td>2.236068</td>\n",
       "      <td>1.414214</td>\n",
       "    </tr>\n",
       "    <tr>\n",
       "      <th>Dart frog</th>\n",
       "      <td>1.732051</td>\n",
       "      <td>2.236068</td>\n",
       "      <td>--</td>\n",
       "      <td>1.732051</td>\n",
       "    </tr>\n",
       "    <tr>\n",
       "      <th>Alligator</th>\n",
       "      <td>1.414214</td>\n",
       "      <td>1.414214</td>\n",
       "      <td>1.732051</td>\n",
       "      <td>--</td>\n",
       "    </tr>\n",
       "  </tbody>\n",
       "</table>\n",
       "</div>"
      ],
      "text/plain": [
       "                Rattlesnake Boa constrictor Dart frog Alligator\n",
       "Rattlesnake              --        1.414214  1.732051  1.414214\n",
       "Boa constrictor    1.414214              --  2.236068  1.414214\n",
       "Dart frog          1.732051        2.236068        --  1.732051\n",
       "Alligator          1.414214        1.414214  1.732051        --"
      ]
     },
     "execution_count": 45,
     "metadata": {},
     "output_type": "execute_result"
    }
   ],
   "source": [
    "compare_animals(animal_features2, ['Rattlesnake', 'Boa constrictor', 'Dart frog', 'Alligator'])"
   ]
  },
  {
   "cell_type": "code",
   "execution_count": 46,
   "metadata": {
    "collapsed": false
   },
   "outputs": [
    {
     "data": {
      "text/html": [
       "<div>\n",
       "<table border=\"1\" class=\"dataframe\">\n",
       "  <thead>\n",
       "    <tr style=\"text-align: right;\">\n",
       "      <th></th>\n",
       "      <th>Salmon</th>\n",
       "      <th>Alligator</th>\n",
       "      <th>Rattlesnake</th>\n",
       "      <th>Cobra</th>\n",
       "      <th>Boa constrictor</th>\n",
       "      <th>Dart frog</th>\n",
       "      <th>Python</th>\n",
       "    </tr>\n",
       "  </thead>\n",
       "  <tbody>\n",
       "    <tr>\n",
       "      <th>Salmon</th>\n",
       "      <td>--</td>\n",
       "      <td>1</td>\n",
       "      <td>1</td>\n",
       "      <td>1</td>\n",
       "      <td>1</td>\n",
       "      <td>2</td>\n",
       "      <td>0</td>\n",
       "    </tr>\n",
       "    <tr>\n",
       "      <th>Alligator</th>\n",
       "      <td>1</td>\n",
       "      <td>--</td>\n",
       "      <td>1.414214</td>\n",
       "      <td>1.414214</td>\n",
       "      <td>1.414214</td>\n",
       "      <td>1.732051</td>\n",
       "      <td>1</td>\n",
       "    </tr>\n",
       "    <tr>\n",
       "      <th>Rattlesnake</th>\n",
       "      <td>1</td>\n",
       "      <td>1.414214</td>\n",
       "      <td>--</td>\n",
       "      <td>0</td>\n",
       "      <td>1.414214</td>\n",
       "      <td>1.732051</td>\n",
       "      <td>1</td>\n",
       "    </tr>\n",
       "    <tr>\n",
       "      <th>Cobra</th>\n",
       "      <td>1</td>\n",
       "      <td>1.414214</td>\n",
       "      <td>0</td>\n",
       "      <td>--</td>\n",
       "      <td>1.414214</td>\n",
       "      <td>1.732051</td>\n",
       "      <td>1</td>\n",
       "    </tr>\n",
       "    <tr>\n",
       "      <th>Boa constrictor</th>\n",
       "      <td>1</td>\n",
       "      <td>1.414214</td>\n",
       "      <td>1.414214</td>\n",
       "      <td>1.414214</td>\n",
       "      <td>--</td>\n",
       "      <td>2.236068</td>\n",
       "      <td>1</td>\n",
       "    </tr>\n",
       "    <tr>\n",
       "      <th>Dart frog</th>\n",
       "      <td>2</td>\n",
       "      <td>1.732051</td>\n",
       "      <td>1.732051</td>\n",
       "      <td>1.732051</td>\n",
       "      <td>2.236068</td>\n",
       "      <td>--</td>\n",
       "      <td>2</td>\n",
       "    </tr>\n",
       "    <tr>\n",
       "      <th>Python</th>\n",
       "      <td>0</td>\n",
       "      <td>1</td>\n",
       "      <td>1</td>\n",
       "      <td>1</td>\n",
       "      <td>1</td>\n",
       "      <td>2</td>\n",
       "      <td>--</td>\n",
       "    </tr>\n",
       "  </tbody>\n",
       "</table>\n",
       "</div>"
      ],
      "text/plain": [
       "                Salmon Alligator Rattlesnake     Cobra Boa constrictor  \\\n",
       "Salmon              --         1           1         1               1   \n",
       "Alligator            1        --    1.414214  1.414214        1.414214   \n",
       "Rattlesnake          1  1.414214          --         0        1.414214   \n",
       "Cobra                1  1.414214           0        --        1.414214   \n",
       "Boa constrictor      1  1.414214    1.414214  1.414214              --   \n",
       "Dart frog            2  1.732051    1.732051  1.732051        2.236068   \n",
       "Python               0         1           1         1               1   \n",
       "\n",
       "                Dart frog Python  \n",
       "Salmon                  2      0  \n",
       "Alligator        1.732051      1  \n",
       "Rattlesnake      1.732051      1  \n",
       "Cobra            1.732051      1  \n",
       "Boa constrictor  2.236068      1  \n",
       "Dart frog              --      2  \n",
       "Python                  2     --  "
      ]
     },
     "execution_count": 46,
     "metadata": {},
     "output_type": "execute_result"
    }
   ],
   "source": [
    "compare_animals(animal_features2)"
   ]
  },
  {
   "cell_type": "markdown",
   "metadata": {},
   "source": [
    "# References and Further Reading\n",
    "\n",
    "* [A Few Useful Things to Know about Machine Learning](http://www.astro.caltech.edu/~george/ay122/cacm12.pdf)\n",
    "* [Visual Intro to Machine Learning](http://www.r2d3.us/visual-intro-to-machine-learning-part-1/)"
   ]
  },
  {
   "cell_type": "code",
   "execution_count": null,
   "metadata": {
    "collapsed": true
   },
   "outputs": [],
   "source": []
  }
 ],
 "metadata": {
  "kernelspec": {
   "display_name": "Python 3",
   "language": "python",
   "name": "python3"
  },
  "language_info": {
   "codemirror_mode": {
    "name": "ipython",
    "version": 3
   },
   "file_extension": ".py",
   "mimetype": "text/x-python",
   "name": "python",
   "nbconvert_exporter": "python",
   "pygments_lexer": "ipython3",
   "version": "3.4.3"
  }
 },
 "nbformat": 4,
 "nbformat_minor": 0
}
