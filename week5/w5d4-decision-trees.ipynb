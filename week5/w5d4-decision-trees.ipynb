{
 "cells": [
  {
   "cell_type": "markdown",
   "metadata": {},
   "source": [
    "# Decision Trees\n",
    "\n",
    "\n",
    "Decision trees are yet another type of classifier that we can use similarly to how we use Naive Bayesian classifiers. They work very differently, though.\n",
    "\n",
    "It's basically a tree of if-statements to come up with a classification, and we can definitely code them by hand."
   ]
  },
  {
   "cell_type": "code",
   "execution_count": 1,
   "metadata": {
    "collapsed": true
   },
   "outputs": [],
   "source": [
    "from collections import Counter, defaultdict, namedtuple\n",
    "from functools import partial\n",
    "import math, random"
   ]
  },
  {
   "cell_type": "code",
   "execution_count": 2,
   "metadata": {
    "collapsed": false
   },
   "outputs": [
    {
     "name": "stdout",
     "output_type": "stream",
     "text": [
      "Installed hierarchymagic.py. To use it, type:\n",
      "  %load_ext hierarchymagic\n"
     ]
    },
    {
     "name": "stderr",
     "output_type": "stream",
     "text": [
      "/Users/james/src/github.com/tiyd-python-2015-08/course-resources/.direnv/python-3.4.3/lib/python3.4/site-packages/IPython/core/magics/extension.py:47: UserWarning: %install_ext` is deprecated, please distribute your extension(s)as a python packages.\n",
      "  \"as a python packages.\", UserWarning)\n"
     ]
    }
   ],
   "source": [
    "%install_ext https://raw.github.com/tkf/ipython-hierarchymagic/master/hierarchymagic.py"
   ]
  },
  {
   "cell_type": "code",
   "execution_count": 3,
   "metadata": {
    "collapsed": true
   },
   "outputs": [],
   "source": [
    "%load_ext hierarchymagic"
   ]
  },
  {
   "cell_type": "code",
   "execution_count": 4,
   "metadata": {
    "collapsed": true
   },
   "outputs": [],
   "source": [
    "Animal = namedtuple('Animal', 'has_backbone,cold_blooded,born_in_water,lungs_as_adult,milk_drinker')\n",
    "\n",
    "crow = Animal(True, False, False, True, False)\n",
    "bass = Animal(True, True, True, False, False)\n",
    "spider = Animal(False, False, False, True, False)\n",
    "rattlesnake = Animal(True, True, False, True, False)\n",
    "\n",
    "def animal_type(animal):\n",
    "    if animal.has_backbone:\n",
    "        if animal.cold_blooded:\n",
    "            if animal.born_in_water:\n",
    "                if animal.lungs_as_adult:\n",
    "                    return 'amphibian'\n",
    "                else:\n",
    "                    return 'fish'\n",
    "            else:\n",
    "                return 'reptile'\n",
    "        else:\n",
    "            if animal.milk_drinker:\n",
    "                return 'mammal'\n",
    "            else:\n",
    "                return 'bird'\n",
    "    else:\n",
    "        return 'invertebrate'\n",
    "\n"
   ]
  },
  {
   "cell_type": "code",
   "execution_count": 5,
   "metadata": {
    "collapsed": false
   },
   "outputs": [
    {
     "data": {
      "text/plain": [
       "'invertebrate'"
      ]
     },
     "execution_count": 5,
     "metadata": {},
     "output_type": "execute_result"
    }
   ],
   "source": [
    "animal_type(spider)"
   ]
  },
  {
   "cell_type": "code",
   "execution_count": 6,
   "metadata": {
    "collapsed": false
   },
   "outputs": [
    {
     "data": {
      "text/plain": [
       "'fish'"
      ]
     },
     "execution_count": 6,
     "metadata": {},
     "output_type": "execute_result"
    }
   ],
   "source": [
    "animal_type(bass)"
   ]
  },
  {
   "cell_type": "code",
   "execution_count": 7,
   "metadata": {
    "collapsed": false
   },
   "outputs": [
    {
     "data": {
      "text/plain": [
       "'bird'"
      ]
     },
     "execution_count": 7,
     "metadata": {},
     "output_type": "execute_result"
    }
   ],
   "source": [
    "animal_type(crow)"
   ]
  },
  {
   "cell_type": "code",
   "execution_count": 8,
   "metadata": {
    "collapsed": false
   },
   "outputs": [
    {
     "data": {
      "text/plain": [
       "'reptile'"
      ]
     },
     "execution_count": 8,
     "metadata": {},
     "output_type": "execute_result"
    }
   ],
   "source": [
    "animal_type(rattlesnake)"
   ]
  },
  {
   "cell_type": "code",
   "execution_count": 9,
   "metadata": {
    "collapsed": false
   },
   "outputs": [
    {
     "ename": "RuntimeError",
     "evalue": "dot exited with error:\n[stderr]\nError: <stdin>: syntax error in line 2 near '''\n",
     "output_type": "error",
     "traceback": [
      "\u001b[0;31m---------------------------------------------------------------------------\u001b[0m",
      "\u001b[0;31mRuntimeError\u001b[0m                              Traceback (most recent call last)",
      "\u001b[0;32m<ipython-input-9-cb324a919fac>\u001b[0m in \u001b[0;36m<module>\u001b[0;34m()\u001b[0m\n\u001b[0;32m----> 1\u001b[0;31m \u001b[0mget_ipython\u001b[0m\u001b[0;34m(\u001b[0m\u001b[0;34m)\u001b[0m\u001b[0;34m.\u001b[0m\u001b[0mrun_cell_magic\u001b[0m\u001b[0;34m(\u001b[0m\u001b[0;34m'dot'\u001b[0m\u001b[0;34m,\u001b[0m \u001b[0;34m''\u001b[0m\u001b[0;34m,\u001b[0m \u001b[0;34m\"digraph animal_type {\\n    A [label='Backbone?']\\n    B [label='Cold-blooded?']\\n    C [label='Born in the water?']\\n    D [label='Lungs as an adult?']\\n    E [label='Milk?']\\n    invertebrate, amphibian, fish, reptile, mammal, bird [shape=rectangle]\\n    \\n    A -> B [label=Yes]\\n    A -> invertebrate [label=No]\\n    B -> C [label=Yes]\\n    C -> D [label=Yes]\\n    C -> reptile [label=No]\\n    D -> fish [label=No]\\n    D -> amphibian [label=Yes]\\n    B -> E [label=No]\\n    E -> mammal [label=Yes]\\n    E -> bird [label=No]\\n}\"\u001b[0m\u001b[0;34m)\u001b[0m\u001b[0;34m\u001b[0m\u001b[0m\n\u001b[0m",
      "\u001b[0;32m/Users/james/src/github.com/tiyd-python-2015-08/course-resources/.direnv/python-3.4.3/lib/python3.4/site-packages/IPython/core/interactiveshell.py\u001b[0m in \u001b[0;36mrun_cell_magic\u001b[0;34m(self, magic_name, line, cell)\u001b[0m\n\u001b[1;32m   2291\u001b[0m             \u001b[0mmagic_arg_s\u001b[0m \u001b[0;34m=\u001b[0m \u001b[0mself\u001b[0m\u001b[0;34m.\u001b[0m\u001b[0mvar_expand\u001b[0m\u001b[0;34m(\u001b[0m\u001b[0mline\u001b[0m\u001b[0;34m,\u001b[0m \u001b[0mstack_depth\u001b[0m\u001b[0;34m)\u001b[0m\u001b[0;34m\u001b[0m\u001b[0m\n\u001b[1;32m   2292\u001b[0m             \u001b[0;32mwith\u001b[0m \u001b[0mself\u001b[0m\u001b[0;34m.\u001b[0m\u001b[0mbuiltin_trap\u001b[0m\u001b[0;34m:\u001b[0m\u001b[0;34m\u001b[0m\u001b[0m\n\u001b[0;32m-> 2293\u001b[0;31m                 \u001b[0mresult\u001b[0m \u001b[0;34m=\u001b[0m \u001b[0mfn\u001b[0m\u001b[0;34m(\u001b[0m\u001b[0mmagic_arg_s\u001b[0m\u001b[0;34m,\u001b[0m \u001b[0mcell\u001b[0m\u001b[0;34m)\u001b[0m\u001b[0;34m\u001b[0m\u001b[0m\n\u001b[0m\u001b[1;32m   2294\u001b[0m             \u001b[0;32mreturn\u001b[0m \u001b[0mresult\u001b[0m\u001b[0;34m\u001b[0m\u001b[0m\n\u001b[1;32m   2295\u001b[0m \u001b[0;34m\u001b[0m\u001b[0m\n",
      "\u001b[0;32m/Users/james/.ipython/extensions/hierarchymagic.py\u001b[0m in \u001b[0;36mdot\u001b[0;34m(self, line, cell)\u001b[0m\n",
      "\u001b[0;32m/Users/james/src/github.com/tiyd-python-2015-08/course-resources/.direnv/python-3.4.3/lib/python3.4/site-packages/IPython/core/magic.py\u001b[0m in \u001b[0;36m<lambda>\u001b[0;34m(f, *a, **k)\u001b[0m\n\u001b[1;32m    191\u001b[0m     \u001b[0;31m# but it's overkill for just that one bit of state.\u001b[0m\u001b[0;34m\u001b[0m\u001b[0;34m\u001b[0m\u001b[0m\n\u001b[1;32m    192\u001b[0m     \u001b[0;32mdef\u001b[0m \u001b[0mmagic_deco\u001b[0m\u001b[0;34m(\u001b[0m\u001b[0marg\u001b[0m\u001b[0;34m)\u001b[0m\u001b[0;34m:\u001b[0m\u001b[0;34m\u001b[0m\u001b[0m\n\u001b[0;32m--> 193\u001b[0;31m         \u001b[0mcall\u001b[0m \u001b[0;34m=\u001b[0m \u001b[0;32mlambda\u001b[0m \u001b[0mf\u001b[0m\u001b[0;34m,\u001b[0m \u001b[0;34m*\u001b[0m\u001b[0ma\u001b[0m\u001b[0;34m,\u001b[0m \u001b[0;34m**\u001b[0m\u001b[0mk\u001b[0m\u001b[0;34m:\u001b[0m \u001b[0mf\u001b[0m\u001b[0;34m(\u001b[0m\u001b[0;34m*\u001b[0m\u001b[0ma\u001b[0m\u001b[0;34m,\u001b[0m \u001b[0;34m**\u001b[0m\u001b[0mk\u001b[0m\u001b[0;34m)\u001b[0m\u001b[0;34m\u001b[0m\u001b[0m\n\u001b[0m\u001b[1;32m    194\u001b[0m \u001b[0;34m\u001b[0m\u001b[0m\n\u001b[1;32m    195\u001b[0m         \u001b[0;32mif\u001b[0m \u001b[0mcallable\u001b[0m\u001b[0;34m(\u001b[0m\u001b[0marg\u001b[0m\u001b[0;34m)\u001b[0m\u001b[0;34m:\u001b[0m\u001b[0;34m\u001b[0m\u001b[0m\n",
      "\u001b[0;32m/Users/james/.ipython/extensions/hierarchymagic.py\u001b[0m in \u001b[0;36mdot\u001b[0;34m(self, line, cell)\u001b[0m\n\u001b[1;32m    155\u001b[0m         \u001b[0margs\u001b[0m \u001b[0;34m=\u001b[0m \u001b[0mparse_argstring\u001b[0m\u001b[0;34m(\u001b[0m\u001b[0mself\u001b[0m\u001b[0;34m.\u001b[0m\u001b[0mdot\u001b[0m\u001b[0;34m,\u001b[0m \u001b[0mline\u001b[0m\u001b[0;34m)\u001b[0m\u001b[0;34m\u001b[0m\u001b[0m\n\u001b[1;32m    156\u001b[0m \u001b[0;34m\u001b[0m\u001b[0m\n\u001b[0;32m--> 157\u001b[0;31m         \u001b[0mimage\u001b[0m \u001b[0;34m=\u001b[0m \u001b[0mrun_dot\u001b[0m\u001b[0;34m(\u001b[0m\u001b[0mcell\u001b[0m\u001b[0;34m,\u001b[0m \u001b[0margs\u001b[0m\u001b[0;34m.\u001b[0m\u001b[0moptions\u001b[0m\u001b[0;34m,\u001b[0m \u001b[0mformat\u001b[0m\u001b[0;34m=\u001b[0m\u001b[0margs\u001b[0m\u001b[0;34m.\u001b[0m\u001b[0mformat\u001b[0m\u001b[0;34m)\u001b[0m\u001b[0;34m\u001b[0m\u001b[0m\n\u001b[0m\u001b[1;32m    158\u001b[0m \u001b[0;34m\u001b[0m\u001b[0m\n\u001b[1;32m    159\u001b[0m         \u001b[0;32mif\u001b[0m \u001b[0margs\u001b[0m\u001b[0;34m.\u001b[0m\u001b[0mformat\u001b[0m \u001b[0;34m==\u001b[0m \u001b[0;34m'png'\u001b[0m\u001b[0;34m:\u001b[0m\u001b[0;34m\u001b[0m\u001b[0m\n",
      "\u001b[0;32m/Users/james/.ipython/extensions/hierarchymagic.py\u001b[0m in \u001b[0;36mrun_dot\u001b[0;34m(code, options, format)\u001b[0m\n\u001b[1;32m    134\u001b[0m     \u001b[0;32mif\u001b[0m \u001b[0mp\u001b[0m\u001b[0;34m.\u001b[0m\u001b[0mreturncode\u001b[0m \u001b[0;34m!=\u001b[0m \u001b[0;36m0\u001b[0m\u001b[0;34m:\u001b[0m\u001b[0;34m\u001b[0m\u001b[0m\n\u001b[1;32m    135\u001b[0m         raise RuntimeError('dot exited with error:\\n[stderr]\\n{0}'\n\u001b[0;32m--> 136\u001b[0;31m                            .format(stderr.decode('utf-8')))\n\u001b[0m\u001b[1;32m    137\u001b[0m     \u001b[0;32mreturn\u001b[0m \u001b[0mstdout\u001b[0m\u001b[0;34m\u001b[0m\u001b[0m\n\u001b[1;32m    138\u001b[0m \u001b[0;34m\u001b[0m\u001b[0m\n",
      "\u001b[0;31mRuntimeError\u001b[0m: dot exited with error:\n[stderr]\nError: <stdin>: syntax error in line 2 near '''\n"
     ]
    }
   ],
   "source": [
    "%%dot\n",
    "digraph animal_type {\n",
    "    A [label='Backbone?']\n",
    "    B [label='Cold-blooded?']\n",
    "    C [label='Born in the water?']\n",
    "    D [label='Lungs as an adult?']\n",
    "    E [label='Milk?']\n",
    "    invertebrate, amphibian, fish, reptile, mammal, bird [shape=rectangle]\n",
    "    \n",
    "    A -> B [label=Yes]\n",
    "    A -> invertebrate [label=No]\n",
    "    B -> C [label=Yes]\n",
    "    C -> D [label=Yes]\n",
    "    C -> reptile [label=No]\n",
    "    D -> fish [label=No]\n",
    "    D -> amphibian [label=Yes]\n",
    "    B -> E [label=No]\n",
    "    E -> mammal [label=Yes]\n",
    "    E -> bird [label=No]\n",
    "}"
   ]
  },
  {
   "cell_type": "markdown",
   "metadata": {},
   "source": [
    "It's not practical for us to create decision trees by hand when we're dealing with large sets of data or large numbers of columns.\n",
    "\n",
    "So we acn use an algorithm to build our decision trees for us.\n",
    "\n",
    "It works by looking at the different features a data set could be split on, and then choosing attributes that produce the least _entropy_. That is, it generates the most uniform subset. Each subset is then partitioned further until it's able to reach a subset that is completely uniform, OR there are no more features to partition with.\n",
    "\n",
    "Let's write some code to find entropy of a dataset. The data should be a list of tuples, with each tuple having a feature vector and a label.\n",
    "\n",
    "Just trust me on the math.\n",
    "\n",
    "We'll use some data about mushrooms: https://archive.ics.uci.edu/ml/machine-learning-databases/mushroom/\n",
    "\n",
    "\n"
   ]
  },
  {
   "cell_type": "code",
   "execution_count": 11,
   "metadata": {
    "collapsed": true
   },
   "outputs": [],
   "source": [
    "def entropy(class_probabilities):\n",
    "    return sum(-p * math.log(p, 2) for p in class_probabilities if p)\n",
    "\n",
    "def class_probabilities(labels):\n",
    "    total_count = len(labels)\n",
    "    return [count / total_count for count in Counter(labels).values()]\n",
    "\n",
    "def data_entropy(labeled_data):\n",
    "    labels = [label for _, label in labeled_data]\n",
    "    probabilities = class_probabilities(labels)\n",
    "    return entropy(probabilities)"
   ]
  },
  {
   "cell_type": "code",
   "execution_count": 14,
   "metadata": {
    "collapsed": false
   },
   "outputs": [
    {
     "name": "stdout",
     "output_type": "stream",
     "text": [
      "8124\n"
     ]
    },
    {
     "data": {
      "text/plain": [
       "0.9990678968724604"
      ]
     },
     "execution_count": 14,
     "metadata": {},
     "output_type": "execute_result"
    }
   ],
   "source": [
    "import csv\n",
    "\n",
    "mushroom_data = []\n",
    "columns = [\"poisonous\", \"cap-shape\", \"cap-surface\", \"cap-color\", \"bruises\", \"odor\", \n",
    "           \"gill-attachment\", \"gill-spacing\", \"gill-size\", \"gill-color\", \n",
    "           \"stalk-shape\", \"stalk-root\",  \"stalk-surface-above-ring\", \n",
    "           \"stalk-surface-below-ring\", \"stalk-color-above-ring\", \n",
    "           \"stalk-color-below-ring\", \"veil-type\", \"veil-color\", \"ring-number\", \n",
    "           \"ring-type\", \"spore-print-color\", \"population\", \"habitat\"]\n",
    "with open('agaricus-lepiota.data') as f:\n",
    "    reader = csv.DictReader(f, fieldnames=columns)\n",
    "    for row in reader:\n",
    "        \n",
    "        poisonous = row.pop('poisonous')\n",
    "        if poisonous == 'p':\n",
    "            poisonous = True\n",
    "        else:\n",
    "            poisonous = False\n",
    "        \n",
    "        mushroom_data.append((row, poisonous))\n",
    "\n",
    "print(len(mushroom_data))\n",
    "data_entropy(mushroom_data)"
   ]
  },
  {
   "cell_type": "markdown",
   "metadata": {},
   "source": [
    "We need to try partitioning our data, so we can calculate the entropy of each potential subset"
   ]
  },
  {
   "cell_type": "code",
   "execution_count": 15,
   "metadata": {
    "collapsed": true
   },
   "outputs": [],
   "source": [
    "def partition_by(inputs, attribute):\n",
    "    '''return a dict of inputs partitioned by the attribute\n",
    "    each input is a pair (attribute_dict, label)\n",
    "    '''\n",
    "    groups = defaultdict(list)\n",
    "    for item in inputs:\n",
    "        key = item[0][attribute]\n",
    "        groups[key].append(item)\n",
    "    return groups\n",
    "\n",
    "def partition_entropy(subsets):\n",
    "    '''find the entropy from this partition of data into subsets'''\n",
    "    total_count = sum(len(subset) for subset in subsets)\n",
    "    \n",
    "    return sum(data_entropy(subset) * len(subset) / total_count\n",
    "               for subset in subsets)\n",
    "\n",
    "def partition_entropy_by(inputs, attribute):\n",
    "    '''compute the entropy corresponding to the given partition'''\n",
    "    partitions = partition_by(inputs, attribute)\n",
    "    return partition_entropy(partitions.values())\n"
   ]
  },
  {
   "cell_type": "code",
   "execution_count": 21,
   "metadata": {
    "collapsed": false
   },
   "outputs": [
    {
     "name": "stdout",
     "output_type": "stream",
     "text": [
      "[('odor', 0.09299291948846061), ('spore-print-color', 0.5183629791875449), ('gill-color', 0.582090373456329), ('ring-type', 0.6810463860789229), ('stalk-surface-above-ring', 0.7143422976539759), ('stalk-surface-below-ring', 0.7271734234797139), ('stalk-color-above-ring', 0.7452227234102206), ('stalk-color-below-ring', 0.757652330344894), ('gill-size', 0.7689135217244145), ('population', 0.7971098778056078), ('bruises', 0.8066884111112408), ('habitat', 0.8422342922673683), ('stalk-root', 0.8642502592451846), ('gill-spacing', 0.8981847128758902), ('cap-shape', 0.9502711949370874), ('ring-number', 0.96061522762937), ('cap-color', 0.9630186138962565), ('cap-surface', 0.9704776640986876), ('veil-color', 0.9752508807515435), ('gill-attachment', 0.9849028696218443), ('stalk-shape', 0.991551124302796), ('veil-type', 0.9990678968724604)]\n"
     ]
    }
   ],
   "source": [
    "feature_names = columns[1:]\n",
    "res = []\n",
    "for feature in feature_names:\n",
    "#     print(feature, partition_entropy_by(mushroom_data, feature))\n",
    "    res.append((feature, partition_entropy_by(mushroom_data, feature)))\n",
    "\n",
    "print(sorted(res, key=lambda x: x[1]))"
   ]
  },
  {
   "cell_type": "markdown",
   "metadata": {},
   "source": [
    "## Building a decision tree\n",
    "\n",
    "To actually build the tree, we need to use some sort of algorithm to make decisions about which partitions to use. We're going to use something called the [ID3 algorithm](https://en.wikipedia.org/wiki/ID3_algorithm)\n",
    "\n",
    "Steps:\n",
    "1. Calculate the entropy of every attribute using the data set S\n",
    "1. Split the set S into subsets using the attribute that has the minimum entropy from step 1\n",
    "1. Make a decision tree node containing that attribute\n",
    "1. Recur on subsets using the remaining attributes\n",
    "\n",
    "For our implementation, we'll have a tree be either a label or a tuple `(attribute, subtree_dict)`. `subtree_dict` has the possible values for the attribute as keys and the subtrees as values."
   ]
  },
  {
   "cell_type": "code",
   "execution_count": 22,
   "metadata": {
    "collapsed": false
   },
   "outputs": [
    {
     "data": {
      "text/plain": [
       "[({'bruises': 't',\n",
       "   'cap-color': 'n',\n",
       "   'cap-shape': 'x',\n",
       "   'cap-surface': 's',\n",
       "   'gill-attachment': 'f',\n",
       "   'gill-color': 'k',\n",
       "   'gill-size': 'n',\n",
       "   'gill-spacing': 'c',\n",
       "   'habitat': 'u',\n",
       "   'odor': 'p',\n",
       "   'population': 's',\n",
       "   'ring-number': 'o',\n",
       "   'ring-type': 'p',\n",
       "   'spore-print-color': 'k',\n",
       "   'stalk-color-above-ring': 'w',\n",
       "   'stalk-color-below-ring': 'w',\n",
       "   'stalk-root': 'e',\n",
       "   'stalk-shape': 'e',\n",
       "   'stalk-surface-above-ring': 's',\n",
       "   'stalk-surface-below-ring': 's',\n",
       "   'veil-color': 'w',\n",
       "   'veil-type': 'p'},\n",
       "  True),\n",
       " ({'bruises': 't',\n",
       "   'cap-color': 'y',\n",
       "   'cap-shape': 'x',\n",
       "   'cap-surface': 's',\n",
       "   'gill-attachment': 'f',\n",
       "   'gill-color': 'k',\n",
       "   'gill-size': 'b',\n",
       "   'gill-spacing': 'c',\n",
       "   'habitat': 'g',\n",
       "   'odor': 'a',\n",
       "   'population': 'n',\n",
       "   'ring-number': 'o',\n",
       "   'ring-type': 'p',\n",
       "   'spore-print-color': 'n',\n",
       "   'stalk-color-above-ring': 'w',\n",
       "   'stalk-color-below-ring': 'w',\n",
       "   'stalk-root': 'c',\n",
       "   'stalk-shape': 'e',\n",
       "   'stalk-surface-above-ring': 's',\n",
       "   'stalk-surface-below-ring': 's',\n",
       "   'veil-color': 'w',\n",
       "   'veil-type': 'p'},\n",
       "  False),\n",
       " ({'bruises': 't',\n",
       "   'cap-color': 'w',\n",
       "   'cap-shape': 'b',\n",
       "   'cap-surface': 's',\n",
       "   'gill-attachment': 'f',\n",
       "   'gill-color': 'n',\n",
       "   'gill-size': 'b',\n",
       "   'gill-spacing': 'c',\n",
       "   'habitat': 'm',\n",
       "   'odor': 'l',\n",
       "   'population': 'n',\n",
       "   'ring-number': 'o',\n",
       "   'ring-type': 'p',\n",
       "   'spore-print-color': 'n',\n",
       "   'stalk-color-above-ring': 'w',\n",
       "   'stalk-color-below-ring': 'w',\n",
       "   'stalk-root': 'c',\n",
       "   'stalk-shape': 'e',\n",
       "   'stalk-surface-above-ring': 's',\n",
       "   'stalk-surface-below-ring': 's',\n",
       "   'veil-color': 'w',\n",
       "   'veil-type': 'p'},\n",
       "  False),\n",
       " ({'bruises': 't',\n",
       "   'cap-color': 'w',\n",
       "   'cap-shape': 'x',\n",
       "   'cap-surface': 'y',\n",
       "   'gill-attachment': 'f',\n",
       "   'gill-color': 'n',\n",
       "   'gill-size': 'n',\n",
       "   'gill-spacing': 'c',\n",
       "   'habitat': 'u',\n",
       "   'odor': 'p',\n",
       "   'population': 's',\n",
       "   'ring-number': 'o',\n",
       "   'ring-type': 'p',\n",
       "   'spore-print-color': 'k',\n",
       "   'stalk-color-above-ring': 'w',\n",
       "   'stalk-color-below-ring': 'w',\n",
       "   'stalk-root': 'e',\n",
       "   'stalk-shape': 'e',\n",
       "   'stalk-surface-above-ring': 's',\n",
       "   'stalk-surface-below-ring': 's',\n",
       "   'veil-color': 'w',\n",
       "   'veil-type': 'p'},\n",
       "  True),\n",
       " ({'bruises': 'f',\n",
       "   'cap-color': 'g',\n",
       "   'cap-shape': 'x',\n",
       "   'cap-surface': 's',\n",
       "   'gill-attachment': 'f',\n",
       "   'gill-color': 'k',\n",
       "   'gill-size': 'b',\n",
       "   'gill-spacing': 'w',\n",
       "   'habitat': 'g',\n",
       "   'odor': 'n',\n",
       "   'population': 'a',\n",
       "   'ring-number': 'o',\n",
       "   'ring-type': 'e',\n",
       "   'spore-print-color': 'n',\n",
       "   'stalk-color-above-ring': 'w',\n",
       "   'stalk-color-below-ring': 'w',\n",
       "   'stalk-root': 'e',\n",
       "   'stalk-shape': 't',\n",
       "   'stalk-surface-above-ring': 's',\n",
       "   'stalk-surface-below-ring': 's',\n",
       "   'veil-color': 'w',\n",
       "   'veil-type': 'p'},\n",
       "  False)]"
      ]
     },
     "execution_count": 22,
     "metadata": {},
     "output_type": "execute_result"
    }
   ],
   "source": [
    "mushroom_data[:5]"
   ]
  },
  {
   "cell_type": "code",
   "execution_count": 23,
   "metadata": {
    "collapsed": true
   },
   "outputs": [],
   "source": [
    "def build_tree_id3(inputs, split_candidates=None):\n",
    "    \n",
    "    # all the keys of our first input are considered split_candidates\n",
    "    if split_candidates is None:\n",
    "        split_candidates = inputs[0][0].keys()\n",
    "        \n",
    "    # count up our labels in the inputs\n",
    "    num_inputs = len(inputs)\n",
    "    label_counter = Counter([label for item, label in inputs])\n",
    "    most_common = label_counter.most_common()[0][0]\n",
    "    \n",
    "    if len(label_counter.keys()) == 1: # no need to look deeper\n",
    "        return most_common\n",
    "    \n",
    "    if not split_candidates: # no candidates left\n",
    "        return most_common\n",
    "    \n",
    "    # otherwise, split on the best attribute\n",
    "    best_attribute = min(split_candidates,\n",
    "                         key=partial(partition_entropy_by, inputs))\n",
    "    \n",
    "    partitions = partition_by(inputs, best_attribute)\n",
    "    new_candidates = [a for a in split_candidates if a != best_attribute]\n",
    "    \n",
    "    # recurse!\n",
    "    subtrees = {attribute: build_tree_id3(subset, new_candidates)\n",
    "                for attribute, subset in partitions.items()}\n",
    "    \n",
    "    subtrees[None] = most_common\n",
    "    \n",
    "    return (best_attribute, subtrees)\n",
    "    "
   ]
  },
  {
   "cell_type": "code",
   "execution_count": 24,
   "metadata": {
    "collapsed": false
   },
   "outputs": [
    {
     "data": {
      "text/plain": [
       "('odor',\n",
       " {'p': True,\n",
       "  'n': ('spore-print-color',\n",
       "   {'n': False,\n",
       "    'r': True,\n",
       "    'h': False,\n",
       "    'o': False,\n",
       "    'w': ('habitat',\n",
       "     {'p': False,\n",
       "      None: False,\n",
       "      'w': False,\n",
       "      'g': False,\n",
       "      'd': ('stalk-root', {'?': True, None: True, 'b': False}),\n",
       "      'l': ('stalk-color-below-ring',\n",
       "       {'n': False, None: False, 'w': True, 'y': True})}),\n",
       "    'b': False,\n",
       "    None: False,\n",
       "    'y': False,\n",
       "    'k': False}),\n",
       "  None: False,\n",
       "  'c': True,\n",
       "  'l': False,\n",
       "  's': True,\n",
       "  'f': True,\n",
       "  'm': True,\n",
       "  'a': False,\n",
       "  'y': True})"
      ]
     },
     "execution_count": 24,
     "metadata": {},
     "output_type": "execute_result"
    }
   ],
   "source": [
    "build_tree_id3(mushroom_data)"
   ]
  },
  {
   "cell_type": "code",
   "execution_count": 37,
   "metadata": {
    "collapsed": true
   },
   "outputs": [],
   "source": [
    "def classify(tree, sample):\n",
    "    '''walk the tree using the specified input'''\n",
    "    \n",
    "    # base case / endpoint\n",
    "    if type(tree) != tuple:\n",
    "        return tree\n",
    "    \n",
    "    # otherwise, pick the right subtree\n",
    "    attribute, subtree_dict = tree\n",
    "    \n",
    "    subtree_key = sample.get(attribute) # pull out the attribute\n",
    "    \n",
    "    if subtree_key not in subtree_dict: # if it's not in the subtree\n",
    "        subtree_key = None              # use the None subtree\n",
    "    \n",
    "    subtree = subtree_dict[subtree_key] # pull out the correct subtree\n",
    "    return classify(subtree, sample)    # recurse!\n"
   ]
  },
  {
   "cell_type": "code",
   "execution_count": 27,
   "metadata": {
    "collapsed": false
   },
   "outputs": [
    {
     "data": {
      "text/plain": [
       "True"
      ]
     },
     "execution_count": 27,
     "metadata": {},
     "output_type": "execute_result"
    }
   ],
   "source": [
    "tree = build_tree_id3(mushroom_data)\n",
    "classify(tree, mushroom_data[0][0])"
   ]
  },
  {
   "cell_type": "code",
   "execution_count": 28,
   "metadata": {
    "collapsed": true
   },
   "outputs": [],
   "source": [
    "class DecisionTree:\n",
    "    def __init__(self):\n",
    "        self.tree = None\n",
    "    \n",
    "    def fit(self, X, y):\n",
    "        self.tree = build_tree_id3(list(zip(X, y)))\n",
    "        return self\n",
    "    \n",
    "    def predict(self, X):\n",
    "        results = []\n",
    "        for x in X:\n",
    "            results.append(classify(self.tree, x))\n",
    "        return results\n",
    "    \n",
    "    def score(self, X, y):\n",
    "        results = self.predict(X)\n",
    "        correct = 0\n",
    "        for i in range(len(y)):\n",
    "            if y[i] == results[i]:\n",
    "                correct += 1\n",
    "        \n",
    "        return correct / len(y)\n"
   ]
  },
  {
   "cell_type": "code",
   "execution_count": 30,
   "metadata": {
    "collapsed": false
   },
   "outputs": [
    {
     "data": {
      "text/plain": [
       "1.0"
      ]
     },
     "execution_count": 30,
     "metadata": {},
     "output_type": "execute_result"
    }
   ],
   "source": [
    "def unzip(data):\n",
    "    return [d[0] for d in data], [d[1] for d in data]\n",
    "\n",
    "from sklearn.cross_validation import train_test_split\n",
    "\n",
    "X, y = unzip(mushroom_data)\n",
    "\n",
    "X_train, X_test, y_train, y_test = train_test_split(X, y, test_size=0.33)\n",
    "\n",
    "tree = DecisionTree()\n",
    "tree.fit(X_train, y_train)\n",
    "tree.score(X_test, y_test)"
   ]
  },
  {
   "cell_type": "markdown",
   "metadata": {},
   "source": [
    "Most of the time we don't expect to have a complete data set, and therefore we don't expect a classifier to be 100% accurate. In this case, we do, because there are only 23 different species that have been classified."
   ]
  },
  {
   "cell_type": "markdown",
   "metadata": {},
   "source": [
    "Let's consider a company looking to hire developers that wants to look at past candidates' data and whether or not those candidates ended up being good employees."
   ]
  },
  {
   "cell_type": "code",
   "execution_count": 31,
   "metadata": {
    "collapsed": true
   },
   "outputs": [],
   "source": [
    "hires = [\n",
    "    ({'level':'Senior','lang':'Java','tweets':'no','phd':'no'},   False),\n",
    "    ({'level':'Senior','lang':'Java','tweets':'no','phd':'yes'},  False),\n",
    "    ({'level':'Mid','lang':'Python','tweets':'no','phd':'no'},     True),\n",
    "    ({'level':'Junior','lang':'Python','tweets':'no','phd':'no'},  True),\n",
    "    ({'level':'Junior','lang':'R','tweets':'yes','phd':'no'},      True),\n",
    "    ({'level':'Junior','lang':'R','tweets':'yes','phd':'yes'},    False),\n",
    "    ({'level':'Mid','lang':'R','tweets':'yes','phd':'yes'},        True),\n",
    "    ({'level':'Senior','lang':'Python','tweets':'no','phd':'no'}, False),\n",
    "    ({'level':'Senior','lang':'R','tweets':'yes','phd':'no'},      True),\n",
    "    ({'level':'Junior','lang':'Python','tweets':'yes','phd':'no'}, True),\n",
    "    ({'level':'Senior','lang':'Python','tweets':'yes','phd':'yes'},True),\n",
    "    ({'level':'Mid','lang':'Python','tweets':'no','phd':'yes'},    True),\n",
    "    ({'level':'Mid','lang':'Java','tweets':'yes','phd':'no'},      True),\n",
    "    ({'level':'Junior','lang':'Python','tweets':'no','phd':'yes'},False)\n",
    "]\n",
    "\n"
   ]
  },
  {
   "cell_type": "code",
   "execution_count": 32,
   "metadata": {
    "collapsed": true
   },
   "outputs": [],
   "source": [
    "tree = build_tree_id3(hires)"
   ]
  },
  {
   "cell_type": "code",
   "execution_count": 33,
   "metadata": {
    "collapsed": false
   },
   "outputs": [
    {
     "data": {
      "text/plain": [
       "('level',\n",
       " {'Senior': ('tweets', {'yes': True, 'no': False, None: False}),\n",
       "  'Mid': True,\n",
       "  None: True,\n",
       "  'Junior': ('phd', {'yes': False, 'no': True, None: True})})"
      ]
     },
     "execution_count": 33,
     "metadata": {},
     "output_type": "execute_result"
    }
   ],
   "source": [
    "tree"
   ]
  },
  {
   "cell_type": "code",
   "execution_count": 38,
   "metadata": {
    "collapsed": false
   },
   "outputs": [
    {
     "data": {
      "text/plain": [
       "True"
      ]
     },
     "execution_count": 38,
     "metadata": {},
     "output_type": "execute_result"
    }
   ],
   "source": [
    "classify(tree, {'lang': 'Python', 'tweets': 'yes', 'phd': 'yes'})"
   ]
  },
  {
   "cell_type": "markdown",
   "metadata": {},
   "source": [
    "Our `DecisionTree` is cool, it works kind of like SciKit-learn stuff does, but it's limited - it can't handle continuous data, and that's a problem for a lot of data.\n",
    "\n",
    "However, there's something in SciKit-Learn that builds decision trees for us, and can also handle continuous data."
   ]
  },
  {
   "cell_type": "code",
   "execution_count": 41,
   "metadata": {
    "collapsed": false
   },
   "outputs": [
    {
     "data": {
      "text/html": [
       "<div>\n",
       "<table border=\"1\" class=\"dataframe\">\n",
       "  <thead>\n",
       "    <tr style=\"text-align: right;\">\n",
       "      <th></th>\n",
       "      <th>0</th>\n",
       "      <th>1</th>\n",
       "      <th>2</th>\n",
       "      <th>3</th>\n",
       "      <th>4</th>\n",
       "      <th>5</th>\n",
       "      <th>6</th>\n",
       "      <th>7</th>\n",
       "      <th>8</th>\n",
       "      <th>9</th>\n",
       "      <th>10</th>\n",
       "      <th>11</th>\n",
       "      <th>12</th>\n",
       "      <th>13</th>\n",
       "      <th>14</th>\n",
       "    </tr>\n",
       "  </thead>\n",
       "  <tbody>\n",
       "    <tr>\n",
       "      <th>0</th>\n",
       "      <td>b</td>\n",
       "      <td>30.83</td>\n",
       "      <td>0.000</td>\n",
       "      <td>u</td>\n",
       "      <td>g</td>\n",
       "      <td>w</td>\n",
       "      <td>v</td>\n",
       "      <td>1.25</td>\n",
       "      <td>t</td>\n",
       "      <td>t</td>\n",
       "      <td>1</td>\n",
       "      <td>f</td>\n",
       "      <td>g</td>\n",
       "      <td>202</td>\n",
       "      <td>0</td>\n",
       "    </tr>\n",
       "    <tr>\n",
       "      <th>1</th>\n",
       "      <td>a</td>\n",
       "      <td>58.67</td>\n",
       "      <td>4.460</td>\n",
       "      <td>u</td>\n",
       "      <td>g</td>\n",
       "      <td>q</td>\n",
       "      <td>h</td>\n",
       "      <td>3.04</td>\n",
       "      <td>t</td>\n",
       "      <td>t</td>\n",
       "      <td>6</td>\n",
       "      <td>f</td>\n",
       "      <td>g</td>\n",
       "      <td>43</td>\n",
       "      <td>560</td>\n",
       "    </tr>\n",
       "    <tr>\n",
       "      <th>2</th>\n",
       "      <td>a</td>\n",
       "      <td>24.50</td>\n",
       "      <td>0.500</td>\n",
       "      <td>u</td>\n",
       "      <td>g</td>\n",
       "      <td>q</td>\n",
       "      <td>h</td>\n",
       "      <td>1.50</td>\n",
       "      <td>t</td>\n",
       "      <td>f</td>\n",
       "      <td>0</td>\n",
       "      <td>f</td>\n",
       "      <td>g</td>\n",
       "      <td>280</td>\n",
       "      <td>824</td>\n",
       "    </tr>\n",
       "    <tr>\n",
       "      <th>3</th>\n",
       "      <td>b</td>\n",
       "      <td>27.83</td>\n",
       "      <td>1.540</td>\n",
       "      <td>u</td>\n",
       "      <td>g</td>\n",
       "      <td>w</td>\n",
       "      <td>v</td>\n",
       "      <td>3.75</td>\n",
       "      <td>t</td>\n",
       "      <td>t</td>\n",
       "      <td>5</td>\n",
       "      <td>t</td>\n",
       "      <td>g</td>\n",
       "      <td>100</td>\n",
       "      <td>3</td>\n",
       "    </tr>\n",
       "    <tr>\n",
       "      <th>4</th>\n",
       "      <td>b</td>\n",
       "      <td>20.17</td>\n",
       "      <td>5.625</td>\n",
       "      <td>u</td>\n",
       "      <td>g</td>\n",
       "      <td>w</td>\n",
       "      <td>v</td>\n",
       "      <td>1.71</td>\n",
       "      <td>t</td>\n",
       "      <td>f</td>\n",
       "      <td>0</td>\n",
       "      <td>f</td>\n",
       "      <td>s</td>\n",
       "      <td>120</td>\n",
       "      <td>0</td>\n",
       "    </tr>\n",
       "  </tbody>\n",
       "</table>\n",
       "</div>"
      ],
      "text/plain": [
       "  0      1      2  3  4  5  6     7  8  9   10 11 12   13   14\n",
       "0  b  30.83  0.000  u  g  w  v  1.25  t  t   1  f  g  202    0\n",
       "1  a  58.67  4.460  u  g  q  h  3.04  t  t   6  f  g   43  560\n",
       "2  a  24.50  0.500  u  g  q  h  1.50  t  f   0  f  g  280  824\n",
       "3  b  27.83  1.540  u  g  w  v  3.75  t  t   5  t  g  100    3\n",
       "4  b  20.17  5.625  u  g  w  v  1.71  t  f   0  f  s  120    0"
      ]
     },
     "execution_count": 41,
     "metadata": {},
     "output_type": "execute_result"
    }
   ],
   "source": [
    "import pandas as pd\n",
    "from sklearn.tree import DecisionTreeClassifier\n",
    "\n",
    "# load in some credit card data from https://archive.ics.uci.edu/ml/machine-learning-databases/credit-screening/\n",
    "\n",
    "credit_data = pd.read_csv('crx.data', header=None, na_values=['?'])\n",
    "credit_data = credit_data.dropna()\n",
    "\n",
    "\n",
    "X = credit_data.loc[:, 0:14]\n",
    "y = credit_data[15]\n",
    "X.head()"
   ]
  },
  {
   "cell_type": "code",
   "execution_count": 42,
   "metadata": {
    "collapsed": false
   },
   "outputs": [
    {
     "data": {
      "text/plain": [
       "0    +\n",
       "1    +\n",
       "2    +\n",
       "3    +\n",
       "4    +\n",
       "Name: 15, dtype: object"
      ]
     },
     "execution_count": 42,
     "metadata": {},
     "output_type": "execute_result"
    }
   ],
   "source": [
    "y.head()"
   ]
  },
  {
   "cell_type": "code",
   "execution_count": 43,
   "metadata": {
    "collapsed": false
   },
   "outputs": [
    {
     "data": {
      "text/html": [
       "<div>\n",
       "<table border=\"1\" class=\"dataframe\">\n",
       "  <thead>\n",
       "    <tr style=\"text-align: right;\">\n",
       "      <th></th>\n",
       "      <th>1</th>\n",
       "      <th>2</th>\n",
       "      <th>7</th>\n",
       "      <th>10</th>\n",
       "      <th>13</th>\n",
       "      <th>14</th>\n",
       "      <th>0_a</th>\n",
       "      <th>0_b</th>\n",
       "      <th>3_l</th>\n",
       "      <th>3_u</th>\n",
       "      <th>...</th>\n",
       "      <th>6_z</th>\n",
       "      <th>8_f</th>\n",
       "      <th>8_t</th>\n",
       "      <th>9_f</th>\n",
       "      <th>9_t</th>\n",
       "      <th>11_f</th>\n",
       "      <th>11_t</th>\n",
       "      <th>12_g</th>\n",
       "      <th>12_p</th>\n",
       "      <th>12_s</th>\n",
       "    </tr>\n",
       "  </thead>\n",
       "  <tbody>\n",
       "    <tr>\n",
       "      <th>0</th>\n",
       "      <td>30.83</td>\n",
       "      <td>0.000</td>\n",
       "      <td>1.25</td>\n",
       "      <td>1</td>\n",
       "      <td>202</td>\n",
       "      <td>0</td>\n",
       "      <td>0</td>\n",
       "      <td>1</td>\n",
       "      <td>0</td>\n",
       "      <td>1</td>\n",
       "      <td>...</td>\n",
       "      <td>0</td>\n",
       "      <td>0</td>\n",
       "      <td>1</td>\n",
       "      <td>0</td>\n",
       "      <td>1</td>\n",
       "      <td>1</td>\n",
       "      <td>0</td>\n",
       "      <td>1</td>\n",
       "      <td>0</td>\n",
       "      <td>0</td>\n",
       "    </tr>\n",
       "    <tr>\n",
       "      <th>1</th>\n",
       "      <td>58.67</td>\n",
       "      <td>4.460</td>\n",
       "      <td>3.04</td>\n",
       "      <td>6</td>\n",
       "      <td>43</td>\n",
       "      <td>560</td>\n",
       "      <td>1</td>\n",
       "      <td>0</td>\n",
       "      <td>0</td>\n",
       "      <td>1</td>\n",
       "      <td>...</td>\n",
       "      <td>0</td>\n",
       "      <td>0</td>\n",
       "      <td>1</td>\n",
       "      <td>0</td>\n",
       "      <td>1</td>\n",
       "      <td>1</td>\n",
       "      <td>0</td>\n",
       "      <td>1</td>\n",
       "      <td>0</td>\n",
       "      <td>0</td>\n",
       "    </tr>\n",
       "    <tr>\n",
       "      <th>2</th>\n",
       "      <td>24.50</td>\n",
       "      <td>0.500</td>\n",
       "      <td>1.50</td>\n",
       "      <td>0</td>\n",
       "      <td>280</td>\n",
       "      <td>824</td>\n",
       "      <td>1</td>\n",
       "      <td>0</td>\n",
       "      <td>0</td>\n",
       "      <td>1</td>\n",
       "      <td>...</td>\n",
       "      <td>0</td>\n",
       "      <td>0</td>\n",
       "      <td>1</td>\n",
       "      <td>1</td>\n",
       "      <td>0</td>\n",
       "      <td>1</td>\n",
       "      <td>0</td>\n",
       "      <td>1</td>\n",
       "      <td>0</td>\n",
       "      <td>0</td>\n",
       "    </tr>\n",
       "    <tr>\n",
       "      <th>3</th>\n",
       "      <td>27.83</td>\n",
       "      <td>1.540</td>\n",
       "      <td>3.75</td>\n",
       "      <td>5</td>\n",
       "      <td>100</td>\n",
       "      <td>3</td>\n",
       "      <td>0</td>\n",
       "      <td>1</td>\n",
       "      <td>0</td>\n",
       "      <td>1</td>\n",
       "      <td>...</td>\n",
       "      <td>0</td>\n",
       "      <td>0</td>\n",
       "      <td>1</td>\n",
       "      <td>0</td>\n",
       "      <td>1</td>\n",
       "      <td>0</td>\n",
       "      <td>1</td>\n",
       "      <td>1</td>\n",
       "      <td>0</td>\n",
       "      <td>0</td>\n",
       "    </tr>\n",
       "    <tr>\n",
       "      <th>4</th>\n",
       "      <td>20.17</td>\n",
       "      <td>5.625</td>\n",
       "      <td>1.71</td>\n",
       "      <td>0</td>\n",
       "      <td>120</td>\n",
       "      <td>0</td>\n",
       "      <td>0</td>\n",
       "      <td>1</td>\n",
       "      <td>0</td>\n",
       "      <td>1</td>\n",
       "      <td>...</td>\n",
       "      <td>0</td>\n",
       "      <td>0</td>\n",
       "      <td>1</td>\n",
       "      <td>1</td>\n",
       "      <td>0</td>\n",
       "      <td>1</td>\n",
       "      <td>0</td>\n",
       "      <td>0</td>\n",
       "      <td>0</td>\n",
       "      <td>1</td>\n",
       "    </tr>\n",
       "  </tbody>\n",
       "</table>\n",
       "<p>5 rows × 46 columns</p>\n",
       "</div>"
      ],
      "text/plain": [
       "       1      2     7  10   13   14  0_a  0_b  3_l  3_u  ...   6_z  8_f  8_t  \\\n",
       "0  30.83  0.000  1.25   1  202    0    0    1    0    1  ...     0    0    1   \n",
       "1  58.67  4.460  3.04   6   43  560    1    0    0    1  ...     0    0    1   \n",
       "2  24.50  0.500  1.50   0  280  824    1    0    0    1  ...     0    0    1   \n",
       "3  27.83  1.540  3.75   5  100    3    0    1    0    1  ...     0    0    1   \n",
       "4  20.17  5.625  1.71   0  120    0    0    1    0    1  ...     0    0    1   \n",
       "\n",
       "   9_f  9_t  11_f  11_t  12_g  12_p  12_s  \n",
       "0    0    1     1     0     1     0     0  \n",
       "1    0    1     1     0     1     0     0  \n",
       "2    1    0     1     0     1     0     0  \n",
       "3    0    1     0     1     1     0     0  \n",
       "4    1    0     1     0     0     0     1  \n",
       "\n",
       "[5 rows x 46 columns]"
      ]
     },
     "execution_count": 43,
     "metadata": {},
     "output_type": "execute_result"
    }
   ],
   "source": [
    "X = pd.get_dummies(X)\n",
    "X.head()"
   ]
  },
  {
   "cell_type": "code",
   "execution_count": 56,
   "metadata": {
    "collapsed": false
   },
   "outputs": [
    {
     "data": {
      "text/plain": [
       "0.82317073170731703"
      ]
     },
     "execution_count": 56,
     "metadata": {},
     "output_type": "execute_result"
    }
   ],
   "source": [
    "X_train, X_test, y_train, y_test = train_test_split(X, y)\n",
    "\n",
    "tree = DecisionTreeClassifier()\n",
    "tree.fit(X_train, y_train)\n",
    "tree.score(X_test, y_test)"
   ]
  },
  {
   "cell_type": "code",
   "execution_count": 45,
   "metadata": {
    "collapsed": false
   },
   "outputs": [
    {
     "data": {
      "text/plain": [
       "0    +\n",
       "1    +\n",
       "2    +\n",
       "3    +\n",
       "4    +\n",
       "Name: 15, dtype: object"
      ]
     },
     "execution_count": 45,
     "metadata": {},
     "output_type": "execute_result"
    }
   ],
   "source": [
    "y.head()"
   ]
  },
  {
   "cell_type": "code",
   "execution_count": 46,
   "metadata": {
    "collapsed": false
   },
   "outputs": [
    {
     "data": {
      "text/plain": [
       "0.68292682926829273"
      ]
     },
     "execution_count": 46,
     "metadata": {},
     "output_type": "execute_result"
    }
   ],
   "source": [
    "from sklearn.naive_bayes import MultinomialNB\n",
    "\n",
    "# tree = ()\n",
    "# tree.fit(X_train, y_train)\n",
    "# tree.score(X_test, y_test)\n",
    "\n",
    "bayes = MultinomialNB()\n",
    "bayes.fit(X_train, y_train)\n",
    "bayes.score(X_test, y_test)"
   ]
  },
  {
   "cell_type": "code",
   "execution_count": 47,
   "metadata": {
    "collapsed": true
   },
   "outputs": [],
   "source": [
    "from sklearn.tree import export_graphviz\n",
    "export_graphviz(tree, out_file='tree.dot')"
   ]
  },
  {
   "cell_type": "code",
   "execution_count": 48,
   "metadata": {
    "collapsed": true
   },
   "outputs": [],
   "source": [
    "!dot tree.dot -Tpng -o tree.png"
   ]
  },
  {
   "cell_type": "code",
   "execution_count": 49,
   "metadata": {
    "collapsed": true
   },
   "outputs": [],
   "source": [
    "!open tree.png"
   ]
  },
  {
   "cell_type": "markdown",
   "metadata": {},
   "source": [
    "Gini: https://en.wikipedia.org/wiki/Decision_tree_learning#Gini_impurity"
   ]
  },
  {
   "cell_type": "markdown",
   "metadata": {},
   "source": [
    "## Random Forest Classifier\n",
    "\n",
    "Yet another decision-tree based classified is called the _Random Forest Classifier_. It makes multiple decision trees, each leaving out some of the available features. When classifying, it asks all the decision trees for their \"votes\" for a given input, and goes with the highest voted option.\n"
   ]
  },
  {
   "cell_type": "code",
   "execution_count": 58,
   "metadata": {
    "collapsed": false
   },
   "outputs": [
    {
     "data": {
      "text/plain": [
       "0.86585365853658536"
      ]
     },
     "execution_count": 58,
     "metadata": {},
     "output_type": "execute_result"
    }
   ],
   "source": [
    "from sklearn.ensemble import RandomForestClassifier\n",
    "\n",
    "random_tree = RandomForestClassifier()\n",
    "\n",
    "random_tree.fit(X_train, y_train)\n",
    "random_tree.score(X_test, y_test)"
   ]
  },
  {
   "cell_type": "code",
   "execution_count": 59,
   "metadata": {
    "collapsed": false
   },
   "outputs": [
    {
     "data": {
      "text/plain": [
       "0.82317073170731703"
      ]
     },
     "execution_count": 59,
     "metadata": {},
     "output_type": "execute_result"
    }
   ],
   "source": [
    "tree.score(X_test, y_test)"
   ]
  },
  {
   "cell_type": "code",
   "execution_count": null,
   "metadata": {
    "collapsed": true
   },
   "outputs": [],
   "source": []
  }
 ],
 "metadata": {
  "kernelspec": {
   "display_name": "Python 3",
   "language": "python",
   "name": "python3"
  },
  "language_info": {
   "codemirror_mode": {
    "name": "ipython",
    "version": 3
   },
   "file_extension": ".py",
   "mimetype": "text/x-python",
   "name": "python",
   "nbconvert_exporter": "python",
   "pygments_lexer": "ipython3",
   "version": "3.4.3"
  }
 },
 "nbformat": 4,
 "nbformat_minor": 0
}
