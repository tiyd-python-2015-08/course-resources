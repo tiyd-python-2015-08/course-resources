{
 "cells": [
  {
   "cell_type": "code",
   "execution_count": 1,
   "metadata": {
    "collapsed": false
   },
   "outputs": [
    {
     "name": "stdout",
     "output_type": "stream",
     "text": [
      ";; The Computer Language Benchmarks Game\r",
      "\r\n",
      ";; http://benchmarksgame.alioth.debian.org/\r",
      "\r\n",
      ";\r",
      "\r\n",
      ";; Adapted from the Java -server version\r",
      "\r\n",
      ";\r",
      "\r\n",
      ";; contributed by Marko Kocic\r",
      "\r\n",
      ";; modified by Kenneth Jonsson, restructured to allow usage of 'pmap'\r",
      "\r\n",
      ";; modified by Andy Fingerhut to use faster primitive math ops, and\r",
      "\r\n",
      ";; deftype instead of defrecord for smaller tree nodes.\r",
      "\r\n",
      ";; modified by Rich Hickey for Clojure 1.3\r",
      "\r\n"
     ]
    }
   ],
   "source": [
    "!head bench/binarytrees/binarytrees.clojure"
   ]
  },
  {
   "cell_type": "code",
   "execution_count": 2,
   "metadata": {
    "collapsed": true
   },
   "outputs": [],
   "source": [
    "from glob import glob"
   ]
  },
  {
   "cell_type": "code",
   "execution_count": 3,
   "metadata": {
    "collapsed": false
   },
   "outputs": [],
   "source": [
    "possibilities = glob('./bench/*/*')"
   ]
  },
  {
   "cell_type": "code",
   "execution_count": 9,
   "metadata": {
    "collapsed": false
   },
   "outputs": [],
   "source": [
    "ext_dict = {\".gcc\": 'C',\n",
    "            \".c\": 'C',\n",
    "            \".sbcl\": 'Common Lisp',\n",
    "            \".hack\": 'PHP',\n",
    "            \".php\": 'PHP',\n",
    "            \".jruby\": 'Ruby',\n",
    "            \".yarv\": 'Ruby',\n",
    "            \".racket\": 'Scheme',\n",
    "            \".clojure\": 'Clojure',\n",
    "            \".csharp\": 'C#',\n",
    "            \".java\": 'Java',\n",
    "            \".ocaml\": 'OCaml',\n",
    "            \".perl\": 'Perl',\n",
    "            \".javascript\": 'JavaScript',\n",
    "            \".python3\": 'Python',\n",
    "            \".scala\": 'Scala',\n",
    "            \".ghc\": 'Haskell'}\n",
    "\n",
    "\n",
    "import re\n",
    "\n",
    "X = []\n",
    "y = []\n",
    "\n",
    "for possibility in possibilities:\n",
    "    possibility_ext = re.findall(r'\\.\\w+$', possibility)\n",
    "#     print(possibility_ext[0])\n",
    "    if len(possibility_ext) > 0:\n",
    "        ext = possibility_ext[0]\n",
    "        if ext in ext_dict:\n",
    "            # we are interested!\n",
    "            contents = None\n",
    "            try:\n",
    "                with open(possibility) as f:\n",
    "                    contents = f.read()\n",
    "            except UnicodeDecodeError:\n",
    "                with open(possibility, encoding='windows-1252') as f:\n",
    "                    contents = f.read()\n",
    "                \n",
    "            X.append(contents)\n",
    "            y.append(ext_dict[ext])\n"
   ]
  },
  {
   "cell_type": "code",
   "execution_count": 10,
   "metadata": {
    "collapsed": false
   },
   "outputs": [
    {
     "data": {
      "text/plain": [
       "';; The Computer Language Benchmarks Game\\n;; http://benchmarksgame.alioth.debian.org/\\n;\\n;; Adapted from the Java -server version\\n;\\n;; contributed by Marko Kocic\\n;; modified by Kenneth Jonsson, restructured to allow usage of \\'pmap\\'\\n;; modified by Andy Fingerhut to use faster primitive math ops, and\\n;; deftype instead of defrecord for smaller tree nodes.\\n;; modified by Rich Hickey for Clojure 1.3\\n\\n(ns binarytrees\\n  (:gen-class))\\n\\n(set! *warn-on-reflection* true)\\n(set! *unchecked-math* true)\\n\\n(definterface ITreeNode\\n  (^long item [])\\n  (left [])\\n  (right []))\\n\\n;; These TreeNode\\'s take up noticeably less memory than a similar one\\n;; implemented using defrecord.\\n\\n(deftype TreeNode [left right ^long item]\\n  ITreeNode\\n  (item [this] item)\\n  (left [this] left)\\n  (right [this] right))\\n\\n(defn bottom-up-tree [^long item ^long depth]\\n  (if (zero? depth)\\n    (TreeNode. nil nil item)\\n    (TreeNode.\\n     (bottom-up-tree (dec (* 2 item))\\n                     (dec depth))\\n     (bottom-up-tree (* 2 item)\\n                     (dec depth))\\n     item)))\\n\\n(defn item-check ^long [^TreeNode node]\\n  (if (nil? (.left node))\\n    (.item node)\\n    (+ (+ (.item node)\\n          (item-check (.left node)))\\n       (- (item-check (.right node))))))\\n\\n(defn iterate-trees [^long mx ^long mn ^long d]\\n  (let [iterations (bit-shift-left 1 (- (+ mx mn) d))]\\n    (format \"%d\\\\t trees of depth %d\\\\t check: %d\" (* 2 iterations) d\\n            (reduce + (map (fn [i]\\n                             (+ (item-check (bottom-up-tree i d))\\n                                (item-check (bottom-up-tree (- i) d))))\\n                           (range 1 (inc iterations)))))))\\n\\n(def min-depth 4)\\n\\n(defn main [max-depth]\\n  (let [stretch-depth (inc max-depth)]\\n    (let [tree (bottom-up-tree 0 stretch-depth)\\n          check (item-check tree)]\\n      (println (format \"stretch tree of depth %d\\\\t check: %d\" stretch-depth check)))\\n    (let [long-lived-tree (bottom-up-tree 0 max-depth) ]\\n      (doseq [trees-nfo (map (fn [d]\\n                                (iterate-trees max-depth min-depth d))\\n(range min-depth stretch-depth 2)) ]\\n        (println trees-nfo))\\n      (println (format \"long lived tree of depth %d\\\\t check: %d\" max-depth (item-check long-lived-tree))))))\\n\\n(defn -main [& args]\\n  (let [n (if (first args) (Integer/parseInt (first args)) 0)\\n        max-depth (if (> (+ min-depth 2) n) (+ min-depth 2) n)]\\n    (main max-depth)\\n    (shutdown-agents)))\\n'"
      ]
     },
     "execution_count": 10,
     "metadata": {},
     "output_type": "execute_result"
    }
   ],
   "source": [
    "X[0]"
   ]
  },
  {
   "cell_type": "code",
   "execution_count": 6,
   "metadata": {
    "collapsed": false
   },
   "outputs": [
    {
     "name": "stdout",
     "output_type": "stream",
     "text": [
      "windows-1252\r\n"
     ]
    }
   ],
   "source": [
    "!uchardet ./bench/pidigits/pidigits.ocaml-2.ocaml"
   ]
  },
  {
   "cell_type": "code",
   "execution_count": 11,
   "metadata": {
    "collapsed": false
   },
   "outputs": [
    {
     "data": {
      "text/plain": [
       "585"
      ]
     },
     "execution_count": 11,
     "metadata": {},
     "output_type": "execute_result"
    }
   ],
   "source": [
    "len(X)"
   ]
  },
  {
   "cell_type": "code",
   "execution_count": 12,
   "metadata": {
    "collapsed": false
   },
   "outputs": [
    {
     "data": {
      "text/plain": [
       "585"
      ]
     },
     "execution_count": 12,
     "metadata": {},
     "output_type": "execute_result"
    }
   ],
   "source": [
    "len(y)"
   ]
  },
  {
   "cell_type": "code",
   "execution_count": 13,
   "metadata": {
    "collapsed": false
   },
   "outputs": [
    {
     "data": {
      "text/plain": [
       "'Clojure'"
      ]
     },
     "execution_count": 13,
     "metadata": {},
     "output_type": "execute_result"
    }
   ],
   "source": [
    "y[0]"
   ]
  },
  {
   "cell_type": "code",
   "execution_count": 14,
   "metadata": {
    "collapsed": true
   },
   "outputs": [],
   "source": [
    "from sklearn.cross_validation import train_test_split\n",
    "\n",
    "X_train, X_test, y_train, y_test = train_test_split(X, y)"
   ]
  },
  {
   "cell_type": "code",
   "execution_count": 15,
   "metadata": {
    "collapsed": false
   },
   "outputs": [
    {
     "data": {
      "text/plain": [
       "438"
      ]
     },
     "execution_count": 15,
     "metadata": {},
     "output_type": "execute_result"
    }
   ],
   "source": [
    "len(X_train)"
   ]
  },
  {
   "cell_type": "code",
   "execution_count": 16,
   "metadata": {
    "collapsed": false
   },
   "outputs": [
    {
     "data": {
      "text/plain": [
       "147"
      ]
     },
     "execution_count": 16,
     "metadata": {},
     "output_type": "execute_result"
    }
   ],
   "source": [
    "len(X_test)"
   ]
  },
  {
   "cell_type": "code",
   "execution_count": null,
   "metadata": {
    "collapsed": true
   },
   "outputs": [],
   "source": []
  }
 ],
 "metadata": {
  "kernelspec": {
   "display_name": "Python 3",
   "language": "python",
   "name": "python3"
  },
  "language_info": {
   "codemirror_mode": {
    "name": "ipython",
    "version": 3
   },
   "file_extension": ".py",
   "mimetype": "text/x-python",
   "name": "python",
   "nbconvert_exporter": "python",
   "pygments_lexer": "ipython3",
   "version": "3.4.3"
  }
 },
 "nbformat": 4,
 "nbformat_minor": 0
}
